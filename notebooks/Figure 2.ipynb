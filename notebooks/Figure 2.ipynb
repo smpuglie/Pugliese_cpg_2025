{
 "cells": [
  {
   "cell_type": "code",
   "execution_count": 1,
   "id": "a73ae59f",
   "metadata": {},
   "outputs": [],
   "source": [
    "import matplotlib.pyplot as plt\n",
    "from src.plot_utils import *\n",
    "from src.sim_utils import *\n",
    "import yaml\n",
    "import numpy as np\n",
    "import jax.numpy as jnp\n",
    "import sparse\n",
    "from hydra import initialize, compose\n",
    "from hydra.core.hydra_config import HydraConfig\n",
    "from omegaconf import DictConfig, OmegaConf\n",
    "from pathlib import Path, PosixPath\n",
    "import h5py"
   ]
  },
  {
   "cell_type": "code",
   "execution_count": 2,
   "id": "16140273",
   "metadata": {},
   "outputs": [],
   "source": [
    "# # PLOT defaults\n",
    "plt.rcParams[\"font.sans-serif\"] = \"Arial\"\n",
    "plt.rcParams[\"axes.spines.right\"] = \"False\"\n",
    "plt.rcParams[\"axes.spines.top\"] = \"False\"\n",
    "plt.rcParams[\"svg.fonttype\"] = \"none\"\n",
    "plt.rcParams[\"figure.figsize\"] = (2,2)\n",
    "plt.rcParams['axes.linewidth'] = 0.25\n",
    "plt.rcParams[\"xtick.major.size\"] = 1.7\n",
    "plt.rcParams[\"ytick.major.size\"] = 1.7\n",
    "plt.rcParams[\"xtick.major.width\"] = 0.25\n",
    "plt.rcParams[\"ytick.major.width\"] = 0.25\n",
    "plt.rcParams[\"figure.dpi\"] = 200\n",
    "\n",
    "SMALL_SIZE = 6\n",
    "LABEL_SIZE = 7\n",
    "AXLABEL_SIZE = 8\n",
    "TITLE_SIZE = 10\n",
    "\n",
    "plt.rcParams[\"font.family\"] = \"Arial\" # \"Arial\"\n",
    "plt.rc('font', size=SMALL_SIZE)          # controls default text sizes\n",
    "plt.rc('axes', titlesize=SMALL_SIZE)     # fontsize of the axes title\n",
    "plt.rc('axes', labelsize=AXLABEL_SIZE)    # fontsize of the x and y labels\n",
    "plt.rc('xtick', labelsize=SMALL_SIZE)    # fontsize of the tick labels\n",
    "plt.rc('ytick', labelsize=SMALL_SIZE)    # fontsize of the tick labels\n",
    "plt.rc('legend', fontsize=LABEL_SIZE)    # legend fontsize\n",
    "plt.rc('figure', titlesize=TITLE_SIZE)  # fontsize of the figure title\n",
    "\n",
    "moduleColors = get_module_colors()\n",
    "\n",
    "dnColor = \"#51bbad\"\n",
    "excColor = \"#d84a2e\"\n",
    "inhColor = \"#026b85\"\n",
    "mnColor = \"#267655\"\n",
    "\n",
    "lightDnColor = \"#a7dcd5ff\"\n",
    "lightExcColor = \"#ff9985\""
   ]
  },
  {
   "cell_type": "code",
   "execution_count": 3,
   "id": "26a44a63",
   "metadata": {},
   "outputs": [
    {
     "data": {
      "text/plain": [
       "(1024, 4604, 2001)"
      ]
     },
     "execution_count": 3,
     "metadata": {},
     "output_type": "execute_result"
    }
   ],
   "source": [
    "folder = \"/data/users/smpuglie/Pugliese_2025/DNg100_Stim/hyak/run_id=28123286/\"\n",
    "Rs = sparse.load_npz(folder+\"ckpt/DNg100_Stim_Rs.npz\")\n",
    "params = DictConfig(load_from_yaml(folder+\"logs/run_config.yaml\"))\n",
    "\n",
    "dataset = 0\n",
    "Rs = Rs[dataset]\n",
    "nSims = Rs.shape[0]\n",
    "Rs.shape"
   ]
  },
  {
   "cell_type": "code",
   "execution_count": 4,
   "id": "5d9b5647",
   "metadata": {},
   "outputs": [
    {
     "name": "stderr",
     "output_type": "stream",
     "text": [
      "/home/smpuglie/Pugliese_2025/src/plot_utils.py:30: SettingWithCopyWarning: \n",
      "A value is trying to be set on a copy of a slice from a DataFrame.\n",
      "Try using .loc[row_indexer,col_indexer] = value instead\n",
      "\n",
      "See the caveats in the documentation: https://pandas.pydata.org/pandas-docs/stable/user_guide/indexing.html#returning-a-view-versus-a-copy\n",
      "  neuronData[colName] = pd.Categorical(neuronData[colName],categories=[\"coxa swing\", \"coxa stance\", \"femur/tr extend\", \"femur/tr flex\",\n"
     ]
    },
    {
     "ename": "TypeError",
     "evalue": "sum() takes 1 positional argument but 2 were given",
     "output_type": "error",
     "traceback": [
      "\u001b[31m---------------------------------------------------------------------------\u001b[39m",
      "\u001b[31mTypeError\u001b[39m                                 Traceback (most recent call last)",
      "\u001b[36mCell\u001b[39m\u001b[36m \u001b[39m\u001b[32mIn[4]\u001b[39m\u001b[32m, line 11\u001b[39m\n\u001b[32m      9\u001b[39m mnActive[i] = np.zeros(\u001b[38;5;28mlen\u001b[39m(mnActive))\n\u001b[32m     10\u001b[39m mnScore[i] = np.nan\n\u001b[32m---> \u001b[39m\u001b[32m11\u001b[39m activeMnIdxs = \u001b[43mget_active_data\u001b[49m\u001b[43m(\u001b[49m\u001b[43mRs\u001b[49m\u001b[43m[\u001b[49m\u001b[43mi\u001b[49m\u001b[43m]\u001b[49m\u001b[43m[\u001b[49m\u001b[43mmnActive\u001b[49m\u001b[43m.\u001b[49m\u001b[43mindex\u001b[49m\u001b[43m]\u001b[49m\u001b[43m,\u001b[49m\u001b[43mmnActive\u001b[49m\u001b[43m)\u001b[49m.index\n\u001b[32m     12\u001b[39m mnActive.loc[activeMnIdxs,i] = \u001b[32m1\u001b[39m\n\u001b[32m     14\u001b[39m \u001b[38;5;66;03m# osc scores and frequencies\u001b[39;00m\n",
      "\u001b[36mFile \u001b[39m\u001b[32m~/Pugliese_2025/src/plot_utils.py:36\u001b[39m, in \u001b[36mget_active_data\u001b[39m\u001b[34m(R, neuronData)\u001b[39m\n\u001b[32m     35\u001b[39m \u001b[38;5;28;01mdef\u001b[39;00m\u001b[38;5;250m \u001b[39m\u001b[34mget_active_data\u001b[39m(R,neuronData):\n\u001b[32m---> \u001b[39m\u001b[32m36\u001b[39m     \u001b[38;5;28;01mreturn\u001b[39;00m neuronData.loc[neuronData.index[np.where(\u001b[43mnp\u001b[49m\u001b[43m.\u001b[49m\u001b[43msum\u001b[49m\u001b[43m(\u001b[49m\u001b[43mR\u001b[49m\u001b[43m,\u001b[49m\u001b[32;43m1\u001b[39;49m\u001b[43m)\u001b[49m>\u001b[32m1\u001b[39m)]]\n",
      "\u001b[36mFile \u001b[39m\u001b[32m~/miniconda3/envs/bdn2cpg/lib/python3.13/site-packages/sparse/numba_backend/_sparse_array.py:294\u001b[39m, in \u001b[36mSparseArray.__array_function__\u001b[39m\u001b[34m(self, func, types, args, kwargs)\u001b[39m\n\u001b[32m    292\u001b[39m     \u001b[38;5;28;01mpass\u001b[39;00m\n\u001b[32m    293\u001b[39m \u001b[38;5;28;01melse\u001b[39;00m:\n\u001b[32m--> \u001b[39m\u001b[32m294\u001b[39m     \u001b[38;5;28;01mreturn\u001b[39;00m \u001b[43msparse_func\u001b[49m\u001b[43m(\u001b[49m\u001b[43m*\u001b[49m\u001b[43margs\u001b[49m\u001b[43m,\u001b[49m\u001b[43m \u001b[49m\u001b[43m*\u001b[49m\u001b[43m*\u001b[49m\u001b[43mkwargs\u001b[49m\u001b[43m)\u001b[49m\n\u001b[32m    296\u001b[39m \u001b[38;5;28;01mwith\u001b[39;00m contextlib.suppress(\u001b[38;5;167;01mAttributeError\u001b[39;00m):\n\u001b[32m    297\u001b[39m     sparse_func = \u001b[38;5;28mgetattr\u001b[39m(\u001b[38;5;28mtype\u001b[39m(\u001b[38;5;28mself\u001b[39m), func.\u001b[34m__name__\u001b[39m)\n",
      "\u001b[31mTypeError\u001b[39m: sum() takes 1 positional argument but 2 were given"
     ]
    }
   ],
   "source": [
    "wTable = pd.read_csv(\"../\"+params.experiment[\"dfPath\"].split(\"Pugliese_2025\")[1])\n",
    "mnData = sort_motor_modules(wTable.loc[wTable[\"motor module\"].notna()])\n",
    "mnData[\"colors\"] = [(moduleColors[mnData[\"motor module\"].loc[i]]) for i in mnData.index]\n",
    "\n",
    "mnActive = pd.DataFrame(index=mnData.index)\n",
    "mnScore = pd.DataFrame(index=mnData.index)\n",
    "for i in range(nSims):\n",
    "    # active neurons\n",
    "    mnActive[i] = np.zeros(len(mnActive))\n",
    "    mnScore[i] = np.nan\n",
    "    activeMnIdxs = get_active_data(Rs[i][mnActive.index],mnActive).index\n",
    "    mnActive.loc[activeMnIdxs,i] = 1\n",
    "\n",
    "    # osc scores and frequencies\n",
    "    for mnIdx in activeMnIdxs:\n",
    "        score, freq = neuron_oscillation_score(Rs[i][mnIdx][250:])\n",
    "        mnScore.loc[mnIdx,i] = score"
   ]
  },
  {
   "cell_type": "code",
   "execution_count": 7,
   "id": "f022847f",
   "metadata": {},
   "outputs": [
    {
     "ename": "ValueError",
     "evalue": "`bins` must be positive, when an integer",
     "output_type": "error",
     "traceback": [
      "\u001b[31m---------------------------------------------------------------------------\u001b[39m",
      "\u001b[31mValueError\u001b[39m                                Traceback (most recent call last)",
      "\u001b[36mCell\u001b[39m\u001b[36m \u001b[39m\u001b[32mIn[7]\u001b[39m\u001b[32m, line 3\u001b[39m\n\u001b[32m      1\u001b[39m plt.figure(figsize=(\u001b[32m0.600\u001b[39m,\u001b[32m0.57\u001b[39m))\n\u001b[32m----> \u001b[39m\u001b[32m3\u001b[39m ax = \u001b[43msns\u001b[49m\u001b[43m.\u001b[49m\u001b[43mhistplot\u001b[49m\u001b[43m(\u001b[49m\u001b[43mnp\u001b[49m\u001b[43m.\u001b[49m\u001b[43msum\u001b[49m\u001b[43m(\u001b[49m\u001b[43mmnActive\u001b[49m\u001b[43m,\u001b[49m\u001b[43maxis\u001b[49m\u001b[43m=\u001b[49m\u001b[32;43m0\u001b[39;49m\u001b[43m)\u001b[49m\u001b[43m,\u001b[49m\u001b[43mcolor\u001b[49m\u001b[43m=\u001b[49m\u001b[43mmnColor\u001b[49m\u001b[43m,\u001b[49m\u001b[43medgecolor\u001b[49m\u001b[43m=\u001b[49m\u001b[33;43m\"\u001b[39;49m\u001b[33;43mnone\u001b[39;49m\u001b[33;43m\"\u001b[39;49m\u001b[43m,\u001b[49m\u001b[43mbinwidth\u001b[49m\u001b[43m=\u001b[49m\u001b[32;43m1\u001b[39;49m\u001b[43m,\u001b[49m\u001b[43mkde\u001b[49m\u001b[43m=\u001b[49m\u001b[38;5;28;43;01mFalse\u001b[39;49;00m\u001b[43m,\u001b[49m\u001b[43malpha\u001b[49m\u001b[43m=\u001b[49m\u001b[32;43m1\u001b[39;49m\u001b[43m)\u001b[49m\u001b[38;5;66;03m#,label=\"good sims\")\u001b[39;00m\n\u001b[32m      4\u001b[39m plt.xlabel(\u001b[33m\"\u001b[39m\u001b[33m# active L MNs\u001b[39m\u001b[33m\"\u001b[39m)\n\u001b[32m      5\u001b[39m plt.ylim([\u001b[32m0\u001b[39m,\u001b[32m480\u001b[39m])\n",
      "\u001b[36mFile \u001b[39m\u001b[32m~/miniconda3/envs/bdn2cpg/lib/python3.13/site-packages/seaborn/distributions.py:1416\u001b[39m, in \u001b[36mhistplot\u001b[39m\u001b[34m(data, x, y, hue, weights, stat, bins, binwidth, binrange, discrete, cumulative, common_bins, common_norm, multiple, element, fill, shrink, kde, kde_kws, line_kws, thresh, pthresh, pmax, cbar, cbar_ax, cbar_kws, palette, hue_order, hue_norm, color, log_scale, legend, ax, **kwargs)\u001b[39m\n\u001b[32m   1405\u001b[39m estimate_kws = \u001b[38;5;28mdict\u001b[39m(\n\u001b[32m   1406\u001b[39m     stat=stat,\n\u001b[32m   1407\u001b[39m     bins=bins,\n\u001b[32m   (...)\u001b[39m\u001b[32m   1411\u001b[39m     cumulative=cumulative,\n\u001b[32m   1412\u001b[39m )\n\u001b[32m   1414\u001b[39m \u001b[38;5;28;01mif\u001b[39;00m p.univariate:\n\u001b[32m-> \u001b[39m\u001b[32m1416\u001b[39m     \u001b[43mp\u001b[49m\u001b[43m.\u001b[49m\u001b[43mplot_univariate_histogram\u001b[49m\u001b[43m(\u001b[49m\n\u001b[32m   1417\u001b[39m \u001b[43m        \u001b[49m\u001b[43mmultiple\u001b[49m\u001b[43m=\u001b[49m\u001b[43mmultiple\u001b[49m\u001b[43m,\u001b[49m\n\u001b[32m   1418\u001b[39m \u001b[43m        \u001b[49m\u001b[43melement\u001b[49m\u001b[43m=\u001b[49m\u001b[43melement\u001b[49m\u001b[43m,\u001b[49m\n\u001b[32m   1419\u001b[39m \u001b[43m        \u001b[49m\u001b[43mfill\u001b[49m\u001b[43m=\u001b[49m\u001b[43mfill\u001b[49m\u001b[43m,\u001b[49m\n\u001b[32m   1420\u001b[39m \u001b[43m        \u001b[49m\u001b[43mshrink\u001b[49m\u001b[43m=\u001b[49m\u001b[43mshrink\u001b[49m\u001b[43m,\u001b[49m\n\u001b[32m   1421\u001b[39m \u001b[43m        \u001b[49m\u001b[43mcommon_norm\u001b[49m\u001b[43m=\u001b[49m\u001b[43mcommon_norm\u001b[49m\u001b[43m,\u001b[49m\n\u001b[32m   1422\u001b[39m \u001b[43m        \u001b[49m\u001b[43mcommon_bins\u001b[49m\u001b[43m=\u001b[49m\u001b[43mcommon_bins\u001b[49m\u001b[43m,\u001b[49m\n\u001b[32m   1423\u001b[39m \u001b[43m        \u001b[49m\u001b[43mkde\u001b[49m\u001b[43m=\u001b[49m\u001b[43mkde\u001b[49m\u001b[43m,\u001b[49m\n\u001b[32m   1424\u001b[39m \u001b[43m        \u001b[49m\u001b[43mkde_kws\u001b[49m\u001b[43m=\u001b[49m\u001b[43mkde_kws\u001b[49m\u001b[43m,\u001b[49m\n\u001b[32m   1425\u001b[39m \u001b[43m        \u001b[49m\u001b[43mcolor\u001b[49m\u001b[43m=\u001b[49m\u001b[43mcolor\u001b[49m\u001b[43m,\u001b[49m\n\u001b[32m   1426\u001b[39m \u001b[43m        \u001b[49m\u001b[43mlegend\u001b[49m\u001b[43m=\u001b[49m\u001b[43mlegend\u001b[49m\u001b[43m,\u001b[49m\n\u001b[32m   1427\u001b[39m \u001b[43m        \u001b[49m\u001b[43mestimate_kws\u001b[49m\u001b[43m=\u001b[49m\u001b[43mestimate_kws\u001b[49m\u001b[43m,\u001b[49m\n\u001b[32m   1428\u001b[39m \u001b[43m        \u001b[49m\u001b[43mline_kws\u001b[49m\u001b[43m=\u001b[49m\u001b[43mline_kws\u001b[49m\u001b[43m,\u001b[49m\n\u001b[32m   1429\u001b[39m \u001b[43m        \u001b[49m\u001b[43m*\u001b[49m\u001b[43m*\u001b[49m\u001b[43mkwargs\u001b[49m\u001b[43m,\u001b[49m\n\u001b[32m   1430\u001b[39m \u001b[43m    \u001b[49m\u001b[43m)\u001b[49m\n\u001b[32m   1432\u001b[39m \u001b[38;5;28;01melse\u001b[39;00m:\n\u001b[32m   1434\u001b[39m     p.plot_bivariate_histogram(\n\u001b[32m   1435\u001b[39m         common_bins=common_bins,\n\u001b[32m   1436\u001b[39m         common_norm=common_norm,\n\u001b[32m   (...)\u001b[39m\u001b[32m   1446\u001b[39m         **kwargs,\n\u001b[32m   1447\u001b[39m     )\n",
      "\u001b[36mFile \u001b[39m\u001b[32m~/miniconda3/envs/bdn2cpg/lib/python3.13/site-packages/seaborn/distributions.py:470\u001b[39m, in \u001b[36m_DistributionPlotter.plot_univariate_histogram\u001b[39m\u001b[34m(self, multiple, element, fill, common_norm, common_bins, shrink, kde, kde_kws, color, legend, line_kws, estimate_kws, **plot_kws)\u001b[39m\n\u001b[32m    468\u001b[39m \u001b[38;5;66;03m# Do the histogram computation\u001b[39;00m\n\u001b[32m    469\u001b[39m \u001b[38;5;28;01mif\u001b[39;00m \u001b[38;5;129;01mnot\u001b[39;00m (multiple_histograms \u001b[38;5;129;01mand\u001b[39;00m common_bins):\n\u001b[32m--> \u001b[39m\u001b[32m470\u001b[39m     bin_kws = \u001b[43mestimator\u001b[49m\u001b[43m.\u001b[49m\u001b[43m_define_bin_params\u001b[49m\u001b[43m(\u001b[49m\u001b[43msub_data\u001b[49m\u001b[43m,\u001b[49m\u001b[43m \u001b[49m\u001b[43morient\u001b[49m\u001b[43m,\u001b[49m\u001b[43m \u001b[49m\u001b[38;5;28;43;01mNone\u001b[39;49;00m\u001b[43m)\u001b[49m\n\u001b[32m    471\u001b[39m res = estimator._normalize(estimator._eval(sub_data, orient, bin_kws))\n\u001b[32m    472\u001b[39m heights = res[estimator.stat].to_numpy()\n",
      "\u001b[36mFile \u001b[39m\u001b[32m~/miniconda3/envs/bdn2cpg/lib/python3.13/site-packages/seaborn/_stats/counting.py:152\u001b[39m, in \u001b[36mHist._define_bin_params\u001b[39m\u001b[34m(self, data, orient, scale_type)\u001b[39m\n\u001b[32m    148\u001b[39m \u001b[38;5;66;03m# TODO We'll want this for ordinal / discrete scales too\u001b[39;00m\n\u001b[32m    149\u001b[39m \u001b[38;5;66;03m# (Do we need discrete as a parameter or just infer from scale?)\u001b[39;00m\n\u001b[32m    150\u001b[39m discrete = \u001b[38;5;28mself\u001b[39m.discrete \u001b[38;5;129;01mor\u001b[39;00m scale_type == \u001b[33m\"\u001b[39m\u001b[33mnominal\u001b[39m\u001b[33m\"\u001b[39m\n\u001b[32m--> \u001b[39m\u001b[32m152\u001b[39m bin_edges = \u001b[38;5;28;43mself\u001b[39;49m\u001b[43m.\u001b[49m\u001b[43m_define_bin_edges\u001b[49m\u001b[43m(\u001b[49m\n\u001b[32m    153\u001b[39m \u001b[43m    \u001b[49m\u001b[43mvals\u001b[49m\u001b[43m,\u001b[49m\u001b[43m \u001b[49m\u001b[43mweights\u001b[49m\u001b[43m,\u001b[49m\u001b[43m \u001b[49m\u001b[38;5;28;43mself\u001b[39;49m\u001b[43m.\u001b[49m\u001b[43mbins\u001b[49m\u001b[43m,\u001b[49m\u001b[43m \u001b[49m\u001b[38;5;28;43mself\u001b[39;49m\u001b[43m.\u001b[49m\u001b[43mbinwidth\u001b[49m\u001b[43m,\u001b[49m\u001b[43m \u001b[49m\u001b[38;5;28;43mself\u001b[39;49m\u001b[43m.\u001b[49m\u001b[43mbinrange\u001b[49m\u001b[43m,\u001b[49m\u001b[43m \u001b[49m\u001b[43mdiscrete\u001b[49m\u001b[43m,\u001b[49m\n\u001b[32m    154\u001b[39m \u001b[43m\u001b[49m\u001b[43m)\u001b[49m\n\u001b[32m    156\u001b[39m \u001b[38;5;28;01mif\u001b[39;00m \u001b[38;5;28misinstance\u001b[39m(\u001b[38;5;28mself\u001b[39m.bins, (\u001b[38;5;28mstr\u001b[39m, \u001b[38;5;28mint\u001b[39m)):\n\u001b[32m    157\u001b[39m     n_bins = \u001b[38;5;28mlen\u001b[39m(bin_edges) - \u001b[32m1\u001b[39m\n",
      "\u001b[36mFile \u001b[39m\u001b[32m~/miniconda3/envs/bdn2cpg/lib/python3.13/site-packages/seaborn/_stats/counting.py:137\u001b[39m, in \u001b[36mHist._define_bin_edges\u001b[39m\u001b[34m(self, vals, weight, bins, binwidth, binrange, discrete)\u001b[39m\n\u001b[32m    135\u001b[39m     \u001b[38;5;28;01mif\u001b[39;00m binwidth \u001b[38;5;129;01mis\u001b[39;00m \u001b[38;5;129;01mnot\u001b[39;00m \u001b[38;5;28;01mNone\u001b[39;00m:\n\u001b[32m    136\u001b[39m         bins = \u001b[38;5;28mint\u001b[39m(\u001b[38;5;28mround\u001b[39m((stop - start) / binwidth))\n\u001b[32m--> \u001b[39m\u001b[32m137\u001b[39m     bin_edges = \u001b[43mnp\u001b[49m\u001b[43m.\u001b[49m\u001b[43mhistogram_bin_edges\u001b[49m\u001b[43m(\u001b[49m\u001b[43mvals\u001b[49m\u001b[43m,\u001b[49m\u001b[43m \u001b[49m\u001b[43mbins\u001b[49m\u001b[43m,\u001b[49m\u001b[43m \u001b[49m\u001b[43mbinrange\u001b[49m\u001b[43m,\u001b[49m\u001b[43m \u001b[49m\u001b[43mweight\u001b[49m\u001b[43m)\u001b[49m\n\u001b[32m    139\u001b[39m \u001b[38;5;66;03m# TODO warning or cap on too many bins?\u001b[39;00m\n\u001b[32m    141\u001b[39m \u001b[38;5;28;01mreturn\u001b[39;00m bin_edges\n",
      "\u001b[36mFile \u001b[39m\u001b[32m~/miniconda3/envs/bdn2cpg/lib/python3.13/site-packages/numpy/lib/_histograms_impl.py:680\u001b[39m, in \u001b[36mhistogram_bin_edges\u001b[39m\u001b[34m(a, bins, range, weights)\u001b[39m\n\u001b[32m    479\u001b[39m \u001b[38;5;250m\u001b[39m\u001b[33mr\u001b[39m\u001b[33;03m\"\"\"\u001b[39;00m\n\u001b[32m    480\u001b[39m \u001b[33;03mFunction to calculate only the edges of the bins used by the `histogram`\u001b[39;00m\n\u001b[32m    481\u001b[39m \u001b[33;03mfunction.\u001b[39;00m\n\u001b[32m   (...)\u001b[39m\u001b[32m    677\u001b[39m \n\u001b[32m    678\u001b[39m \u001b[33;03m\"\"\"\u001b[39;00m\n\u001b[32m    679\u001b[39m a, weights = _ravel_and_check_weights(a, weights)\n\u001b[32m--> \u001b[39m\u001b[32m680\u001b[39m bin_edges, _ = \u001b[43m_get_bin_edges\u001b[49m\u001b[43m(\u001b[49m\u001b[43ma\u001b[49m\u001b[43m,\u001b[49m\u001b[43m \u001b[49m\u001b[43mbins\u001b[49m\u001b[43m,\u001b[49m\u001b[43m \u001b[49m\u001b[38;5;28;43mrange\u001b[39;49m\u001b[43m,\u001b[49m\u001b[43m \u001b[49m\u001b[43mweights\u001b[49m\u001b[43m)\u001b[49m\n\u001b[32m    681\u001b[39m \u001b[38;5;28;01mreturn\u001b[39;00m bin_edges\n",
      "\u001b[36mFile \u001b[39m\u001b[32m~/miniconda3/envs/bdn2cpg/lib/python3.13/site-packages/numpy/lib/_histograms_impl.py:427\u001b[39m, in \u001b[36m_get_bin_edges\u001b[39m\u001b[34m(a, bins, range, weights)\u001b[39m\n\u001b[32m    424\u001b[39m         \u001b[38;5;28;01mraise\u001b[39;00m \u001b[38;5;167;01mTypeError\u001b[39;00m(\n\u001b[32m    425\u001b[39m             \u001b[33m'\u001b[39m\u001b[33m`bins` must be an integer, a string, or an array\u001b[39m\u001b[33m'\u001b[39m) \u001b[38;5;28;01mfrom\u001b[39;00m\u001b[38;5;250m \u001b[39m\u001b[34;01me\u001b[39;00m\n\u001b[32m    426\u001b[39m     \u001b[38;5;28;01mif\u001b[39;00m n_equal_bins < \u001b[32m1\u001b[39m:\n\u001b[32m--> \u001b[39m\u001b[32m427\u001b[39m         \u001b[38;5;28;01mraise\u001b[39;00m \u001b[38;5;167;01mValueError\u001b[39;00m(\u001b[33m'\u001b[39m\u001b[33m`bins` must be positive, when an integer\u001b[39m\u001b[33m'\u001b[39m)\n\u001b[32m    429\u001b[39m     first_edge, last_edge = _get_outer_edges(a, \u001b[38;5;28mrange\u001b[39m)\n\u001b[32m    431\u001b[39m \u001b[38;5;28;01melif\u001b[39;00m np.ndim(bins) == \u001b[32m1\u001b[39m:\n",
      "\u001b[31mValueError\u001b[39m: `bins` must be positive, when an integer"
     ]
    },
    {
     "data": {
      "image/png": "[encoded data removed]",
      "text/plain": [
       "<Figure size 120x114 with 1 Axes>"
      ]
     },
     "metadata": {},
     "output_type": "display_data"
    }
   ],
   "source": [
    "plt.figure(figsize=(0.600,0.57))\n",
    "\n",
    "ax = sns.histplot(np.sum(mnActive,axis=0),color=mnColor,edgecolor=\"none\",binwidth=1,kde=False,alpha=1)#,label=\"good sims\")\n",
    "plt.xlabel(\"# active L MNs\")\n",
    "plt.ylim([0,480])\n",
    "\n",
    "# plt.ylim([0,560.7])\n",
    "plt.xlim([0,12])\n",
    "plt.xticks([0,5,10])\n",
    "plt.ylabel(\"# replicates\",fontsize=8)\n",
    "plt.xlabel(\"# MNs active\",fontsize=8)\n",
    "plt.gca().tick_params(axis='both', which='major', labelsize=6)\n",
    "\n",
    "# plt.savefig(f\"../results/figures/20250810_plots/{resultName}_activeMnHist.svg\",transparent=True) #{date.today().strftime(\"%Y%m%d\")}\n",
    "plt.show()"
   ]
  },
  {
   "cell_type": "code",
   "execution_count": null,
   "id": "a3359924",
   "metadata": {},
   "outputs": [],
   "source": []
  }
 ],
 "metadata": {
  "kernelspec": {
   "display_name": "bdn2cpg",
   "language": "python",
   "name": "python3"
  },
  "language_info": {
   "codemirror_mode": {
    "name": "ipython",
    "version": 3
   },
   "file_extension": ".py",
   "mimetype": "text/x-python",
   "name": "python",
   "nbconvert_exporter": "python",
   "pygments_lexer": "ipython3",
   "version": "3.13.5"
  }
 },
 "nbformat": 4,
 "nbformat_minor": 5
}
