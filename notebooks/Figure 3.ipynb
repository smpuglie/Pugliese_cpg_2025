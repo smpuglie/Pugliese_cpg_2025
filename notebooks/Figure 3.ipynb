{
 "cells": [
  {
   "cell_type": "code",
   "execution_count": 1,
   "id": "a73ae59f",
   "metadata": {},
   "outputs": [],
   "source": [
    "import matplotlib.pyplot as plt\n",
    "from src.plot_utils import *\n",
    "from src.sim_utils import *\n",
    "import yaml\n",
    "import numpy as np\n",
    "import jax.numpy as jnp\n",
    "import sparse\n",
    "from hydra import initialize, compose\n",
    "from hydra.core.hydra_config import HydraConfig\n",
    "from omegaconf import DictConfig, OmegaConf\n",
    "from pathlib import Path, PosixPath\n",
    "import h5py"
   ]
  },
  {
   "cell_type": "code",
   "execution_count": 2,
   "id": "16140273",
   "metadata": {},
   "outputs": [],
   "source": [
    "# # PLOT defaults\n",
    "plt.rcParams[\"font.sans-serif\"] = \"Arial\"\n",
    "plt.rcParams[\"axes.spines.right\"] = \"False\"\n",
    "plt.rcParams[\"axes.spines.top\"] = \"False\"\n",
    "plt.rcParams[\"svg.fonttype\"] = \"none\"\n",
    "plt.rcParams[\"figure.figsize\"] = (2,2)\n",
    "plt.rcParams['axes.linewidth'] = 0.25\n",
    "plt.rcParams[\"xtick.major.size\"] = 1.7\n",
    "plt.rcParams[\"ytick.major.size\"] = 1.7\n",
    "plt.rcParams[\"xtick.major.width\"] = 0.25\n",
    "plt.rcParams[\"ytick.major.width\"] = 0.25\n",
    "plt.rcParams[\"figure.dpi\"] = 200\n",
    "\n",
    "SMALL_SIZE = 6\n",
    "LABEL_SIZE = 7\n",
    "AXLABEL_SIZE = 8\n",
    "TITLE_SIZE = 10\n",
    "\n",
    "plt.rcParams[\"font.family\"] = \"Arial\" # \"Arial\"\n",
    "plt.rc('font', size=SMALL_SIZE)          # controls default text sizes\n",
    "plt.rc('axes', titlesize=SMALL_SIZE)     # fontsize of the axes title\n",
    "plt.rc('axes', labelsize=AXLABEL_SIZE)    # fontsize of the x and y labels\n",
    "plt.rc('xtick', labelsize=SMALL_SIZE)    # fontsize of the tick labels\n",
    "plt.rc('ytick', labelsize=SMALL_SIZE)    # fontsize of the tick labels\n",
    "plt.rc('legend', fontsize=LABEL_SIZE)    # legend fontsize\n",
    "plt.rc('figure', titlesize=TITLE_SIZE)  # fontsize of the figure title\n",
    "\n",
    "moduleColors = get_module_colors()\n",
    "\n",
    "dnColor = \"#51bbad\"\n",
    "excColor = \"#d84a2e\"\n",
    "inhColor = \"#026b85\"\n",
    "mnColor = \"#267655\"\n",
    "\n",
    "lightDnColor = \"#a7dcd5ff\"\n",
    "lightExcColor = \"#ff9985\""
   ]
  },
  {
   "cell_type": "markdown",
   "id": "2ff32db7",
   "metadata": {},
   "source": [
    "## MANC 1024x DNg100 activation with CPG IN silencing"
   ]
  },
  {
   "cell_type": "markdown",
   "id": "a053c13f",
   "metadata": {},
   "source": [
    "### E1 silencing"
   ]
  },
  {
   "cell_type": "code",
   "execution_count": 3,
   "id": "26a44a63",
   "metadata": {},
   "outputs": [
    {
     "data": {
      "text/plain": [
       "(1024, 4604, 2001)"
      ]
     },
     "execution_count": 3,
     "metadata": {},
     "output_type": "execute_result"
    }
   ],
   "source": [
    "dataPath = \"/data/users/smpuglie/Pugliese_2025/\"\n",
    "simType = \"DNg100_Stim_Silence\"\n",
    "simPath = simType+\"/hyak/run_id=28357120\"\n",
    "folder = dataPath + simPath\n",
    "Rs = sparse.load_npz(folder+f\"/ckpt/{simType}_Rs.npz\").todense()\n",
    "params = DictConfig(load_from_yaml(folder+\"/logs/run_config.yaml\"))\n",
    "\n",
    "dataset = 0\n",
    "Rs = Rs[dataset]\n",
    "nSims = Rs.shape[0]\n",
    "Rs.shape"
   ]
  },
  {
   "cell_type": "code",
   "execution_count": 4,
   "id": "5d9b5647",
   "metadata": {},
   "outputs": [
    {
     "name": "stderr",
     "output_type": "stream",
     "text": [
      "/home/smpuglie/Pugliese_2025/src/plot_utils.py:30: SettingWithCopyWarning: \n",
      "A value is trying to be set on a copy of a slice from a DataFrame.\n",
      "Try using .loc[row_indexer,col_indexer] = value instead\n",
      "\n",
      "See the caveats in the documentation: https://pandas.pydata.org/pandas-docs/stable/user_guide/indexing.html#returning-a-view-versus-a-copy\n",
      "  neuronData[colName] = pd.Categorical(neuronData[colName],categories=[\"coxa swing\", \"coxa stance\", \"femur/tr extend\", \"femur/tr flex\",\n"
     ]
    }
   ],
   "source": [
    "wTable = pd.read_csv(\"../\"+params.experiment[\"dfPath\"].split(\"Pugliese_2025\")[1])\n",
    "mnData = sort_motor_modules(wTable.loc[wTable[\"motor module\"].notna()])\n",
    "nMnsActive = pd.Series(index=np.arange(nSims))\n",
    "simScore = pd.Series(index=np.arange(nSims))\n",
    "\n",
    "for i in range(nSims):\n",
    "    R = Rs[i]\n",
    "    \n",
    "    activeMnsMask = (np.max(R,1)>0) & (jnp.isin(jnp.arange(R.shape[0]), mnData.index.to_numpy()))\n",
    "    nMnsActive.loc[i] = np.sum(activeMnsMask)\n",
    "    score, _ = compute_oscillation_score(R[...,250:],activeMnsMask)\n",
    "    simScore.loc[i] = score"
   ]
  },
  {
   "cell_type": "code",
   "execution_count": 6,
   "id": "48aa48b7",
   "metadata": {},
   "outputs": [],
   "source": [
    "figFolder = \"../figures/\"\n",
    "figFolder += \"-\".join(str.split(simPath,\"/\"))"
   ]
  },
  {
   "cell_type": "code",
   "execution_count": 7,
   "id": "f022847f",
   "metadata": {},
   "outputs": [
    {
     "data": {
      "image/png": "[encoded data removed]",
      "text/plain": [
       "<Figure size 120x114 with 1 Axes>"
      ]
     },
     "metadata": {},
     "output_type": "display_data"
    }
   ],
   "source": [
    "plt.figure(figsize=(0.600,0.57))\n",
    "\n",
    "ax = sns.histplot(nMnsActive,color=mnColor,edgecolor=\"none\",binwidth=1,kde=False,alpha=1)#,label=\"good sims\")\n",
    "plt.ylim([0,700])\n",
    "plt.xlim([0,12])\n",
    "plt.xticks([0,5,10])\n",
    "plt.ylabel(\"# replicates\",fontsize=8)\n",
    "plt.xlabel(\"# MNs active\",fontsize=8)\n",
    "plt.gca().tick_params(axis='both', which='major', labelsize=6)\n",
    "if not os.path.exists(figFolder):\n",
    "    os.makedirs(figFolder)\n",
    "plt.savefig(figFolder+\"/activeMnHist.svg\",transparent=True)\n",
    "plt.show()"
   ]
  },
  {
   "cell_type": "code",
   "execution_count": 8,
   "id": "a3359924",
   "metadata": {},
   "outputs": [
    {
     "data": {
      "image/png": "[encoded data removed]",
      "text/plain": [
       "<Figure size 120x114 with 1 Axes>"
      ]
     },
     "metadata": {},
     "output_type": "display_data"
    }
   ],
   "source": [
    "plt.figure(figsize=(0.600,0.57))\n",
    "\n",
    "ax = sns.histplot(simScore,color=mnColor,edgecolor=\"none\",bins=np.arange(0,1.5,0.1),kde=False,alpha=1.0)\n",
    "plt.xlim([0,1.1])\n",
    "plt.ylim([0,1024])\n",
    "plt.xticks(np.arange(0,1.1,0.5))\n",
    "plt.xlabel(\"motor rhythmicity score\",fontsize=8)\n",
    "plt.ylabel(\"# replicates\",fontsize=8)\n",
    "plt.gca().tick_params(axis='both', which='major', labelsize=6)\n",
    "\n",
    "if not os.path.exists(figFolder):\n",
    "    os.makedirs(figFolder)\n",
    "plt.savefig(figFolder+\"/mnScoreHist.svg\",transparent=True)\n",
    "plt.show()"
   ]
  },
  {
   "cell_type": "code",
   "execution_count": 5,
   "id": "1b1f0cc6",
   "metadata": {},
   "outputs": [],
   "source": [
    "nMnsActive_e1silenced = nMnsActive.copy()\n",
    "simScore_e1silenced = simScore.copy()"
   ]
  },
  {
   "cell_type": "markdown",
   "id": "11e4763b",
   "metadata": {},
   "source": [
    "### E2 silencing"
   ]
  },
  {
   "cell_type": "code",
   "execution_count": 9,
   "id": "d0e52d86",
   "metadata": {},
   "outputs": [
    {
     "data": {
      "text/plain": [
       "(1024, 4604, 2001)"
      ]
     },
     "execution_count": 9,
     "metadata": {},
     "output_type": "execute_result"
    }
   ],
   "source": [
    "dataPath = \"/data/users/smpuglie/Pugliese_2025/\"\n",
    "simType = \"DNg100_Stim_Silence\"\n",
    "simPath = simType+\"/hyak/run_id=28357126\"\n",
    "folder = dataPath + simPath\n",
    "Rs = sparse.load_npz(folder+f\"/ckpt/{simType}_Rs.npz\").todense()\n",
    "params = DictConfig(load_from_yaml(folder+\"/logs/run_config.yaml\"))\n",
    "\n",
    "dataset = 0\n",
    "Rs = Rs[dataset]\n",
    "nSims = Rs.shape[0]\n",
    "Rs.shape"
   ]
  },
  {
   "cell_type": "code",
   "execution_count": 10,
   "id": "2405f27d",
   "metadata": {},
   "outputs": [
    {
     "name": "stderr",
     "output_type": "stream",
     "text": [
      "/home/smpuglie/Pugliese_2025/src/plot_utils.py:30: SettingWithCopyWarning: \n",
      "A value is trying to be set on a copy of a slice from a DataFrame.\n",
      "Try using .loc[row_indexer,col_indexer] = value instead\n",
      "\n",
      "See the caveats in the documentation: https://pandas.pydata.org/pandas-docs/stable/user_guide/indexing.html#returning-a-view-versus-a-copy\n",
      "  neuronData[colName] = pd.Categorical(neuronData[colName],categories=[\"coxa swing\", \"coxa stance\", \"femur/tr extend\", \"femur/tr flex\",\n"
     ]
    }
   ],
   "source": [
    "wTable = pd.read_csv(\"../\"+params.experiment[\"dfPath\"].split(\"Pugliese_2025\")[1])\n",
    "mnData = sort_motor_modules(wTable.loc[wTable[\"motor module\"].notna()])\n",
    "nMnsActive = pd.Series(index=np.arange(nSims))\n",
    "simScore = pd.Series(index=np.arange(nSims))\n",
    "\n",
    "for i in range(nSims):\n",
    "    R = Rs[i]\n",
    "    \n",
    "    activeMnsMask = (np.max(R,1)>0) & (jnp.isin(jnp.arange(R.shape[0]), mnData.index.to_numpy()))\n",
    "    nMnsActive.loc[i] = np.sum(activeMnsMask)\n",
    "    score, _ = compute_oscillation_score(R[...,250:],activeMnsMask)\n",
    "    simScore.loc[i] = score"
   ]
  },
  {
   "cell_type": "code",
   "execution_count": 11,
   "id": "aac5222c",
   "metadata": {},
   "outputs": [],
   "source": [
    "figFolder = \"../figures/\"\n",
    "figFolder += \"-\".join(str.split(simPath,\"/\"))"
   ]
  },
  {
   "cell_type": "code",
   "execution_count": 12,
   "id": "3837c553",
   "metadata": {},
   "outputs": [
    {
     "data": {
      "image/png": "[encoded data removed]",
      "text/plain": [
       "<Figure size 120x114 with 1 Axes>"
      ]
     },
     "metadata": {},
     "output_type": "display_data"
    }
   ],
   "source": [
    "plt.figure(figsize=(0.600,0.57))\n",
    "\n",
    "ax = sns.histplot(nMnsActive,color=mnColor,edgecolor=\"none\",binwidth=1,kde=False,alpha=1)#,label=\"good sims\")\n",
    "plt.ylim([0,700])\n",
    "plt.xlim([0,12])\n",
    "plt.xticks([0,5,10])\n",
    "plt.ylabel(\"# replicates\",fontsize=8)\n",
    "plt.xlabel(\"# MNs active\",fontsize=8)\n",
    "plt.gca().tick_params(axis='both', which='major', labelsize=6)\n",
    "if not os.path.exists(figFolder):\n",
    "    os.makedirs(figFolder)\n",
    "plt.savefig(figFolder+\"/activeMnHist.svg\",transparent=True)\n",
    "plt.show()"
   ]
  },
  {
   "cell_type": "code",
   "execution_count": 13,
   "id": "dea5d88b",
   "metadata": {},
   "outputs": [
    {
     "data": {
      "image/png": "[encoded data removed]",
      "text/plain": [
       "<Figure size 120x114 with 1 Axes>"
      ]
     },
     "metadata": {},
     "output_type": "display_data"
    }
   ],
   "source": [
    "plt.figure(figsize=(0.600,0.57))\n",
    "\n",
    "ax = sns.histplot(simScore,color=mnColor,edgecolor=\"none\",bins=np.arange(0,1.5,0.1),kde=False,alpha=1.0)\n",
    "plt.xlim([0,1.1])\n",
    "plt.ylim([0,1024])\n",
    "plt.xticks(np.arange(0,1.1,0.5))\n",
    "plt.xlabel(\"motor rhythmicity score\",fontsize=8)\n",
    "plt.ylabel(\"# replicates\",fontsize=8)\n",
    "plt.gca().tick_params(axis='both', which='major', labelsize=6)\n",
    "\n",
    "if not os.path.exists(figFolder):\n",
    "    os.makedirs(figFolder)\n",
    "plt.savefig(figFolder+\"/mnScoreHist.svg\",transparent=True)\n",
    "plt.show()"
   ]
  },
  {
   "cell_type": "code",
   "execution_count": 14,
   "id": "37c6ab0f",
   "metadata": {},
   "outputs": [],
   "source": [
    "nMnsActive_e2silenced = nMnsActive.copy()\n",
    "simScore_e2silenced = simScore.copy()"
   ]
  },
  {
   "cell_type": "markdown",
   "id": "8592149c",
   "metadata": {},
   "source": [
    "### I1 silencing"
   ]
  },
  {
   "cell_type": "code",
   "execution_count": 15,
   "id": "4e0c7c04",
   "metadata": {},
   "outputs": [
    {
     "data": {
      "text/plain": [
       "(1024, 4604, 2001)"
      ]
     },
     "execution_count": 15,
     "metadata": {},
     "output_type": "execute_result"
    }
   ],
   "source": [
    "dataPath = \"/data/users/smpuglie/Pugliese_2025/\"\n",
    "simType = \"DNg100_Stim_Silence\"\n",
    "simPath = simType+\"/hyak/run_id=28357127\"\n",
    "folder = dataPath + simPath\n",
    "Rs = sparse.load_npz(folder+f\"/ckpt/{simType}_Rs.npz\").todense()\n",
    "params = DictConfig(load_from_yaml(folder+\"/logs/run_config.yaml\"))\n",
    "\n",
    "dataset = 0\n",
    "Rs = Rs[dataset]\n",
    "nSims = Rs.shape[0]\n",
    "Rs.shape"
   ]
  },
  {
   "cell_type": "code",
   "execution_count": 16,
   "id": "0a30cb0a",
   "metadata": {},
   "outputs": [
    {
     "name": "stderr",
     "output_type": "stream",
     "text": [
      "/home/smpuglie/Pugliese_2025/src/plot_utils.py:30: SettingWithCopyWarning: \n",
      "A value is trying to be set on a copy of a slice from a DataFrame.\n",
      "Try using .loc[row_indexer,col_indexer] = value instead\n",
      "\n",
      "See the caveats in the documentation: https://pandas.pydata.org/pandas-docs/stable/user_guide/indexing.html#returning-a-view-versus-a-copy\n",
      "  neuronData[colName] = pd.Categorical(neuronData[colName],categories=[\"coxa swing\", \"coxa stance\", \"femur/tr extend\", \"femur/tr flex\",\n"
     ]
    }
   ],
   "source": [
    "wTable = pd.read_csv(\"../\"+params.experiment[\"dfPath\"].split(\"Pugliese_2025\")[1])\n",
    "mnData = sort_motor_modules(wTable.loc[wTable[\"motor module\"].notna()])\n",
    "nMnsActive = pd.Series(index=np.arange(nSims))\n",
    "simScore = pd.Series(index=np.arange(nSims))\n",
    "\n",
    "for i in range(nSims):\n",
    "    R = Rs[i]\n",
    "    \n",
    "    activeMnsMask = (np.max(R,1)>0) & (jnp.isin(jnp.arange(R.shape[0]), mnData.index.to_numpy()))\n",
    "    nMnsActive.loc[i] = np.sum(activeMnsMask)\n",
    "    score, _ = compute_oscillation_score(R[...,250:],activeMnsMask)\n",
    "    simScore.loc[i] = score"
   ]
  },
  {
   "cell_type": "code",
   "execution_count": 17,
   "id": "16d8fdef",
   "metadata": {},
   "outputs": [],
   "source": [
    "figFolder = \"../figures/\"\n",
    "figFolder += \"-\".join(str.split(simPath,\"/\"))"
   ]
  },
  {
   "cell_type": "code",
   "execution_count": 18,
   "id": "9e14ad71",
   "metadata": {},
   "outputs": [
    {
     "data": {
      "image/png": "[encoded data removed]",
      "text/plain": [
       "<Figure size 120x114 with 1 Axes>"
      ]
     },
     "metadata": {},
     "output_type": "display_data"
    }
   ],
   "source": [
    "plt.figure(figsize=(0.600,0.57))\n",
    "\n",
    "ax = sns.histplot(nMnsActive,color=mnColor,edgecolor=\"none\",binwidth=1,kde=False,alpha=1)#,label=\"good sims\")\n",
    "plt.ylim([0,700])\n",
    "plt.xlim([0,12])\n",
    "plt.xticks([0,5,10])\n",
    "plt.ylabel(\"# replicates\",fontsize=8)\n",
    "plt.xlabel(\"# MNs active\",fontsize=8)\n",
    "plt.gca().tick_params(axis='both', which='major', labelsize=6)\n",
    "if not os.path.exists(figFolder):\n",
    "    os.makedirs(figFolder)\n",
    "plt.savefig(figFolder+\"/activeMnHist.svg\",transparent=True)\n",
    "plt.show()"
   ]
  },
  {
   "cell_type": "code",
   "execution_count": 19,
   "id": "2a8a137a",
   "metadata": {},
   "outputs": [
    {
     "data": {
      "image/png": "[encoded data removed]",
      "text/plain": [
       "<Figure size 120x114 with 1 Axes>"
      ]
     },
     "metadata": {},
     "output_type": "display_data"
    }
   ],
   "source": [
    "plt.figure(figsize=(0.600,0.57))\n",
    "\n",
    "ax = sns.histplot(simScore,color=mnColor,edgecolor=\"none\",bins=np.arange(0,1.5,0.1),kde=False,alpha=1.0)\n",
    "plt.xlim([0,1.1])\n",
    "plt.ylim([0,1024])\n",
    "plt.xticks(np.arange(0,1.1,0.5))\n",
    "plt.xlabel(\"motor rhythmicity score\",fontsize=8)\n",
    "plt.ylabel(\"# replicates\",fontsize=8)\n",
    "plt.gca().tick_params(axis='both', which='major', labelsize=6)\n",
    "\n",
    "if not os.path.exists(figFolder):\n",
    "    os.makedirs(figFolder)\n",
    "plt.savefig(figFolder+\"/mnScoreHist.svg\",transparent=True)\n",
    "plt.show()"
   ]
  },
  {
   "cell_type": "code",
   "execution_count": 20,
   "id": "3066fb9c",
   "metadata": {},
   "outputs": [],
   "source": [
    "nMnsActive_i1silenced = nMnsActive.copy()\n",
    "simScore_i1silenced = simScore.copy()"
   ]
  },
  {
   "cell_type": "markdown",
   "id": "c68ea495",
   "metadata": {},
   "source": [
    "### combined violin plot"
   ]
  },
  {
   "cell_type": "code",
   "execution_count": null,
   "id": "a5309246",
   "metadata": {},
   "outputs": [
    {
     "name": "stderr",
     "output_type": "stream",
     "text": [
      "/home/smpuglie/Pugliese_2025/src/plot_utils.py:30: SettingWithCopyWarning: \n",
      "A value is trying to be set on a copy of a slice from a DataFrame.\n",
      "Try using .loc[row_indexer,col_indexer] = value instead\n",
      "\n",
      "See the caveats in the documentation: https://pandas.pydata.org/pandas-docs/stable/user_guide/indexing.html#returning-a-view-versus-a-copy\n",
      "  neuronData[colName] = pd.Categorical(neuronData[colName],categories=[\"coxa swing\", \"coxa stance\", \"femur/tr extend\", \"femur/tr flex\",\n"
     ]
    }
   ],
   "source": [
    "dataPath = \"/data/users/smpuglie/Pugliese_2025/\"\n",
    "simType = \"DNg100_Stim\"\n",
    "simPath = simType+\"/hyak/run_id=28123286\"\n",
    "folder = dataPath + simPath\n",
    "Rs = sparse.load_npz(folder+f\"/ckpt/{simType}_Rs.npz\").todense()\n",
    "params = DictConfig(load_from_yaml(folder+\"/logs/run_config.yaml\"))\n",
    "\n",
    "dataset = 0\n",
    "Rs = Rs[dataset]\n",
    "nSims = Rs.shape[0]\n",
    "Rs.shape\n",
    "wTable = pd.read_csv(\"../\"+params.experiment[\"dfPath\"].split(\"Pugliese_2025\")[1])\n",
    "mnData = sort_motor_modules(wTable.loc[wTable[\"motor module\"].notna()])\n",
    "nMnsActive_intact = pd.Series(index=np.arange(nSims))\n",
    "simScore_intact = pd.Series(index=np.arange(nSims))\n",
    "\n",
    "for i in range(nSims):\n",
    "    R = Rs[i]\n",
    "    \n",
    "    activeMnsMask = (np.max(R,1)>0) & (jnp.isin(jnp.arange(R.shape[0]), mnData.index.to_numpy()))\n",
    "    nMnsActive_intact.loc[i] = np.sum(activeMnsMask)\n",
    "    score, _ = compute_oscillation_score(R[...,250:],activeMnsMask)\n",
    "    simScore_intact.loc[i] = score"
   ]
  },
  {
   "cell_type": "code",
   "execution_count": null,
   "id": "32c7d71c",
   "metadata": {},
   "outputs": [],
   "source": [
    "nMnsActive_combined = pd.concat([nMnsActive_intact,nMnsActive_e1silenced,nMnsActive_e2silenced,nMnsActive_i1silenced],axis=1).rename(columns={0:\"none\",1:\"E1\",2:\"E2\",3:\"I1\"})\n",
    "simScore_combined = pd.concat([simScore_intact,simScore_e1silenced,simScore_e2silenced,simScore_i1silenced],axis=1).rename(columns={0:\"none\",1:\"E1\",2:\"E2\",3:\"I1\"})"
   ]
  },
  {
   "cell_type": "code",
   "execution_count": 147,
   "id": "56cdac85",
   "metadata": {},
   "outputs": [],
   "source": [
    "figFolder = \"../figures/\"\n",
    "figFolder += \"DNg100_Stim_Silence-combined\""
   ]
  },
  {
   "cell_type": "code",
   "execution_count": 148,
   "id": "f0f2dc82",
   "metadata": {},
   "outputs": [
    {
     "data": {
      "image/png": "[encoded data removed]",
      "text/plain": [
       "<Figure size 200x200 with 1 Axes>"
      ]
     },
     "metadata": {},
     "output_type": "display_data"
    }
   ],
   "source": [
    "palette = [mnColor,excColor,lightExcColor,inhColor]\n",
    "\n",
    "plt.figure(figsize=(1,1))\n",
    "sns.violinplot(nMnsActive_combined,palette=palette,edgecolor=None,inner=None,bw_adjust=2,cut=0,alpha=0.5)\n",
    "sns.boxplot(nMnsActive_combined,palette=palette,width=0.2,linewidth=0.75,fliersize=2**0.75,\n",
    "            boxprops={\"alpha\":0.5,},showfliers=False)\n",
    "plt.yticks(np.arange(0,9,2))\n",
    "plt.ylim([0,9])\n",
    "sns.despine(offset=2)\n",
    "plt.ylabel(\"# MNs active\")\n",
    "plt.xlabel(\"silenced neuron\")\n",
    "\n",
    "if not os.path.exists(figFolder):\n",
    "    os.makedirs(figFolder)\n",
    "plt.savefig(figFolder+\"/activeMnViolinAndBox.svg\",transparent=True)\n",
    "plt.show()"
   ]
  },
  {
   "cell_type": "code",
   "execution_count": 149,
   "id": "0cd1d3c7",
   "metadata": {},
   "outputs": [
    {
     "data": {
      "image/png": "[encoded data removed]",
      "text/plain": [
       "<Figure size 200x200 with 1 Axes>"
      ]
     },
     "metadata": {},
     "output_type": "display_data"
    }
   ],
   "source": [
    "palette = [mnColor,excColor,lightExcColor,inhColor]\n",
    "\n",
    "plt.figure(figsize=(1,1))\n",
    "sns.violinplot(simScore_combined,palette=palette,linecolor=\"k\",linewidth=0,inner=None,cut=0,alpha=0.5)\n",
    "sns.boxplot(simScore_combined,palette=palette,width=0.2,linewidth=0.75,fliersize=2**0.75,\n",
    "            boxprops={\"alpha\":0.5,},showfliers=False)\n",
    "plt.ylim([0,1.1])\n",
    "plt.ylabel(\"motor rhythmicity score\")\n",
    "plt.xlabel(\"silenced neuron\")\n",
    "sns.despine(offset=2)\n",
    "\n",
    "if not os.path.exists(figFolder):\n",
    "    os.makedirs(figFolder)\n",
    "plt.savefig(figFolder+\"/mnScoreViolinAndBox.svg\",transparent=True)\n",
    "plt.show()"
   ]
  },
  {
   "cell_type": "code",
   "execution_count": 150,
   "id": "62d3c1a7",
   "metadata": {},
   "outputs": [],
   "source": [
    "del R\n",
    "del Rs"
   ]
  },
  {
   "cell_type": "code",
   "execution_count": null,
   "id": "b8a2da61",
   "metadata": {},
   "outputs": [],
   "source": []
  }
 ],
 "metadata": {
  "kernelspec": {
   "display_name": "bdn2cpg",
   "language": "python",
   "name": "python3"
  },
  "language_info": {
   "codemirror_mode": {
    "name": "ipython",
    "version": 3
   },
   "file_extension": ".py",
   "mimetype": "text/x-python",
   "name": "python",
   "nbconvert_exporter": "python",
   "pygments_lexer": "ipython3",
   "version": "3.13.5"
  }
 },
 "nbformat": 4,
 "nbformat_minor": 5
}
