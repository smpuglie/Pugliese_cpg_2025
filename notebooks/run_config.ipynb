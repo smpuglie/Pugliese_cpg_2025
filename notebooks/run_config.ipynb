{
 "cells": [
  {
   "cell_type": "markdown",
   "metadata": {},
   "source": [
    "# Imports"
   ]
  },
  {
   "cell_type": "code",
   "execution_count": 6,
   "metadata": {},
   "outputs": [],
   "source": [
    "%load_ext autoreload\n",
    "%autoreload 2\n",
    "# from src.vnc import run_vnc_simulation\n",
    "\n",
    "\n",
    "import pandas as pd\n",
    "import numpy as np\n",
    "from datetime import date\n",
    "import matplotlib.pyplot as plt\n",
    "from pathlib import Path\n",
    "from hydra import initialize, compose\n",
    "from hydra.core.hydra_config import HydraConfig\n",
    "import jax\n",
    "# jax.config.update(\"jax_enable_x64\", True)\n",
    "import os\n",
    "os.environ['CUDA_VISIBLE_DEVICES'] = '1' # Use GPU 0\n",
    "os.environ[\"XLA_PYTHON_CLIENT_MEM_FRACTION\"] = \"0.95\"\n",
    "import sparse\n",
    "\n",
    "from src.optimized_vnc import *\n",
    "from src.plot_utils import *\n"
   ]
  },
  {
   "cell_type": "code",
   "execution_count": 7,
   "metadata": {},
   "outputs": [],
   "source": [
    "experiment='Stim_Neurons'\n",
    "with initialize(version_base=None, config_path=\"../configs\"):\n",
    "    cfg=compose(config_name='config.yaml', overrides= [f\"experiment={experiment}\", \"paths=glados\", \"version=debug\", f'run_id=Testing'],return_hydra_config=True,)\n",
    "    HydraConfig.instance().set_config(cfg)\n",
    "\n",
    "for k in cfg.paths.keys():\n",
    "    if (k != 'user'):\n",
    "        cfg.paths[k] = Path(cfg.paths[k])\n",
    "        cfg.paths[k].mkdir(parents=True, exist_ok=True)\n",
    "\n",
    "\n",
    "\n",
    "\n",
    "# experiment='default'\n",
    "# with initialize(version_base=None, config_path=\"../configs\"):\n",
    "#     cfg_old=compose(config_name='config.yaml', overrides= [f\"experiment={experiment}\", \"paths=glados\", \"version=debug\", f'run_id=Testing'],return_hydra_config=True,)\n",
    "#     HydraConfig.instance().set_config(cfg_old)\n",
    "\n",
    "# for k in cfg_old.paths.keys():\n",
    "#     if (k != 'user'):\n",
    "#         cfg_old.paths[k] = Path(cfg_old.paths[k])\n",
    "#         cfg_old.paths[k].mkdir(parents=True, exist_ok=True)\n"
   ]
  },
  {
   "cell_type": "code",
   "execution_count": null,
   "metadata": {},
   "outputs": [],
   "source": [
    "print(\"Loading network configuration...\")\n",
    "W_table = load_wTable(cfg.experiment.dfPath)\n",
    "n_stim_configs = len(cfg.experiment.stimNeurons)\n",
    "# Prepare parameters\n",
    "neuron_params = prepare_neuron_params(cfg, W_table)\n",
    "sim_params = prepare_sim_params(cfg, n_stim_configs, neuron_params.W.shape[0])\n",
    "simulation_type = \"baseline\"\n",
    "\n",
    "results = run_simulation_batched(\n",
    "    neuron_params, sim_params, simulation_type,\n",
    "    batch_size=None\n",
    ")\n"
   ]
  },
  {
   "cell_type": "code",
   "execution_count": null,
   "metadata": {},
   "outputs": [],
   "source": []
  },
  {
   "cell_type": "markdown",
   "metadata": {},
   "source": [
    "# Load results"
   ]
  },
  {
   "cell_type": "code",
   "execution_count": null,
   "metadata": {},
   "outputs": [],
   "source": [
    "# results = run_vnc_simulation_optimized(cfg)\n",
    "# save_path = cfg.paths.ckpt_dir  / \"bdn2.npz\"\n",
    "\n",
    "results = sparse.load_npz(cfg.paths.ckpt_dir  / \"bdn2.npz\").todense().astype(np.float32)"
   ]
  },
  {
   "cell_type": "markdown",
   "metadata": {},
   "source": [
    "# Testing Shuffle"
   ]
  },
  {
   "cell_type": "code",
   "execution_count": null,
   "metadata": {},
   "outputs": [],
   "source": [
    "params, config = load_vnc_net(cfg)\n",
    "simulator = OptimizedSimulator(params, config)\n",
    "# W, W_table = load_connectivity(cfg)"
   ]
  },
  {
   "cell_type": "code",
   "execution_count": null,
   "metadata": {},
   "outputs": [],
   "source": [
    "work_queue = simulator._create_work_queue()"
   ]
  },
  {
   "cell_type": "code",
   "execution_count": null,
   "metadata": {},
   "outputs": [],
   "source": [
    "from src.shuffle_utils import shuffle_W"
   ]
  },
  {
   "cell_type": "code",
   "execution_count": null,
   "metadata": {},
   "outputs": [],
   "source": [
    "newkey, key = jax.random.split(work_queue[0]['seed'])\n",
    "idxs = params.inh_dn_idxs\n",
    "W = params.W\n",
    "W_shuff = shuffle_W(W, key, idxs, independent=True)\n"
   ]
  },
  {
   "cell_type": "markdown",
   "metadata": {},
   "source": [
    "# stim neurons for dn screen"
   ]
  },
  {
   "cell_type": "code",
   "execution_count": null,
   "metadata": {},
   "outputs": [],
   "source": [
    "W, W_table = load_connectivity(cfg)\n",
    "# CHANGE DEFAULTS\n",
    "allExcDNs = W_table.loc[(W_table[\"class\"] == \"descending neuron\") & (W_table[\"predictedNt\"] == \"acetylcholine\")]\n",
    "stimNeurons = allExcDNs.index.to_list()\n",
    "stimNeurons = [[neuron] for neuron in stimNeurons]\n",
    "nSims = len(stimNeurons)"
   ]
  },
  {
   "cell_type": "markdown",
   "metadata": {},
   "source": [
    "# Check param dists"
   ]
  },
  {
   "cell_type": "code",
   "execution_count": null,
   "metadata": {},
   "outputs": [],
   "source": [
    "from src.Archive.vnc_old import load_vnc_net as load_vnc_net_old\n",
    "params, config = load_vnc_net(cfg)\n",
    "params_old, config_old = load_vnc_net_old(cfg_old)\n",
    "\n",
    "fig, axs = plt.subplots(2, 2, figsize=(10, 8))\n",
    "axs = axs.flatten()\n",
    "for n, (orig,new) in enumerate(zip([params_old.tau,params_old.threshold,params_old.a,params_old.fr_cap], [params.tau, params.threshold, params.a, params.fr_cap])):\n",
    "    axs[n].hist(orig.flatten(), bins=50, alpha=0.5, label='Sampled', density=True)\n",
    "    axs[n].hist(new.flatten(), bins=50, alpha=0.5, label='Original', density=True)\n",
    "    axs[n].set_title(f\"Histogram of {n}\")\n",
    "    axs[n].set_xlabel(n)\n",
    "    axs[n].set_ylabel(\"Frequency\")"
   ]
  },
  {
   "cell_type": "markdown",
   "metadata": {},
   "source": [
    "# Testing batchsizes"
   ]
  },
  {
   "cell_type": "code",
   "execution_count": null,
   "metadata": {},
   "outputs": [],
   "source": [
    "params, config = load_vnc_net(cfg)"
   ]
  },
  {
   "cell_type": "code",
   "execution_count": null,
   "metadata": {},
   "outputs": [],
   "source": [
    "batch_size = 200#2**6# cfg.experiment.batch_size\n",
    "# batch_idx = 0  # Example batch index\n",
    "work_queue = []\n",
    "ntotal = 0\n",
    "n_stim_configs = len(params.input_currents_list)\n",
    "n_param_sets = n_replicates = 12345 # len(params.tau)\n",
    "for stim_idx in range(n_stim_configs):\n",
    "    for param_idx in range(n_param_sets):\n",
    "        work_queue.append({\"stim_idx\":stim_idx, \"param_idx\":param_idx, \"total_count\": ntotal})\n",
    "        ntotal +=1\n",
    "all_results = []\n",
    "all_metadata = []\n",
    "n_batches = (len(work_queue) + batch_size - 1) // batch_size\n",
    "for batch_idx in range(n_batches):\n",
    "    start_idx = batch_idx * batch_size\n",
    "    end_idx = min((batch_idx + 1) * batch_size, len(work_queue))\n",
    "    actual_batch_size = end_idx - start_idx\n",
    "    batch_work = work_queue[start_idx:end_idx]\n",
    "\n",
    "    batch_params = {\n",
    "        'tau_batch': jnp.array([item['total_count'] for item in batch_work]),\n",
    "        'stim_batch': jnp.array([item['stim_idx'] for item in batch_work]),\n",
    "        'param_batch': jnp.array([item['param_idx'] for item in batch_work])\n",
    "    }\n",
    "\n",
    "    batch_metadata = [\n",
    "        {'param_idx': item['param_idx'], 'stim_idx': item['stim_idx'], 'total_count': item['total_count']} \n",
    "        for item in batch_work\n",
    "    ]\n",
    "    \n",
    "    batch_size = len(batch_params['tau_batch'])\n",
    "    n_devices = jax.device_count()\n",
    "    # Pad to make divisible by n_devices\n",
    "    pad_size = n_devices - (batch_size % n_devices) if batch_size % n_devices != 0 else 0\n",
    "    print(pad_size, batch_size, n_devices)\n",
    "    device_data = {}\n",
    "    for key, data in batch_params.items():\n",
    "    #     if pad_size > 0:\n",
    "    #         # Pad with the last element\n",
    "    #         if data.ndim == 1:\n",
    "    #             padding = jnp.repeat(data[-1:], pad_size, axis=0)\n",
    "    #         else:\n",
    "    #             padding = jnp.repeat(data[-1:], pad_size, axis=0)\n",
    "    #         data_padded = jnp.concatenate([data, padding])\n",
    "    #     else:\n",
    "    #         data_padded = data\n",
    "        \n",
    "        # Reshape for devices\n",
    "        device_data[key] = data.reshape(n_devices, -1, *data.shape[1:])\n",
    "    print(f\"device_data: {device_data['tau_batch'].shape}, {device_data['stim_batch'].shape}, {device_data['param_batch'].shape}\")\n",
    "\n",
    "\n",
    "    batch_results = device_data['tau_batch'][:,:,None,None]\n",
    "    batch_results_flat = batch_results.reshape(-1, *batch_results.shape[2:])\n",
    "    batch_results_trimmed = batch_results_flat[:actual_batch_size]\n",
    "    batch_results_trimmed = jax.device_put(batch_results_trimmed, jax.devices('cpu')[0])\n",
    "    batch_results_trimmed = jnp.where(\n",
    "            jnp.isinf(batch_results_trimmed) | jnp.isnan(batch_results_trimmed), \n",
    "            0, batch_results_trimmed\n",
    "        )\n",
    "    all_results.extend(batch_results_trimmed)\n",
    "    all_metadata.extend(batch_metadata)\n",
    "    print(f'batch:{batch_idx}, {batch_results_trimmed.squeeze()}')\n"
   ]
  },
  {
   "cell_type": "code",
   "execution_count": null,
   "metadata": {},
   "outputs": [],
   "source": []
  },
  {
   "cell_type": "code",
   "execution_count": null,
   "metadata": {},
   "outputs": [],
   "source": [
    "batch_size % n_devices, batch_size, n_devices\n",
    "# batch_params['tau_batch'], len(work_queue)"
   ]
  },
  {
   "cell_type": "code",
   "execution_count": null,
   "metadata": {},
   "outputs": [],
   "source": [
    "\n",
    "results_by_stim = {}\n",
    "results_by_stim_total_ind = {}\n",
    "# Initialize batch_results_trimmed containers\n",
    "for stim_idx in range(n_stim_configs):\n",
    "    results_by_stim[stim_idx] = [None] * n_param_sets\n",
    "    results_by_stim_total_ind[stim_idx] = [None] * n_param_sets\n",
    "\n",
    "# Place results in correct positions using metadata\n",
    "for batch_results_trimmed, metadata in zip(all_results, all_metadata):\n",
    "    param_idx = metadata['param_idx']\n",
    "    stim_idx = metadata['stim_idx']\n",
    "    \n",
    "    # Validate indices\n",
    "    if param_idx >= n_param_sets or stim_idx >= n_stim_configs:\n",
    "        print(f\"Warning: Invalid indices param_idx={param_idx}, stim_idx={stim_idx}\")\n",
    "        continue\n",
    "    results_by_stim_total_ind[stim_idx][param_idx] = metadata['total_count']\n",
    "    results_by_stim[stim_idx][param_idx] = batch_results_trimmed\n",
    "\n",
    "# Convert to arrays and validate completeness\n",
    "for stim_idx in results_by_stim:\n",
    "    results_list = results_by_stim[stim_idx]\n",
    "    result_inds = results_by_stim_total_ind[stim_idx]\n",
    "    if (jnp.diff(jnp.array(results_by_stim_total_ind[stim_idx])) > 1).any():\n",
    "        print(f\"Warning: Inconsistent results for stimulus {stim_idx}, indices: {result_inds}\")\n",
    "    # Check for missing results\n",
    "    missing_indices = [i for i, batch_results_trimmed in enumerate(results_list) if batch_results_trimmed is None]\n",
    "    if missing_indices:\n",
    "        print(f\"Warning: Missing results for stimulus {stim_idx} at parameter indices: {missing_indices}\")\n",
    "        # Fill missing with zeros (same shape as other results)\n",
    "        ref_shape = next(r.shape for r in results_list if r is not None)\n",
    "        for idx in missing_indices:\n",
    "            results_list[idx] = jnp.zeros(ref_shape)\n",
    "    \n",
    "    results_by_stim[stim_idx] = jnp.array(results_list)\n",
    "results2 = jnp.stack([results_by_stim[n] for n in results_by_stim.keys()])\n"
   ]
  },
  {
   "cell_type": "code",
   "execution_count": null,
   "metadata": {},
   "outputs": [],
   "source": [
    "results.shape"
   ]
  },
  {
   "cell_type": "markdown",
   "metadata": {},
   "source": [
    "# Plot Results"
   ]
  },
  {
   "cell_type": "code",
   "execution_count": null,
   "metadata": {},
   "outputs": [],
   "source": [
    "np.where(np.all(np.sum(results,axis=-1)==0,axis=-1))"
   ]
  },
  {
   "cell_type": "code",
   "execution_count": null,
   "metadata": {},
   "outputs": [],
   "source": [
    "R = results[0][21]\n",
    "\n",
    "\n",
    "wTable = pd.read_csv(\"../data/manc t1 connectome data/wTable_20231020_DNtoMN_unsorted_withModules.csv\",index_col=0)\n",
    "nonMns = wTable.loc[(wTable[\"bodyId\"]==10093) | (wTable[\"bodyId\"]==10707) | (wTable[\"bodyId\"]==13905) | (wTable[\"bodyId\"]==11751)]\n",
    "mnIdxs = wTable.loc[wTable[\"class\"]==\"motor neuron\"].index\n",
    "\n",
    "\n",
    "for i in nonMns.index:\n",
    "# for i in mnIdxs:\n",
    "    plt.plot(R[i])\n",
    "    #plt.plot(Rtsp[i])\n",
    "\n",
    "print(np.mean(R))\n"
   ]
  },
  {
   "cell_type": "markdown",
   "metadata": {},
   "source": [
    "## Testing osc score"
   ]
  },
  {
   "cell_type": "code",
   "execution_count": null,
   "metadata": {},
   "outputs": [],
   "source": [
    "results = sparse.load_npz(cfg.paths.ckpt_dir  / \"bdn2.npz\").todense().astype(np.float32)\n",
    "\n",
    "wTable = pd.read_csv(\"../data/manc t1 connectome data/wTable_20231020_DNtoMN_unsorted_withModules.csv\",index_col=0)\n",
    "nonMns = (wTable.loc[(wTable[\"bodyId\"]==10093) | (wTable[\"bodyId\"]==10707) | (wTable[\"bodyId\"]==13905) | (wTable[\"bodyId\"]==11751)]).values\n",
    "mn_idxs = wTable.loc[wTable[\"class\"]==\"motor neuron\"].index.values\n"
   ]
  },
  {
   "cell_type": "code",
   "execution_count": null,
   "metadata": {},
   "outputs": [],
   "source": [
    "from scipy import signal\n",
    "import numpy as np\n",
    "def neuron_oscillation_score_helper_old(activity,prominence):\n",
    "    activity = activity-np.min(activity)\n",
    "    activity = 2 * activity/np.max(activity) - 1\n",
    "\n",
    "    autocorr = np.correlate(activity,activity,mode=\"full\") / np.inner(activity,activity)\n",
    "    lags = signal.correlation_lags(len(activity),len(activity))\n",
    "    autocorr = autocorr[lags>0]\n",
    "    lags = lags[lags>0]\n",
    "\n",
    "    peaks, peakProperties = signal.find_peaks(autocorr,height=(None,None),prominence=prominence)\n",
    "    if len(peaks) > 0:\n",
    "        score = np.min([np.max(peakProperties[\"peak_heights\"]),np.max(peakProperties[\"prominences\"])])\n",
    "        frequency = 1 / peaks[np.argmax(peakProperties[\"prominences\"])]\n",
    "    else:\n",
    "        score = 0\n",
    "        frequency = 0\n",
    "\n",
    "    return score, frequency\n",
    "\n",
    "def neuron_oscillation_score_old(activity, returnFrequency=False,prominence=0.05):\n",
    "    rawScore, frequency = neuron_oscillation_score_helper_old(activity,prominence)\n",
    "    # normalize to sine wave of the same frequency and duration\n",
    "    if rawScore == 0:\n",
    "        score = 0\n",
    "    else:\n",
    "        refSinScore, _ = neuron_oscillation_score_helper_old(np.sin(2*np.pi*frequency*np.arange(len(activity))),prominence)\n",
    "        refCosScore, _ = neuron_oscillation_score_helper_old(np.cos(2*np.pi*frequency*np.arange(len(activity))),prominence)\n",
    "        refScore = np.max((refSinScore,refCosScore))\n",
    "        score = rawScore / refScore\n",
    "\n",
    "    if returnFrequency:\n",
    "        return score, frequency\n",
    "    else:\n",
    "        return score\n",
    "\n",
    "def sim_oscillation_score_old(R,activeMnIdxs,start=None,end=None,returnFrequency=False):\n",
    "    \"\"\"calculate oscillation score for a simulation\"\"\"\n",
    "    if start is None:\n",
    "        start = 0\n",
    "    if end is None:\n",
    "        end = -1\n",
    "\n",
    "    if returnFrequency:\n",
    "        neuronOscillationScores = []\n",
    "        frequencies = []\n",
    "\n",
    "        for j in activeMnIdxs:\n",
    "            score, freq = neuron_oscillation_score_old(R[j][start:end],returnFrequency=True)\n",
    "            neuronOscillationScores.append(score)\n",
    "            frequencies.append(freq)\n",
    "        return np.mean(neuronOscillationScores), np.nanmean(frequencies)\n",
    "        \n",
    "    else:\n",
    "        neuronOscillationScores = [neuron_oscillation_score_old(R[j][start:end]) for j in activeMnIdxs] # scores for each neuron\n",
    "        return np.mean(neuronOscillationScores) # average for the simulation\n",
    "    \n",
    "    "
   ]
  },
  {
   "cell_type": "code",
   "execution_count": null,
   "metadata": {},
   "outputs": [],
   "source": [
    "R = results[0][19]\n",
    "np_R = np.asarray(R)\n",
    "maxFrs = np.max(np_R,axis=-1)\n",
    "activeMnIdxs = mnIdxs[maxFrs[mnIdxs]>0]\n",
    "plt.plot(np_R[activeMnIdxs].T)\n",
    "plt.show()"
   ]
  },
  {
   "cell_type": "code",
   "execution_count": null,
   "metadata": {},
   "outputs": [],
   "source": []
  },
  {
   "cell_type": "code",
   "execution_count": null,
   "metadata": {},
   "outputs": [],
   "source": [
    "R = results[1][1]\n",
    "\n",
    "score, freq = sim_oscillation_score_old(R,activeMnIdxs,start=250,end=None,returnFrequency=True)\n",
    "print(f\"Score: {score}, Frequency: {freq}\")"
   ]
  },
  {
   "cell_type": "code",
   "execution_count": null,
   "metadata": {},
   "outputs": [],
   "source": [
    "from src.sim_utils import neuron_oscillation_score\n"
   ]
  },
  {
   "cell_type": "code",
   "execution_count": null,
   "metadata": {},
   "outputs": [],
   "source": [
    "start = int(cfg.sim.pulseStart/cfg.sim.dt) + 100\n",
    "R = results[0][0]\n",
    "\n",
    "max_frs = jnp.max(R, axis=-1)\n",
    "active_mn_idxs = mn_idxs[max_frs[...,mn_idxs] > 0]\n",
    "activity = R[active_mn_idxs][..., start:]  # Adjusted to match the original code's start index\n",
    "\n",
    "score, frequency = jax.vmap(neuron_oscillation_score, in_axes=(0, None))(activity, 0.05)\n",
    "print(f\"Score: {jnp.nanmean(score)}, Frequency: {jnp.nanmean(frequency)}\")"
   ]
  },
  {
   "cell_type": "markdown",
   "metadata": {},
   "source": [
    "# Testing Pruning"
   ]
  },
  {
   "cell_type": "code",
   "execution_count": 8,
   "metadata": {},
   "outputs": [],
   "source": [
    "from src.sim_utils import neuron_oscillation_score\n",
    "\n",
    "experiment='prune_test'\n",
    "with initialize(version_base=None, config_path=\"../configs\"):\n",
    "    cfg=compose(config_name='config.yaml', overrides= [f\"experiment={experiment}\", \"paths=glados\", \"version=debug\", f'run_id=Testing'],return_hydra_config=True,)\n",
    "    HydraConfig.instance().set_config(cfg)\n",
    "\n",
    "for k in cfg.paths.keys():\n",
    "    if (k != 'user'):\n",
    "        cfg.paths[k] = Path(cfg.paths[k])\n",
    "        cfg.paths[k].mkdir(parents=True, exist_ok=True)\n",
    "\n",
    "def print_inds(arr, name=''):\n",
    "    print(f\"Indices for {name}: {jnp.where(arr)[0].shape}\")\n",
    "    return jnp.where(arr)[-1]\n"
   ]
  },
  {
   "cell_type": "markdown",
   "metadata": {},
   "source": [
    "##### Temp parames testing"
   ]
  },
  {
   "cell_type": "code",
   "execution_count": null,
   "metadata": {},
   "outputs": [],
   "source": [
    "results = run_vnc_simulation_optimized(cfg)"
   ]
  },
  {
   "cell_type": "code",
   "execution_count": null,
   "metadata": {},
   "outputs": [],
   "source": [
    "def extract_nth_filtered_pytree(pytree, n, path_filter, key_list=['tau', 'threshold', 'a', 'fr_cap', 'W_mask']):\n",
    "    \"\"\"\n",
    "    path_filter: function that takes key_path tuple and returns True/False\n",
    "    \"\"\"\n",
    "    def process_leaf(key_path, leaf):\n",
    "        if path_filter(key_path, key_list):\n",
    "            return leaf[n:n+1]\n",
    "        return leaf\n",
    "\n",
    "    return jax.tree.map_with_path(process_leaf, pytree)\n",
    "\n",
    "def path_filter(key_path, key_list):\n",
    "    \"\"\"\n",
    "    Filter function that checks if the key_path contains specific keys.\n",
    "    \"\"\"\n",
    "    return key_path[0].name in key_list and key_path != []"
   ]
  },
  {
   "cell_type": "code",
   "execution_count": null,
   "metadata": {},
   "outputs": [],
   "source": [
    "temp_params = extract_nth_filtered_pytree(neuron_params, 0, path_filter)\n",
    "for att in temp_params:\n",
    "    if jnp.ndim(att) > 0:\n",
    "        print(att.shape)"
   ]
  },
  {
   "cell_type": "code",
   "execution_count": 340,
   "metadata": {},
   "outputs": [],
   "source": [
    "total_sims = 1\n",
    "batch_size = calculate_optimal_batch_size(sim_params.n_neurons, len(sim_params.t_axis))\n",
    "start_idx = i * batch_size\n",
    "end_idx = min((i + 1) * batch_size, total_sims)\n",
    "\n",
    "batch_indices = jnp.arange(start_idx, end_idx)\n",
    "\n",
    "temp_params = extract_nth_filtered_pytree(neuron_params, 0, path_filter)\n",
    "\n",
    "batch_results = process_batch_baseline(temp_params, sim_params, jnp.zeros(1,dtype=jnp.int32)).squeeze() # Single simulation result"
   ]
  },
  {
   "cell_type": "code",
   "execution_count": 7,
   "metadata": {},
   "outputs": [],
   "source": [
    "W_table = load_wTable(cfg.experiment.dfPath)\n",
    "n_stim_configs = len(cfg.experiment.stimNeurons)\n",
    "\n",
    "# Prepare parameters\n",
    "neuron_params = prepare_neuron_params(cfg, W_table)\n",
    "sim_params = prepare_sim_params(cfg, n_stim_configs, neuron_params.W.shape[0])\n",
    "\n",
    "# results = sparse.load_npz(cfg.paths.ckpt_dir  / \"bdn2.npz\").todense().astype(np.float32)\n",
    "\n",
    "W_table = pd.read_csv(\"../data/manc t1 connectome data/wTable_20231020_DNtoMN_unsorted_withModules.csv\",index_col=0)\n",
    "nonMns = (W_table.loc[(W_table[\"bodyId\"]==10093) | (W_table[\"bodyId\"]==10707) | (W_table[\"bodyId\"]==13905) | (W_table[\"bodyId\"]==11751)]).values\n",
    "mnIdxs = W_table.loc[W_table[\"class\"]==\"motor neuron\"].index.values\n",
    "\n",
    "# n_sims = results.shape[0]"
   ]
  },
  {
   "cell_type": "code",
   "execution_count": 248,
   "metadata": {},
   "outputs": [
    {
     "data": {
      "text/plain": [
       "Array([0.00022512, 0.00022512, 0.00022512, ..., 0.00022512, 0.00022512,\n",
       "       0.00022512], dtype=float32)"
      ]
     },
     "execution_count": 248,
     "metadata": {},
     "output_type": "execute_result"
    }
   ],
   "source": [
    "all_neurons = np.arange(sim_params.n_neurons)\n",
    "mn_idxs = jnp.asarray(W_table.loc[W_table[\"class\"]==\"motor neuron\"].index.values)\n",
    "in_idxs = jnp.setdiff1d(all_neurons, mn_idxs)\n",
    "removed_stim_neurons = jnp.full([n_sims, neuron_params.removed_neurons.shape[-1]], -1, dtype=jnp.int32)\n",
    "prev_neurons_put_back = jnp.full([n_sims, neuron_params.removed_neurons.shape[-1]], -1, dtype=jnp.int32)\n",
    "\n",
    "\n",
    "######\n",
    "\n",
    "\"\"\"JAX-compatible version of run_pruning_from_params\"\"\"\n",
    "max_neurons = 4561  # Maximum neurons to put back in a single iteration\n",
    "n_sims = sim_params.n_param_sets * sim_params.n_stim_configs\n",
    "\n",
    "# Initialize state arrays\n",
    "level = jnp.zeros(n_sims, dtype=jnp.int32)\n",
    "last_removed = jnp.full([n_sims, neuron_params.removed_neurons.shape[-1]], -1, dtype=jnp.int32)  # Use -1 for None\n",
    "neurons_put_back = jnp.full([n_sims, neuron_params.removed_neurons.shape[-1]], -1, dtype=jnp.int32)\n",
    "min_circuit = jnp.full(n_sims, False)\n",
    "\n",
    "# Initialize probabilities\n",
    "p_arrays = []\n",
    "for i in range(n_sims):\n",
    "    exclude_mask = jnp.isin(in_idxs, jnp.concatenate([removed_stim_neurons[i]]))\n",
    "    p_i = removal_probability(jnp.ones_like(in_idxs), exclude_mask)\n",
    "    p_arrays.append(p_i)\n",
    "\n",
    "p_arrays[0]"
   ]
  },
  {
   "cell_type": "code",
   "execution_count": 249,
   "metadata": {},
   "outputs": [
    {
     "name": "stdout",
     "output_type": "stream",
     "text": [
      "Iteration 0\n"
     ]
    },
    {
     "data": {
      "text/plain": [
       "(Array([-1, -1, -1, ..., -1, -1, -1], dtype=int32),\n",
       " Array([-1, -1, -1, ..., -1, -1, -1], dtype=int32),\n",
       " Array([-1, -1, -1, ..., -1, -1, -1], dtype=int32),\n",
       " Array([0.00022512, 0.00022512, 0.00022512, ..., 0.00022512, 0.00022512,\n",
       "        0.00022512], dtype=float32),\n",
       " Array(0, dtype=int32),\n",
       " Array([-1, -1, -1, ..., -1, -1, -1], dtype=int32),\n",
       " Array([ 726863002, 2265770120], dtype=uint32))"
      ]
     },
     "execution_count": 249,
     "metadata": {},
     "output_type": "execute_result"
    }
   ],
   "source": [
    "oscillation_threshold=0.1\n",
    "iter_start = 0  # Starting iteration\n",
    "# Create master random key\n",
    "# master_key = random.PRNGKey(neuron_params.seeds, 42)\n",
    "\n",
    "# Main pruning loop\n",
    "iteration = iter_start\n",
    "max_iterations = 1000  # Safety limit\n",
    "\n",
    "# while not jnp.all(min_circuit) and iteration < max_iterations:\n",
    "print(f\"Iteration {iteration}\")\n",
    "\n",
    "# Resample seeds for non-converged simulations\n",
    "resample_idxs = jnp.where(~min_circuit)[0]\n",
    "\n",
    "# Run simulation (this would call your simulation function)\n",
    "# For now, creating dummy data - replace with actual simulation results\n",
    "Rs = [jnp.ones((len(in_idxs) + len(mn_idxs), 1000)) for _ in range(n_sims)]\n",
    "# Update each simulation state\n",
    "# for i in range(n_sims):\n",
    "i = 0  # Example index, replace with actual loop\n",
    "# if min_circuit[i]:\n",
    "#     continue\n",
    "    \n",
    "state = (\n",
    "    neuron_params.removed_neurons,  # array for removed neurons\n",
    "    neurons_put_back[i],\n",
    "    last_removed[i],\n",
    "    p_arrays[i],\n",
    "    level[i],\n",
    "    removed_stim_neurons[i],\n",
    "    neuron_params.seeds[i],\n",
    ")\n",
    "state\n",
    "# new_state = update_single_sim_state(\n",
    "#     state, Rs[i], mn_idxs, in_idxs, oscillation_threshold\n",
    "# )"
   ]
  },
  {
   "cell_type": "code",
   "execution_count": null,
   "metadata": {},
   "outputs": [],
   "source": []
  },
  {
   "cell_type": "code",
   "execution_count": 250,
   "metadata": {},
   "outputs": [],
   "source": [
    "\n",
    "@jax.jit\n",
    "def compute_oscillation_score(activity, active_mask, prominence=0.05):\n",
    "    # Compute scores for all neurons (will be NaN for inactive ones)\n",
    "    scores = jax.vmap(\n",
    "        lambda activity_row, mask: jax.lax.cond(\n",
    "            mask,\n",
    "            lambda x: neuron_oscillation_score(x, prominence=prominence),\n",
    "            lambda x: (jnp.nan, jnp.nan),\n",
    "            activity_row\n",
    "        ),\n",
    "        in_axes=(0, 0)\n",
    "    )(activity, active_mask)\n",
    "    score_values, frequencies = scores\n",
    "    # Compute mean of valid scores\n",
    "    oscillation_score = jnp.nanmean(score_values)\n",
    "    frequencies = jnp.nanmean(frequencies)\n",
    "    return oscillation_score, frequencies"
   ]
  },
  {
   "cell_type": "code",
   "execution_count": null,
   "metadata": {},
   "outputs": [],
   "source": [
    "max_frs = jnp.max(R, axis=-1)\n",
    "mn_mask = jnp.isin(jnp.arange(R.shape[0]), mn_idxs)\n",
    "active_mask = ((max_frs>0) & mn_mask)  # Combine max_frs with mn_mask to get active neurons\n",
    "\n",
    "oscillation_score, frequencies = compute_oscillation_score(R, active_mask, prominence=0.05)\n"
   ]
  },
  {
   "cell_type": "code",
   "execution_count": null,
   "metadata": {},
   "outputs": [],
   "source": [
    "start = int(cfg.sim.pulseStart/cfg.sim.dt) + 100\n",
    "\n",
    "max_frs = jnp.max(R, axis=-1)\n",
    "active_mn_idxs = mn_idxs[max_frs[...,mn_idxs] > 0]\n",
    "activity = R[active_mn_idxs][..., start:]  # Adjusted to match the original code's start index\n",
    "\n",
    "score, frequency = jax.vmap(neuron_oscillation_score, in_axes=(0, None))(activity, 0.05)\n",
    "print(f\"Score: {jnp.nanmean(score)}, Frequency: {jnp.nanmean(frequency)}\")"
   ]
  },
  {
   "cell_type": "code",
   "execution_count": null,
   "metadata": {},
   "outputs": [],
   "source": []
  },
  {
   "cell_type": "code",
   "execution_count": 112,
   "metadata": {},
   "outputs": [],
   "source": [
    "new_p = removal_probability(max_frs[in_idxs], exclude_mask)"
   ]
  },
  {
   "cell_type": "code",
   "execution_count": 256,
   "metadata": {},
   "outputs": [],
   "source": [
    "new_remove_neurons = jnp.setdiff1d(remove_neurons, jnp.array([last_removed]), size=len(remove_neurons), fill_value=-1)"
   ]
  },
  {
   "cell_type": "code",
   "execution_count": 270,
   "metadata": {},
   "outputs": [],
   "source": [
    "(remove_neurons, neurons_put_back, last_removed, p, level, removed_stim_neurons, key) = state\n",
    "\n",
    "@jax.jit\n",
    "def get_pos_val_indices(arr, max_indices=None):\n",
    "    if max_indices is None:\n",
    "        max_indices = arr.shape[0]  # Use full array size as max\n",
    "    \n",
    "    indices = jnp.where(arr >= 0, size=max_indices, fill_value=-1)[0]\n",
    "    return indices\n",
    "\n",
    "@jax.jit\n",
    "def continue_branch(key):\n",
    "    # Get max firing rates for all neurons\n",
    "    max_frs = jnp.max(R, axis=1)\n",
    "    \n",
    "    # Remove silent interneurons\n",
    "    silent_mask = (max_frs == 0)\n",
    "    silent_in_mask = silent_mask[in_idxs]\n",
    "    silent_ins = jnp.where(silent_in_mask, in_idxs, -1)\n",
    "    # silent_ins = silent_ins[silent_ins >= 0]  # Filter out -1 values\n",
    "\n",
    "    new_remove_neurons = get_pos_val_indices(silent_ins)\n",
    "\n",
    "    # Update probabilities based on firing rates\n",
    "    exclude_mask = jnp.isin(in_idxs, neurons_put_back) | jnp.isin(in_idxs, removed_stim_neurons)\n",
    "    new_p = removal_probability(max_frs[in_idxs], exclude_mask)\n",
    "    \n",
    "    # Check if we can continue\n",
    "    p_sum = jnp.sum(new_p)\n",
    "    converged = p_sum <= 1e-10\n",
    "    \n",
    "    key, subkey = random.split(key)\n",
    "    neuron_idx = jax_choice(subkey, jnp.arange(len(in_idxs)), new_p)\n",
    "    new_neuron_to_remove = neurons_put_back.at[in_idxs[neuron_idx]].set(1)\n",
    "\n",
    "    new_remove_neurons = jnp.where((new_remove_neurons>0 )| (new_neuron_to_remove>0), 1, -1)\n",
    "\n",
    "    return (new_remove_neurons, neurons_put_back, new_neuron_to_remove,\n",
    "            new_p, level, removed_stim_neurons, key, converged)\n",
    "    \n",
    "@jax.jit\n",
    "def reset_branch(key):\n",
    "    # Put back the last removed neuron\n",
    "    new_remove_neurons = jnp.setdiff1d(remove_neurons, jnp.array([last_removed]), size=len(remove_neurons), fill_value=-1)\n",
    "    # Combine neurons_put_back and last_removed into a single mask\n",
    "    new_neurons_put_back = jnp.where((neurons_put_back >= 0) & (last_removed >= 0), 1, -1)\n",
    "\n",
    "\n",
    "    # Update probabilities to exclude put-back neurons\n",
    "    exclude_mask = jnp.isin(in_idxs, new_neurons_put_back) | jnp.isin(in_idxs, removed_stim_neurons)\n",
    "    new_p = removal_probability(jnp.ones(len(in_idxs)), exclude_mask)\n",
    "    \n",
    "    # Check if we can continue\n",
    "    p_sum = jnp.sum(new_p)\n",
    "    converged = p_sum <= 1e-10\n",
    "    \n",
    "    key, subkey = random.split(key)\n",
    "    neuron_idx = jax_choice(subkey, jnp.arange(len(in_idxs)), new_p)\n",
    "    new_neuron_to_remove = neurons_put_back.at[in_idxs[neuron_idx]].set(1)\n",
    "    \n",
    "    new_remove_neurons = jnp.where((new_remove_neurons>0 )| (new_neuron_to_remove>0), 1, -1)\n",
    "    \n",
    "    return (new_remove_neurons, new_neurons_put_back, new_neuron_to_remove, \n",
    "            new_p, level, removed_stim_neurons, key, converged)"
   ]
  },
  {
   "cell_type": "code",
   "execution_count": 51,
   "metadata": {},
   "outputs": [
    {
     "name": "stdout",
     "output_type": "stream",
     "text": [
      "Key Path: .W_mask, Leaf: (1, 4561, 4561)\n",
      "Key Path: .in_idxs, Leaf: (4442,)\n",
      "Key Path: .level, Leaf: (1,)\n",
      "Key Path: .removed_neurons, Leaf: (1, 4442)\n",
      "Key Path: .removed_stim_neurons, Leaf: (1, 4442)\n",
      "Key Path: .neurons_put_back, Leaf: (1, 4442)\n",
      "Key Path: .last_removed, Leaf: (1, 4442)\n",
      "Key Path: .remove_p, Leaf: (1, 4442)\n",
      "Key Path: .min_circuit, Leaf: (1,)\n",
      "Key Path: .keys, Leaf: (1, 2)\n"
     ]
    },
    {
     "data": {
      "text/plain": [
       "Pruning_state(W_mask=None, in_idxs=None, level=None, removed_neurons=None, removed_stim_neurons=None, neurons_put_back=None, last_removed=None, remove_p=None, min_circuit=None, keys=None)"
      ]
     },
     "execution_count": 51,
     "metadata": {},
     "output_type": "execute_result"
    }
   ],
   "source": [
    "def print_pytree(pytree):\n",
    "    \"\"\"\n",
    "    path_filter: function that takes key_path tuple and returns True/False\n",
    "    \"\"\"\n",
    "    def process_leaf(key_path, leaf):\n",
    "       print(f\"Key Path: {key_path[0]}, Leaf: {leaf.shape}\")\n",
    "\n",
    "    return jax.tree.map_with_path(process_leaf, pytree)\n",
    "print_pytree(state)"
   ]
  },
  {
   "cell_type": "code",
   "execution_count": 286,
   "metadata": {},
   "outputs": [
    {
     "name": "stdout",
     "output_type": "stream",
     "text": [
      "Next state:\n",
      "(Array([   1,    2,    3, ..., 4241, 4242, 4243], dtype=int32),)\n",
      "(Array([], shape=(0,), dtype=int32),)\n",
      "(Array([2324], dtype=int32),)\n",
      "(Array([   0,    1,    2, ..., 4439, 4440, 4441], dtype=int32),)\n",
      "(Array([], shape=(0,), dtype=int32),)\n",
      "(Array([0, 1], dtype=int32),)\n"
     ]
    }
   ],
   "source": [
    "new_state = update_single_sim_state(state, R, mn_idxs, in_idxs, oscillation_threshold)\n",
    "print('Next state:')\n",
    "for att in new_state:\n",
    "    if jnp.ndim(att) > 0:\n",
    "        print(jnp.where(att>0))"
   ]
  },
  {
   "cell_type": "code",
   "execution_count": 271,
   "metadata": {},
   "outputs": [
    {
     "data": {
      "text/plain": [
       "((Array([-1,  1,  1, ..., -1, -1, -1], dtype=int32, weak_type=True),\n",
       "  Array([-1, -1, -1, ..., -1, -1, -1], dtype=int32),\n",
       "  Array([-1, -1, -1, ..., -1, -1, -1], dtype=int32),\n",
       "  Array([0.00018046, 0.00018046, 0.00018046, ..., 0.00018046, 0.00018046,\n",
       "         0.00018046], dtype=float32),\n",
       "  Array(0, dtype=int32),\n",
       "  Array([-1, -1, -1, ..., -1, -1, -1], dtype=int32),\n",
       "  Array([ 906402197, 4248685058], dtype=uint32),\n",
       "  Array(False, dtype=bool)),\n",
       " (Array([-1, -1, -1, ..., -1, -1, -1], dtype=int32, weak_type=True),\n",
       "  Array([-1, -1, -1, ..., -1, -1, -1], dtype=int32, weak_type=True),\n",
       "  Array([-1, -1, -1, ..., -1, -1, -1], dtype=int32),\n",
       "  Array([0.00022512, 0.00022512, 0.00022512, ..., 0.00022512, 0.00022512,\n",
       "         0.00022512], dtype=float32),\n",
       "  Array(0, dtype=int32),\n",
       "  Array([-1, -1, -1, ..., -1, -1, -1], dtype=int32),\n",
       "  Array([ 906402197, 4248685058], dtype=uint32),\n",
       "  Array(False, dtype=bool)))"
      ]
     },
     "execution_count": 271,
     "metadata": {},
     "output_type": "execute_result"
    }
   ],
   "source": [
    "# (remove_neurons, neurons_put_back, last_removed, p, level, removed_stim_neurons, key)\n",
    "next_state = continue_branch(key)\n",
    "reset_state = reset_branch(key)\n",
    "next_state, reset_state"
   ]
  },
  {
   "cell_type": "code",
   "execution_count": 272,
   "metadata": {},
   "outputs": [],
   "source": [
    "(new_remove_neurons, new_neurons_put_back, new_neuron_to_remove,new_p, new_level, new_removed_stim_neurons, new_key, cnew_onverged) = next_state\n"
   ]
  },
  {
   "cell_type": "code",
   "execution_count": null,
   "metadata": {},
   "outputs": [],
   "source": [
    "(reset_remove_neurons, reset_neurons_put_back, reset_neuron_to_remove, reset_p, reset_level, reset_removed_stim_neurons, reset_key, reset_converged) = reset_state"
   ]
  },
  {
   "cell_type": "code",
   "execution_count": 280,
   "metadata": {},
   "outputs": [
    {
     "name": "stdout",
     "output_type": "stream",
     "text": [
      "Next state:\n",
      "(Array([   1,    2,    3, ..., 4241, 4242, 4243], dtype=int32),)\n",
      "(Array([], shape=(0,), dtype=int32),)\n",
      "(Array([2324], dtype=int32),)\n",
      "(Array([   0,    1,    2, ..., 4439, 4440, 4441], dtype=int32),)\n",
      "(Array([], shape=(0,), dtype=int32),)\n",
      "(Array([0, 1], dtype=int32),)\n",
      "Reset state:\n",
      "(Array([2324], dtype=int32),)\n",
      "(Array([], shape=(0,), dtype=int32),)\n",
      "(Array([2324], dtype=int32),)\n",
      "(Array([   0,    1,    2, ..., 4439, 4440, 4441], dtype=int32),)\n",
      "(Array([], shape=(0,), dtype=int32),)\n",
      "(Array([0, 1], dtype=int32),)\n"
     ]
    }
   ],
   "source": [
    "print('Next state:')\n",
    "for att in next_state:\n",
    "    if jnp.ndim(att) > 0:\n",
    "        print(jnp.where(att>0))\n",
    "print('Reset state:')\n",
    "for att in reset_state:\n",
    "    if jnp.ndim(att) > 0:\n",
    "        print(jnp.where(att>0))"
   ]
  },
  {
   "cell_type": "code",
   "execution_count": 22,
   "metadata": {},
   "outputs": [
    {
     "name": "stdout",
     "output_type": "stream",
     "text": [
      "Running 1 simulations with batch size 10\n",
      "Batch 1/1 completed\n"
     ]
    }
   ],
   "source": [
    "simulation_type = \"baseline\"\n",
    "Rs = run_simulation_batched(\n",
    "    neuron_params, sim_params, simulation_type,\n",
    "    batch_size=getattr(cfg.experiment, \"batch_size\", None)\n",
    ")"
   ]
  },
  {
   "cell_type": "code",
   "execution_count": null,
   "metadata": {},
   "outputs": [
    {
     "data": {
      "text/plain": [
       "(1, 1, 4561, 2000)"
      ]
     },
     "execution_count": 23,
     "metadata": {},
     "output_type": "execute_result"
    }
   ],
   "source": [
    "# Get active MN activity using JAX-compatible approach\n",
    "max_frs = jnp.max(R, axis=-1)\n",
    "mn_mask = jnp.isin(jnp.arange(R.shape[0]), mn_idxs)\n",
    "active_mask = ((max_frs>0) & mn_mask)  # Combine max_frs with mn_mask to get active neurons\n",
    "\n",
    "oscillation_score, _ = compute_oscillation_score(R[..., start:], active_mask, prominence=0.05)"
   ]
  },
  {
   "cell_type": "code",
   "execution_count": 276,
   "metadata": {},
   "outputs": [
    {
     "data": {
      "text/plain": [
       "((Array([   1,    2,    3, ..., 4241, 4242, 4243], dtype=int32),),\n",
       " (Array([], shape=(0,), dtype=int32),),\n",
       " (Array([2324], dtype=int32),),\n",
       " (Array([], shape=(0,), dtype=int32),))"
      ]
     },
     "execution_count": 276,
     "metadata": {},
     "output_type": "execute_result"
    }
   ],
   "source": [
    "oscillation_threshold = 0.1\n",
    "# Load data (this part stays on CPU)\n",
    "w_table = load_wTable(cfg.experiment.dfPath)\n",
    "n_stim_configs = len(cfg.experiment.stimNeurons)\n",
    "\n",
    "## Initialize parameters\n",
    "neuron_params = prepare_neuron_params(cfg, w_table)\n",
    "sim_params = prepare_sim_params(cfg, n_stim_configs, neuron_params.W.shape[0])\n",
    "all_neurons = w_table.index.to_numpy()\n",
    "\n",
    "\n",
    "# Initialize state\n",
    "n_sims = sim_params.n_param_sets * sim_params.n_stim_configs\n",
    "mn_idxs = jnp.asarray(w_table.loc[w_table[\"class\"]==\"motor neuron\"].index.values)\n",
    "in_idxs = jnp.setdiff1d(all_neurons, mn_idxs)\n",
    "removed_stim_neurons = jnp.full([n_sims, neuron_params.removed_neurons.shape[-1]], -1, dtype=jnp.int32)\n",
    "prev_neurons_put_back = jnp.full([n_sims, neuron_params.removed_neurons.shape[-1]], -1, dtype=jnp.int32)\n"
   ]
  },
  {
   "cell_type": "markdown",
   "metadata": {},
   "source": [
    "## full pipeline testing"
   ]
  },
  {
   "cell_type": "code",
   "execution_count": 9,
   "metadata": {},
   "outputs": [],
   "source": [
    "from src.prune_net import *"
   ]
  },
  {
   "cell_type": "code",
   "execution_count": 10,
   "metadata": {},
   "outputs": [
    {
     "name": "stdout",
     "output_type": "stream",
     "text": [
      "Running 2 simulations with batch size 10\n"
     ]
    }
   ],
   "source": [
    "oscillation_threshold = 0.2\n",
    "# Load data (this part stays on CPU)\n",
    "w_table = load_wTable(cfg.experiment.dfPath)\n",
    "n_stim_configs = len(cfg.experiment.stimNeurons)\n",
    "## Initialize parameters\n",
    "neuron_params = prepare_neuron_params(cfg, w_table)\n",
    "sim_params = prepare_sim_params(cfg, n_stim_configs, neuron_params.W.shape[0])\n",
    "all_neurons = w_table.index.to_numpy()\n",
    "n_sims = sim_params.n_param_sets * sim_params.n_stim_configs\n",
    "mn_idxs = jnp.asarray(w_table.loc[w_table[\"class\"]==\"motor neuron\"].index.values)\n",
    "in_idxs = jnp.setdiff1d(all_neurons, mn_idxs)\n",
    "clip_start = int(cfg.sim.pulseStart / cfg.sim.dt) + 100\n",
    "\n",
    "total_sims = sim_params.n_stim_configs * sim_params.n_param_sets\n",
    "batch_size = getattr(cfg.experiment, \"batch_size\", None)\n",
    "if batch_size is None:\n",
    "    batch_size = calculate_optimal_batch_size(\n",
    "        sim_params.n_neurons, len(sim_params.t_axis)\n",
    "    )\n",
    "    \n",
    "batch_func = process_batch_prune\n",
    "# Create parallel version for multiple devices\n",
    "if jax.device_count() > 1:\n",
    "    batch_func = pmap(batch_func, axis_name=\"device\", in_axes=(None, None, 0))\n",
    "    batch_size = (batch_size // jax.device_count()) * jax.device_count()\n",
    "\n",
    "print(f\"Running {total_sims} simulations with batch size {batch_size}\")\n",
    "\n",
    "# Process in batches\n",
    "all_results = []\n",
    "n_batches = (total_sims + batch_size - 1) // batch_size\n",
    "\n",
    "# for i in range(n_batches):\n",
    "i = 0 \n",
    "start_idx = i * batch_size\n",
    "end_idx = min((i + 1) * batch_size, total_sims)\n",
    "\n",
    "batch_indices = jnp.arange(start_idx, end_idx)\n",
    "\n",
    "# Pad if necessary for pmap\n",
    "if jax.device_count() > 1 and len(batch_indices) < batch_size:\n",
    "    pad_size = batch_size - len(batch_indices)\n",
    "    batch_indices = jnp.concatenate([\n",
    "        batch_indices, \n",
    "        jnp.repeat(batch_indices[-1], pad_size)\n",
    "    ])\n"
   ]
  },
  {
   "cell_type": "code",
   "execution_count": null,
   "metadata": {},
   "outputs": [
    {
     "data": {
      "text/plain": [
       "NeuronParams(W=Array([[ 0., 24.,  0., ...,  0.,  0.,  0.],\n",
       "       [25.,  0.,  0., ...,  0.,  0.,  0.],\n",
       "       [ 0.,  0.,  0., ...,  0.,  0.,  0.],\n",
       "       ...,\n",
       "       [ 0.,  0.,  0., ...,  0.,  0.,  0.],\n",
       "       [ 0.,  0.,  0., ...,  0.,  0.,  0.],\n",
       "       [ 0.,  0.,  0., ...,  0.,  0.,  0.]], dtype=float32), W_mask=Array([[[1., 1., 1., ..., 1., 1., 1.],\n",
       "        [1., 1., 1., ..., 1., 1., 1.],\n",
       "        [1., 1., 1., ..., 1., 1., 1.],\n",
       "        ...,\n",
       "        [1., 1., 1., ..., 1., 1., 1.],\n",
       "        [1., 1., 1., ..., 1., 1., 1.],\n",
       "        [1., 1., 1., ..., 1., 1., 1.]],\n",
       "\n",
       "       [[1., 1., 1., ..., 1., 1., 1.],\n",
       "        [1., 1., 1., ..., 1., 1., 1.],\n",
       "        [1., 1., 1., ..., 1., 1., 1.],\n",
       "        ...,\n",
       "        [1., 1., 1., ..., 1., 1., 1.],\n",
       "        [1., 1., 1., ..., 1., 1., 1.],\n",
       "        [1., 1., 1., ..., 1., 1., 1.]]], dtype=float32), tau=Array([[0.02106387, 0.01855396, 0.02181451, ..., 0.01752623, 0.01848506,\n",
       "        0.01851873],\n",
       "       [0.01703173, 0.0196871 , 0.02131761, ..., 0.01660451, 0.01891685,\n",
       "        0.01692771]], dtype=float32), a=Array([[0.01682463, 0.01716002, 0.0474219 , ..., 5.2740583 , 6.5181847 ,\n",
       "        4.8718576 ],\n",
       "       [0.01583791, 0.01917688, 0.04763378, ..., 5.3492045 , 5.746728  ,\n",
       "        4.8419857 ]], dtype=float32), threshold=Array([[439.9588   , 415.58344  , 153.85814  , ...,   1.4156765,\n",
       "          1.3217356,   1.7205839],\n",
       "       [307.23782  , 492.46225  , 141.5486   , ...,   1.3989283,\n",
       "          1.1028714,   1.4081788]], dtype=float32), fr_cap=Array([[189.87344, 193.00943, 193.98288, ..., 182.36368, 182.64941,\n",
       "        200.22768],\n",
       "       [195.63538, 212.88489, 201.91243, ..., 205.11554, 197.89786,\n",
       "        197.53511]], dtype=float32), input_currents=Array([[0., 0., 0., ..., 0., 0., 0.]], dtype=float32), seeds=Array([[ 726863002, 2265770120],\n",
       "       [2405779864, 3771585849]], dtype=uint32), exc_dn_idxs=Array([   0,    1,    3,    7,   20,   31,   37,   41,   43,   46,   48,\n",
       "         49,   51,   54,   58,   89,   95,   99,  104,  106,  115,  118,\n",
       "        123,  126,  132,  170,  173,  186,  191,  202,  211,  213,  224,\n",
       "        248,  250,  253,  254,  256,  258,  262,  266,  271,  275,  281,\n",
       "        283,  284,  288,  292,  296,  313,  316,  324,  326,  346,  351,\n",
       "        355,  361,  368,  369,  374,  385,  388,  398,  406,  407,  408,\n",
       "        420,  421,  426,  428,  430,  435,  438,  443,  447,  449,  452,\n",
       "        464,  467,  469,  470,  474,  477,  479,  480,  481,  487,  494,\n",
       "        496,  505,  513,  518,  520,  521,  531,  545,  547,  554,  555,\n",
       "        557,  561,  568,  570,  577,  588,  603,  613,  622,  635,  643,\n",
       "        653,  661,  662,  664,  677,  678,  680,  681,  684,  689,  695,\n",
       "        704,  724,  725,  731,  737,  738,  751,  753,  755,  761,  762,\n",
       "        766,  767,  772,  776,  788,  796,  802,  806,  814,  846,  849,\n",
       "        858,  865,  873,  882,  883,  888,  889,  893,  894,  901,  907,\n",
       "        909,  918,  921,  924,  928,  933,  934,  938,  941,  950,  953,\n",
       "        954,  958,  960,  969,  970,  971,  975,  993,  996,  999, 1002,\n",
       "       1005, 1006, 1009, 1013, 1016, 1017, 1022, 1028, 1030, 1031, 1034,\n",
       "       1039, 1041, 1048, 1050, 1051, 1059, 1066, 1068, 1069, 1070, 1074,\n",
       "       1078, 1082, 1085, 1090, 1092, 1101, 1113, 1117, 1120, 1131, 1137,\n",
       "       1143, 1145, 1148, 1152, 1155, 1162, 1163, 1188, 1194, 1197, 1201,\n",
       "       1204, 1208, 1215, 1237, 1241, 1243, 1263, 1267, 1269, 1271, 1277,\n",
       "       1279, 1292, 1297, 1298, 1318, 1324, 1327, 1334, 1337, 1338, 1341,\n",
       "       1346, 1355, 1365, 1369, 1372, 1376, 1380, 1384, 1387, 1394, 1395,\n",
       "       1400, 1403, 1406, 1411, 1413, 1421, 1425, 1429, 1432, 1433, 1434,\n",
       "       1435, 1437, 1448, 1452, 1460, 1462, 1475, 1476, 1480, 1481, 1495,\n",
       "       1496, 1502, 1510, 1512, 1513, 1527, 1528, 1533, 1535, 1537, 1542,\n",
       "       1553, 1555, 1570, 1571, 1582, 1583, 1584, 1586, 1587, 1590, 1602,\n",
       "       1606, 1625, 1629, 1648, 1650, 1658, 1661, 1666, 1677, 1680, 1699,\n",
       "       1701, 1705, 1710, 1712, 1713, 1718, 1726, 1737, 1741, 1745, 1749,\n",
       "       1757, 1764, 1767, 1774, 1778, 1780, 1800, 1808, 1817, 1824, 1831,\n",
       "       1841, 1847, 1849, 1851, 1856, 1865, 1871, 1872, 1882, 1890, 1894,\n",
       "       1898, 1902, 1911, 1922, 1925, 1930, 1937, 1949, 1951, 1967, 1975,\n",
       "       1984, 1991, 1995, 1996, 1999, 2003, 2005, 2014, 2016, 2024, 2029,\n",
       "       2034, 2038, 2043, 2048, 2050, 2052, 2062, 2084, 2090, 2095, 2112,\n",
       "       2115, 2118, 2119, 2125, 2131, 2133, 2139, 2147, 2156, 2158, 2163,\n",
       "       2164, 2179, 2191, 2192, 2195, 2205, 2207, 2219, 2231, 2235, 2242,\n",
       "       2243, 2259, 2288, 2297, 2302, 2319, 2322, 2323, 2327, 2333, 2337,\n",
       "       2350, 2351, 2360, 2390, 2398, 2399, 2406, 2415, 2416, 2420, 2442,\n",
       "       2446, 2456, 2460, 2462, 2471, 2472, 2481, 2487, 2490, 2495, 2496,\n",
       "       2509, 2514, 2517, 2530, 2531, 2534, 2538, 2542, 2544, 2548, 2550,\n",
       "       2557, 2584, 2592, 2593, 2606, 2616, 2630, 2643, 2645, 2650, 2664,\n",
       "       2675, 2685, 2692, 2694, 2695, 2696, 2699, 2704, 2713, 2729, 2738,\n",
       "       2751, 2765, 2766, 2806, 2818, 2841, 2845, 2851, 2857, 2858, 2861,\n",
       "       2863, 2868, 2871, 2876, 2890, 2891, 2895, 2897, 2903, 2904, 2905,\n",
       "       2917, 2921, 2925, 2929, 2931, 2932, 2938, 2946, 2952, 2953, 2954,\n",
       "       2955, 2959, 2960, 2975, 2976, 2995, 2999, 3000, 3004, 3005, 3006,\n",
       "       3013, 3014, 3017, 3030, 3032, 3039, 3045, 3049, 3050, 3052, 3058,\n",
       "       3067, 3075, 3076, 3082, 3085, 3087, 3089, 3094, 3100, 3106, 3107,\n",
       "       3110, 3113, 3114, 3115, 3123, 3124, 3128, 3130, 3136, 3137, 3141,\n",
       "       3142, 3146, 3149, 3153, 3154, 3160, 3162, 3164, 3168, 3172, 3173,\n",
       "       3179, 3185, 3186, 3188, 3189, 3192, 3193, 3198, 3202, 3205, 3209,\n",
       "       3210, 3212, 3214, 3216, 3217, 3219, 3227, 3229, 3231, 3232, 3234,\n",
       "       3241, 3244, 3246, 3247, 3251, 3259, 3260, 3262, 3263, 3269, 3276,\n",
       "       3279, 3280, 3281, 3282, 3285, 3289, 3290, 3291, 3292, 3294, 3296,\n",
       "       3299, 3300, 3301, 3303, 3305, 3308, 3315, 3317, 3318, 3319, 3320,\n",
       "       3322, 3323, 3329, 3330, 3334, 3338, 3339, 3340, 3341, 3343, 3345,\n",
       "       3346, 3347, 3349, 3351, 3352, 3354, 3359, 3360, 3369, 3370, 3371,\n",
       "       3375, 3377, 3379, 3382, 3385, 3389, 3393, 3394, 3402, 3403, 3405,\n",
       "       3410, 3413, 3414, 3420, 3421, 3422, 3429, 3431, 3432, 3434, 3436,\n",
       "       3438, 3441, 3442, 3445, 3446, 3448, 3451, 3457, 3463, 3468, 3470,\n",
       "       3474, 3476, 3479, 3480, 3481, 3482, 3483, 3486, 3487, 3489, 3497,\n",
       "       3503, 3504, 3505, 3511, 3515, 3516, 3518, 3519, 3520, 3523, 3524,\n",
       "       3525, 3527, 3530, 3532, 3536, 3537, 3541, 3543, 3544, 3546, 3548,\n",
       "       3550, 3551, 3553, 3556, 3557, 3559, 3560, 3561, 3564, 3565, 3569,\n",
       "       3570, 3573, 3575, 3578, 3579, 3583, 3584, 3585, 3587, 3588, 3589,\n",
       "       3596, 3597, 3601, 3605, 3607, 3609, 3611, 3613, 3614, 3615, 3616,\n",
       "       3617, 3619, 3621, 3622, 3625, 3626, 3628, 3629, 3632, 3638, 3640,\n",
       "       3641, 3643, 3646, 3648, 3650, 3654, 3657, 3658, 3659, 3661, 3662,\n",
       "       3664, 3667, 3669, 3670, 3671, 3672, 3673, 3675, 3676, 3678, 3679,\n",
       "       3680, 3681, 3682, 3683, 3688, 3691, 3692, 3695, 3697, 3700, 3702,\n",
       "       3705, 3709, 3710, 3712, 3715, 3716, 3718, 3719, 3725, 3726, 3732,\n",
       "       3733, 3736, 3740, 3742, 3744, 3746, 3749, 3751, 3754, 3755, 3756,\n",
       "       3760, 3763, 3765, 3769, 3770, 3774, 3776, 3778, 3780, 3782, 3783,\n",
       "       3784, 3789, 3790, 3794, 3798, 3799, 3800, 3801, 3802, 3804, 3806,\n",
       "       3807, 3810, 3815, 3821, 3823, 3824, 3827, 3828, 3832, 3834, 3835,\n",
       "       3837, 3840, 3841, 3842, 3844, 3845, 3846, 3849, 3852, 3853, 3854,\n",
       "       3861, 3868, 3869, 3871, 3872, 3873, 3875, 3877, 3880, 3884, 3886,\n",
       "       3888, 3890, 3891, 3893, 3896, 3899, 3906, 3907, 3908, 3912, 3913,\n",
       "       3916, 3917, 3919, 3921, 3922, 3931, 3933, 3936, 3940, 3947, 3951,\n",
       "       3955, 3958, 3960, 3961, 3965, 3968, 3970, 3971, 3975, 3977, 3981,\n",
       "       3983, 3988, 3991, 3992, 3998, 3999, 4000, 4003, 4014, 4020, 4024,\n",
       "       4025, 4031, 4032, 4034, 4036, 4038, 4043, 4058, 4093, 4117, 4193,\n",
       "       4202, 4238, 4239, 4240, 4241, 4242, 4263, 4264, 4270, 4284, 4285,\n",
       "       4291, 4320, 4324, 4362, 4438, 4445, 4475, 4478, 4479, 4487, 4488,\n",
       "       4492, 4512, 4521, 4530, 4554, 4557, 4558, 4559, 4560], dtype=int32), inh_dn_idxs=Array([   9,   17,   27,   32,   34,   39,   40,   45,   67,   74,   77,\n",
       "         85,  130,  154,  157,  165,  187,  195,  208,  212,  282,  295,\n",
       "        333,  339,  353,  360,  377,  400,  416,  434,  448,  458,  460,\n",
       "        463,  465,  522,  526,  528,  552,  567,  569,  575,  583,  591,\n",
       "        594,  607,  629,  632,  639,  644,  651,  671,  672,  674,  692,\n",
       "        697,  735,  750,  774,  778,  792,  801,  805,  809,  836,  839,\n",
       "        842,  844,  845,  866,  869,  872,  878,  879,  880,  884,  886,\n",
       "        890,  902,  906,  912,  914,  920,  927,  937,  940,  951,  955,\n",
       "        963,  965,  972,  977,  985,  992,  994, 1007, 1014, 1023, 1046,\n",
       "       1055, 1060, 1075, 1087, 1126, 1128, 1136, 1139, 1144, 1151, 1154,\n",
       "       1167, 1181, 1199, 1249, 1253, 1256, 1259, 1262, 1265, 1310, 1315,\n",
       "       1320, 1333, 1362, 1381, 1389, 1390, 1391, 1414, 1419, 1423, 1439,\n",
       "       1443, 1456, 1458, 1465, 1466, 1520, 1546, 1585, 1597, 1607, 1623,\n",
       "       1632, 1647, 1668, 1673, 1683, 1684, 1686, 1691, 1708, 1709, 1715,\n",
       "       1753, 1755, 1758, 1759, 1760, 1763, 1766, 1785, 1798, 1836, 1860,\n",
       "       1863, 1868, 1883, 1887, 1892, 1920, 1935, 1938, 1952, 1954, 1955,\n",
       "       1956, 1960, 1968, 1970, 1972, 1986, 1988, 1990, 2004, 2006, 2011,\n",
       "       2032, 2036, 2041, 2049, 2060, 2063, 2066, 2076, 2091, 2099, 2109,\n",
       "       2124, 2171, 2177, 2218, 2226, 2234, 2246, 2263, 2311, 2334, 2359,\n",
       "       2369, 2388, 2527, 2535, 2554, 2555, 2573, 2590, 2603, 2631, 2632,\n",
       "       2670, 2698, 2722, 2724, 2739, 2748, 2786, 2830, 2831, 2834, 2862,\n",
       "       2875, 2881, 2894, 2924, 2939, 2958, 2993, 2994, 3012, 3022, 3024,\n",
       "       3028, 3034, 3037, 3040, 3048, 3061, 3071, 3077, 3083, 3092, 3104,\n",
       "       3111, 3117, 3140, 3148, 3170, 3175, 3180, 3190, 3194, 3213, 3228,\n",
       "       3250, 3265, 3268, 3278, 3316, 3353, 3355, 3373, 3383, 3390, 3391,\n",
       "       3400, 3404, 3417, 3435, 3456, 3459, 3469, 3471, 3477, 3484, 3510,\n",
       "       3514, 3517, 3522, 3529, 3534, 3539, 3568, 3571, 3577, 3590, 3592,\n",
       "       3595, 3600, 3610, 3620, 3630, 3634, 3639, 3649, 3655, 3656, 3663,\n",
       "       3668, 3684, 3685, 3687, 3703, 3706, 3713, 3717, 3722, 3723, 3724,\n",
       "       3728, 3729, 3731, 3738, 3741, 3745, 3750, 3753, 3762, 3767, 3773,\n",
       "       3781, 3791, 3793, 3796, 3813, 3817, 3818, 3820, 3822, 3838, 3847,\n",
       "       3850, 3851, 3857, 3858, 3859, 3863, 3866, 3874, 3876, 3885, 3894,\n",
       "       3897, 3898, 3900, 3915, 3920, 3930, 3938, 3946, 3948, 3957, 3969,\n",
       "       3974, 3976, 3994, 3997, 4005, 4009, 4019, 4040, 4041, 4046, 4048,\n",
       "       4051, 4094, 4318, 4325, 4333, 4369, 4464, 4522, 4531, 4555],      dtype=int32), exc_in_idxs=Array([   2,    4,    5, ..., 4532, 4539, 4556], dtype=int32), inh_in_idxs=Array([   6,    8,   11, ..., 4551, 4552, 4553], dtype=int32), mn_idxs=Array([ 451,  582,  598,  626,  713,  722,  793,  848,  860,  868,  887,\n",
       "        917,  978,  991, 1020, 1024, 1043, 1044, 1064, 1073, 1104, 1147,\n",
       "       1169, 1182, 1211, 1270, 1302, 1307, 1354, 1357, 1367, 1396, 1412,\n",
       "       1436, 1473, 1474, 1482, 1498, 1501, 1557, 1573, 1580, 1685, 1696,\n",
       "       1723, 1729, 1743, 1773, 1787, 1805, 1828, 1838, 1927, 1973, 2058,\n",
       "       2065, 2071, 2083, 2086, 2107, 2150, 2153, 2165, 2176, 2256, 2260,\n",
       "       2279, 2303, 2309, 2379, 2380, 2403, 2408, 2409, 2410, 2419, 2528,\n",
       "       2581, 2595, 2602, 2605, 2636, 2656, 2667, 2682, 2742, 2790, 2819,\n",
       "       2821, 2877, 3029, 3088, 3108, 3120, 3138, 3224, 3233, 3283, 3288,\n",
       "       3462, 3501, 3502, 3506, 3509, 3911, 4156, 4173, 4338, 4339, 4352,\n",
       "       4358, 4371, 4380, 4400, 4439, 4440, 4465, 4468, 4513], dtype=int32))"
      ]
     },
     "execution_count": 11,
     "metadata": {},
     "output_type": "execute_result"
    }
   ],
   "source": []
  },
  {
   "cell_type": "code",
   "execution_count": null,
   "metadata": {},
   "outputs": [
    {
     "name": "stdout",
     "output_type": "stream",
     "text": [
      "Iteration 0\n",
      "\n",
      "\n"
     ]
    },
    {
     "name": "stderr",
     "output_type": "stream",
     "text": [
      "2025-07-22 20:29:55.158050: E external/xla/xla/stream_executor/cuda/cuda_timer.cc:86] Delay kernel timed out: measured time has sub-optimal accuracy. There may be a missing warmup execution, please investigate in Nsight Systems.\n",
      "2025-07-22 20:29:55.634710: E external/xla/xla/stream_executor/cuda/cuda_timer.cc:86] Delay kernel timed out: measured time has sub-optimal accuracy. There may be a missing warmup execution, please investigate in Nsight Systems.\n",
      "2025-07-22 20:29:55.649603: E external/xla/xla/service/slow_operation_alarm.cc:73] Trying algorithm eng28{k2=4,k3=0} for conv %cudnn-conv = (f32[1,9122,3759]{2,1,0}, u8[0]{0}) custom-call(%bitcast.18, %bitcast.19), window={size=1880 pad=1879_1879}, dim_labels=bf0_oi0->bf0, feature_group_count=9122, custom_call_target=\"__cudnn$convForward\", metadata={op_name=\"jit(update_single_sim_state)/jit(main)/jit(compute_oscillation_score)/vmap(jit(neuron_oscillation_score))/jit(neuron_oscillation_score_helper_jax)/jit(correlate)/jit(_conv)/conv_general_dilated\" source_file=\"/home/eabe/Research/Github/Pugliese_2025/src/sim_utils.py\" source_line=107}, backend_config={\"operation_queue_id\":\"0\",\"wait_on_operation_queues\":[],\"cudnn_conv_backend_config\":{\"conv_result_scale\":1,\"activation_mode\":\"kNone\",\"side_input_scale\":0,\"leakyrelu_alpha\":0},\"force_earliest_schedule\":false,\"reification_cost\":[]} is taking a while...\n",
      "2025-07-22 20:29:55.962728: E external/xla/xla/service/slow_operation_alarm.cc:140] The operation took 1.313206881s\n",
      "Trying algorithm eng28{k2=4,k3=0} for conv %cudnn-conv = (f32[1,9122,3759]{2,1,0}, u8[0]{0}) custom-call(%bitcast.18, %bitcast.19), window={size=1880 pad=1879_1879}, dim_labels=bf0_oi0->bf0, feature_group_count=9122, custom_call_target=\"__cudnn$convForward\", metadata={op_name=\"jit(update_single_sim_state)/jit(main)/jit(compute_oscillation_score)/vmap(jit(neuron_oscillation_score))/jit(neuron_oscillation_score_helper_jax)/jit(correlate)/jit(_conv)/conv_general_dilated\" source_file=\"/home/eabe/Research/Github/Pugliese_2025/src/sim_utils.py\" source_line=107}, backend_config={\"operation_queue_id\":\"0\",\"wait_on_operation_queues\":[],\"cudnn_conv_backend_config\":{\"conv_result_scale\":1,\"activation_mode\":\"kNone\",\"side_input_scale\":0,\"leakyrelu_alpha\":0},\"force_earliest_schedule\":false,\"reification_cost\":[]} is taking a while...\n",
      "2025-07-22 20:29:56.962847: E external/xla/xla/service/slow_operation_alarm.cc:73] Trying algorithm eng53{k2=5,k13=1,k14=2,k18=1,k23=0} for conv %cudnn-conv = (f32[1,9122,3759]{2,1,0}, u8[0]{0}) custom-call(%bitcast.18, %bitcast.19), window={size=1880 pad=1879_1879}, dim_labels=bf0_oi0->bf0, feature_group_count=9122, custom_call_target=\"__cudnn$convForward\", metadata={op_name=\"jit(update_single_sim_state)/jit(main)/jit(compute_oscillation_score)/vmap(jit(neuron_oscillation_score))/jit(neuron_oscillation_score_helper_jax)/jit(correlate)/jit(_conv)/conv_general_dilated\" source_file=\"/home/eabe/Research/Github/Pugliese_2025/src/sim_utils.py\" source_line=107}, backend_config={\"operation_queue_id\":\"0\",\"wait_on_operation_queues\":[],\"cudnn_conv_backend_config\":{\"conv_result_scale\":1,\"activation_mode\":\"kNone\",\"side_input_scale\":0,\"leakyrelu_alpha\":0},\"force_earliest_schedule\":false,\"reification_cost\":[]} is taking a while...\n",
      "2025-07-22 20:29:57.186449: E external/xla/xla/service/slow_operation_alarm.cc:140] The operation took 1.223673151s\n",
      "Trying algorithm eng53{k2=5,k13=1,k14=2,k18=1,k23=0} for conv %cudnn-conv = (f32[1,9122,3759]{2,1,0}, u8[0]{0}) custom-call(%bitcast.18, %bitcast.19), window={size=1880 pad=1879_1879}, dim_labels=bf0_oi0->bf0, feature_group_count=9122, custom_call_target=\"__cudnn$convForward\", metadata={op_name=\"jit(update_single_sim_state)/jit(main)/jit(compute_oscillation_score)/vmap(jit(neuron_oscillation_score))/jit(neuron_oscillation_score_helper_jax)/jit(correlate)/jit(_conv)/conv_general_dilated\" source_file=\"/home/eabe/Research/Github/Pugliese_2025/src/sim_utils.py\" source_line=107}, backend_config={\"operation_queue_id\":\"0\",\"wait_on_operation_queues\":[],\"cudnn_conv_backend_config\":{\"conv_result_scale\":1,\"activation_mode\":\"kNone\",\"side_input_scale\":0,\"leakyrelu_alpha\":0},\"force_earliest_schedule\":false,\"reification_cost\":[]} is taking a while...\n"
     ]
    },
    {
     "name": "stdout",
     "output_type": "stream",
     "text": [
      "Oscillation score: 0.7551005482673645\n",
      "Oscillation score: 0.887699544429779\n",
      "Reset condition (below threshold): False\n",
      "Reset condition (below threshold): False\n",
      "Available neurons: 197\n",
      "Available neurons: 172\n",
      "Level: [1]\n",
      "Level: [1]\n",
      "Oscillation detected: False\n",
      "Oscillation detected: False\n",
      "Final converged: False\n",
      "Final converged: False\n",
      "Silent neurons removed: 4244\n",
      "Silent neurons removed: 4269\n",
      "  Total time: 34.37 seconds\n"
     ]
    }
   ],
   "source": [
    "\n",
    "mn_idxs = neuron_params.mn_idxs\n",
    "all_neurons = jnp.arange(neuron_params.W.shape[-1])\n",
    "in_idxs = jnp.setdiff1d(all_neurons, mn_idxs)\n",
    "\n",
    "clip_start = int(sim_params.pulse_start / sim_params.dt) + 100\n",
    "# Initialize state\n",
    "n_sims = sim_params.n_param_sets * sim_params.n_stim_configs\n",
    "W_mask = jnp.full((n_sims, neuron_params.W.shape[0], neuron_params.W.shape[1]), 1, dtype=jnp.float32)\n",
    "interneuron_mask = jnp.full((n_sims, W_mask.shape[-1]),fill_value=False, dtype=jnp.bool_)\n",
    "interneuron_mask = interneuron_mask.at[:,in_idxs].set(True)\n",
    "level = jnp.zeros((n_sims,1), dtype=jnp.int32)\n",
    "total_removed_neurons = jnp.full((n_sims, W_mask.shape[-1]), False, dtype=jnp.bool)\n",
    "removed_stim_neurons = jnp.full([n_sims, total_removed_neurons.shape[-1]], False, dtype=jnp.bool)\n",
    "neurons_put_back =  jnp.full([n_sims, total_removed_neurons.shape[-1]], False, dtype=jnp.bool)\n",
    "last_removed =  jnp.full([n_sims, total_removed_neurons.shape[-1]], False, dtype=jnp.bool) # Use False for None\n",
    "min_circuit = jnp.full((n_sims,1), False)\n",
    "\n",
    "# Initialize probabilities\n",
    "exclude_mask = (~interneuron_mask)\n",
    "p_arrays = jax.vmap(removal_probability)(jnp.ones(len(interneuron_mask)), exclude_mask)\n",
    "\n",
    "# initialize pruning state\n",
    "state = Pruning_state(\n",
    "    W_mask=W_mask,\n",
    "    interneuron_mask=interneuron_mask,\n",
    "    level=level,\n",
    "    total_removed_neurons=total_removed_neurons,\n",
    "    removed_stim_neurons=removed_stim_neurons,\n",
    "    neurons_put_back=neurons_put_back,\n",
    "    last_removed=last_removed,\n",
    "    remove_p=p_arrays,\n",
    "    min_circuit=min_circuit,\n",
    "    keys=neuron_params.seeds\n",
    ")\n",
    "\n",
    "iter_start = 0  # Starting iteration\n",
    "# Main pruning loop\n",
    "iteration = iter_start\n",
    "max_iterations = 1  # Safety limit\n",
    "while not jnp.all(min_circuit) and (iteration < max_iterations):\n",
    "    start_time = time.time()\n",
    "    print(f\"Iteration {iteration}\")\n",
    "    # Update neuron parameters W_mask based on the current state\n",
    "    neuron_params = neuron_params._replace(W_mask=state.W_mask)\n",
    "    # Run simulation (this would call your simulation function)\n",
    "    # Reshape for devices if using pmap\n",
    "    if jax.device_count() > 1:\n",
    "        batch_indices = batch_indices.reshape(jax.device_count(), -1)\n",
    "        batch_results = batch_func(neuron_params, sim_params, batch_indices)\n",
    "        batch_results = batch_results.reshape(-1, *batch_results.shape[2:])\n",
    "        batch_results = batch_results[:end_idx - start_idx]  # Remove padding\n",
    "    else:\n",
    "        batch_results = batch_func(neuron_params, sim_params, batch_indices)\n",
    "    \n",
    "    n = 0 \n",
    "    state = jax.vmap(update_single_sim_state, in_axes=(0, 0, None, None, None))(state, batch_results, mn_idxs, oscillation_threshold, clip_start)\n",
    "    iteration += 1\n",
    "    \n",
    "    elapsed = time.time() - start_time\n",
    "    print(f\"  Total time: {elapsed:.2f} seconds\")\n",
    "\n",
    "# batch_results = jax.device_put(batch_results, jax.devices(\"cpu\")[0])\n",
    "# all_results.append(batch_results)\n",
    "# print(f\"Batch {i + 1}/{n_batches} completed\")\n",
    "\n",
    "# del batch_results  # Free memory\n",
    "# gc.collect()  # Force garbage collection\n",
    "\n",
    "# Combine results\n",
    "# results = jnp.concatenate(all_results, axis=0)"
   ]
  },
  {
   "cell_type": "code",
   "execution_count": 35,
   "metadata": {},
   "outputs": [],
   "source": [
    "\n",
    "mn_idxs = neuron_params.mn_idxs\n",
    "all_neurons = jnp.arange(neuron_params.W.shape[-1])\n",
    "in_idxs = jnp.setdiff1d(all_neurons, mn_idxs)\n",
    "\n",
    "clip_start = int(sim_params.pulse_start / sim_params.dt) + 100\n",
    "# Initialize state\n",
    "n_sims = sim_params.n_param_sets * sim_params.n_stim_configs\n",
    "W_mask = jnp.full((n_sims, neuron_params.W.shape[0], neuron_params.W.shape[1]), 1, dtype=jnp.float32)\n",
    "interneuron_mask = jnp.full((n_sims, W_mask.shape[-1]),fill_value=False, dtype=jnp.bool_)\n",
    "interneuron_mask = interneuron_mask.at[:,in_idxs].set(True)\n",
    "level = jnp.zeros((n_sims,1), dtype=jnp.int32)\n",
    "total_removed_neurons = jnp.full((n_sims, W_mask.shape[-1]), False, dtype=jnp.bool)\n",
    "removed_stim_neurons = jnp.full([n_sims, total_removed_neurons.shape[-1]], False, dtype=jnp.bool)\n",
    "neurons_put_back =  jnp.full([n_sims, total_removed_neurons.shape[-1]], False, dtype=jnp.bool)\n",
    "last_removed =  jnp.full([n_sims, total_removed_neurons.shape[-1]], False, dtype=jnp.bool) # Use False for None\n",
    "min_circuit = jnp.full((n_sims,1), False)\n",
    "\n",
    "# Initialize probabilities\n",
    "exclude_mask = (~interneuron_mask)\n",
    "p_arrays = jax.vmap(removal_probability)(jnp.ones(len(interneuron_mask)), exclude_mask)\n",
    "\n",
    "# initialize pruning state\n",
    "state = Pruning_state(\n",
    "    W_mask=W_mask[0],\n",
    "    interneuron_mask=interneuron_mask[0],\n",
    "    level=level[0],\n",
    "    total_removed_neurons=total_removed_neurons[0],\n",
    "    removed_stim_neurons=removed_stim_neurons[0],\n",
    "    neurons_put_back=neurons_put_back[0],\n",
    "    last_removed=last_removed[0],\n",
    "    remove_p=p_arrays[0],\n",
    "    min_circuit=min_circuit[0],\n",
    "    keys=neuron_params.seeds[0],\n",
    ")\n",
    "R = batch_results[0]"
   ]
  },
  {
   "cell_type": "code",
   "execution_count": 53,
   "metadata": {},
   "outputs": [
    {
     "data": {
      "text/plain": [
       "Array([False, False, False, ..., False, False, False], dtype=bool)"
      ]
     },
     "execution_count": 53,
     "metadata": {},
     "output_type": "execute_result"
    }
   ],
   "source": [
    "mn_mask"
   ]
  },
  {
   "cell_type": "code",
   "execution_count": null,
   "metadata": {},
   "outputs": [],
   "source": []
  },
  {
   "cell_type": "code",
   "execution_count": 57,
   "metadata": {},
   "outputs": [
    {
     "data": {
      "text/plain": [
       "Array(True, dtype=bool)"
      ]
     },
     "execution_count": 57,
     "metadata": {},
     "output_type": "execute_result"
    }
   ],
   "source": [
    "mn_mask = jnp.isin(jnp.arange(R.shape[0]), mn_idxs)\n",
    "((~interneuron_mask) == mn_mask).all()"
   ]
  },
  {
   "cell_type": "code",
   "execution_count": null,
   "metadata": {},
   "outputs": [
    {
     "name": "stdout",
     "output_type": "stream",
     "text": [
      "Silent interneurons found: 4422\n",
      "Total permanently removed: 4423\n",
      "Total remaining removed: 138\n",
      "Available for testing: 19\n",
      "Oscillation score: nan\n",
      "Reset condition: True\n",
      "Converged mini_circuit: False\n",
      "Neurons put back: 0\n",
      "\n",
      "\n"
     ]
    }
   ],
   "source": [
    "\n",
    "# Unpack state\n",
    "(W_mask, interneuron_mask, level, total_removed_neurons, removed_stim_neurons,\n",
    "    neurons_put_back, last_removed, remove_p, min_circuit, key) = state\n",
    "\n",
    "# Get active MN activity using JAX-compatible approach\n",
    "max_frs = jnp.max(R, axis=-1)\n",
    "mn_mask = jnp.isin(jnp.arange(R.shape[0]), mn_idxs)\n",
    "active_mask = ((max_frs>0) & mn_mask)\n",
    "\n",
    "# Compute oscillation score\n",
    "oscillation_score, _ = compute_oscillation_score(R[..., clip_start:], active_mask, prominence=0.05)\n",
    "\n",
    "# Check if oscillation is below threshold or NaN\n",
    "reset_condition = (oscillation_score < oscillation_threshold) | jnp.isnan(oscillation_score)\n",
    "\n",
    "# Identify currently silent interneurons (these will be permanently removed)\n",
    "silent_interneurons = interneuron_mask & (max_frs <= 0)\n",
    "\n",
    "key_next, subkey_continue, subkey_reset = random.split(key, 3)\n",
    "\n",
    "# === CONTINUE BRANCH: Normal pruning (oscillation is good) ===\n",
    "# Permanently remove silent interneurons\n",
    "total_removed_continue = total_removed_neurons | silent_interneurons\n",
    "\n",
    "# Update probabilities - exclude non-interneurons and removed neurons\n",
    "exclude_mask_continue = (~interneuron_mask) | total_removed_continue\n",
    "p_continue = removal_probability(max_frs, exclude_mask_continue)\n",
    "\n",
    "# Sample new neuron to remove (only from available interneurons)\n",
    "neuron_idx_continue = jax_choice(subkey_continue, jnp.arange(len(max_frs)), p_continue)\n",
    "\n",
    "# Update removed neurons\n",
    "removed_stim_continue = removed_stim_neurons.at[neuron_idx_continue].set(True)\n",
    "total_removed_continue = total_removed_continue.at[neuron_idx_continue].set(True)\n",
    "\n",
    "# Track what was removed this iteration (both silent and stimulated)\n",
    "newly_silent_continue = silent_interneurons & (~total_removed_neurons)  # Only newly silent\n",
    "last_removed_continue = jnp.full(last_removed.shape, False, dtype=jnp.bool_)\n",
    "last_removed_continue = last_removed_continue.at[neuron_idx_continue].set(True)  # Stimulated removal\n",
    "last_removed_continue = last_removed_continue | newly_silent_continue  # Add newly silent\n",
    "\n",
    "# Update other state\n",
    "level_continue = level + 1\n",
    "neurons_put_back_continue = neurons_put_back  # Unchanged\n",
    "min_circuit_continue = False  # Not converged yet\n",
    "\n",
    "# === RESET BRANCH: Restore last removed and try again ===\n",
    "# Restore ALL neurons from last_removed (both stimulated and those that went silent)\n",
    "# This includes neurons that went silent due to the last stimulated removal\n",
    "\n",
    "# Restore stimulated neurons from last removal\n",
    "removed_stim_reset = removed_stim_neurons & (~last_removed)\n",
    "\n",
    "# For total_removed: keep permanent removals from before last iteration, \n",
    "# add current silent neurons, but restore all last_removed neurons\n",
    "permanent_before_last = total_removed_neurons & (~last_removed)\n",
    "# Current silent neurons are those silent now (may include some that weren't silent before)\n",
    "# But we need to be careful not to restore neurons that are currently silent due to OTHER reasons\n",
    "# Only add neurons to total_removed if they are silent AND were not in last_removed\n",
    "currently_silent_not_restored = silent_interneurons & (~last_removed)\n",
    "total_removed_reset = permanent_before_last | currently_silent_not_restored\n",
    "\n",
    "# Track neurons being put back - ALL neurons from last_removed\n",
    "# This includes both the stimulated neuron and any neurons that went silent due to that removal\n",
    "restored_neurons = last_removed  # All neurons from last_removed are being restored\n",
    "neurons_put_back_reset = neurons_put_back | restored_neurons\n",
    "\n",
    "# Now select a different neuron to remove (avoid the restored ones)\n",
    "exclude_mask_reset = (~interneuron_mask) | total_removed_reset | restored_neurons\n",
    "p_reset = removal_probability(max_frs, exclude_mask_reset)\n",
    "\n",
    "# Check how many neurons are available\n",
    "available_neurons_reset = jnp.sum(interneuron_mask & (~exclude_mask_reset))\n",
    "\n",
    "# Select neuron to remove\n",
    "neuron_idx_reset = jax_choice(subkey_reset, jnp.arange(len(max_frs)), p_reset)\n",
    "\n",
    "# Only update if we have available neurons (otherwise keep current state)\n",
    "should_remove_new = available_neurons_reset > 0\n",
    "removed_stim_reset = jax.lax.select(\n",
    "    should_remove_new,\n",
    "    removed_stim_reset.at[neuron_idx_reset].set(True),\n",
    "    removed_stim_reset\n",
    ")\n",
    "total_removed_reset = jax.lax.select(\n",
    "    should_remove_new,\n",
    "    total_removed_reset.at[neuron_idx_reset].set(True),\n",
    "    total_removed_reset\n",
    ")\n",
    "\n",
    "# Track what was newly removed this iteration\n",
    "last_removed_reset = jnp.full(last_removed.shape, False, dtype=jnp.bool_)\n",
    "last_removed_reset = jax.lax.select(\n",
    "    should_remove_new,\n",
    "    last_removed_reset.at[neuron_idx_reset].set(True),\n",
    "    last_removed_reset\n",
    ")\n",
    "\n",
    "# Add any newly silent neurons (those that are silent now but weren't in total_removed_neurons before)\n",
    "# These are neurons that became silent due to current network state, not due to last removal\n",
    "newly_silent_reset = silent_interneurons & (~total_removed_neurons) & (~last_removed)\n",
    "last_removed_reset = last_removed_reset | newly_silent_reset\n",
    "\n",
    "# Keep level the same (we're trying again, not progressing)\n",
    "level_reset = level\n",
    "\n",
    "# Check if we've converged - either no more neurons to remove OR we're oscillating\n",
    "# Oscillation detection: if we're restoring neurons we've put back before, we're in a loop\n",
    "oscillation_detected = jnp.any(restored_neurons & neurons_put_back)\n",
    "min_circuit_reset = (available_neurons_reset <= 2) | oscillation_detected\n",
    "\n",
    "# === SELECT BETWEEN BRANCHES ===\n",
    "# Use jax.lax.select to choose between continue and reset results\n",
    "final_total_removed = jax.lax.select(reset_condition, total_removed_reset, total_removed_continue)\n",
    "final_removed_stim = jax.lax.select(reset_condition, removed_stim_reset, removed_stim_continue)\n",
    "final_last_removed = jax.lax.select(reset_condition, last_removed_reset, last_removed_continue)\n",
    "final_neurons_put_back = jax.lax.select(reset_condition, neurons_put_back_reset, neurons_put_back_continue)\n",
    "final_level = jax.lax.select(reset_condition, level_reset, level_continue)\n",
    "final_p = jax.lax.select(reset_condition, p_reset, p_continue)\n",
    "final_min_circuit = jax.lax.select(reset_condition, min_circuit_reset, min_circuit_continue)\n",
    "\n",
    "# Calculate available neurons and check for convergence\n",
    "available_neurons = jnp.sum(interneuron_mask & (~final_total_removed))\n",
    "\n",
    "# Check for oscillation: if we're in reset mode and detected oscillation, we've converged\n",
    "oscillation_converged = reset_condition & final_min_circuit\n",
    "size_converged = available_neurons <= 2\n",
    "final_converged = oscillation_converged | size_converged\n",
    "\n",
    "# Update W_mask to reflect removed neurons\n",
    "W_mask_init = jnp.ones_like(W_mask, dtype=jnp.float32)\n",
    "removed_float = final_total_removed.astype(jnp.float32)\n",
    "kept_mask = 1.0 - removed_float\n",
    "W_mask_new = W_mask_init * kept_mask[:, None] * kept_mask[None, :]\n",
    "\n",
    "# Convert to scalar for jax.lax.select\n",
    "final_converged_scalar = jnp.squeeze(final_converged)\n",
    "\n",
    "# Debug information\n",
    "jax.debug.print(\"Oscillation score: {score}\", score=oscillation_score)\n",
    "jax.debug.print(\"Reset condition (below threshold): {condition}\", condition=reset_condition)\n",
    "jax.debug.print(\"Available neurons: {count}\", count=available_neurons)\n",
    "jax.debug.print(\"Level: {level}\", level=final_level)\n",
    "jax.debug.print(\"Oscillation detected: {detected}\", detected=reset_condition & (final_min_circuit & ~size_converged))\n",
    "jax.debug.print(\"Final converged: {converged}\", converged=final_converged)\n",
    "jax.debug.print(\"Silent neurons removed: {count}\", count=jnp.sum(silent_interneurons))\n",
    "print('\\n')\n",
    "\n",
    "# When converged, preserve current state (don't make further changes)\n",
    "state = Pruning_state(\n",
    "    W_mask=jax.lax.select(final_converged_scalar, W_mask, W_mask_new),\n",
    "    interneuron_mask=interneuron_mask,\n",
    "    level=jax.lax.select(final_converged_scalar, level, final_level),\n",
    "    total_removed_neurons=jax.lax.select(final_converged_scalar, total_removed_neurons, final_total_removed),\n",
    "    neurons_put_back=jax.lax.select(final_converged_scalar, neurons_put_back, final_neurons_put_back),\n",
    "    removed_stim_neurons=jax.lax.select(final_converged_scalar, removed_stim_neurons, final_removed_stim),\n",
    "    last_removed=jax.lax.select(final_converged_scalar, last_removed, final_last_removed),\n",
    "    remove_p=jax.lax.select(final_converged_scalar, remove_p, final_p),\n",
    "    min_circuit=final_converged_scalar,\n",
    "    keys=key_next,\n",
    ")\n"
   ]
  },
  {
   "cell_type": "code",
   "execution_count": 44,
   "metadata": {},
   "outputs": [
    {
     "name": "stdout",
     "output_type": "stream",
     "text": [
      "Indices for : (136,)\n"
     ]
    },
    {
     "data": {
      "text/plain": [
       "Array([ 132,  134,  150,  451,  582,  598,  626,  660,  669,  713,  722,\n",
       "        739,  793,  848,  860,  868,  887,  917,  978,  991, 1020, 1024,\n",
       "       1043, 1044, 1064, 1073, 1104, 1147, 1153, 1169, 1182, 1211, 1270,\n",
       "       1302, 1307, 1354, 1357, 1367, 1396, 1412, 1436, 1473, 1474, 1482,\n",
       "       1498, 1501, 1503, 1557, 1573, 1574, 1580, 1685, 1696, 1723, 1729,\n",
       "       1743, 1773, 1787, 1805, 1816, 1828, 1838, 1927, 1973, 2058, 2065,\n",
       "       2071, 2083, 2086, 2107, 2150, 2153, 2165, 2176, 2209, 2256, 2260,\n",
       "       2279, 2303, 2309, 2379, 2380, 2403, 2408, 2409, 2410, 2419, 2522,\n",
       "       2528, 2581, 2595, 2602, 2605, 2636, 2656, 2657, 2667, 2682, 2742,\n",
       "       2790, 2819, 2821, 2877, 2879, 3029, 3088, 3108, 3120, 3138, 3224,\n",
       "       3233, 3283, 3288, 3455, 3462, 3501, 3502, 3506, 3509, 3911, 4155,\n",
       "       4156, 4161, 4173, 4338, 4339, 4352, 4358, 4371, 4380, 4400, 4439,\n",
       "       4440, 4465, 4468, 4513], dtype=int32)"
      ]
     },
     "execution_count": 44,
     "metadata": {},
     "output_type": "execute_result"
    }
   ],
   "source": [
    "print_inds(~load_state.total_removed_neurons[0])"
   ]
  },
  {
   "cell_type": "code",
   "execution_count": 85,
   "metadata": {},
   "outputs": [
    {
     "name": "stdout",
     "output_type": "stream",
     "text": [
      "Indices for : (4363,)\n"
     ]
    },
    {
     "data": {
      "text/plain": [
       "79"
      ]
     },
     "execution_count": 85,
     "metadata": {},
     "output_type": "execute_result"
    }
   ],
   "source": [
    "exclude_inds = print_inds(exclude_mask_continue)\n",
    "in_idxs.shape[0] - exclude_inds.shape[0]  # Number of interneurons left after pruning"
   ]
  },
  {
   "cell_type": "code",
   "execution_count": 27,
   "metadata": {},
   "outputs": [
    {
     "name": "stdout",
     "output_type": "stream",
     "text": [
      "Indices for : (198,)\n",
      "Indices for : (198,)\n",
      "Indices for : (316,)\n"
     ]
    },
    {
     "data": {
      "text/plain": [
       "(Array([  31,   70,   72,   82,   83,   86,   97,  108,  113,  124,  127,\n",
       "         132,  134,  138,  142,  145,  147,  150,  160,  169,  177,  180,\n",
       "         207,  242,  244,  247,  255,  273,  274,  277,  280,  323,  325,\n",
       "         332,  348,  425,  485,  502,  516,  535,  536,  601,  609,  614,\n",
       "         616,  617,  624,  630,  637,  660,  663,  669,  679,  693,  696,\n",
       "         699,  703,  715,  739,  749,  757,  763,  773,  811,  812,  855,\n",
       "         913,  919, 1106, 1108, 1119, 1122, 1153, 1165, 1209, 1218, 1274,\n",
       "        1278, 1280, 1291, 1332, 1364, 1503, 1516, 1549, 1574, 1603, 1619,\n",
       "        1630, 1631, 1646, 1725, 1770, 1775, 1777, 1816, 1842, 1861, 1880,\n",
       "        1912, 1918, 1928, 1940, 2013, 2033, 2126, 2149, 2178, 2200, 2209,\n",
       "        2214, 2223, 2236, 2267, 2268, 2274, 2295, 2307, 2314, 2362, 2368,\n",
       "        2432, 2434, 2441, 2479, 2485, 2503, 2508, 2522, 2529, 2587, 2655,\n",
       "        2657, 2658, 2679, 2714, 2728, 2735, 2745, 2762, 2771, 2773, 2774,\n",
       "        2807, 2814, 2836, 2864, 2873, 2879, 2902, 2909, 2926, 2928, 2979,\n",
       "        2983, 2987, 2988, 2991, 3019, 3038, 3051, 3060, 3159, 3275, 3295,\n",
       "        3367, 3455, 3466, 3490, 3500, 3633, 3686, 3812, 4130, 4155, 4158,\n",
       "        4161, 4216, 4219, 4223, 4227, 4298, 4303, 4305, 4334, 4337, 4366,\n",
       "        4385, 4389, 4405, 4407, 4416, 4421, 4423, 4430, 4459, 4472, 4500],      dtype=int32),\n",
       " Array([  31,   70,   72,   82,   83,   86,   97,  108,  113,  124,  127,\n",
       "         132,  134,  138,  142,  145,  147,  150,  160,  169,  177,  180,\n",
       "         207,  242,  244,  247,  255,  273,  274,  277,  280,  323,  325,\n",
       "         332,  348,  425,  485,  502,  516,  535,  536,  601,  609,  614,\n",
       "         616,  617,  624,  630,  637,  660,  663,  669,  679,  693,  696,\n",
       "         699,  703,  715,  739,  749,  757,  763,  773,  811,  812,  855,\n",
       "         913,  919, 1106, 1108, 1119, 1122, 1153, 1165, 1209, 1218, 1274,\n",
       "        1278, 1280, 1291, 1332, 1364, 1503, 1516, 1549, 1574, 1603, 1619,\n",
       "        1630, 1631, 1646, 1725, 1770, 1775, 1777, 1816, 1842, 1861, 1880,\n",
       "        1912, 1918, 1928, 1940, 2013, 2033, 2126, 2149, 2178, 2200, 2209,\n",
       "        2214, 2223, 2236, 2267, 2268, 2274, 2295, 2307, 2314, 2362, 2368,\n",
       "        2432, 2434, 2441, 2479, 2485, 2503, 2508, 2522, 2529, 2587, 2655,\n",
       "        2657, 2658, 2679, 2714, 2728, 2735, 2745, 2762, 2771, 2773, 2774,\n",
       "        2807, 2814, 2836, 2864, 2873, 2879, 2902, 2909, 2926, 2928, 2979,\n",
       "        2983, 2987, 2988, 2991, 3019, 3038, 3051, 3060, 3159, 3275, 3295,\n",
       "        3367, 3455, 3466, 3490, 3500, 3633, 3686, 3812, 4130, 4155, 4158,\n",
       "        4161, 4216, 4219, 4223, 4227, 4298, 4303, 4305, 4334, 4337, 4366,\n",
       "        4385, 4389, 4405, 4407, 4416, 4421, 4423, 4430, 4459, 4472, 4500],      dtype=int32),\n",
       " Array([  31,   70,   72,   82,   83,   86,   97,  108,  113,  124,  127,\n",
       "         132,  134,  138,  142,  145,  147,  150,  160,  169,  177,  180,\n",
       "         207,  242,  244,  247,  255,  273,  274,  277,  280,  323,  325,\n",
       "         332,  348,  425,  451,  485,  502,  516,  535,  536,  582,  598,\n",
       "         601,  609,  614,  616,  617,  624,  626,  630,  637,  660,  663,\n",
       "         669,  679,  693,  696,  699,  703,  713,  715,  722,  739,  749,\n",
       "         757,  763,  773,  793,  811,  812,  848,  855,  860,  868,  887,\n",
       "         913,  917,  919,  978,  991, 1020, 1024, 1043, 1044, 1064, 1073,\n",
       "        1104, 1106, 1108, 1119, 1122, 1147, 1153, 1165, 1169, 1182, 1209,\n",
       "        1211, 1218, 1270, 1274, 1278, 1280, 1291, 1302, 1307, 1332, 1354,\n",
       "        1357, 1364, 1367, 1396, 1412, 1436, 1473, 1474, 1482, 1498, 1501,\n",
       "        1503, 1516, 1549, 1557, 1573, 1574, 1580, 1603, 1619, 1630, 1631,\n",
       "        1646, 1685, 1696, 1723, 1725, 1729, 1743, 1770, 1773, 1775, 1777,\n",
       "        1787, 1805, 1816, 1828, 1838, 1842, 1861, 1880, 1912, 1918, 1927,\n",
       "        1928, 1940, 1973, 2013, 2033, 2058, 2065, 2071, 2083, 2086, 2107,\n",
       "        2126, 2149, 2150, 2153, 2165, 2176, 2178, 2200, 2209, 2214, 2223,\n",
       "        2236, 2256, 2260, 2267, 2268, 2274, 2279, 2295, 2303, 2307, 2309,\n",
       "        2314, 2362, 2368, 2379, 2380, 2403, 2408, 2409, 2410, 2419, 2432,\n",
       "        2434, 2441, 2479, 2485, 2503, 2508, 2522, 2528, 2529, 2581, 2587,\n",
       "        2595, 2602, 2605, 2636, 2655, 2656, 2657, 2658, 2667, 2679, 2682,\n",
       "        2714, 2728, 2735, 2742, 2745, 2762, 2771, 2773, 2774, 2790, 2807,\n",
       "        2814, 2819, 2821, 2836, 2864, 2873, 2877, 2879, 2902, 2909, 2926,\n",
       "        2928, 2979, 2983, 2987, 2988, 2991, 3019, 3029, 3038, 3051, 3060,\n",
       "        3088, 3108, 3120, 3138, 3159, 3224, 3233, 3275, 3283, 3288, 3295,\n",
       "        3367, 3455, 3462, 3466, 3500, 3501, 3502, 3506, 3509, 3633, 3686,\n",
       "        3812, 3911, 4130, 4155, 4156, 4158, 4161, 4173, 4216, 4219, 4223,\n",
       "        4227, 4298, 4303, 4305, 4334, 4337, 4338, 4339, 4352, 4358, 4366,\n",
       "        4371, 4380, 4385, 4389, 4400, 4405, 4407, 4416, 4421, 4423, 4430,\n",
       "        4439, 4440, 4459, 4465, 4468, 4472, 4500, 4513], dtype=int32))"
      ]
     },
     "execution_count": 27,
     "metadata": {},
     "output_type": "execute_result"
    }
   ],
   "source": [
    "print_inds(~exclude_mask_continue), print_inds(~exclude_mask_reset), print_inds(~final_total_removed)"
   ]
  },
  {
   "cell_type": "markdown",
   "metadata": {},
   "source": [
    "### Debug version"
   ]
  },
  {
   "cell_type": "code",
   "execution_count": 80,
   "metadata": {},
   "outputs": [
    {
     "name": "stdout",
     "output_type": "stream",
     "text": [
      "Key Path: .W_mask, Leaf: (2, 4561, 4561) dype: float32\n",
      "Key Path: .interneuron_mask, Leaf: (2, 4561) dype: bool\n",
      "Key Path: .level, Leaf: (2, 1) dype: int32\n",
      "Key Path: .total_removed_neurons, Leaf: (2, 4561) dype: bool\n",
      "Key Path: .removed_stim_neurons, Leaf: (2, 4561) dype: bool\n",
      "Key Path: .neurons_put_back, Leaf: (2, 4561) dype: bool\n",
      "Key Path: .last_removed, Leaf: (2, 4561) dype: bool\n",
      "Key Path: .remove_p, Leaf: (2, 4561) dype: float32\n",
      "Key Path: .min_circuit, Leaf: (2,) dype: bool\n",
      "Key Path: .keys, Leaf: (2, 2) dype: uint32\n"
     ]
    },
    {
     "data": {
      "text/plain": [
       "Pruning_state(W_mask=None, interneuron_mask=None, level=None, total_removed_neurons=None, removed_stim_neurons=None, neurons_put_back=None, last_removed=None, remove_p=None, min_circuit=None, keys=None)"
      ]
     },
     "execution_count": 80,
     "metadata": {},
     "output_type": "execute_result"
    }
   ],
   "source": [
    "def print_pytree(pytree):\n",
    "    \"\"\"\n",
    "    path_filter: function that takes key_path tuple and returns True/False\n",
    "    \"\"\"\n",
    "    def process_leaf(key_path, leaf):\n",
    "       print(f\"Key Path: {key_path[0]}, Leaf: {leaf.shape} dype: {leaf.dtype}\")\n",
    "\n",
    "    return jax.tree.map_with_path(process_leaf, pytree)\n",
    "print_pytree(state)"
   ]
  },
  {
   "cell_type": "code",
   "execution_count": 14,
   "metadata": {},
   "outputs": [
    {
     "ename": "UnboundLocalError",
     "evalue": "cannot access local variable 'neuron_params' where it is not associated with a value",
     "output_type": "error",
     "traceback": [
      "\u001b[31m---------------------------------------------------------------------------\u001b[39m",
      "\u001b[31mUnboundLocalError\u001b[39m                         Traceback (most recent call last)",
      "\u001b[36mCell\u001b[39m\u001b[36m \u001b[39m\u001b[32mIn[14]\u001b[39m\u001b[32m, line 317\u001b[39m\n\u001b[32m    314\u001b[39m mn_idxs = jnp.array([\u001b[32m0\u001b[39m, \u001b[32m1\u001b[39m, \u001b[32m2\u001b[39m])  \u001b[38;5;66;03m# Motor neuron indices\u001b[39;00m\n\u001b[32m    316\u001b[39m \u001b[38;5;66;03m# Run algorithm\u001b[39;00m\n\u001b[32m--> \u001b[39m\u001b[32m317\u001b[39m final_states = run_pruning_algorithm_batched(\n\u001b[32m    318\u001b[39m     neuron_params, sim_params,\n\u001b[32m    319\u001b[39m     initial_states, Rs, mn_idxs, \n\u001b[32m    320\u001b[39m     clip_start=\u001b[32m100\u001b[39m, oscillation_threshold=\u001b[32m0.5\u001b[39m\n\u001b[32m    321\u001b[39m )\n\u001b[32m    323\u001b[39m \u001b[38;5;66;03m# Check results\u001b[39;00m\n\u001b[32m    324\u001b[39m \u001b[38;5;28mprint\u001b[39m(\u001b[33mf\u001b[39m\u001b[33m\"\u001b[39m\u001b[33mConverged: \u001b[39m\u001b[38;5;132;01m{\u001b[39;00mjnp.sum(final_states.converged)\u001b[38;5;132;01m}\u001b[39;00m\u001b[33m / \u001b[39m\u001b[38;5;132;01m{\u001b[39;00mbatch_size\u001b[38;5;132;01m}\u001b[39;00m\u001b[33m\"\u001b[39m)\n",
      "\u001b[36mCell\u001b[39m\u001b[36m \u001b[39m\u001b[32mIn[14]\u001b[39m\u001b[32m, line 272\u001b[39m, in \u001b[36mrun_pruning_algorithm_batched\u001b[39m\u001b[34m(neuron_params, sim_params, initial_states, Rs, mn_idxs, clip_start, oscillation_threshold)\u001b[39m\n\u001b[32m    268\u001b[39m max_iterations = \u001b[32m200\u001b[39m\n\u001b[32m    270\u001b[39m \u001b[38;5;28;01mfor\u001b[39;00m i \u001b[38;5;129;01min\u001b[39;00m \u001b[38;5;28mrange\u001b[39m(max_iterations):\n\u001b[32m    271\u001b[39m     \u001b[38;5;66;03m# Take one step for all batch elements\u001b[39;00m\n\u001b[32m--> \u001b[39m\u001b[32m272\u001b[39m     current_states = iteration_step(current_states)\n\u001b[32m    274\u001b[39m     \u001b[38;5;66;03m# Check if all converged - optional early stopping for efficiency\u001b[39;00m\n\u001b[32m    275\u001b[39m     \u001b[38;5;28;01mif\u001b[39;00m \u001b[38;5;129;01mnot\u001b[39;00m should_continue(current_states):\n",
      "\u001b[36mCell\u001b[39m\u001b[36m \u001b[39m\u001b[32mIn[14]\u001b[39m\u001b[32m, line 262\u001b[39m, in \u001b[36mrun_pruning_algorithm_batched.<locals>.iteration_step\u001b[39m\u001b[34m(state_batch)\u001b[39m\n\u001b[32m    260\u001b[39m \u001b[38;5;28;01mdef\u001b[39;00m\u001b[38;5;250m \u001b[39m\u001b[34miteration_step\u001b[39m(state_batch):\n\u001b[32m    261\u001b[39m \u001b[38;5;250m    \u001b[39m\u001b[33;03m\"\"\"Single iteration across the batch\"\"\"\u001b[39;00m\n\u001b[32m--> \u001b[39m\u001b[32m262\u001b[39m     neuron_params = neuron_params._replace(W_mask=state.W_mask)\n\u001b[32m    263\u001b[39m     batch_results = batch_func(neuron_params, sim_params, batch_indices)\n\u001b[32m    264\u001b[39m     \u001b[38;5;28;01mreturn\u001b[39;00m pruning_step_batched(state_batch, Rs, mn_idxs, clip_start, oscillation_threshold)\n",
      "\u001b[31mUnboundLocalError\u001b[39m: cannot access local variable 'neuron_params' where it is not associated with a value"
     ]
    }
   ],
   "source": [
    "import jax\n",
    "import jax.numpy as jnp\n",
    "from dataclasses import dataclass\n",
    "from functools import partial\n",
    "from src.sim_utils import compute_oscillation_score\n",
    "from src.optimized_vnc import update_params\n",
    "\n",
    "@dataclass\n",
    "class Pruning_state:\n",
    "    W_mask: jnp.ndarray\n",
    "    interneuron_mask: jnp.ndarray\n",
    "    level: int\n",
    "    total_removed_neurons: jnp.ndarray\n",
    "    neurons_put_back_current: jnp.ndarray\n",
    "    neurons_put_back_prev: jnp.ndarray\n",
    "    removed_stim_neurons: jnp.ndarray\n",
    "    last_removed: jnp.ndarray\n",
    "    remove_p: jnp.ndarray\n",
    "    round_complete: bool\n",
    "    converged: bool\n",
    "    round_number: int\n",
    "    keys: jax.random.PRNGKey\n",
    "    steps_in_current_round: int  # Track steps within current round\n",
    "    total_iterations: int        # Track total iterations for safety\n",
    "\n",
    "def safe_choice(key, logits, exclude_mask):\n",
    "    \"\"\"Safe choice function that works with vmap\"\"\"\n",
    "    # Set excluded neurons to very negative logits\n",
    "    safe_logits = jnp.where(exclude_mask, -1e10, logits)\n",
    "    # Use gumbel trick for sampling\n",
    "    gumbel_noise = jax.random.gumbel(key, safe_logits.shape)\n",
    "    return jnp.argmax(safe_logits + gumbel_noise)\n",
    "\n",
    "def removal_probability_safe(max_frs, exclude_mask):\n",
    "    \"\"\"Safe removal probability that works with vmap\"\"\"\n",
    "    # Create base probabilities (higher firing rate = lower removal probability)\n",
    "    base_probs = 1.0 / (max_frs + 1e-6)  # Add epsilon to avoid division by zero\n",
    "    # Zero out excluded neurons\n",
    "    probs = jnp.where(exclude_mask, 0.0, base_probs)\n",
    "    # Normalize (with safety for all-zero case)\n",
    "    total_prob = jnp.sum(probs)\n",
    "    return jnp.where(total_prob > 0, probs / total_prob, probs)\n",
    "\n",
    "def pruning_step_dynamic(state, R, mn_idxs, clip_start, oscillation_threshold):\n",
    "    \"\"\"\n",
    "    Single pruning step with dynamic convergence checking.\n",
    "    Works with vmap and continues until natural convergence.\n",
    "    \"\"\"\n",
    "    \n",
    "    # Safety check - stop if max iterations reached\n",
    "    max_iterations_reached = state.total_iterations >= 200\n",
    "    already_converged = state.converged\n",
    "    \n",
    "    # If we should stop, return unchanged state\n",
    "    should_stop = already_converged | max_iterations_reached\n",
    "    \n",
    "    def stopped_computation():\n",
    "        return state._replace(\n",
    "            converged=True,  # Mark as converged if we hit max iterations\n",
    "            total_iterations=state.total_iterations + 1\n",
    "        )\n",
    "    \n",
    "    def active_computation():\n",
    "        # Get neural activity\n",
    "        max_frs = jnp.max(R, axis=-1)\n",
    "        mn_mask = jnp.isin(jnp.arange(R.shape[0]), mn_idxs)\n",
    "        active_mask = (max_frs > 0) & mn_mask\n",
    "\n",
    "        # Compute oscillation score\n",
    "        oscillation_score, _ = compute_oscillation_score(R[..., clip_start:], active_mask, prominence=0.05)\n",
    "        reset_condition = (oscillation_score < oscillation_threshold) | jnp.isnan(oscillation_score)\n",
    "\n",
    "        # Identify silent interneurons (permanent removal)\n",
    "        silent_interneurons = state.interneuron_mask & (max_frs <= 0)\n",
    "        \n",
    "        # Generate key for this iteration\n",
    "        key = jax.random.fold_in(state.keys, state.total_iterations)\n",
    "        key_continue, key_reset = jax.random.split(key)\n",
    "        \n",
    "        # Check if we need to start a new round\n",
    "        def check_new_round():\n",
    "            \"\"\"Check if current round is complete and handle round transition\"\"\"\n",
    "            \n",
    "            # Current round is complete if no interneurons available for removal\n",
    "            exclude_mask = (~state.interneuron_mask) | state.total_removed_neurons | state.neurons_put_back_current\n",
    "            available_neurons = jnp.sum(state.interneuron_mask & (~exclude_mask))\n",
    "            current_round_done = available_neurons <= 0\n",
    "            \n",
    "            def start_new_round():\n",
    "                # Compare current and previous put-back lists for convergence\n",
    "                lists_identical = jnp.allclose(state.neurons_put_back_current, \n",
    "                                             state.neurons_put_back_prev, atol=1e-6)\n",
    "                \n",
    "                # If lists are identical, we've converged\n",
    "                new_converged = lists_identical\n",
    "                \n",
    "                # Start new round\n",
    "                return state._replace(\n",
    "                    neurons_put_back_prev=state.neurons_put_back_current,\n",
    "                    neurons_put_back_current=jnp.zeros_like(state.neurons_put_back_current),\n",
    "                    removed_stim_neurons=jnp.zeros_like(state.removed_stim_neurons),\n",
    "                    last_removed=jnp.zeros_like(state.last_removed),\n",
    "                    level=0,\n",
    "                    round_complete=False,\n",
    "                    converged=new_converged,\n",
    "                    round_number=state.round_number + 1,\n",
    "                    steps_in_current_round=0\n",
    "                )\n",
    "            \n",
    "            def continue_current_round():\n",
    "                return state\n",
    "            \n",
    "            # Start new round if current one is complete\n",
    "            return jax.lax.cond(current_round_done, start_new_round, continue_current_round)\n",
    "        \n",
    "        # Check for round transition first\n",
    "        state_after_round_check = check_new_round()\n",
    "        \n",
    "        # If we just converged in round transition, return that state\n",
    "        def handle_convergence():\n",
    "            return state_after_round_check._replace(\n",
    "                total_iterations=state.total_iterations + 1\n",
    "            )\n",
    "        \n",
    "        def normal_pruning_step():\n",
    "            \"\"\"Normal within-round pruning step\"\"\"\n",
    "            \n",
    "            # === CONTINUE BRANCH: Normal removal ===\n",
    "            total_removed_continue = state_after_round_check.total_removed_neurons | silent_interneurons\n",
    "            exclude_mask_continue = (~state_after_round_check.interneuron_mask) | total_removed_continue | state_after_round_check.neurons_put_back_current\n",
    "            \n",
    "            # Check if any neurons available for removal in continue branch\n",
    "            available_neurons_continue = jnp.sum(state_after_round_check.interneuron_mask & (~exclude_mask_continue))\n",
    "            \n",
    "            # Sample neuron to remove\n",
    "            p_continue = removal_probability_safe(max_frs, exclude_mask_continue)\n",
    "            neuron_idx_continue = safe_choice(key_continue, p_continue, exclude_mask_continue)\n",
    "            \n",
    "            # Update for continue branch (only if neurons available)\n",
    "            can_remove_continue = available_neurons_continue > 0\n",
    "            \n",
    "            removed_stim_continue = jnp.where(\n",
    "                can_remove_continue,\n",
    "                state_after_round_check.removed_stim_neurons.at[neuron_idx_continue].set(True),\n",
    "                state_after_round_check.removed_stim_neurons\n",
    "            )\n",
    "            total_removed_continue = jnp.where(\n",
    "                can_remove_continue,\n",
    "                total_removed_continue.at[neuron_idx_continue].set(True),\n",
    "                total_removed_continue\n",
    "            )\n",
    "            \n",
    "            # Track last removed\n",
    "            last_removed_continue = jnp.zeros_like(state_after_round_check.last_removed)\n",
    "            last_removed_continue = jnp.where(\n",
    "                can_remove_continue,\n",
    "                last_removed_continue.at[neuron_idx_continue].set(True),\n",
    "                last_removed_continue\n",
    "            )\n",
    "            # Add newly silent neurons\n",
    "            newly_silent = silent_interneurons & (~state_after_round_check.total_removed_neurons)\n",
    "            last_removed_continue = last_removed_continue | newly_silent\n",
    "            \n",
    "            # === RESET BRANCH: Restore and try different neuron ===\n",
    "            # Restore last removed neurons to put_back list\n",
    "            neurons_put_back_reset = state_after_round_check.neurons_put_back_current | state_after_round_check.last_removed\n",
    "            removed_stim_reset = state_after_round_check.removed_stim_neurons & (~state_after_round_check.last_removed)\n",
    "            total_removed_reset = (state_after_round_check.total_removed_neurons & (~state_after_round_check.last_removed)) | silent_interneurons\n",
    "            \n",
    "            exclude_mask_reset = (~state_after_round_check.interneuron_mask) | total_removed_reset | neurons_put_back_reset\n",
    "            available_neurons_reset = jnp.sum(state_after_round_check.interneuron_mask & (~exclude_mask_reset))\n",
    "            \n",
    "            # Sample different neuron\n",
    "            p_reset = removal_probability_safe(max_frs, exclude_mask_reset)\n",
    "            neuron_idx_reset = safe_choice(key_reset, p_reset, exclude_mask_reset)\n",
    "            \n",
    "            can_remove_reset = available_neurons_reset > 0\n",
    "            \n",
    "            removed_stim_reset = jnp.where(\n",
    "                can_remove_reset,\n",
    "                removed_stim_reset.at[neuron_idx_reset].set(True),\n",
    "                removed_stim_reset\n",
    "            )\n",
    "            total_removed_reset = jnp.where(\n",
    "                can_remove_reset,\n",
    "                total_removed_reset.at[neuron_idx_reset].set(True),\n",
    "                total_removed_reset\n",
    "            )\n",
    "            \n",
    "            last_removed_reset = jnp.zeros_like(state_after_round_check.last_removed)\n",
    "            last_removed_reset = jnp.where(\n",
    "                can_remove_reset,\n",
    "                last_removed_reset.at[neuron_idx_reset].set(True),\n",
    "                last_removed_reset\n",
    "            )\n",
    "            # Add newly silent neurons (excluding those already in last_removed)\n",
    "            newly_silent_reset = silent_interneurons & (~state_after_round_check.total_removed_neurons) & (~state_after_round_check.last_removed)\n",
    "            last_removed_reset = last_removed_reset | newly_silent_reset\n",
    "            \n",
    "            # Choose between branches based on reset condition\n",
    "            final_total_removed = jnp.where(reset_condition, total_removed_reset, total_removed_continue)\n",
    "            final_removed_stim = jnp.where(reset_condition, removed_stim_reset, removed_stim_continue)\n",
    "            final_last_removed = jnp.where(reset_condition, last_removed_reset, last_removed_continue)\n",
    "            final_neurons_put_back = jnp.where(reset_condition, neurons_put_back_reset, state_after_round_check.neurons_put_back_current)\n",
    "            final_remove_p = jnp.where(reset_condition, p_reset, p_continue)\n",
    "            \n",
    "            # Update W_mask based on removed neurons\n",
    "            removed_float = final_total_removed.astype(jnp.float32)\n",
    "            kept_mask = 1.0 - removed_float\n",
    "            W_mask_new = kept_mask[:, None] * kept_mask[None, :]\n",
    "            \n",
    "            return state_after_round_check._replace(\n",
    "                W_mask=W_mask_new,\n",
    "                level=state_after_round_check.level + 1,\n",
    "                total_removed_neurons=final_total_removed,\n",
    "                neurons_put_back_current=final_neurons_put_back,\n",
    "                removed_stim_neurons=final_removed_stim,\n",
    "                last_removed=final_last_removed,\n",
    "                remove_p=final_remove_p,\n",
    "                steps_in_current_round=state_after_round_check.steps_in_current_round + 1,\n",
    "                total_iterations=state.total_iterations + 1\n",
    "            )\n",
    "        \n",
    "        # Choose between convergence handling and normal step\n",
    "        return jax.lax.cond(\n",
    "            state_after_round_check.converged, \n",
    "            handle_convergence, \n",
    "            normal_pruning_step\n",
    "        )\n",
    "    \n",
    "    # Main conditional: stop or continue\n",
    "    return jax.lax.cond(should_stop, stopped_computation, active_computation)\n",
    "\n",
    "# Vmap-compatible version\n",
    "@partial(jax.vmap, in_axes=(0, 0, None, None, None))\n",
    "def pruning_step_batched(state_batch, R_batch, mn_idxs, clip_start, oscillation_threshold):\n",
    "    \"\"\"Vectorized pruning step that works across a batch\"\"\"\n",
    "    return pruning_step_dynamic(state_batch, R_batch, mn_idxs, clip_start, oscillation_threshold)\n",
    "\n",
    "def run_pruning_algorithm_batched(neuron_params, sim_params, initial_states, Rs, mn_idxs, clip_start, oscillation_threshold):\n",
    "    \"\"\"\n",
    "    Run pruning algorithm on batch until convergence or max iterations (200).\n",
    "    \n",
    "    Args:\n",
    "        initial_states: Batched Pruning_state \n",
    "        Rs: Batch of neural activity [batch_size, neurons, time]\n",
    "        mn_idxs: Motor neuron indices\n",
    "        clip_start: Start index for oscillation analysis\n",
    "        oscillation_threshold: Threshold for oscillation score\n",
    "    \n",
    "    Returns:\n",
    "        final_states: Final states for each batch element\n",
    "        iterations_used: Number of iterations each element used\n",
    "    \"\"\"\n",
    "    \n",
    "    def should_continue(state_batch):\n",
    "        \"\"\"Check if any element in batch needs to continue\"\"\"\n",
    "        return jnp.any(~state_batch.converged)\n",
    "    \n",
    "    def iteration_step(state_batch):\n",
    "        \"\"\"Single iteration across the batch\"\"\"\n",
    "        neuron_params = neuron_params._replace(W_mask=state.W_mask)\n",
    "        batch_results = batch_func(neuron_params, sim_params, batch_indices)\n",
    "        return pruning_step_batched(state_batch, Rs, mn_idxs, clip_start, oscillation_threshold)\n",
    "    \n",
    "    # Run until all converged or max iterations reached\n",
    "    current_states = initial_states\n",
    "    max_iterations = 200\n",
    "    \n",
    "    for i in range(max_iterations):\n",
    "        # Take one step for all batch elements\n",
    "        current_states = iteration_step(current_states)\n",
    "        \n",
    "        # Check if all converged - optional early stopping for efficiency\n",
    "        if not should_continue(current_states):\n",
    "            break\n",
    "    \n",
    "    return current_states\n",
    "\n",
    "def create_batched_initial_state(batch_size, n_neurons, key=None):\n",
    "    \"\"\"Helper to create batched initial states\"\"\"\n",
    "    if key is None:\n",
    "        key = jax.random.PRNGKey(42)\n",
    "    \n",
    "    keys = jax.random.split(key, batch_size)\n",
    "    \n",
    "    return Pruning_state(\n",
    "        W_mask=jnp.ones((batch_size, n_neurons, n_neurons)),\n",
    "        interneuron_mask=jnp.ones((batch_size, n_neurons), dtype=bool),\n",
    "        level=jnp.zeros(batch_size, dtype=int),\n",
    "        total_removed_neurons=jnp.zeros((batch_size, n_neurons), dtype=bool),\n",
    "        neurons_put_back_current=jnp.zeros((batch_size, n_neurons), dtype=bool),\n",
    "        neurons_put_back_prev=jnp.zeros((batch_size, n_neurons), dtype=bool),\n",
    "        removed_stim_neurons=jnp.zeros((batch_size, n_neurons), dtype=bool),\n",
    "        last_removed=jnp.zeros((batch_size, n_neurons), dtype=bool),\n",
    "        remove_p=jnp.ones((batch_size, n_neurons)) / n_neurons,\n",
    "        round_complete=jnp.zeros(batch_size, dtype=bool),\n",
    "        converged=jnp.zeros(batch_size, dtype=bool),\n",
    "        round_number=jnp.zeros(batch_size, dtype=int),\n",
    "        keys=keys,\n",
    "        steps_in_current_round=jnp.zeros(batch_size, dtype=int),\n",
    "        total_iterations=jnp.zeros(batch_size, dtype=int)\n",
    "    )\n",
    "\n",
    "# Usage example:\n",
    "\n",
    "# Create batch\n",
    "batch_size = 16\n",
    "n_neurons = 100\n",
    "initial_states = create_batched_initial_state(batch_size, n_neurons)\n",
    "\n",
    "# Your neural activity data\n",
    "Rs = jnp.ones((batch_size, n_neurons, 1000))  # [batch, neurons, time]\n",
    "mn_idxs = jnp.array([0, 1, 2])  # Motor neuron indices\n",
    "\n",
    "# Run algorithm\n",
    "final_states = run_pruning_algorithm_batched(\n",
    "    neuron_params, sim_params,\n",
    "    initial_states, Rs, mn_idxs, \n",
    "    clip_start=100, oscillation_threshold=0.5\n",
    ")\n",
    "\n",
    "# Check results\n",
    "print(f\"Converged: {jnp.sum(final_states.converged)} / {batch_size}\")\n",
    "print(f\"Iterations used: {final_states.total_iterations}\")\n",
    "print(f\"Hit max iterations: {jnp.sum(final_states.total_iterations >= 200)}\")\n"
   ]
  },
  {
   "cell_type": "markdown",
   "metadata": {},
   "source": [
    "## Load data"
   ]
  },
  {
   "cell_type": "code",
   "execution_count": 76,
   "metadata": {},
   "outputs": [],
   "source": [
    "results = sparse.load_npz(cfg.paths.ckpt_dir  / f\"{cfg.experiment.name}_Rs.npz\").todense().astype(np.float32)\n",
    "# W_mask = sparse.load_npz(cfg.paths.ckpt_dir / f\"{cfg.experiment.name}_W_mask.npz\").todense().astype(np.float32)\n",
    "# total_removed_neurons = sparse.load_npz(cfg.paths.ckpt_dir / f\"{cfg.experiment.name}_total_removed.npz\").todense().astype(np.bool_)\n",
    "load_state = load_state(cfg.paths.ckpt_dir / f\"{cfg.experiment.name}_state.pkl\")"
   ]
  },
  {
   "cell_type": "code",
   "execution_count": 15,
   "metadata": {},
   "outputs": [],
   "source": [
    "W_mask_init = jnp.ones_like(W_mask, dtype=jnp.float32)\n",
    "removed_float = (~load_state.neurons_put_back[0]).astype(jnp.float32)\n",
    "kept_mask = 1.0 - removed_float # set removed neurons to 0 and kept neurons to 1\n",
    "W_mask_new = W_mask_init * kept_mask[:, None] * kept_mask[None, :] \n"
   ]
  },
  {
   "cell_type": "code",
   "execution_count": 16,
   "metadata": {},
   "outputs": [],
   "source": [
    "neuron_params = update_neuron_params(neuron_params, W_mask=W_mask_new)\n",
    "\n",
    "batch_results = batch_func(neuron_params, sim_params, batch_indices)\n"
   ]
  },
  {
   "cell_type": "code",
   "execution_count": 70,
   "metadata": {},
   "outputs": [
    {
     "name": "stdout",
     "output_type": "stream",
     "text": [
      "Indices for : (0,)\n"
     ]
    },
    {
     "data": {
      "text/plain": [
       "Array([], shape=(0,), dtype=int32)"
      ]
     },
     "execution_count": 70,
     "metadata": {},
     "output_type": "execute_result"
    }
   ],
   "source": [
    "print_inds(~load_state.total_removed_neurons[0] & ~interneuron_mask[0])"
   ]
  },
  {
   "cell_type": "code",
   "execution_count": null,
   "metadata": {},
   "outputs": [
    {
     "data": {
      "text/plain": [
       "(Array([  83,  177,  273,  502,  679, 1119, 2200, 2508, 2658, 3812, 4389,\n",
       "        4416], dtype=int32),)"
      ]
     },
     "execution_count": 29,
     "metadata": {},
     "output_type": "execute_result"
    }
   ],
   "source": [
    "# print_inds((~load_state.total_removed_neurons[1]& ~interneuron_mask[1]))\n",
    "available_neurons = jnp.where(interneuron_mask[1] & (~load_state.total_removed_neurons[1]) & (~load_state.neurons_put_back[1]))\n",
    "available_neurons"
   ]
  },
  {
   "cell_type": "code",
   "execution_count": 34,
   "metadata": {},
   "outputs": [
    {
     "data": {
      "text/plain": [
       "Array([ True,  True,  True,  True,  True,  True,  True,  True,  True,\n",
       "        True,  True,  True], dtype=bool)"
      ]
     },
     "execution_count": 34,
     "metadata": {},
     "output_type": "execute_result"
    }
   ],
   "source": [
    "jnp.isin(available_neurons[0],in_idxs)"
   ]
  },
  {
   "cell_type": "code",
   "execution_count": 78,
   "metadata": {},
   "outputs": [
    {
     "data": {
      "text/plain": [
       "[<matplotlib.lines.Line2D at 0x79cc96c7b290>,\n",
       " <matplotlib.lines.Line2D at 0x79cc96cc4250>,\n",
       " <matplotlib.lines.Line2D at 0x79cc96cc45d0>,\n",
       " <matplotlib.lines.Line2D at 0x79cc96c841d0>,\n",
       " <matplotlib.lines.Line2D at 0x79cc96cc4b10>,\n",
       " <matplotlib.lines.Line2D at 0x79cc96cc4fd0>,\n",
       " <matplotlib.lines.Line2D at 0x79cc96e20d50>,\n",
       " <matplotlib.lines.Line2D at 0x79cc96cc5790>,\n",
       " <matplotlib.lines.Line2D at 0x79cc96e05cd0>,\n",
       " <matplotlib.lines.Line2D at 0x79cc96c79090>,\n",
       " <matplotlib.lines.Line2D at 0x79cc96c9bb10>,\n",
       " <matplotlib.lines.Line2D at 0x79cc96e06790>,\n",
       " <matplotlib.lines.Line2D at 0x79cc96cc6a50>,\n",
       " <matplotlib.lines.Line2D at 0x79cc96e5e990>,\n",
       " <matplotlib.lines.Line2D at 0x79cc96df7590>,\n",
       " <matplotlib.lines.Line2D at 0x79cc96e07710>,\n",
       " <matplotlib.lines.Line2D at 0x79cc96cafb50>,\n",
       " <matplotlib.lines.Line2D at 0x79cc96db2650>,\n",
       " <matplotlib.lines.Line2D at 0x79cc96cd0350>,\n",
       " <matplotlib.lines.Line2D at 0x79cc96cd07d0>,\n",
       " <matplotlib.lines.Line2D at 0x79cc96cd0c90>,\n",
       " <matplotlib.lines.Line2D at 0x79cc96cd1150>,\n",
       " <matplotlib.lines.Line2D at 0x79cc96cb96d0>,\n",
       " <matplotlib.lines.Line2D at 0x79cc96cd1bd0>,\n",
       " <matplotlib.lines.Line2D at 0x79cc96cd1ed0>,\n",
       " <matplotlib.lines.Line2D at 0x79cc96cb2490>,\n",
       " <matplotlib.lines.Line2D at 0x79cc96cd2910>,\n",
       " <matplotlib.lines.Line2D at 0x79cc96cd2d10>,\n",
       " <matplotlib.lines.Line2D at 0x79cc96cd3090>,\n",
       " <matplotlib.lines.Line2D at 0x79cc96c7b090>,\n",
       " <matplotlib.lines.Line2D at 0x79cc96cd3990>,\n",
       " <matplotlib.lines.Line2D at 0x79cc96c7b990>,\n",
       " <matplotlib.lines.Line2D at 0x79cc96cd8490>,\n",
       " <matplotlib.lines.Line2D at 0x79cc96cd8750>,\n",
       " <matplotlib.lines.Line2D at 0x79cc96cd8cd0>,\n",
       " <matplotlib.lines.Line2D at 0x79cc96e51650>,\n",
       " <matplotlib.lines.Line2D at 0x79cc97249310>,\n",
       " <matplotlib.lines.Line2D at 0x79cc96cb9910>,\n",
       " <matplotlib.lines.Line2D at 0x79cc96c79b90>,\n",
       " <matplotlib.lines.Line2D at 0x79cc96cda090>,\n",
       " <matplotlib.lines.Line2D at 0x79cc96cda190>,\n",
       " <matplotlib.lines.Line2D at 0x79cc96cda950>,\n",
       " <matplotlib.lines.Line2D at 0x79cc96c7a910>,\n",
       " <matplotlib.lines.Line2D at 0x79cc96cdb210>,\n",
       " <matplotlib.lines.Line2D at 0x79cc96cdb650>,\n",
       " <matplotlib.lines.Line2D at 0x79cc96e53e10>,\n",
       " <matplotlib.lines.Line2D at 0x79cc96cdbf90>,\n",
       " <matplotlib.lines.Line2D at 0x79cc96cdc3d0>,\n",
       " <matplotlib.lines.Line2D at 0x79cc96cdc950>,\n",
       " <matplotlib.lines.Line2D at 0x79cc96cdccd0>,\n",
       " <matplotlib.lines.Line2D at 0x79cc96cdd250>,\n",
       " <matplotlib.lines.Line2D at 0x79cc96cdd6d0>]"
      ]
     },
     "execution_count": 78,
     "metadata": {},
     "output_type": "execute_result"
    },
    {
     "data": {
      "image/png": "[encoded data removed]",
      "text/plain": [
       "<Figure size 640x480 with 1 Axes>"
      ]
     },
     "metadata": {},
     "output_type": "display_data"
    }
   ],
   "source": [
    "active_neurons = jnp.where(jnp.sum(R,axis=-1)>0)[0]\n",
    "plt.plot(R[active_neurons].T)"
   ]
  },
  {
   "cell_type": "code",
   "execution_count": 86,
   "metadata": {},
   "outputs": [],
   "source": [
    "\n",
    "# Get active MN activity using JAX-compatible approach\n",
    "max_frs = jnp.max(R, axis=-1)\n",
    "mn_mask = jnp.isin(jnp.arange(R.shape[0]), mn_idxs)\n",
    "active_mask = ((max_frs>0) & mn_mask)\n",
    "\n",
    "# Compute oscillation score\n",
    "oscillation_score, _ = compute_oscillation_score(R[..., clip_start:], active_mask, prominence=0.05)\n"
   ]
  },
  {
   "cell_type": "code",
   "execution_count": 83,
   "metadata": {},
   "outputs": [
    {
     "data": {
      "text/plain": [
       "Array(nan, dtype=float32)"
      ]
     },
     "execution_count": 83,
     "metadata": {},
     "output_type": "execute_result"
    }
   ],
   "source": [
    "oscillation_score"
   ]
  },
  {
   "cell_type": "code",
   "execution_count": 80,
   "metadata": {},
   "outputs": [
    {
     "data": {
      "image/png": "[encoded data removed]",
      "text/plain": [
       "<Figure size 640x480 with 1 Axes>"
      ]
     },
     "metadata": {},
     "output_type": "display_data"
    }
   ],
   "source": [
    "# R = batch_results[0]\n",
    "R = results[0,1]\n",
    "\n",
    "\n",
    "wTable = pd.read_csv(\"../data/manc t1 connectome data/wTable_20231020_DNtoMN_unsorted_withModules.csv\",index_col=0)\n",
    "nonMns = wTable.loc[(wTable[\"bodyId\"]==10093) | (wTable[\"bodyId\"]==10707) | (wTable[\"bodyId\"]==13905) | (wTable[\"bodyId\"]==11751)]\n",
    "mnIdxs = wTable.loc[wTable[\"class\"]==\"motor neuron\"].index\n",
    "\n",
    "\n",
    "# for i in nonMns.index:\n",
    "for i in mnIdxs:\n",
    "    plt.plot(R[i])\n",
    "\n"
   ]
  },
  {
   "cell_type": "markdown",
   "metadata": {},
   "source": [
    "# Stim Adjustment Testing"
   ]
  },
  {
   "cell_type": "code",
   "execution_count": null,
   "metadata": {},
   "outputs": [],
   "source": [
    "\n",
    "\n",
    "def run_with_stim_adjustment(self,maxIters=10,clampedNeurons=[],clampedRates=None,nActiveUpper=500,nActiveLower=5,nHighFrUpper=100):\n",
    "    nextHighest = None\n",
    "    nextLowest = None\n",
    "\n",
    "    for i in range(maxIters):\n",
    "        self.run(clampedNeurons=clampedNeurons,clampedRates=clampedRates)\n",
    "        R = self.R\n",
    "\n",
    "        nActive = sum(np.sum(R,1)>0)\n",
    "        nHighFr = sum(np.max(R,1)>100)\n",
    "\n",
    "        currInputs = self.inputs.copy()\n",
    "\n",
    "        print(f\"Run {i}\")\n",
    "        print(f\"max stimI = {np.max(currInputs)}\")\n",
    "        print(f\"nActive: {nActive}\")\n",
    "        print(f\"nHighFr: {nHighFr}\")\n",
    "\n",
    "        if (nActive > nActiveUpper) or (nHighFr > nHighFrUpper): # too strong\n",
    "            if nextLowest is None:\n",
    "                newInputs = currInputs/2\n",
    "            else:\n",
    "                newInputs = (currInputs+nextLowest)/2\n",
    "            nextHighest = currInputs\n",
    "        elif (nActive < nActiveLower): # too weak\n",
    "            if nextHighest is None:\n",
    "                newInputs = currInputs*2\n",
    "            else:\n",
    "                newInputs = (currInputs+nextHighest)/2\n",
    "            nextLowest = currInputs\n",
    "        else:\n",
    "            break\n",
    "\n",
    "        self.set_input(newInputs)"
   ]
  },
  {
   "cell_type": "code",
   "execution_count": null,
   "metadata": {},
   "outputs": [],
   "source": [
    "\n",
    "# Note: The run_with_stim_adjustment function cannot be easily JIT-compiled\n",
    "# because it involves loops with data-dependent control flow and side effects.\n",
    "# Here's a restructured version that separates the JIT-able parts:\n",
    "\n",
    "@jit\n",
    "def compute_activity_metrics(R):\n",
    "    \"\"\"JIT-compatible function to compute activity metrics.\"\"\"\n",
    "    n_active = jnp.sum(jnp.sum(R, axis=1) > 0)\n",
    "    n_high_fr = jnp.sum(jnp.max(R, axis=1) > 100)\n",
    "    return n_active, n_high_fr\n",
    "\n",
    "@jit\n",
    "def update_inputs_binary_search(curr_inputs, next_lowest, next_highest, \n",
    "                               n_active, n_high_fr, n_active_upper, \n",
    "                               n_active_lower, n_high_fr_upper):\n",
    "    \"\"\"JIT-compatible input update logic.\"\"\"\n",
    "    \n",
    "    # Determine if stimulation is too strong\n",
    "    too_strong = (n_active > n_active_upper) | (n_high_fr > n_high_fr_upper)\n",
    "    too_weak = n_active < n_active_lower\n",
    "    \n",
    "    # Update inputs based on binary search logic\n",
    "    def update_for_too_strong():\n",
    "        new_inputs = jnp.where(\n",
    "            next_lowest is None,\n",
    "            curr_inputs / 2,\n",
    "            (curr_inputs + next_lowest) / 2\n",
    "        )\n",
    "        new_next_highest = curr_inputs\n",
    "        return new_inputs, next_lowest, new_next_highest\n",
    "    \n",
    "    def update_for_too_weak():\n",
    "        new_inputs = jnp.where(\n",
    "            next_highest is None,\n",
    "            curr_inputs * 2,\n",
    "            (curr_inputs + next_highest) / 2\n",
    "        )\n",
    "        new_next_lowest = curr_inputs\n",
    "        return new_inputs, new_next_lowest, next_highest\n",
    "    \n",
    "    def no_update():\n",
    "        return curr_inputs, next_lowest, next_highest\n",
    "    \n",
    "    # Apply updates conditionally\n",
    "    new_inputs, new_next_lowest, new_next_highest = jax.lax.cond(\n",
    "        too_strong,\n",
    "        update_for_too_strong,\n",
    "        lambda: jax.lax.cond(\n",
    "            too_weak,\n",
    "            update_for_too_weak,\n",
    "            no_update\n",
    "        )\n",
    "    )\n",
    "    \n",
    "    converged = ~too_strong & ~too_weak\n",
    "    \n",
    "    return new_inputs, new_next_lowest, new_next_highest, converged\n",
    "\n",
    "# Example usage:\n",
    "def run_with_stim_adjustment_jax(simulation_runner, max_iters=10, \n",
    "                                clamped_neurons=None, clamped_rates=None,\n",
    "                                n_active_upper=500, n_active_lower=5, \n",
    "                                n_high_fr_upper=100):\n",
    "    \"\"\"\n",
    "    JAX-compatible version of run_with_stim_adjustment.\n",
    "    Note: This requires the simulation_runner to be compatible with JAX.\n",
    "    \"\"\"\n",
    "    next_highest = None\n",
    "    next_lowest = None\n",
    "    \n",
    "    for i in range(max_iters):\n",
    "        # Run simulation (this part depends on your simulation framework)\n",
    "        R = simulation_runner.run(clamped_neurons=clamped_neurons, \n",
    "                                 clamped_rates=clamped_rates)\n",
    "        \n",
    "        # Compute metrics (JIT-compiled)\n",
    "        n_active, n_high_fr = compute_activity_metrics(R)\n",
    "        curr_inputs = simulation_runner.get_inputs()\n",
    "        \n",
    "        print(f\"Run {i}\")\n",
    "        print(f\"max stimI = {jnp.max(curr_inputs)}\")\n",
    "        print(f\"nActive: {n_active}\")\n",
    "        print(f\"nHighFr: {n_high_fr}\")\n",
    "        \n",
    "        # Update inputs (JIT-compiled)\n",
    "        new_inputs, next_lowest, next_highest, converged = update_inputs_binary_search(\n",
    "            curr_inputs, next_lowest, next_highest, n_active, n_high_fr,\n",
    "            n_active_upper, n_active_lower, n_high_fr_upper\n",
    "        )\n",
    "        \n",
    "        if converged:\n",
    "            break\n",
    "            \n",
    "        simulation_runner.set_input(new_inputs)\n",
    "\n",
    "# Additional utility functions for JAX compatibility:\n",
    "\n",
    "@jit\n",
    "def safe_divide(x, y, default=0.0):\n",
    "    \"\"\"Safe division that handles division by zero.\"\"\"\n",
    "    return jnp.where(y == 0, default, x / y)\n",
    "\n",
    "@jit\n",
    "def safe_max(x, default=0.0):\n",
    "    \"\"\"Safe max that handles empty arrays.\"\"\"\n",
    "    return jnp.where(len(x) == 0, default, jnp.max(x))\n",
    "\n",
    "@jit\n",
    "def safe_min(x, default=0.0):\n",
    "    \"\"\"Safe min that handles empty arrays.\"\"\"\n",
    "    return jnp.where(len(x) == 0, default, jnp.min(x))"
   ]
  },
  {
   "cell_type": "code",
   "execution_count": null,
   "metadata": {},
   "outputs": [],
   "source": []
  },
  {
   "cell_type": "code",
   "execution_count": null,
   "metadata": {},
   "outputs": [],
   "source": []
  }
 ],
 "metadata": {
  "kernelspec": {
   "display_name": "vnc-closedloop",
   "language": "python",
   "name": "python3"
  },
  "language_info": {
   "codemirror_mode": {
    "name": "ipython",
    "version": 3
   },
   "file_extension": ".py",
   "mimetype": "text/x-python",
   "name": "python",
   "nbconvert_exporter": "python",
   "pygments_lexer": "ipython3",
   "version": "3.11.11"
  }
 },
 "nbformat": 4,
 "nbformat_minor": 2
}
