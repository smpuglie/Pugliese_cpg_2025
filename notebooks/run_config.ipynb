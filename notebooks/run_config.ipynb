{
 "cells": [
  {
   "cell_type": "markdown",
   "metadata": {},
   "source": [
    "# Imports"
   ]
  },
  {
   "cell_type": "code",
   "execution_count": 1,
   "metadata": {},
   "outputs": [],
   "source": [
    "%load_ext autoreload\n",
    "%autoreload 2\n",
    "# from src.vnc import run_vnc_simulation\n",
    "\n",
    "\n",
    "import pandas as pd\n",
    "import numpy as np\n",
    "from datetime import date\n",
    "import matplotlib.pyplot as plt\n",
    "from pathlib import Path\n",
    "from hydra import initialize, compose\n",
    "from hydra.core.hydra_config import HydraConfig\n",
    "import jax\n",
    "# jax.config.update(\"jax_enable_x64\", True)\n",
    "import os\n",
    "os.environ['CUDA_VISIBLE_DEVICES'] = '1' # Use GPU 0\n",
    "os.environ[\"XLA_PYTHON_CLIENT_MEM_FRACTION\"] = \"0.95\"\n",
    "import sparse\n",
    "\n",
    "from src.optimized_vnc import *\n",
    "from src.plot_utils import *\n"
   ]
  },
  {
   "cell_type": "code",
   "execution_count": 2,
   "metadata": {},
   "outputs": [],
   "source": [
    "experiment='Stim_Neurons'\n",
    "with initialize(version_base=None, config_path=\"../configs\"):\n",
    "    cfg=compose(config_name='config.yaml', overrides= [f\"experiment={experiment}\", \"paths=glados\", \"version=debug\", f'run_id=Testing'],return_hydra_config=True,)\n",
    "    HydraConfig.instance().set_config(cfg)\n",
    "\n",
    "for k in cfg.paths.keys():\n",
    "    if (k != 'user'):\n",
    "        cfg.paths[k] = Path(cfg.paths[k])\n",
    "        cfg.paths[k].mkdir(parents=True, exist_ok=True)\n",
    "\n",
    "\n",
    "\n",
    "\n",
    "# experiment='default'\n",
    "# with initialize(version_base=None, config_path=\"../configs\"):\n",
    "#     cfg_old=compose(config_name='config.yaml', overrides= [f\"experiment={experiment}\", \"paths=glados\", \"version=debug\", f'run_id=Testing'],return_hydra_config=True,)\n",
    "#     HydraConfig.instance().set_config(cfg_old)\n",
    "\n",
    "# for k in cfg_old.paths.keys():\n",
    "#     if (k != 'user'):\n",
    "#         cfg_old.paths[k] = Path(cfg_old.paths[k])\n",
    "#         cfg_old.paths[k].mkdir(parents=True, exist_ok=True)\n"
   ]
  },
  {
   "cell_type": "code",
   "execution_count": null,
   "metadata": {},
   "outputs": [],
   "source": [
    "print(\"Loading network configuration...\")\n",
    "W_table = load_wTable(cfg.experiment.dfPath)\n",
    "n_stim_configs = len(cfg.experiment.stimNeurons)\n",
    "# Prepare parameters\n",
    "neuron_params = prepare_neuron_params(cfg, W_table)\n",
    "sim_params = prepare_sim_params(cfg, n_stim_configs, neuron_params.W.shape[0])\n",
    "simulation_type = \"baseline\"\n",
    "\n",
    "results = run_simulation_batched(\n",
    "    neuron_params, sim_params, simulation_type,\n",
    "    batch_size=None\n",
    ")\n"
   ]
  },
  {
   "cell_type": "code",
   "execution_count": null,
   "metadata": {},
   "outputs": [],
   "source": []
  },
  {
   "cell_type": "markdown",
   "metadata": {},
   "source": [
    "# Load results"
   ]
  },
  {
   "cell_type": "code",
   "execution_count": null,
   "metadata": {},
   "outputs": [],
   "source": [
    "# results = run_vnc_simulation_optimized(cfg)\n",
    "# save_path = cfg.paths.ckpt_dir  / \"bdn2.npz\"\n",
    "\n",
    "results = sparse.load_npz(cfg.paths.ckpt_dir  / \"bdn2.npz\").todense().astype(np.float32)"
   ]
  },
  {
   "cell_type": "markdown",
   "metadata": {},
   "source": [
    "# Testing Shuffle"
   ]
  },
  {
   "cell_type": "code",
   "execution_count": null,
   "metadata": {},
   "outputs": [],
   "source": [
    "params, config = load_vnc_net(cfg)\n",
    "simulator = OptimizedSimulator(params, config)\n",
    "# W, W_table = load_connectivity(cfg)"
   ]
  },
  {
   "cell_type": "code",
   "execution_count": null,
   "metadata": {},
   "outputs": [],
   "source": [
    "work_queue = simulator._create_work_queue()"
   ]
  },
  {
   "cell_type": "code",
   "execution_count": null,
   "metadata": {},
   "outputs": [],
   "source": [
    "from src.shuffle_utils import shuffle_W"
   ]
  },
  {
   "cell_type": "code",
   "execution_count": null,
   "metadata": {},
   "outputs": [],
   "source": [
    "newkey, key = jax.random.split(work_queue[0]['seed'])\n",
    "idxs = params.inh_dn_idxs\n",
    "W = params.W\n",
    "W_shuff = shuffle_W(W, key, idxs, independent=True)\n"
   ]
  },
  {
   "cell_type": "markdown",
   "metadata": {},
   "source": [
    "# stim neurons for dn screen"
   ]
  },
  {
   "cell_type": "code",
   "execution_count": null,
   "metadata": {},
   "outputs": [],
   "source": [
    "W, W_table = load_connectivity(cfg)\n",
    "# CHANGE DEFAULTS\n",
    "allExcDNs = W_table.loc[(W_table[\"class\"] == \"descending neuron\") & (W_table[\"predictedNt\"] == \"acetylcholine\")]\n",
    "stimNeurons = allExcDNs.index.to_list()\n",
    "stimNeurons = [[neuron] for neuron in stimNeurons]\n",
    "nSims = len(stimNeurons)"
   ]
  },
  {
   "cell_type": "markdown",
   "metadata": {},
   "source": [
    "# Check param dists"
   ]
  },
  {
   "cell_type": "code",
   "execution_count": null,
   "metadata": {},
   "outputs": [],
   "source": [
    "from src.Archive.vnc_old import load_vnc_net as load_vnc_net_old\n",
    "params, config = load_vnc_net(cfg)\n",
    "params_old, config_old = load_vnc_net_old(cfg_old)\n",
    "\n",
    "fig, axs = plt.subplots(2, 2, figsize=(10, 8))\n",
    "axs = axs.flatten()\n",
    "for n, (orig,new) in enumerate(zip([params_old.tau,params_old.threshold,params_old.a,params_old.fr_cap], [params.tau, params.threshold, params.a, params.fr_cap])):\n",
    "    axs[n].hist(orig.flatten(), bins=50, alpha=0.5, label='Sampled', density=True)\n",
    "    axs[n].hist(new.flatten(), bins=50, alpha=0.5, label='Original', density=True)\n",
    "    axs[n].set_title(f\"Histogram of {n}\")\n",
    "    axs[n].set_xlabel(n)\n",
    "    axs[n].set_ylabel(\"Frequency\")"
   ]
  },
  {
   "cell_type": "markdown",
   "metadata": {},
   "source": [
    "# Testing batchsizes"
   ]
  },
  {
   "cell_type": "code",
   "execution_count": null,
   "metadata": {},
   "outputs": [],
   "source": [
    "params, config = load_vnc_net(cfg)"
   ]
  },
  {
   "cell_type": "code",
   "execution_count": null,
   "metadata": {},
   "outputs": [],
   "source": [
    "batch_size = 200#2**6# cfg.experiment.batch_size\n",
    "# batch_idx = 0  # Example batch index\n",
    "work_queue = []\n",
    "ntotal = 0\n",
    "n_stim_configs = len(params.input_currents_list)\n",
    "n_param_sets = n_replicates = 12345 # len(params.tau)\n",
    "for stim_idx in range(n_stim_configs):\n",
    "    for param_idx in range(n_param_sets):\n",
    "        work_queue.append({\"stim_idx\":stim_idx, \"param_idx\":param_idx, \"total_count\": ntotal})\n",
    "        ntotal +=1\n",
    "all_results = []\n",
    "all_metadata = []\n",
    "n_batches = (len(work_queue) + batch_size - 1) // batch_size\n",
    "for batch_idx in range(n_batches):\n",
    "    start_idx = batch_idx * batch_size\n",
    "    end_idx = min((batch_idx + 1) * batch_size, len(work_queue))\n",
    "    actual_batch_size = end_idx - start_idx\n",
    "    batch_work = work_queue[start_idx:end_idx]\n",
    "\n",
    "    batch_params = {\n",
    "        'tau_batch': jnp.array([item['total_count'] for item in batch_work]),\n",
    "        'stim_batch': jnp.array([item['stim_idx'] for item in batch_work]),\n",
    "        'param_batch': jnp.array([item['param_idx'] for item in batch_work])\n",
    "    }\n",
    "\n",
    "    batch_metadata = [\n",
    "        {'param_idx': item['param_idx'], 'stim_idx': item['stim_idx'], 'total_count': item['total_count']} \n",
    "        for item in batch_work\n",
    "    ]\n",
    "    \n",
    "    batch_size = len(batch_params['tau_batch'])\n",
    "    n_devices = jax.device_count()\n",
    "    # Pad to make divisible by n_devices\n",
    "    pad_size = n_devices - (batch_size % n_devices) if batch_size % n_devices != 0 else 0\n",
    "    print(pad_size, batch_size, n_devices)\n",
    "    device_data = {}\n",
    "    for key, data in batch_params.items():\n",
    "    #     if pad_size > 0:\n",
    "    #         # Pad with the last element\n",
    "    #         if data.ndim == 1:\n",
    "    #             padding = jnp.repeat(data[-1:], pad_size, axis=0)\n",
    "    #         else:\n",
    "    #             padding = jnp.repeat(data[-1:], pad_size, axis=0)\n",
    "    #         data_padded = jnp.concatenate([data, padding])\n",
    "    #     else:\n",
    "    #         data_padded = data\n",
    "        \n",
    "        # Reshape for devices\n",
    "        device_data[key] = data.reshape(n_devices, -1, *data.shape[1:])\n",
    "    print(f\"device_data: {device_data['tau_batch'].shape}, {device_data['stim_batch'].shape}, {device_data['param_batch'].shape}\")\n",
    "\n",
    "\n",
    "    batch_results = device_data['tau_batch'][:,:,None,None]\n",
    "    batch_results_flat = batch_results.reshape(-1, *batch_results.shape[2:])\n",
    "    batch_results_trimmed = batch_results_flat[:actual_batch_size]\n",
    "    batch_results_trimmed = jax.device_put(batch_results_trimmed, jax.devices('cpu')[0])\n",
    "    batch_results_trimmed = jnp.where(\n",
    "            jnp.isinf(batch_results_trimmed) | jnp.isnan(batch_results_trimmed), \n",
    "            0, batch_results_trimmed\n",
    "        )\n",
    "    all_results.extend(batch_results_trimmed)\n",
    "    all_metadata.extend(batch_metadata)\n",
    "    print(f'batch:{batch_idx}, {batch_results_trimmed.squeeze()}')\n"
   ]
  },
  {
   "cell_type": "code",
   "execution_count": null,
   "metadata": {},
   "outputs": [],
   "source": []
  },
  {
   "cell_type": "code",
   "execution_count": null,
   "metadata": {},
   "outputs": [],
   "source": [
    "batch_size % n_devices, batch_size, n_devices\n",
    "# batch_params['tau_batch'], len(work_queue)"
   ]
  },
  {
   "cell_type": "code",
   "execution_count": null,
   "metadata": {},
   "outputs": [],
   "source": [
    "\n",
    "results_by_stim = {}\n",
    "results_by_stim_total_ind = {}\n",
    "# Initialize batch_results_trimmed containers\n",
    "for stim_idx in range(n_stim_configs):\n",
    "    results_by_stim[stim_idx] = [None] * n_param_sets\n",
    "    results_by_stim_total_ind[stim_idx] = [None] * n_param_sets\n",
    "\n",
    "# Place results in correct positions using metadata\n",
    "for batch_results_trimmed, metadata in zip(all_results, all_metadata):\n",
    "    param_idx = metadata['param_idx']\n",
    "    stim_idx = metadata['stim_idx']\n",
    "    \n",
    "    # Validate indices\n",
    "    if param_idx >= n_param_sets or stim_idx >= n_stim_configs:\n",
    "        print(f\"Warning: Invalid indices param_idx={param_idx}, stim_idx={stim_idx}\")\n",
    "        continue\n",
    "    results_by_stim_total_ind[stim_idx][param_idx] = metadata['total_count']\n",
    "    results_by_stim[stim_idx][param_idx] = batch_results_trimmed\n",
    "\n",
    "# Convert to arrays and validate completeness\n",
    "for stim_idx in results_by_stim:\n",
    "    results_list = results_by_stim[stim_idx]\n",
    "    result_inds = results_by_stim_total_ind[stim_idx]\n",
    "    if (jnp.diff(jnp.array(results_by_stim_total_ind[stim_idx])) > 1).any():\n",
    "        print(f\"Warning: Inconsistent results for stimulus {stim_idx}, indices: {result_inds}\")\n",
    "    # Check for missing results\n",
    "    missing_indices = [i for i, batch_results_trimmed in enumerate(results_list) if batch_results_trimmed is None]\n",
    "    if missing_indices:\n",
    "        print(f\"Warning: Missing results for stimulus {stim_idx} at parameter indices: {missing_indices}\")\n",
    "        # Fill missing with zeros (same shape as other results)\n",
    "        ref_shape = next(r.shape for r in results_list if r is not None)\n",
    "        for idx in missing_indices:\n",
    "            results_list[idx] = jnp.zeros(ref_shape)\n",
    "    \n",
    "    results_by_stim[stim_idx] = jnp.array(results_list)\n",
    "results2 = jnp.stack([results_by_stim[n] for n in results_by_stim.keys()])\n"
   ]
  },
  {
   "cell_type": "code",
   "execution_count": null,
   "metadata": {},
   "outputs": [],
   "source": [
    "results.shape"
   ]
  },
  {
   "cell_type": "markdown",
   "metadata": {},
   "source": [
    "# Plot Results"
   ]
  },
  {
   "cell_type": "code",
   "execution_count": null,
   "metadata": {},
   "outputs": [],
   "source": [
    "np.where(np.all(np.sum(results,axis=-1)==0,axis=-1))"
   ]
  },
  {
   "cell_type": "code",
   "execution_count": null,
   "metadata": {},
   "outputs": [],
   "source": [
    "R = results[0][21]\n",
    "\n",
    "\n",
    "wTable = pd.read_csv(\"../data/manc t1 connectome data/wTable_20231020_DNtoMN_unsorted_withModules.csv\",index_col=0)\n",
    "nonMns = wTable.loc[(wTable[\"bodyId\"]==10093) | (wTable[\"bodyId\"]==10707) | (wTable[\"bodyId\"]==13905) | (wTable[\"bodyId\"]==11751)]\n",
    "mnIdxs = wTable.loc[wTable[\"class\"]==\"motor neuron\"].index\n",
    "\n",
    "\n",
    "for i in nonMns.index:\n",
    "# for i in mnIdxs:\n",
    "    plt.plot(R[i])\n",
    "    #plt.plot(Rtsp[i])\n",
    "\n",
    "print(np.mean(R))\n"
   ]
  },
  {
   "cell_type": "markdown",
   "metadata": {},
   "source": [
    "## Testing osc score"
   ]
  },
  {
   "cell_type": "code",
   "execution_count": null,
   "metadata": {},
   "outputs": [],
   "source": [
    "results = sparse.load_npz(cfg.paths.ckpt_dir  / \"bdn2.npz\").todense().astype(np.float32)\n",
    "\n",
    "wTable = pd.read_csv(\"../data/manc t1 connectome data/wTable_20231020_DNtoMN_unsorted_withModules.csv\",index_col=0)\n",
    "nonMns = (wTable.loc[(wTable[\"bodyId\"]==10093) | (wTable[\"bodyId\"]==10707) | (wTable[\"bodyId\"]==13905) | (wTable[\"bodyId\"]==11751)]).values\n",
    "mn_idxs = wTable.loc[wTable[\"class\"]==\"motor neuron\"].index.values\n"
   ]
  },
  {
   "cell_type": "code",
   "execution_count": null,
   "metadata": {},
   "outputs": [],
   "source": [
    "from scipy import signal\n",
    "import numpy as np\n",
    "def neuron_oscillation_score_helper_old(activity,prominence):\n",
    "    activity = activity-np.min(activity)\n",
    "    activity = 2 * activity/np.max(activity) - 1\n",
    "\n",
    "    autocorr = np.correlate(activity,activity,mode=\"full\") / np.inner(activity,activity)\n",
    "    lags = signal.correlation_lags(len(activity),len(activity))\n",
    "    autocorr = autocorr[lags>0]\n",
    "    lags = lags[lags>0]\n",
    "\n",
    "    peaks, peakProperties = signal.find_peaks(autocorr,height=(None,None),prominence=prominence)\n",
    "    if len(peaks) > 0:\n",
    "        score = np.min([np.max(peakProperties[\"peak_heights\"]),np.max(peakProperties[\"prominences\"])])\n",
    "        frequency = 1 / peaks[np.argmax(peakProperties[\"prominences\"])]\n",
    "    else:\n",
    "        score = 0\n",
    "        frequency = 0\n",
    "\n",
    "    return score, frequency\n",
    "\n",
    "def neuron_oscillation_score_old(activity, returnFrequency=False,prominence=0.05):\n",
    "    rawScore, frequency = neuron_oscillation_score_helper_old(activity,prominence)\n",
    "    # normalize to sine wave of the same frequency and duration\n",
    "    if rawScore == 0:\n",
    "        score = 0\n",
    "    else:\n",
    "        refSinScore, _ = neuron_oscillation_score_helper_old(np.sin(2*np.pi*frequency*np.arange(len(activity))),prominence)\n",
    "        refCosScore, _ = neuron_oscillation_score_helper_old(np.cos(2*np.pi*frequency*np.arange(len(activity))),prominence)\n",
    "        refScore = np.max((refSinScore,refCosScore))\n",
    "        score = rawScore / refScore\n",
    "\n",
    "    if returnFrequency:\n",
    "        return score, frequency\n",
    "    else:\n",
    "        return score\n",
    "\n",
    "def sim_oscillation_score_old(R,activeMnIdxs,start=None,end=None,returnFrequency=False):\n",
    "    \"\"\"calculate oscillation score for a simulation\"\"\"\n",
    "    if start is None:\n",
    "        start = 0\n",
    "    if end is None:\n",
    "        end = -1\n",
    "\n",
    "    if returnFrequency:\n",
    "        neuronOscillationScores = []\n",
    "        frequencies = []\n",
    "\n",
    "        for j in activeMnIdxs:\n",
    "            score, freq = neuron_oscillation_score_old(R[j][start:end],returnFrequency=True)\n",
    "            neuronOscillationScores.append(score)\n",
    "            frequencies.append(freq)\n",
    "        return np.mean(neuronOscillationScores), np.nanmean(frequencies)\n",
    "        \n",
    "    else:\n",
    "        neuronOscillationScores = [neuron_oscillation_score_old(R[j][start:end]) for j in activeMnIdxs] # scores for each neuron\n",
    "        return np.mean(neuronOscillationScores) # average for the simulation\n",
    "    \n",
    "    "
   ]
  },
  {
   "cell_type": "code",
   "execution_count": null,
   "metadata": {},
   "outputs": [],
   "source": [
    "R = results[0][19]\n",
    "np_R = np.asarray(R)\n",
    "maxFrs = np.max(np_R,axis=-1)\n",
    "activeMnIdxs = mnIdxs[maxFrs[mnIdxs]>0]\n",
    "plt.plot(np_R[activeMnIdxs].T)\n",
    "plt.show()"
   ]
  },
  {
   "cell_type": "code",
   "execution_count": null,
   "metadata": {},
   "outputs": [],
   "source": []
  },
  {
   "cell_type": "code",
   "execution_count": null,
   "metadata": {},
   "outputs": [],
   "source": [
    "R = results[1][1]\n",
    "\n",
    "score, freq = sim_oscillation_score_old(R,activeMnIdxs,start=250,end=None,returnFrequency=True)\n",
    "print(f\"Score: {score}, Frequency: {freq}\")"
   ]
  },
  {
   "cell_type": "code",
   "execution_count": null,
   "metadata": {},
   "outputs": [],
   "source": [
    "from src.sim_utils import neuron_oscillation_score\n"
   ]
  },
  {
   "cell_type": "code",
   "execution_count": null,
   "metadata": {},
   "outputs": [],
   "source": [
    "start = int(cfg.sim.pulseStart/cfg.sim.dt) + 100\n",
    "R = results[0][0]\n",
    "\n",
    "max_frs = jnp.max(R, axis=-1)\n",
    "active_mn_idxs = mn_idxs[max_frs[...,mn_idxs] > 0]\n",
    "activity = R[active_mn_idxs][..., start:]  # Adjusted to match the original code's start index\n",
    "\n",
    "score, frequency = jax.vmap(neuron_oscillation_score, in_axes=(0, None))(activity, 0.05)\n",
    "print(f\"Score: {jnp.nanmean(score)}, Frequency: {jnp.nanmean(frequency)}\")"
   ]
  },
  {
   "cell_type": "markdown",
   "metadata": {},
   "source": [
    "# Testing Pruning"
   ]
  },
  {
   "cell_type": "code",
   "execution_count": 5,
   "metadata": {},
   "outputs": [],
   "source": [
    "from src.sim_utils import neuron_oscillation_score\n",
    "\n",
    "experiment='prune_test'\n",
    "with initialize(version_base=None, config_path=\"../configs\"):\n",
    "    cfg=compose(config_name='config.yaml', overrides= [f\"experiment={experiment}\", \"paths=glados\", \"version=debug\", f'run_id=Testing'],return_hydra_config=True,)\n",
    "    HydraConfig.instance().set_config(cfg)\n",
    "\n",
    "for k in cfg.paths.keys():\n",
    "    if (k != 'user'):\n",
    "        cfg.paths[k] = Path(cfg.paths[k])\n",
    "        cfg.paths[k].mkdir(parents=True, exist_ok=True)\n",
    "\n"
   ]
  },
  {
   "cell_type": "markdown",
   "metadata": {},
   "source": [
    "##### Temp parames testing"
   ]
  },
  {
   "cell_type": "code",
   "execution_count": null,
   "metadata": {},
   "outputs": [],
   "source": [
    "results = run_vnc_simulation_optimized(cfg)"
   ]
  },
  {
   "cell_type": "code",
   "execution_count": null,
   "metadata": {},
   "outputs": [],
   "source": [
    "def extract_nth_filtered_pytree(pytree, n, path_filter, key_list=['tau', 'threshold', 'a', 'fr_cap', 'W_mask']):\n",
    "    \"\"\"\n",
    "    path_filter: function that takes key_path tuple and returns True/False\n",
    "    \"\"\"\n",
    "    def process_leaf(key_path, leaf):\n",
    "        if path_filter(key_path, key_list):\n",
    "            return leaf[n:n+1]\n",
    "        return leaf\n",
    "\n",
    "    return jax.tree.map_with_path(process_leaf, pytree)\n",
    "\n",
    "def path_filter(key_path, key_list):\n",
    "    \"\"\"\n",
    "    Filter function that checks if the key_path contains specific keys.\n",
    "    \"\"\"\n",
    "    return key_path[0].name in key_list and key_path != []"
   ]
  },
  {
   "cell_type": "code",
   "execution_count": null,
   "metadata": {},
   "outputs": [],
   "source": [
    "temp_params = extract_nth_filtered_pytree(neuron_params, 0, path_filter)\n",
    "for att in temp_params:\n",
    "    if jnp.ndim(att) > 0:\n",
    "        print(att.shape)"
   ]
  },
  {
   "cell_type": "code",
   "execution_count": 340,
   "metadata": {},
   "outputs": [],
   "source": [
    "total_sims = 1\n",
    "batch_size = calculate_optimal_batch_size(sim_params.n_neurons, len(sim_params.t_axis))\n",
    "start_idx = i * batch_size\n",
    "end_idx = min((i + 1) * batch_size, total_sims)\n",
    "\n",
    "batch_indices = jnp.arange(start_idx, end_idx)\n",
    "\n",
    "temp_params = extract_nth_filtered_pytree(neuron_params, 0, path_filter)\n",
    "\n",
    "batch_results = process_batch_baseline(temp_params, sim_params, jnp.zeros(1,dtype=jnp.int32)).squeeze() # Single simulation result"
   ]
  },
  {
   "cell_type": "code",
   "execution_count": 7,
   "metadata": {},
   "outputs": [],
   "source": [
    "W_table = load_wTable(cfg.experiment.dfPath)\n",
    "n_stim_configs = len(cfg.experiment.stimNeurons)\n",
    "\n",
    "# Prepare parameters\n",
    "neuron_params = prepare_neuron_params(cfg, W_table)\n",
    "sim_params = prepare_sim_params(cfg, n_stim_configs, neuron_params.W.shape[0])\n",
    "\n",
    "# results = sparse.load_npz(cfg.paths.ckpt_dir  / \"bdn2.npz\").todense().astype(np.float32)\n",
    "\n",
    "W_table = pd.read_csv(\"../data/manc t1 connectome data/wTable_20231020_DNtoMN_unsorted_withModules.csv\",index_col=0)\n",
    "nonMns = (W_table.loc[(W_table[\"bodyId\"]==10093) | (W_table[\"bodyId\"]==10707) | (W_table[\"bodyId\"]==13905) | (W_table[\"bodyId\"]==11751)]).values\n",
    "mnIdxs = W_table.loc[W_table[\"class\"]==\"motor neuron\"].index.values\n",
    "\n",
    "# n_sims = results.shape[0]"
   ]
  },
  {
   "cell_type": "code",
   "execution_count": 248,
   "metadata": {},
   "outputs": [
    {
     "data": {
      "text/plain": [
       "Array([0.00022512, 0.00022512, 0.00022512, ..., 0.00022512, 0.00022512,\n",
       "       0.00022512], dtype=float32)"
      ]
     },
     "execution_count": 248,
     "metadata": {},
     "output_type": "execute_result"
    }
   ],
   "source": [
    "all_neurons = np.arange(sim_params.n_neurons)\n",
    "mn_idxs = jnp.asarray(W_table.loc[W_table[\"class\"]==\"motor neuron\"].index.values)\n",
    "in_idxs = jnp.setdiff1d(all_neurons, mn_idxs)\n",
    "removed_stim_neurons = jnp.full([n_sims, neuron_params.removed_neurons.shape[-1]], -1, dtype=jnp.int32)\n",
    "prev_neurons_put_back = jnp.full([n_sims, neuron_params.removed_neurons.shape[-1]], -1, dtype=jnp.int32)\n",
    "\n",
    "\n",
    "######\n",
    "\n",
    "\"\"\"JAX-compatible version of run_pruning_from_params\"\"\"\n",
    "max_neurons = 4561  # Maximum neurons to put back in a single iteration\n",
    "n_sims = sim_params.n_param_sets * sim_params.n_stim_configs\n",
    "\n",
    "# Initialize state arrays\n",
    "level = jnp.zeros(n_sims, dtype=jnp.int32)\n",
    "last_removed = jnp.full([n_sims, neuron_params.removed_neurons.shape[-1]], -1, dtype=jnp.int32)  # Use -1 for None\n",
    "neurons_put_back = jnp.full([n_sims, neuron_params.removed_neurons.shape[-1]], -1, dtype=jnp.int32)\n",
    "min_circuit = jnp.full(n_sims, False)\n",
    "\n",
    "# Initialize probabilities\n",
    "p_arrays = []\n",
    "for i in range(n_sims):\n",
    "    exclude_mask = jnp.isin(in_idxs, jnp.concatenate([removed_stim_neurons[i]]))\n",
    "    p_i = removal_probability(jnp.ones_like(in_idxs), exclude_mask)\n",
    "    p_arrays.append(p_i)\n",
    "\n",
    "p_arrays[0]"
   ]
  },
  {
   "cell_type": "code",
   "execution_count": 249,
   "metadata": {},
   "outputs": [
    {
     "name": "stdout",
     "output_type": "stream",
     "text": [
      "Iteration 0\n"
     ]
    },
    {
     "data": {
      "text/plain": [
       "(Array([-1, -1, -1, ..., -1, -1, -1], dtype=int32),\n",
       " Array([-1, -1, -1, ..., -1, -1, -1], dtype=int32),\n",
       " Array([-1, -1, -1, ..., -1, -1, -1], dtype=int32),\n",
       " Array([0.00022512, 0.00022512, 0.00022512, ..., 0.00022512, 0.00022512,\n",
       "        0.00022512], dtype=float32),\n",
       " Array(0, dtype=int32),\n",
       " Array([-1, -1, -1, ..., -1, -1, -1], dtype=int32),\n",
       " Array([ 726863002, 2265770120], dtype=uint32))"
      ]
     },
     "execution_count": 249,
     "metadata": {},
     "output_type": "execute_result"
    }
   ],
   "source": [
    "oscillation_threshold=0.1\n",
    "iter_start = 0  # Starting iteration\n",
    "# Create master random key\n",
    "# master_key = random.PRNGKey(neuron_params.seeds, 42)\n",
    "\n",
    "# Main pruning loop\n",
    "iteration = iter_start\n",
    "max_iterations = 1000  # Safety limit\n",
    "\n",
    "# while not jnp.all(min_circuit) and iteration < max_iterations:\n",
    "print(f\"Iteration {iteration}\")\n",
    "\n",
    "# Resample seeds for non-converged simulations\n",
    "resample_idxs = jnp.where(~min_circuit)[0]\n",
    "\n",
    "# Run simulation (this would call your simulation function)\n",
    "# For now, creating dummy data - replace with actual simulation results\n",
    "Rs = [jnp.ones((len(in_idxs) + len(mn_idxs), 1000)) for _ in range(n_sims)]\n",
    "# Update each simulation state\n",
    "# for i in range(n_sims):\n",
    "i = 0  # Example index, replace with actual loop\n",
    "# if min_circuit[i]:\n",
    "#     continue\n",
    "    \n",
    "state = (\n",
    "    neuron_params.removed_neurons,  # array for removed neurons\n",
    "    neurons_put_back[i],\n",
    "    last_removed[i],\n",
    "    p_arrays[i],\n",
    "    level[i],\n",
    "    removed_stim_neurons[i],\n",
    "    neuron_params.seeds[i],\n",
    ")\n",
    "state\n",
    "# new_state = update_single_sim_state(\n",
    "#     state, Rs[i], mn_idxs, in_idxs, oscillation_threshold\n",
    "# )"
   ]
  },
  {
   "cell_type": "code",
   "execution_count": null,
   "metadata": {},
   "outputs": [],
   "source": []
  },
  {
   "cell_type": "code",
   "execution_count": 250,
   "metadata": {},
   "outputs": [],
   "source": [
    "\n",
    "@jax.jit\n",
    "def compute_oscillation_score(activity, active_mask, prominence=0.05):\n",
    "    # Compute scores for all neurons (will be NaN for inactive ones)\n",
    "    scores = jax.vmap(\n",
    "        lambda activity_row, mask: jax.lax.cond(\n",
    "            mask,\n",
    "            lambda x: neuron_oscillation_score(x, prominence=prominence),\n",
    "            lambda x: (jnp.nan, jnp.nan),\n",
    "            activity_row\n",
    "        ),\n",
    "        in_axes=(0, 0)\n",
    "    )(activity, active_mask)\n",
    "    score_values, frequencies = scores\n",
    "    # Compute mean of valid scores\n",
    "    oscillation_score = jnp.nanmean(score_values)\n",
    "    frequencies = jnp.nanmean(frequencies)\n",
    "    return oscillation_score, frequencies"
   ]
  },
  {
   "cell_type": "code",
   "execution_count": null,
   "metadata": {},
   "outputs": [],
   "source": [
    "max_frs = jnp.max(R, axis=-1)\n",
    "mn_mask = jnp.isin(jnp.arange(R.shape[0]), mn_idxs)\n",
    "active_mask = ((max_frs>0) & mn_mask)  # Combine max_frs with mn_mask to get active neurons\n",
    "\n",
    "oscillation_score, frequencies = compute_oscillation_score(R, active_mask, prominence=0.05)\n"
   ]
  },
  {
   "cell_type": "code",
   "execution_count": null,
   "metadata": {},
   "outputs": [],
   "source": [
    "start = int(cfg.sim.pulseStart/cfg.sim.dt) + 100\n",
    "\n",
    "max_frs = jnp.max(R, axis=-1)\n",
    "active_mn_idxs = mn_idxs[max_frs[...,mn_idxs] > 0]\n",
    "activity = R[active_mn_idxs][..., start:]  # Adjusted to match the original code's start index\n",
    "\n",
    "score, frequency = jax.vmap(neuron_oscillation_score, in_axes=(0, None))(activity, 0.05)\n",
    "print(f\"Score: {jnp.nanmean(score)}, Frequency: {jnp.nanmean(frequency)}\")"
   ]
  },
  {
   "cell_type": "code",
   "execution_count": null,
   "metadata": {},
   "outputs": [],
   "source": []
  },
  {
   "cell_type": "code",
   "execution_count": 112,
   "metadata": {},
   "outputs": [],
   "source": [
    "new_p = removal_probability(max_frs[in_idxs], exclude_mask)"
   ]
  },
  {
   "cell_type": "code",
   "execution_count": 256,
   "metadata": {},
   "outputs": [],
   "source": [
    "new_remove_neurons = jnp.setdiff1d(remove_neurons, jnp.array([last_removed]), size=len(remove_neurons), fill_value=-1)"
   ]
  },
  {
   "cell_type": "code",
   "execution_count": 270,
   "metadata": {},
   "outputs": [],
   "source": [
    "(remove_neurons, neurons_put_back, last_removed, p, level, removed_stim_neurons, key) = state\n",
    "\n",
    "@jax.jit\n",
    "def get_pos_val_indices(arr, max_indices=None):\n",
    "    if max_indices is None:\n",
    "        max_indices = arr.shape[0]  # Use full array size as max\n",
    "    \n",
    "    indices = jnp.where(arr >= 0, size=max_indices, fill_value=-1)[0]\n",
    "    return indices\n",
    "\n",
    "@jax.jit\n",
    "def continue_branch(key):\n",
    "    # Get max firing rates for all neurons\n",
    "    max_frs = jnp.max(R, axis=1)\n",
    "    \n",
    "    # Remove silent interneurons\n",
    "    silent_mask = (max_frs == 0)\n",
    "    silent_in_mask = silent_mask[in_idxs]\n",
    "    silent_ins = jnp.where(silent_in_mask, in_idxs, -1)\n",
    "    # silent_ins = silent_ins[silent_ins >= 0]  # Filter out -1 values\n",
    "\n",
    "    new_remove_neurons = get_pos_val_indices(silent_ins)\n",
    "\n",
    "    # Update probabilities based on firing rates\n",
    "    exclude_mask = jnp.isin(in_idxs, neurons_put_back) | jnp.isin(in_idxs, removed_stim_neurons)\n",
    "    new_p = removal_probability(max_frs[in_idxs], exclude_mask)\n",
    "    \n",
    "    # Check if we can continue\n",
    "    p_sum = jnp.sum(new_p)\n",
    "    converged = p_sum <= 1e-10\n",
    "    \n",
    "    key, subkey = random.split(key)\n",
    "    neuron_idx = jax_choice(subkey, jnp.arange(len(in_idxs)), new_p)\n",
    "    new_neuron_to_remove = neurons_put_back.at[in_idxs[neuron_idx]].set(1)\n",
    "\n",
    "    new_remove_neurons = jnp.where((new_remove_neurons>0 )| (new_neuron_to_remove>0), 1, -1)\n",
    "\n",
    "    return (new_remove_neurons, neurons_put_back, new_neuron_to_remove,\n",
    "            new_p, level, removed_stim_neurons, key, converged)\n",
    "    \n",
    "@jax.jit\n",
    "def reset_branch(key):\n",
    "    # Put back the last removed neuron\n",
    "    new_remove_neurons = jnp.setdiff1d(remove_neurons, jnp.array([last_removed]), size=len(remove_neurons), fill_value=-1)\n",
    "    # Combine neurons_put_back and last_removed into a single mask\n",
    "    new_neurons_put_back = jnp.where((neurons_put_back >= 0) & (last_removed >= 0), 1, -1)\n",
    "\n",
    "\n",
    "    # Update probabilities to exclude put-back neurons\n",
    "    exclude_mask = jnp.isin(in_idxs, new_neurons_put_back) | jnp.isin(in_idxs, removed_stim_neurons)\n",
    "    new_p = removal_probability(jnp.ones(len(in_idxs)), exclude_mask)\n",
    "    \n",
    "    # Check if we can continue\n",
    "    p_sum = jnp.sum(new_p)\n",
    "    converged = p_sum <= 1e-10\n",
    "    \n",
    "    key, subkey = random.split(key)\n",
    "    neuron_idx = jax_choice(subkey, jnp.arange(len(in_idxs)), new_p)\n",
    "    new_neuron_to_remove = neurons_put_back.at[in_idxs[neuron_idx]].set(1)\n",
    "    \n",
    "    new_remove_neurons = jnp.where((new_remove_neurons>0 )| (new_neuron_to_remove>0), 1, -1)\n",
    "    \n",
    "    return (new_remove_neurons, new_neurons_put_back, new_neuron_to_remove, \n",
    "            new_p, level, removed_stim_neurons, key, converged)"
   ]
  },
  {
   "cell_type": "code",
   "execution_count": 51,
   "metadata": {},
   "outputs": [
    {
     "name": "stdout",
     "output_type": "stream",
     "text": [
      "Key Path: .W_mask, Leaf: (1, 4561, 4561)\n",
      "Key Path: .in_idxs, Leaf: (4442,)\n",
      "Key Path: .level, Leaf: (1,)\n",
      "Key Path: .removed_neurons, Leaf: (1, 4442)\n",
      "Key Path: .removed_stim_neurons, Leaf: (1, 4442)\n",
      "Key Path: .neurons_put_back, Leaf: (1, 4442)\n",
      "Key Path: .last_removed, Leaf: (1, 4442)\n",
      "Key Path: .remove_p, Leaf: (1, 4442)\n",
      "Key Path: .min_circuit, Leaf: (1,)\n",
      "Key Path: .keys, Leaf: (1, 2)\n"
     ]
    },
    {
     "data": {
      "text/plain": [
       "Pruning_state(W_mask=None, in_idxs=None, level=None, removed_neurons=None, removed_stim_neurons=None, neurons_put_back=None, last_removed=None, remove_p=None, min_circuit=None, keys=None)"
      ]
     },
     "execution_count": 51,
     "metadata": {},
     "output_type": "execute_result"
    }
   ],
   "source": [
    "def print_pytree(pytree):\n",
    "    \"\"\"\n",
    "    path_filter: function that takes key_path tuple and returns True/False\n",
    "    \"\"\"\n",
    "    def process_leaf(key_path, leaf):\n",
    "       print(f\"Key Path: {key_path[0]}, Leaf: {leaf.shape}\")\n",
    "\n",
    "    return jax.tree.map_with_path(process_leaf, pytree)\n",
    "print_pytree(state)"
   ]
  },
  {
   "cell_type": "code",
   "execution_count": 286,
   "metadata": {},
   "outputs": [
    {
     "name": "stdout",
     "output_type": "stream",
     "text": [
      "Next state:\n",
      "(Array([   1,    2,    3, ..., 4241, 4242, 4243], dtype=int32),)\n",
      "(Array([], shape=(0,), dtype=int32),)\n",
      "(Array([2324], dtype=int32),)\n",
      "(Array([   0,    1,    2, ..., 4439, 4440, 4441], dtype=int32),)\n",
      "(Array([], shape=(0,), dtype=int32),)\n",
      "(Array([0, 1], dtype=int32),)\n"
     ]
    }
   ],
   "source": [
    "new_state = update_single_sim_state(state, R, mn_idxs, in_idxs, oscillation_threshold)\n",
    "print('Next state:')\n",
    "for att in new_state:\n",
    "    if jnp.ndim(att) > 0:\n",
    "        print(jnp.where(att>0))"
   ]
  },
  {
   "cell_type": "code",
   "execution_count": 271,
   "metadata": {},
   "outputs": [
    {
     "data": {
      "text/plain": [
       "((Array([-1,  1,  1, ..., -1, -1, -1], dtype=int32, weak_type=True),\n",
       "  Array([-1, -1, -1, ..., -1, -1, -1], dtype=int32),\n",
       "  Array([-1, -1, -1, ..., -1, -1, -1], dtype=int32),\n",
       "  Array([0.00018046, 0.00018046, 0.00018046, ..., 0.00018046, 0.00018046,\n",
       "         0.00018046], dtype=float32),\n",
       "  Array(0, dtype=int32),\n",
       "  Array([-1, -1, -1, ..., -1, -1, -1], dtype=int32),\n",
       "  Array([ 906402197, 4248685058], dtype=uint32),\n",
       "  Array(False, dtype=bool)),\n",
       " (Array([-1, -1, -1, ..., -1, -1, -1], dtype=int32, weak_type=True),\n",
       "  Array([-1, -1, -1, ..., -1, -1, -1], dtype=int32, weak_type=True),\n",
       "  Array([-1, -1, -1, ..., -1, -1, -1], dtype=int32),\n",
       "  Array([0.00022512, 0.00022512, 0.00022512, ..., 0.00022512, 0.00022512,\n",
       "         0.00022512], dtype=float32),\n",
       "  Array(0, dtype=int32),\n",
       "  Array([-1, -1, -1, ..., -1, -1, -1], dtype=int32),\n",
       "  Array([ 906402197, 4248685058], dtype=uint32),\n",
       "  Array(False, dtype=bool)))"
      ]
     },
     "execution_count": 271,
     "metadata": {},
     "output_type": "execute_result"
    }
   ],
   "source": [
    "# (remove_neurons, neurons_put_back, last_removed, p, level, removed_stim_neurons, key)\n",
    "next_state = continue_branch(key)\n",
    "reset_state = reset_branch(key)\n",
    "next_state, reset_state"
   ]
  },
  {
   "cell_type": "code",
   "execution_count": 272,
   "metadata": {},
   "outputs": [],
   "source": [
    "(new_remove_neurons, new_neurons_put_back, new_neuron_to_remove,new_p, new_level, new_removed_stim_neurons, new_key, cnew_onverged) = next_state\n"
   ]
  },
  {
   "cell_type": "code",
   "execution_count": null,
   "metadata": {},
   "outputs": [],
   "source": [
    "(reset_remove_neurons, reset_neurons_put_back, reset_neuron_to_remove, reset_p, reset_level, reset_removed_stim_neurons, reset_key, reset_converged) = reset_state"
   ]
  },
  {
   "cell_type": "code",
   "execution_count": 280,
   "metadata": {},
   "outputs": [
    {
     "name": "stdout",
     "output_type": "stream",
     "text": [
      "Next state:\n",
      "(Array([   1,    2,    3, ..., 4241, 4242, 4243], dtype=int32),)\n",
      "(Array([], shape=(0,), dtype=int32),)\n",
      "(Array([2324], dtype=int32),)\n",
      "(Array([   0,    1,    2, ..., 4439, 4440, 4441], dtype=int32),)\n",
      "(Array([], shape=(0,), dtype=int32),)\n",
      "(Array([0, 1], dtype=int32),)\n",
      "Reset state:\n",
      "(Array([2324], dtype=int32),)\n",
      "(Array([], shape=(0,), dtype=int32),)\n",
      "(Array([2324], dtype=int32),)\n",
      "(Array([   0,    1,    2, ..., 4439, 4440, 4441], dtype=int32),)\n",
      "(Array([], shape=(0,), dtype=int32),)\n",
      "(Array([0, 1], dtype=int32),)\n"
     ]
    }
   ],
   "source": [
    "print('Next state:')\n",
    "for att in next_state:\n",
    "    if jnp.ndim(att) > 0:\n",
    "        print(jnp.where(att>0))\n",
    "print('Reset state:')\n",
    "for att in reset_state:\n",
    "    if jnp.ndim(att) > 0:\n",
    "        print(jnp.where(att>0))"
   ]
  },
  {
   "cell_type": "code",
   "execution_count": 22,
   "metadata": {},
   "outputs": [
    {
     "name": "stdout",
     "output_type": "stream",
     "text": [
      "Running 1 simulations with batch size 10\n",
      "Batch 1/1 completed\n"
     ]
    }
   ],
   "source": [
    "simulation_type = \"baseline\"\n",
    "Rs = run_simulation_batched(\n",
    "    neuron_params, sim_params, simulation_type,\n",
    "    batch_size=getattr(cfg.experiment, \"batch_size\", None)\n",
    ")"
   ]
  },
  {
   "cell_type": "code",
   "execution_count": null,
   "metadata": {},
   "outputs": [
    {
     "data": {
      "text/plain": [
       "(1, 1, 4561, 2000)"
      ]
     },
     "execution_count": 23,
     "metadata": {},
     "output_type": "execute_result"
    }
   ],
   "source": [
    "# Get active MN activity using JAX-compatible approach\n",
    "max_frs = jnp.max(R, axis=-1)\n",
    "mn_mask = jnp.isin(jnp.arange(R.shape[0]), mn_idxs)\n",
    "active_mask = ((max_frs>0) & mn_mask)  # Combine max_frs with mn_mask to get active neurons\n",
    "\n",
    "oscillation_score, _ = compute_oscillation_score(R[..., start:], active_mask, prominence=0.05)"
   ]
  },
  {
   "cell_type": "code",
   "execution_count": 276,
   "metadata": {},
   "outputs": [
    {
     "data": {
      "text/plain": [
       "((Array([   1,    2,    3, ..., 4241, 4242, 4243], dtype=int32),),\n",
       " (Array([], shape=(0,), dtype=int32),),\n",
       " (Array([2324], dtype=int32),),\n",
       " (Array([], shape=(0,), dtype=int32),))"
      ]
     },
     "execution_count": 276,
     "metadata": {},
     "output_type": "execute_result"
    }
   ],
   "source": [
    "oscillation_threshold = 0.1\n",
    "# Load data (this part stays on CPU)\n",
    "w_table = load_wTable(cfg.experiment.dfPath)\n",
    "n_stim_configs = len(cfg.experiment.stimNeurons)\n",
    "\n",
    "## Initialize parameters\n",
    "neuron_params = prepare_neuron_params(cfg, w_table)\n",
    "sim_params = prepare_sim_params(cfg, n_stim_configs, neuron_params.W.shape[0])\n",
    "all_neurons = w_table.index.to_numpy()\n",
    "\n",
    "\n",
    "# Initialize state\n",
    "n_sims = sim_params.n_param_sets * sim_params.n_stim_configs\n",
    "mn_idxs = jnp.asarray(w_table.loc[w_table[\"class\"]==\"motor neuron\"].index.values)\n",
    "in_idxs = jnp.setdiff1d(all_neurons, mn_idxs)\n",
    "removed_stim_neurons = jnp.full([n_sims, neuron_params.removed_neurons.shape[-1]], -1, dtype=jnp.int32)\n",
    "prev_neurons_put_back = jnp.full([n_sims, neuron_params.removed_neurons.shape[-1]], -1, dtype=jnp.int32)\n"
   ]
  },
  {
   "cell_type": "markdown",
   "metadata": {},
   "source": [
    "## full pipeline testing"
   ]
  },
  {
   "cell_type": "code",
   "execution_count": 3,
   "metadata": {},
   "outputs": [],
   "source": [
    "from src.prune_net import *"
   ]
  },
  {
   "cell_type": "code",
   "execution_count": 6,
   "metadata": {},
   "outputs": [
    {
     "name": "stdout",
     "output_type": "stream",
     "text": [
      "Running 2 simulations with batch size 10\n"
     ]
    }
   ],
   "source": [
    "oscillation_threshold = 0.2\n",
    "# Load data (this part stays on CPU)\n",
    "w_table = load_wTable(cfg.experiment.dfPath)\n",
    "n_stim_configs = len(cfg.experiment.stimNeurons)\n",
    "## Initialize parameters\n",
    "neuron_params = prepare_neuron_params(cfg, w_table)\n",
    "sim_params = prepare_sim_params(cfg, n_stim_configs, neuron_params.W.shape[0])\n",
    "all_neurons = w_table.index.to_numpy()\n",
    "n_sims = sim_params.n_param_sets * sim_params.n_stim_configs\n",
    "mn_idxs = jnp.asarray(w_table.loc[w_table[\"class\"]==\"motor neuron\"].index.values)\n",
    "in_idxs = jnp.setdiff1d(all_neurons, mn_idxs)\n",
    "clip_start = int(cfg.sim.pulseStart / cfg.sim.dt) + 100\n",
    "\n",
    "total_sims = sim_params.n_stim_configs * sim_params.n_param_sets\n",
    "batch_size = getattr(cfg.experiment, \"batch_size\", None)\n",
    "if batch_size is None:\n",
    "    batch_size = calculate_optimal_batch_size(\n",
    "        sim_params.n_neurons, len(sim_params.t_axis)\n",
    "    )\n",
    "    \n",
    "batch_func = process_batch_prune\n",
    "# Create parallel version for multiple devices\n",
    "if jax.device_count() > 1:\n",
    "    batch_func = pmap(batch_func, axis_name=\"device\", in_axes=(None, None, 0))\n",
    "    batch_size = (batch_size // jax.device_count()) * jax.device_count()\n",
    "\n",
    "print(f\"Running {total_sims} simulations with batch size {batch_size}\")\n",
    "\n",
    "# Process in batches\n",
    "all_results = []\n",
    "n_batches = (total_sims + batch_size - 1) // batch_size\n",
    "\n",
    "# for i in range(n_batches):\n",
    "i = 0 \n",
    "start_idx = i * batch_size\n",
    "end_idx = min((i + 1) * batch_size, total_sims)\n",
    "\n",
    "batch_indices = jnp.arange(start_idx, end_idx)\n",
    "\n",
    "# Pad if necessary for pmap\n",
    "if jax.device_count() > 1 and len(batch_indices) < batch_size:\n",
    "    pad_size = batch_size - len(batch_indices)\n",
    "    batch_indices = jnp.concatenate([\n",
    "        batch_indices, \n",
    "        jnp.repeat(batch_indices[-1], pad_size)\n",
    "    ])\n"
   ]
  },
  {
   "cell_type": "code",
   "execution_count": 7,
   "metadata": {},
   "outputs": [
    {
     "name": "stdout",
     "output_type": "stream",
     "text": [
      "Iteration 0\n",
      "W_mask True\n"
     ]
    },
    {
     "name": "stderr",
     "output_type": "stream",
     "text": [
      "2025-07-21 09:49:02.545831: E external/xla/xla/stream_executor/cuda/cuda_timer.cc:86] Delay kernel timed out: measured time has sub-optimal accuracy. There may be a missing warmup execution, please investigate in Nsight Systems.\n",
      "2025-07-21 09:49:03.018330: E external/xla/xla/stream_executor/cuda/cuda_timer.cc:86] Delay kernel timed out: measured time has sub-optimal accuracy. There may be a missing warmup execution, please investigate in Nsight Systems.\n",
      "2025-07-21 09:49:03.038768: E external/xla/xla/service/slow_operation_alarm.cc:73] Trying algorithm eng28{k2=4,k3=0} for conv %cudnn-conv = (f32[1,9122,3759]{2,1,0}, u8[0]{0}) custom-call(%bitcast.20, %bitcast.21), window={size=1880 pad=1879_1879}, dim_labels=bf0_oi0->bf0, feature_group_count=9122, custom_call_target=\"__cudnn$convForward\", metadata={op_name=\"jit(update_single_sim_state)/jit(main)/jit(compute_oscillation_score)/vmap(jit(neuron_oscillation_score))/jit(neuron_oscillation_score_helper_jax)/jit(correlate)/jit(_conv)/conv_general_dilated\" source_file=\"/home/eabe/Research/Github/Pugliese_2025/src/sim_utils.py\" source_line=107}, backend_config={\"operation_queue_id\":\"0\",\"wait_on_operation_queues\":[],\"cudnn_conv_backend_config\":{\"conv_result_scale\":1,\"activation_mode\":\"kNone\",\"side_input_scale\":0,\"leakyrelu_alpha\":0},\"force_earliest_schedule\":false,\"reification_cost\":[]} is taking a while...\n",
      "2025-07-21 09:49:03.345535: E external/xla/xla/service/slow_operation_alarm.cc:140] The operation took 1.306844241s\n",
      "Trying algorithm eng28{k2=4,k3=0} for conv %cudnn-conv = (f32[1,9122,3759]{2,1,0}, u8[0]{0}) custom-call(%bitcast.20, %bitcast.21), window={size=1880 pad=1879_1879}, dim_labels=bf0_oi0->bf0, feature_group_count=9122, custom_call_target=\"__cudnn$convForward\", metadata={op_name=\"jit(update_single_sim_state)/jit(main)/jit(compute_oscillation_score)/vmap(jit(neuron_oscillation_score))/jit(neuron_oscillation_score_helper_jax)/jit(correlate)/jit(_conv)/conv_general_dilated\" source_file=\"/home/eabe/Research/Github/Pugliese_2025/src/sim_utils.py\" source_line=107}, backend_config={\"operation_queue_id\":\"0\",\"wait_on_operation_queues\":[],\"cudnn_conv_backend_config\":{\"conv_result_scale\":1,\"activation_mode\":\"kNone\",\"side_input_scale\":0,\"leakyrelu_alpha\":0},\"force_earliest_schedule\":false,\"reification_cost\":[]} is taking a while...\n",
      "2025-07-21 09:49:04.345662: E external/xla/xla/service/slow_operation_alarm.cc:73] Trying algorithm eng53{k2=5,k13=1,k14=2,k18=1,k23=0} for conv %cudnn-conv = (f32[1,9122,3759]{2,1,0}, u8[0]{0}) custom-call(%bitcast.20, %bitcast.21), window={size=1880 pad=1879_1879}, dim_labels=bf0_oi0->bf0, feature_group_count=9122, custom_call_target=\"__cudnn$convForward\", metadata={op_name=\"jit(update_single_sim_state)/jit(main)/jit(compute_oscillation_score)/vmap(jit(neuron_oscillation_score))/jit(neuron_oscillation_score_helper_jax)/jit(correlate)/jit(_conv)/conv_general_dilated\" source_file=\"/home/eabe/Research/Github/Pugliese_2025/src/sim_utils.py\" source_line=107}, backend_config={\"operation_queue_id\":\"0\",\"wait_on_operation_queues\":[],\"cudnn_conv_backend_config\":{\"conv_result_scale\":1,\"activation_mode\":\"kNone\",\"side_input_scale\":0,\"leakyrelu_alpha\":0},\"force_earliest_schedule\":false,\"reification_cost\":[]} is taking a while...\n",
      "2025-07-21 09:49:04.567824: E external/xla/xla/service/slow_operation_alarm.cc:140] The operation took 1.222235443s\n",
      "Trying algorithm eng53{k2=5,k13=1,k14=2,k18=1,k23=0} for conv %cudnn-conv = (f32[1,9122,3759]{2,1,0}, u8[0]{0}) custom-call(%bitcast.20, %bitcast.21), window={size=1880 pad=1879_1879}, dim_labels=bf0_oi0->bf0, feature_group_count=9122, custom_call_target=\"__cudnn$convForward\", metadata={op_name=\"jit(update_single_sim_state)/jit(main)/jit(compute_oscillation_score)/vmap(jit(neuron_oscillation_score))/jit(neuron_oscillation_score_helper_jax)/jit(correlate)/jit(_conv)/conv_general_dilated\" source_file=\"/home/eabe/Research/Github/Pugliese_2025/src/sim_utils.py\" source_line=107}, backend_config={\"operation_queue_id\":\"0\",\"wait_on_operation_queues\":[],\"cudnn_conv_backend_config\":{\"conv_result_scale\":1,\"activation_mode\":\"kNone\",\"side_input_scale\":0,\"leakyrelu_alpha\":0},\"force_earliest_schedule\":false,\"reification_cost\":[]} is taking a while...\n"
     ]
    },
    {
     "name": "stdout",
     "output_type": "stream",
     "text": [
      "Silent interneurons found: 4244\n",
      "Silent interneurons found: 4269\n",
      "Total permanently removed: 4245\n",
      "Total permanently removed: 4270\n",
      "Available for testing: 197\n",
      "Available for testing: 172\n",
      "Oscillation score: 0.7551005482673645\n",
      "Oscillation score: 0.887699544429779\n",
      "Reset condition: False\n",
      "Reset condition: False\n",
      "Converged mini_circuit: False\n",
      "Converged mini_circuit: False\n",
      "Neurons put back: 0\n",
      "Neurons put back: 0\n",
      "  Total time: 24.27 seconds\n",
      "Iteration 1\n",
      "W_mask False\n",
      "Silent interneurons found: 4245\n",
      "Silent interneurons found: 4270\n",
      "Total permanently removed: 4246\n",
      "Total permanently removed: 4271\n",
      "Available for testing: 196\n",
      "Available for testing: 171\n",
      "Oscillation score: 0.7551648020744324\n",
      "Oscillation score: 0.8877397775650024\n",
      "Reset condition: False\n",
      "Reset condition: False\n",
      "Converged mini_circuit: False\n",
      "Converged mini_circuit: False\n",
      "Neurons put back: 0\n",
      "Neurons put back: 0\n",
      "  Total time: 18.74 seconds\n",
      "Iteration 2\n",
      "W_mask False\n",
      "Silent interneurons found: 4246\n",
      "Silent interneurons found: 4271\n",
      "Total permanently removed: 4247\n",
      "Total permanently removed: 4272\n",
      "Available for testing: 195\n",
      "Available for testing: 170\n",
      "Oscillation score: 0.75518399477005\n",
      "Oscillation score: 0.8877250552177429\n",
      "Reset condition: False\n",
      "Reset condition: False\n",
      "Converged mini_circuit: False\n",
      "Converged mini_circuit: False\n",
      "Neurons put back: 0\n",
      "Neurons put back: 0\n",
      "  Total time: 16.88 seconds\n"
     ]
    }
   ],
   "source": [
    "\n",
    "mn_idxs = neuron_params.mn_idxs\n",
    "all_neurons = jnp.arange(neuron_params.W.shape[-1])\n",
    "in_idxs = jnp.setdiff1d(all_neurons, mn_idxs)\n",
    "\n",
    "clip_start = int(sim_params.pulse_start / sim_params.dt) + 100\n",
    "# Initialize state\n",
    "n_sims = sim_params.n_param_sets * sim_params.n_stim_configs\n",
    "W_mask = jnp.full((n_sims, neuron_params.W.shape[0], neuron_params.W.shape[1]), 1, dtype=jnp.float32)\n",
    "interneuron_mask = jnp.full((n_sims, W_mask.shape[-1]),fill_value=False, dtype=jnp.bool_)\n",
    "interneuron_mask = interneuron_mask.at[:,in_idxs].set(True)\n",
    "level = jnp.zeros((n_sims,1), dtype=jnp.int32)\n",
    "total_removed_neurons = jnp.full((n_sims, W_mask.shape[-1]), False, dtype=jnp.bool)\n",
    "removed_stim_neurons = jnp.full([n_sims, total_removed_neurons.shape[-1]], False, dtype=jnp.bool)\n",
    "neurons_put_back =  jnp.full([n_sims, total_removed_neurons.shape[-1]], False, dtype=jnp.bool)\n",
    "last_removed =  jnp.full([n_sims, total_removed_neurons.shape[-1]], False, dtype=jnp.bool) # Use False for None\n",
    "min_circuit = jnp.full((n_sims,1), False)\n",
    "\n",
    "# Initialize probabilities\n",
    "exclude_mask = (~interneuron_mask)\n",
    "p_arrays = jax.vmap(removal_probability)(jnp.ones(len(interneuron_mask)), exclude_mask)\n",
    "\n",
    "# initialize pruning state\n",
    "state = Pruning_state(\n",
    "    W_mask=W_mask,\n",
    "    interneuron_mask=interneuron_mask,\n",
    "    level=level,\n",
    "    total_removed_neurons=total_removed_neurons,\n",
    "    removed_stim_neurons=removed_stim_neurons,\n",
    "    neurons_put_back=neurons_put_back,\n",
    "    last_removed=last_removed,\n",
    "    remove_p=p_arrays,\n",
    "    min_circuit=min_circuit,\n",
    "    keys=neuron_params.seeds\n",
    ")\n",
    "\n",
    "iter_start = 0  # Starting iteration\n",
    "# Main pruning loop\n",
    "iteration = iter_start\n",
    "max_iterations = 3  # Safety limit\n",
    "while not jnp.all(min_circuit) and (iteration < max_iterations):\n",
    "    start_time = time.time()\n",
    "    print(f\"Iteration {iteration}\")\n",
    "    # Update neuron parameters W_mask based on the current state\n",
    "    neuron_params = update_neuron_params(neuron_params, W_mask=state.W_mask)\n",
    "    # Run simulation (this would call your simulation function)\n",
    "    # Reshape for devices if using pmap\n",
    "    if jax.device_count() > 1:\n",
    "        batch_indices = batch_indices.reshape(jax.device_count(), -1)\n",
    "        batch_results = batch_func(neuron_params, sim_params, batch_indices)\n",
    "        batch_results = batch_results.reshape(-1, *batch_results.shape[2:])\n",
    "        batch_results = batch_results[:end_idx - start_idx]  # Remove padding\n",
    "    else:\n",
    "        batch_results = batch_func(neuron_params, sim_params, batch_indices)\n",
    "    \n",
    "    n = 0 \n",
    "    state = jax.vmap(update_single_sim_state, in_axes=(0, 0, None, None, None))(state, batch_results, mn_idxs, oscillation_threshold, clip_start)\n",
    "    iteration += 1\n",
    "    \n",
    "    elapsed = time.time() - start_time\n",
    "    print(f\"  Total time: {elapsed:.2f} seconds\")\n",
    "\n",
    "# batch_results = jax.device_put(batch_results, jax.devices(\"cpu\")[0])\n",
    "# all_results.append(batch_results)\n",
    "# print(f\"Batch {i + 1}/{n_batches} completed\")\n",
    "\n",
    "# del batch_results  # Free memory\n",
    "# gc.collect()  # Force garbage collection\n",
    "\n",
    "# Combine results\n",
    "# results = jnp.concatenate(all_results, axis=0)"
   ]
  },
  {
   "cell_type": "code",
   "execution_count": 8,
   "metadata": {},
   "outputs": [
    {
     "data": {
      "text/plain": [
       "(Array([], shape=(0,), dtype=int32),)"
      ]
     },
     "execution_count": 8,
     "metadata": {},
     "output_type": "execute_result"
    }
   ],
   "source": [
    "jnp.where(state.neurons_put_back[0])"
   ]
  },
  {
   "cell_type": "code",
   "execution_count": 10,
   "metadata": {},
   "outputs": [],
   "source": [
    "# initialize pruning state\n",
    "state = Pruning_state(\n",
    "    W_mask=W_mask[0],\n",
    "    interneuron_mask=interneuron_mask[0],\n",
    "    level=level[0],\n",
    "    total_removed_neurons=total_removed_neurons[0],\n",
    "    removed_stim_neurons=removed_stim_neurons[0],\n",
    "    neurons_put_back=neurons_put_back[0],\n",
    "    last_removed=last_removed[0],\n",
    "    remove_p=p_arrays[0],\n",
    "    min_circuit=min_circuit[0],\n",
    "    keys=neuron_params.seeds[0],\n",
    ")\n",
    "R = batch_results[0]"
   ]
  },
  {
   "cell_type": "code",
   "execution_count": 11,
   "metadata": {},
   "outputs": [
    {
     "name": "stdout",
     "output_type": "stream",
     "text": [
      "Silent interneurons found: 4246\n",
      "Total permanently removed: 4248\n",
      "Available for testing: 194\n",
      "Oscillation score: 0.75518399477005\n",
      "Reset condition: False\n",
      "Converged mini_circuit: False\n",
      "Neurons put back: 0\n"
     ]
    },
    {
     "data": {
      "text/plain": [
       "Pruning_state(W_mask=Array([[0., 0., 0., ..., 0., 0., 0.],\n",
       "       [0., 0., 0., ..., 0., 0., 0.],\n",
       "       [0., 0., 0., ..., 0., 0., 0.],\n",
       "       ...,\n",
       "       [0., 0., 0., ..., 0., 0., 0.],\n",
       "       [0., 0., 0., ..., 0., 0., 0.],\n",
       "       [0., 0., 0., ..., 0., 0., 0.]], dtype=float32), interneuron_mask=Array([ True,  True,  True, ...,  True,  True,  True], dtype=bool), level=Array([0], dtype=int32), total_removed_neurons=Array([ True,  True,  True, ...,  True,  True,  True], dtype=bool), removed_stim_neurons=Array([False, False, False, ..., False, False, False], dtype=bool), neurons_put_back=Array([False, False, False, ..., False, False, False], dtype=bool), last_removed=Array([False, False, False, ..., False, False, False], dtype=bool), remove_p=Array([0., 0., 0., ..., 0., 0., 0.], dtype=float32), min_circuit=Array(False, dtype=bool), keys=Array([ 906402197, 4248685058], dtype=uint32))"
      ]
     },
     "execution_count": 11,
     "metadata": {},
     "output_type": "execute_result"
    }
   ],
   "source": [
    "\n",
    "# Unpack state first to check min_circuit condition\n",
    "(W_mask, interneuron_mask, level, total_removed_neurons, removed_stim_neurons,\n",
    "    neurons_put_back, last_removed, remove_p, min_circuit, key) = state\n",
    "\n",
    "# Get active MN activity using JAX-compatible approach\n",
    "max_frs = jnp.max(R, axis=-1)\n",
    "mn_mask = jnp.isin(jnp.arange(R.shape[0]), mn_idxs)\n",
    "active_mask = ((max_frs>0) & mn_mask)\n",
    "\n",
    "# Compute oscillation score\n",
    "oscillation_score, _ = compute_oscillation_score(R[..., clip_start:], active_mask, prominence=0.05)\n",
    "\n",
    "# Check if oscillation is below threshold\n",
    "reset_condition = (oscillation_score < oscillation_threshold) | jnp.isnan(oscillation_score)\n",
    "\n",
    "# === PERMANENTLY REMOVE SILENT INTERNEURONS ===\n",
    "# Identify currently silent interneurons - these get permanently added to total_removed_neurons\n",
    "current_silent_interneurons = interneuron_mask & (max_frs <= 0)\n",
    "# Add silent interneurons to the permanent removal list\n",
    "permanently_removed_base = total_removed_neurons | current_silent_interneurons\n",
    "\n",
    "# === CONTINUE BRANCH LOGIC ===\n",
    "# Update probabilities based on firing rates - exclude non-interneurons and permanently removed\n",
    "exclude_mask_continue = (~interneuron_mask) | permanently_removed_base\n",
    "p_continue = removal_probability(max_frs, exclude_mask_continue)\n",
    "\n",
    "# Sample new neuron to remove (only from available interneurons)\n",
    "key_continue, subkey_continue = random.split(key)\n",
    "neuron_idx_continue = jax_choice(subkey_continue, jnp.arange(len(max_frs)), p_continue)\n",
    "\n",
    "# Update removed_stim_neurons to include the newly selected neuron\n",
    "removed_stim_continue = removed_stim_neurons.at[neuron_idx_continue].set(True)\n",
    "\n",
    "# Update total removed neurons: permanently removed + new stimulated neuron\n",
    "total_removed_continue = permanently_removed_base | removed_stim_continue\n",
    "\n",
    "# neurons_put_back remains unchanged in continue branch\n",
    "neurons_put_back_continue = neurons_put_back\n",
    "\n",
    "# Check convergence for continue branch - no new neurons put back\n",
    "converged_continue = False\n",
    "\n",
    "# === RESET BRANCH LOGIC ===\n",
    "# In reset: keep permanently removed neurons, but allow re-selection of stimulated neurons\n",
    "# Only restore the last stimulated neuron, keep all silent neurons permanently removed\n",
    "restored_total_removed = permanently_removed_base  # Keep all silent neurons removed\n",
    "\n",
    "# Track which stimulated neurons are being put back (restored)\n",
    "# Neurons that were in removed_stim_neurons but are NOT in permanently_removed_base are being restored\n",
    "previously_stimulated_neurons = removed_stim_neurons & (~permanently_removed_base)\n",
    "neurons_put_back_reset = neurons_put_back | previously_stimulated_neurons\n",
    "\n",
    "# Clear stimulated neuron selections and pick a new one\n",
    "reset_removed_stim_neurons = jnp.full_like(removed_stim_neurons, False, dtype=jnp.bool_)\n",
    "\n",
    "# Update probabilities - exclude non-interneurons and permanently removed (including silent)\n",
    "exclude_mask_reset = (~interneuron_mask) | restored_total_removed\n",
    "p_reset = removal_probability(jnp.ones(len(total_removed_neurons)), exclude_mask_reset)\n",
    "\n",
    "# Select a new neuron to remove (from remaining active interneurons only)\n",
    "key_reset, subkey_reset = random.split(key)\n",
    "neuron_idx_reset = jax_choice(subkey_reset, jnp.arange(len(total_removed_neurons)), p_reset)\n",
    "removed_stim_reset = reset_removed_stim_neurons.at[neuron_idx_reset].set(True)\n",
    "\n",
    "# Update total removed neurons: permanently removed + new stimulated\n",
    "total_removed_reset = restored_total_removed | removed_stim_reset\n",
    "\n",
    "# Check convergence for reset branch - no new neurons put back\n",
    "converged_reset = (neurons_put_back_reset == neurons_put_back).all()\n",
    "\n",
    "# === SELECT BETWEEN BRANCHES ===\n",
    "# Use jax.lax.select to choose between continue and reset results\n",
    "final_total_removed = jax.lax.select(reset_condition, total_removed_reset, total_removed_continue)\n",
    "final_removed_stim = jax.lax.select(reset_condition, removed_stim_reset, removed_stim_continue)\n",
    "final_last_removed = jax.lax.select(reset_condition, removed_stim_reset, removed_stim_continue)\n",
    "final_key = jax.lax.select(reset_condition, key_reset, key_continue)\n",
    "final_p = jax.lax.select(reset_condition, p_reset, p_continue)\n",
    "final_min_circuit = jax.lax.select(reset_condition, converged_reset, converged_continue)\n",
    "final_neurons_put_back = jax.lax.select(reset_condition, neurons_put_back_reset, neurons_put_back_continue)\n",
    "\n",
    "# Update W_mask to reflect all permanently removed neurons\n",
    "W_mask_init = jnp.ones_like(W_mask, dtype=jnp.float32)\n",
    "removed_float = final_total_removed.astype(jnp.float32)\n",
    "kept_mask = 1.0 - removed_float\n",
    "W_mask_new = W_mask_init * kept_mask[:, None] * kept_mask[None, :]\n",
    "\n",
    "# Debug prints to track silent neuron removal\n",
    "jax.debug.print(\"Silent interneurons found: {count}\", count=jnp.sum(current_silent_interneurons))\n",
    "jax.debug.print(\"Total permanently removed: {count}\", count=jnp.sum(final_total_removed))\n",
    "jax.debug.print(\"Available for testing: {count}\", count=jnp.sum(interneuron_mask & (~final_total_removed)))\n",
    "jax.debug.print(\"Oscillation score: {score}\", score=oscillation_score)\n",
    "jax.debug.print(\"Reset condition: {condition}\", condition=reset_condition)\n",
    "jax.debug.print(\"Converged mini_circuit: {converged}\", converged=final_min_circuit)\n",
    "jax.debug.print(\"Neurons put back: {count}\", count=jnp.sum(final_neurons_put_back))\n",
    "\n",
    "# Ensure min_circuit is a scalar for jax.lax.select\n",
    "min_circuit_scalar = jnp.squeeze(min_circuit)\n",
    "\n",
    "# Select each field individually based on min_circuit condition\n",
    "# If min_circuit is True, keep original values; otherwise use updated values\n",
    "Pruning_state(\n",
    "    W_mask=jax.lax.select(min_circuit_scalar, W_mask, W_mask_new),\n",
    "    interneuron_mask=interneuron_mask,  # This never changes\n",
    "    level=level,  # This never changes\n",
    "    total_removed_neurons=jax.lax.select(min_circuit_scalar, total_removed_neurons, final_total_removed),\n",
    "    neurons_put_back=jax.lax.select(min_circuit_scalar, neurons_put_back, final_neurons_put_back),\n",
    "    removed_stim_neurons=jax.lax.select(min_circuit_scalar, removed_stim_neurons, final_removed_stim),\n",
    "    last_removed=jax.lax.select(min_circuit_scalar, last_removed, final_last_removed),\n",
    "    remove_p=jax.lax.select(min_circuit_scalar, remove_p, final_p),\n",
    "    min_circuit=jax.lax.select(min_circuit_scalar, min_circuit_scalar, final_min_circuit),\n",
    "    keys=jax.lax.select(min_circuit_scalar, key, final_key)\n",
    ")"
   ]
  },
  {
   "cell_type": "code",
   "execution_count": 23,
   "metadata": {},
   "outputs": [
    {
     "data": {
      "text/plain": [
       "Array(195, dtype=int32)"
      ]
     },
     "execution_count": 23,
     "metadata": {},
     "output_type": "execute_result"
    }
   ],
   "source": [
    "\n",
    "available_for_removal = interneuron_mask & (~final_total_removed)\n",
    "jnp.sum(available_for_removal)"
   ]
  },
  {
   "cell_type": "markdown",
   "metadata": {},
   "source": [
    "### Debug version"
   ]
  },
  {
   "cell_type": "code",
   "execution_count": 4,
   "metadata": {},
   "outputs": [
    {
     "name": "stdout",
     "output_type": "stream",
     "text": [
      "Iteration 0\n",
      "Running 2 simulations with batch size 10\n",
      "Batch 1/1 completed\n",
      "Oscillation score: Traced<float32[]>with<DynamicJaxprTrace>, Reset condition: Traced<bool[]>with<DynamicJaxprTrace>\n"
     ]
    }
   ],
   "source": [
    "oscillation_threshold = 0.1\n",
    "# Load data (this part stays on CPU)\n",
    "w_table = load_wTable(cfg.experiment.dfPath)\n",
    "n_stim_configs = len(cfg.experiment.stimNeurons)\n",
    "## Initialize parameters\n",
    "neuron_params = prepare_neuron_params(cfg, w_table)\n",
    "sim_params = prepare_sim_params(cfg, n_stim_configs, neuron_params.W.shape[0])\n",
    "all_neurons = w_table.index.to_numpy()\n",
    "n_sims = sim_params.n_param_sets * sim_params.n_stim_configs\n",
    "mn_idxs = jnp.asarray(w_table.loc[w_table[\"class\"]==\"motor neuron\"].index.values)\n",
    "in_idxs = jnp.setdiff1d(all_neurons, mn_idxs)\n",
    "clip_start = int(cfg.sim.pulseStart / cfg.sim.dt) + 100\n",
    "\n",
    "# Initialize state\n",
    "W_mask = jnp.full((n_sims, neuron_params.W.shape[0], neuron_params.W.shape[1]), 1, dtype=jnp.float32)\n",
    "total_removed_neurons = jnp.full((n_sims, all_neurons.shape[0]), False, dtype=jnp.bool)\n",
    "interneuron_mask = jnp.full((n_sims, W_mask.shape[-1]),fill_value=False, dtype=jnp.bool_)\n",
    "interneuron_mask = interneuron_mask.at[:,in_idxs].set(True)\n",
    "removed_stim_neurons = jnp.full([n_sims, total_removed_neurons.shape[-1]], False, dtype=jnp.bool)\n",
    "\n",
    "# Initialize state arrays\n",
    "level = jnp.zeros((n_sims,1), dtype=jnp.int32)\n",
    "last_removed =  jnp.full([n_sims, total_removed_neurons.shape[-1]], False, dtype=jnp.bool) # Use False for None\n",
    "neurons_put_back =  jnp.full([n_sims, total_removed_neurons.shape[-1]], False, dtype=jnp.bool)\n",
    "min_circuit = jnp.full((n_sims,1), False)\n",
    "\n",
    "# Initialize probabilities\n",
    "exclude_mask = (~interneuron_mask)\n",
    "p_arrays = jax.vmap(removal_probability)(jnp.ones(len(interneuron_mask)), exclude_mask)\n",
    "\n",
    "# initialize pruning state\n",
    "state = Pruning_state(\n",
    "    W_mask=W_mask,\n",
    "    interneuron_mask=interneuron_mask,\n",
    "    level=level,\n",
    "    total_removed_neurons=total_removed_neurons,\n",
    "    removed_stim_neurons=removed_stim_neurons,\n",
    "    neurons_put_back=neurons_put_back,\n",
    "    last_removed=last_removed,\n",
    "    remove_p=p_arrays,\n",
    "    min_circuit=min_circuit,\n",
    "    keys=neuron_params.seeds\n",
    ")\n",
    "\n",
    "iter_start = 0  # Starting iteration\n",
    "# Main pruning loop\n",
    "iteration = iter_start\n",
    "max_iterations = 1  # Safety limit\n",
    "while not jnp.all(min_circuit) and (iteration < max_iterations):\n",
    "    print(f\"Iteration {iteration}\")\n",
    "    # Update neuron parameters W_mask based on the current state\n",
    "    neuron_params = update_neuron_params(neuron_params, W_mask=state.W_mask)\n",
    "    # Run simulation (this would call your simulation function)\n",
    "    simulation_type = \"prune\"\n",
    "    Rs = run_simulation_batched(\n",
    "        neuron_params, sim_params, simulation_type,\n",
    "        batch_size=getattr(cfg.experiment, \"batch_size\", None)\n",
    "    )\n",
    "\n",
    "    n = 0 \n",
    "    state = jax.vmap(update_single_sim_state, in_axes=(0, 0, None, None, None))(state, Rs[n], mn_idxs, oscillation_threshold, clip_start)\n",
    "    iteration += 1\n"
   ]
  },
  {
   "cell_type": "code",
   "execution_count": 5,
   "metadata": {},
   "outputs": [
    {
     "name": "stdout",
     "output_type": "stream",
     "text": [
      "W_mask False\n"
     ]
    }
   ],
   "source": [
    "print(f\"W_mask {(state.W_mask==neuron_params.W_mask).all()}\")"
   ]
  },
  {
   "cell_type": "code",
   "execution_count": 14,
   "metadata": {},
   "outputs": [
    {
     "name": "stdout",
     "output_type": "stream",
     "text": [
      "Running 2 simulations with batch size 10\n",
      "Batch 1/1 completed\n"
     ]
    }
   ],
   "source": [
    "Rs = run_simulation_batched(\n",
    "    neuron_params, sim_params, simulation_type,\n",
    "    batch_size=getattr(cfg.experiment, \"batch_size\", None)\n",
    ")"
   ]
  },
  {
   "cell_type": "code",
   "execution_count": 16,
   "metadata": {},
   "outputs": [],
   "source": [
    "state = jax.vmap(update_single_sim_state, in_axes=(0, 0, None, None, None))(state, Rs[n], mn_idxs, oscillation_threshold, clip_start)\n",
    "neuron_params = update_neuron_params(neuron_params, W_mask=state.W_mask)"
   ]
  },
  {
   "cell_type": "code",
   "execution_count": null,
   "metadata": {},
   "outputs": [],
   "source": []
  },
  {
   "cell_type": "code",
   "execution_count": null,
   "metadata": {},
   "outputs": [],
   "source": [
    "jnp.where(~state.total_removed_neurons[0])[0], jnp.where(~state.total_removed_neurons[0])[0].shape"
   ]
  },
  {
   "cell_type": "code",
   "execution_count": null,
   "metadata": {},
   "outputs": [
    {
     "data": {
      "text/plain": [
       "Array([  31,   70,   72,   82,   83,   86,   97,  108,  113,  124,  127,\n",
       "        132,  134,  138,  142,  145,  147,  150,  160,  169,  177,  180,\n",
       "        207,  242,  244,  247,  255,  273,  274,  277,  280,  323,  325,\n",
       "        332,  348,  425,  451,  485,  502,  516,  535,  536,  601,  609,\n",
       "        614,  616,  617,  624,  630,  637,  660,  663,  669,  679,  693,\n",
       "        696,  699,  703,  713,  715,  739,  749,  757,  763,  773,  811,\n",
       "        812,  855,  860,  913,  919, 1106, 1108, 1119, 1122, 1153, 1165,\n",
       "       1209, 1218, 1274, 1278, 1280, 1291, 1332, 1364, 1503, 1516, 1549,\n",
       "       1574, 1603, 1619, 1630, 1631, 1646, 1725, 1770, 1775, 1777, 1787,\n",
       "       1816, 1842, 1861, 1880, 1912, 1918, 1928, 1940, 2013, 2033, 2065,\n",
       "       2126, 2149, 2178, 2200, 2209, 2214, 2223, 2236, 2267, 2268, 2274,\n",
       "       2295, 2307, 2314, 2362, 2368, 2432, 2434, 2441, 2479, 2485, 2503,\n",
       "       2508, 2522, 2529, 2587, 2655, 2657, 2658, 2679, 2714, 2728, 2735,\n",
       "       2745, 2762, 2771, 2773, 2774, 2807, 2814, 2836, 2864, 2873, 2879,\n",
       "       2902, 2909, 2926, 2928, 2979, 2983, 2987, 2988, 2991, 3019, 3038,\n",
       "       3051, 3060, 3159, 3275, 3295, 3367, 3455, 3466, 3500, 3633, 3686,\n",
       "       3812, 4130, 4155, 4158, 4161, 4216, 4219, 4223, 4227, 4298, 4303,\n",
       "       4305, 4334, 4337, 4366, 4385, 4389, 4405, 4407, 4416, 4421, 4423,\n",
       "       4430, 4459, 4472, 4500], dtype=int32)"
      ]
     },
     "metadata": {},
     "output_type": "display_data"
    }
   ],
   "source": [
    "jnp.where(~state.total_removed_neurons[0])[0]"
   ]
  },
  {
   "cell_type": "code",
   "execution_count": 46,
   "metadata": {},
   "outputs": [
    {
     "data": {
      "text/plain": [
       "Array(0.7551022, dtype=float32)"
      ]
     },
     "execution_count": 46,
     "metadata": {},
     "output_type": "execute_result"
    }
   ],
   "source": [
    "start = int(cfg.sim.pulseStart / cfg.sim.dt) + 100\n",
    "max_frs = jnp.max(R, axis=-1)\n",
    "mn_mask = jnp.isin(jnp.arange(R.shape[0]), mn_idxs)\n",
    "active_mask = ((max_frs>0) & mn_mask)  # Combine max_frs with mn_mask to get active neurons\n",
    "\n",
    "oscillation_score, _ = compute_oscillation_score(R[..., start:], active_mask, prominence=0.05)\n",
    "oscillation_score"
   ]
  },
  {
   "cell_type": "code",
   "execution_count": 8,
   "metadata": {},
   "outputs": [
    {
     "name": "stdout",
     "output_type": "stream",
     "text": [
      "0.10628335\n"
     ]
    },
    {
     "data": {
      "image/png": "[encoded data removed]",
      "text/plain": [
       "<Figure size 640x480 with 1 Axes>"
      ]
     },
     "metadata": {},
     "output_type": "display_data"
    }
   ],
   "source": [
    "R = Rs[0,0]\n",
    "\n",
    "\n",
    "wTable = pd.read_csv(\"../data/manc t1 connectome data/wTable_20231020_DNtoMN_unsorted_withModules.csv\",index_col=0)\n",
    "nonMns = wTable.loc[(wTable[\"bodyId\"]==10093) | (wTable[\"bodyId\"]==10707) | (wTable[\"bodyId\"]==13905) | (wTable[\"bodyId\"]==11751)]\n",
    "mnIdxs = wTable.loc[wTable[\"class\"]==\"motor neuron\"].index\n",
    "\n",
    "\n",
    "# for i in nonMns.index:\n",
    "for i in mnIdxs:\n",
    "    plt.plot(R[i])\n",
    "    #plt.plot(Rtsp[i])\n",
    "\n",
    "print(np.mean(R))\n"
   ]
  },
  {
   "cell_type": "code",
   "execution_count": 5,
   "metadata": {},
   "outputs": [
    {
     "data": {
      "text/plain": [
       "Array([[0., 0., 0., ..., 0., 0., 0.],\n",
       "       [0., 0., 0., ..., 0., 0., 0.],\n",
       "       [0., 0., 0., ..., 0., 0., 0.],\n",
       "       ...,\n",
       "       [0., 0., 0., ..., 0., 0., 0.],\n",
       "       [0., 0., 0., ..., 0., 0., 0.],\n",
       "       [0., 0., 0., ..., 0., 0., 0.]], dtype=float32)"
      ]
     },
     "execution_count": 5,
     "metadata": {},
     "output_type": "execute_result"
    }
   ],
   "source": [
    "R[0]"
   ]
  },
  {
   "cell_type": "code",
   "execution_count": 7,
   "metadata": {},
   "outputs": [
    {
     "name": "stdout",
     "output_type": "stream",
     "text": [
      "Key Path: .W_mask, Leaf: (4561, 4561) dype: float32\n",
      "Key Path: .interneuron_mask, Leaf: (4561,) dype: bool\n",
      "Key Path: .level, Leaf: (1,) dype: int32\n",
      "Key Path: .total_removed_neurons, Leaf: (4561,) dype: bool\n",
      "Key Path: .removed_stim_neurons, Leaf: (4561,) dype: bool\n",
      "Key Path: .neurons_put_back, Leaf: (4561,) dype: bool\n",
      "Key Path: .last_removed, Leaf: (4561,) dype: bool\n",
      "Key Path: .remove_p, Leaf: (4442,) dype: float32\n",
      "Key Path: .min_circuit, Leaf: (1,) dype: bool\n",
      "Key Path: .keys, Leaf: (2,) dype: uint32\n"
     ]
    },
    {
     "data": {
      "text/plain": [
       "Pruning_state(W_mask=None, interneuron_mask=None, level=None, total_removed_neurons=None, removed_stim_neurons=None, neurons_put_back=None, last_removed=None, remove_p=None, min_circuit=None, keys=None)"
      ]
     },
     "execution_count": 7,
     "metadata": {},
     "output_type": "execute_result"
    }
   ],
   "source": [
    "def print_pytree(pytree):\n",
    "    \"\"\"\n",
    "    path_filter: function that takes key_path tuple and returns True/False\n",
    "    \"\"\"\n",
    "    def process_leaf(key_path, leaf):\n",
    "       print(f\"Key Path: {key_path[0]}, Leaf: {leaf.shape} dype: {leaf.dtype}\")\n",
    "\n",
    "    return jax.tree.map_with_path(process_leaf, pytree)\n",
    "print_pytree(state)"
   ]
  },
  {
   "cell_type": "code",
   "execution_count": 92,
   "metadata": {},
   "outputs": [],
   "source": [
    "\n",
    "# def update_single_sim_state(state, R, mn_idxs, in_idxs, oscillation_threshold):\n",
    "\"\"\"Update state for a single simulation - now handles convergence check inside JIT\"\"\"\n",
    "(W_mask,interneuron_mask,level,total_removed_neurons,removed_stim_neurons,\n",
    "    neurons_put_back,last_removed,remove_p,min_circuit,key) = state\n",
    "\n",
    "# (remove_neurons, neurons_put_back, last_removed, \n",
    "#     p, level, removed_stim_neurons, key) = state\n",
    "\n",
    "start = int(cfg.sim.pulseStart / cfg.sim.dt) + 100\n",
    "\n",
    "# Get active MN activity using JAX-compatible approach\n",
    "max_frs = jnp.max(R, axis=-1)\n",
    "mn_mask = jnp.isin(jnp.arange(R.shape[0]), mn_idxs)\n",
    "active_mask = ((max_frs>0) & mn_mask)  # Combine max_frs with mn_mask to get active neurons\n",
    "\n",
    "oscillation_score, _ = compute_oscillation_score(R[..., start:], active_mask, prominence=0.05)\n",
    "\n",
    "# Check if oscillation is below threshold\n",
    "reset_condition = (oscillation_score < oscillation_threshold) | jnp.isnan(oscillation_score)\n",
    "\n",
    "def get_pos_val_indices(arr, max_indices=None):\n",
    "    if max_indices is None:\n",
    "        max_indices = arr.shape[0]  # Use full array size as max\n",
    "    \n",
    "    indices = jnp.where(arr >= 0, size=max_indices, fill_value=-1)[0]\n",
    "    return indices\n",
    "@jit\n",
    "def continue_branch(key):\n",
    "    # Get max firing rates for all neurons\n",
    "    max_frs = jnp.max(R, axis=-1)\n",
    "\n",
    "    # Remove silent interneurons\n",
    "    silent_mask = (max_frs <= 0)\n",
    "    \n",
    "    # Update probabilities based on firing rates\n",
    "    exclude_mask = (~interneuron_mask) | (silent_mask) | (removed_stim_neurons) # TODO: Check that you don't need to account for neurons_put_back here\n",
    "    # exclude_mask = (new_neurons_put_back > 0) | (removed_stim_neurons > 0)\n",
    "    new_p = removal_probability(max_frs, exclude_mask)\n",
    "\n",
    "    # Check if we can continue\n",
    "    p_sum = jnp.sum(new_p)\n",
    "    converged = p_sum <= 1e-10\n",
    "\n",
    "    # Sample new neuron to remove\n",
    "    key, subkey = random.split(key)\n",
    "    neuron_idx = jax_choice(subkey, jnp.arange(len(max_frs)), new_p)\n",
    "    new_removed_stim_neurons = removed_stim_neurons.at[neuron_idx].set(True)\n",
    "\n",
    "    # Update new neurons to remove\n",
    "    new_total_removed_neurons = (silent_mask) | (new_removed_stim_neurons)\n",
    "    # update total removed neurons\n",
    "    next_total_removed_neurons = (total_removed_neurons) | (new_total_removed_neurons)\n",
    "    # Efficiently update W_mask to remove the new neurons\n",
    "    # Use broadcasting and masking, cast mask to float to preserve W_mask dtype\n",
    "    W_mask_init = jnp.ones_like(W_mask, dtype=jnp.float32)\n",
    "    removed_float = next_total_removed_neurons.astype(jnp.float32)\n",
    "    kept_mask = 1.0 - removed_float # set removed neurons to 0 and kept neurons to 1\n",
    "    W_mask_new = W_mask_init * kept_mask[:, None] * kept_mask[None, :] \n",
    "\n",
    "    return Pruning_state(\n",
    "                W_mask=W_mask_new,\n",
    "                interneuron_mask=interneuron_mask,\n",
    "                level=level,\n",
    "                total_removed_neurons=next_total_removed_neurons, # Total removed neurons = silient interneurons + new neurons to remove\n",
    "                neurons_put_back=neurons_put_back,\n",
    "                removed_stim_neurons=new_removed_stim_neurons,\n",
    "                last_removed=new_total_removed_neurons,\n",
    "                remove_p=new_p,\n",
    "                min_circuit=converged,\n",
    "                keys=neuron_params.seeds\n",
    "            )\n",
    "@jit\n",
    "def reset_branch(key):\n",
    "    # Put back the last removed neuron\n",
    "    reset_neurons_removed = jnp.where(removed_stim_neurons, False, total_removed_neurons)\n",
    "    # Combine neurons_put_back and last_removed into a single mask\n",
    "    # new_neurons_put_back = jnp.where((neurons_put_back >= 0) & (last_removed >= 0), 1, -1)\n",
    "\n",
    "    # Update probabilities to exclude put-back neurons\n",
    "    exclude_mask = (~interneuron_mask) | (reset_neurons_removed) | (removed_stim_neurons)\n",
    "    new_p = removal_probability(jnp.ones(len(total_removed_neurons)), exclude_mask)\n",
    "\n",
    "    # Check if we can continue\n",
    "    p_sum = jnp.sum(new_p)\n",
    "    converged = p_sum <= 1e-10\n",
    "\n",
    "    key, subkey = random.split(key)\n",
    "    neuron_idx = jax_choice(subkey, jnp.arange(len(total_removed_neurons)), new_p)\n",
    "    reset_removed_stim_neurons = jnp.full_like(removed_stim_neurons, False, dtype=jnp.bool_)\n",
    "    new_removed_stim_neurons = reset_removed_stim_neurons.at[neuron_idx].set(True)\n",
    "    \n",
    "\n",
    "    # Update new neurons to remove\n",
    "    new_total_removed_neurons = new_removed_stim_neurons\n",
    "    # update total removed neurons\n",
    "    next_total_removed_neurons = (total_removed_neurons) | (new_total_removed_neurons)\n",
    "    # Efficiently update W_mask to remove the new neurons\n",
    "    # Use broadcasting and masking, cast mask to float to preserve W_mask dtype\n",
    "    W_mask_init = jnp.ones_like(W_mask, dtype=jnp.float32)\n",
    "    removed_float = next_total_removed_neurons.astype(jnp.float32)\n",
    "    kept_mask = 1.0 - removed_float # set removed neurons to 0 and kept neurons to 1\n",
    "    W_mask_new = W_mask_init * kept_mask[:, None] * kept_mask[None, :] \n",
    "\n",
    "    return Pruning_state(\n",
    "                W_mask=W_mask_new,\n",
    "                interneuron_mask=interneuron_mask,\n",
    "                level=level,\n",
    "                total_removed_neurons=next_total_removed_neurons, # Total removed neurons = silient interneurons + new neurons to remove\n",
    "                neurons_put_back=neurons_put_back,\n",
    "                removed_stim_neurons=new_removed_stim_neurons,\n",
    "                last_removed=new_total_removed_neurons,\n",
    "                remove_p=new_p,\n",
    "                min_circuit=converged,\n",
    "                keys=neuron_params.seeds\n",
    "            )\n",
    "\n",
    "    # return jax.lax.cond(reset_condition, reset_branch, continue_branch, operand=(key))"
   ]
  },
  {
   "cell_type": "code",
   "execution_count": 93,
   "metadata": {},
   "outputs": [],
   "source": [
    "next_state = continue_branch(key)"
   ]
  },
  {
   "cell_type": "code",
   "execution_count": 94,
   "metadata": {},
   "outputs": [],
   "source": [
    "(W_mask,interneuron_mask,level,total_removed_neurons,removed_stim_neurons,\n",
    "    neurons_put_back,last_removed,remove_p,min_circuit,keys) = next_state\n",
    "# print_pytree(next_state)"
   ]
  },
  {
   "cell_type": "code",
   "execution_count": 95,
   "metadata": {},
   "outputs": [
    {
     "data": {
      "text/plain": [
       "(Array([3490], dtype=int32),)"
      ]
     },
     "execution_count": 95,
     "metadata": {},
     "output_type": "execute_result"
    }
   ],
   "source": [
    "jnp.where(next_state.removed_stim_neurons)"
   ]
  },
  {
   "cell_type": "code",
   "execution_count": 96,
   "metadata": {},
   "outputs": [],
   "source": [
    "reset_state = reset_branch(key)"
   ]
  },
  {
   "cell_type": "code",
   "execution_count": 97,
   "metadata": {},
   "outputs": [
    {
     "data": {
      "text/plain": [
       "(Array([4298], dtype=int32),)"
      ]
     },
     "execution_count": 97,
     "metadata": {},
     "output_type": "execute_result"
    }
   ],
   "source": [
    "jnp.where(reset_state.removed_stim_neurons)"
   ]
  },
  {
   "cell_type": "code",
   "execution_count": null,
   "metadata": {},
   "outputs": [],
   "source": [
    "# total_removed_neurons = total_removed_neurons.at[31].set(False)\n",
    "removed_stim_neurons = removed_stim_neurons.at[31].set(True)"
   ]
  },
  {
   "cell_type": "code",
   "execution_count": 57,
   "metadata": {},
   "outputs": [
    {
     "data": {
      "text/plain": [
       "(Array([   0,    1,    2, ..., 4558, 4559, 4560], dtype=int32),)"
      ]
     },
     "execution_count": 57,
     "metadata": {},
     "output_type": "execute_result"
    }
   ],
   "source": [
    "reset_neurons_removed = jnp.where(removed_stim_neurons, False, total_removed_neurons)\n",
    "jnp.where(reset_neurons_removed)"
   ]
  },
  {
   "cell_type": "code",
   "execution_count": 60,
   "metadata": {},
   "outputs": [
    {
     "data": {
      "text/plain": [
       "(Array([  31,   70,   72,   82,   83,   86,   97,  108,  113,  124,  127,\n",
       "         132,  134,  138,  142,  145,  147,  150,  160,  169,  177,  180,\n",
       "         207,  242,  244,  247,  255,  273,  274,  277,  280,  323,  325,\n",
       "         332,  348,  425,  485,  502,  516,  535,  536,  601,  609,  614,\n",
       "         616,  617,  624,  630,  637,  660,  663,  669,  679,  693,  696,\n",
       "         699,  703,  715,  739,  749,  757,  763,  773,  811,  812,  855,\n",
       "         913,  919, 1106, 1108, 1119, 1122, 1153, 1165, 1209, 1218, 1274,\n",
       "        1278, 1280, 1291, 1332, 1364, 1503, 1516, 1549, 1574, 1603, 1619,\n",
       "        1630, 1631, 1646, 1725, 1770, 1775, 1777, 1816, 1842, 1861, 1880,\n",
       "        1912, 1918, 1928, 1940, 2013, 2033, 2126, 2149, 2178, 2200, 2209,\n",
       "        2214, 2223, 2236, 2267, 2268, 2274, 2295, 2307, 2314, 2362, 2368,\n",
       "        2432, 2434, 2441, 2479, 2485, 2503, 2508, 2522, 2529, 2587, 2655,\n",
       "        2657, 2658, 2679, 2714, 2728, 2735, 2745, 2762, 2771, 2773, 2774,\n",
       "        2807, 2814, 2836, 2864, 2873, 2879, 2902, 2909, 2926, 2928, 2979,\n",
       "        2983, 2987, 2988, 2991, 3019, 3038, 3051, 3060, 3159, 3275, 3295,\n",
       "        3367, 3455, 3466, 3500, 3633, 3686, 3812, 4130, 4155, 4158, 4161,\n",
       "        4216, 4219, 4223, 4227, 4298, 4303, 4305, 4334, 4337, 4366, 4385,\n",
       "        4389, 4405, 4407, 4416, 4421, 4423, 4430, 4459, 4472, 4500],      dtype=int32),)"
      ]
     },
     "execution_count": 60,
     "metadata": {},
     "output_type": "execute_result"
    }
   ],
   "source": [
    "exclude_mask = (~interneuron_mask) | (reset_neurons_removed) | (total_removed_neurons)\n",
    "jnp.where(~exclude_mask)"
   ]
  },
  {
   "cell_type": "code",
   "execution_count": 65,
   "metadata": {},
   "outputs": [
    {
     "data": {
      "text/plain": [
       "(Array([  31, 3490, 4298], dtype=int32),)"
      ]
     },
     "execution_count": 65,
     "metadata": {},
     "output_type": "execute_result"
    }
   ],
   "source": [
    "jnp.where(new_removed_stim_neurons)"
   ]
  },
  {
   "cell_type": "code",
   "execution_count": 63,
   "metadata": {},
   "outputs": [
    {
     "data": {
      "text/plain": [
       "Pruning_state(W_mask=Array([[0., 0., 0., ..., 0., 0., 0.],\n",
       "       [0., 0., 0., ..., 0., 0., 0.],\n",
       "       [0., 0., 0., ..., 0., 0., 0.],\n",
       "       ...,\n",
       "       [0., 0., 0., ..., 0., 0., 0.],\n",
       "       [0., 0., 0., ..., 0., 0., 0.],\n",
       "       [0., 0., 0., ..., 0., 0., 0.]], dtype=float32), interneuron_mask=Array([ True,  True,  True, ...,  True,  True,  True], dtype=bool), level=Array([0], dtype=int32), total_removed_neurons=Array([ True,  True,  True, ...,  True,  True,  True], dtype=bool), removed_stim_neurons=Array([False, False, False, ..., False, False, False], dtype=bool), neurons_put_back=Array([False, False, False, ..., False, False, False], dtype=bool), last_removed=Array([False, False, False, ..., False, False, False], dtype=bool), remove_p=Array([0., 0., 0., ..., 0., 0., 0.], dtype=float32), min_circuit=Array(False, dtype=bool), keys=Array([[ 726863002, 2265770120]], dtype=uint32))"
      ]
     },
     "execution_count": 63,
     "metadata": {},
     "output_type": "execute_result"
    }
   ],
   "source": [
    "# Put back the last removed neuron\n",
    "reset_neurons_removed = jnp.where(removed_stim_neurons, False, total_removed_neurons)\n",
    "# Combine neurons_put_back and last_removed into a single mask\n",
    "# new_neurons_put_back = jnp.where((neurons_put_back >= 0) & (last_removed >= 0), 1, -1)\n",
    "\n",
    "# Update probabilities to exclude put-back neurons\n",
    "exclude_mask = (~interneuron_mask) | (reset_neurons_removed) | (removed_stim_neurons)\n",
    "new_p = removal_probability(jnp.ones(len(total_removed_neurons)), exclude_mask)\n",
    "\n",
    "# Check if we can continue\n",
    "p_sum = jnp.sum(new_p)\n",
    "converged = p_sum <= 1e-10\n",
    "\n",
    "key, subkey = random.split(key)\n",
    "neuron_idx = jax_choice(subkey, jnp.arange(len(total_removed_neurons)), new_p)\n",
    "new_removed_stim_neurons = removed_stim_neurons.at[neuron_idx].set(True)\n",
    "\n",
    "# Update new neurons to remove\n",
    "new_total_removed_neurons = new_removed_stim_neurons\n",
    "# update total removed neurons\n",
    "next_total_removed_neurons = (total_removed_neurons) | (new_total_removed_neurons)\n",
    "# Efficiently update W_mask to remove the new neurons\n",
    "# Use broadcasting and masking, cast mask to float to preserve W_mask dtype\n",
    "W_mask_init = jnp.ones_like(W_mask, dtype=jnp.float32)\n",
    "removed_float = next_total_removed_neurons.astype(jnp.float32)\n",
    "kept_mask = 1.0 - removed_float # set removed neurons to 0 and kept neurons to 1\n",
    "W_mask_new = W_mask_init * kept_mask[:, None] * kept_mask[None, :] \n",
    "\n",
    "Pruning_state(\n",
    "    W_mask=W_mask_new,\n",
    "    interneuron_mask=interneuron_mask,\n",
    "    level=level,\n",
    "    total_removed_neurons=next_total_removed_neurons, # Total removed neurons = silient interneurons + new neurons to remove\n",
    "    neurons_put_back=neurons_put_back,\n",
    "    removed_stim_neurons=new_removed_stim_neurons,\n",
    "    last_removed=new_total_removed_neurons,\n",
    "    remove_p=new_p,\n",
    "    min_circuit=converged,\n",
    "    keys=neuron_params.seeds\n",
    ")\n"
   ]
  },
  {
   "cell_type": "code",
   "execution_count": 96,
   "metadata": {},
   "outputs": [
    {
     "data": {
      "text/plain": [
       "Array([0, 1, 2], dtype=int32)"
      ]
     },
     "execution_count": 96,
     "metadata": {},
     "output_type": "execute_result"
    }
   ],
   "source": [
    "removed_stim_neurons = removed_stim_neurons.at[0].set(1)\n",
    "new_neurons_put_back = neurons_put_back.at[1:3].set(1)\n",
    "jnp.where(new_neurons_put_back>0)[0], jnp.where(removed_stim_neurons>0)[0]\n",
    "combined_mask = (new_neurons_put_back > 0) | (removed_stim_neurons > 0)\n",
    "jnp.where(combined_mask)[0]"
   ]
  },
  {
   "cell_type": "code",
   "execution_count": null,
   "metadata": {},
   "outputs": [],
   "source": [
    "R = Rs[0,0]\n",
    "\n",
    "\n",
    "wTable = pd.read_csv(\"../data/manc t1 connectome data/wTable_20231020_DNtoMN_unsorted_withModules.csv\",index_col=0)\n",
    "nonMns = wTable.loc[(wTable[\"bodyId\"]==10093) | (wTable[\"bodyId\"]==10707) | (wTable[\"bodyId\"]==13905) | (wTable[\"bodyId\"]==11751)]\n",
    "mnIdxs = wTable.loc[wTable[\"class\"]==\"motor neuron\"].index\n",
    "\n",
    "\n",
    "for i in nonMns.index:\n",
    "# for i in mnIdxs:\n",
    "    plt.plot(R[i])\n",
    "    #plt.plot(Rtsp[i])\n",
    "\n",
    "print(np.mean(R))\n"
   ]
  },
  {
   "cell_type": "code",
   "execution_count": null,
   "metadata": {},
   "outputs": [],
   "source": [
    "class Pruning_state(NamedTuple):\n",
    "    \"\"\"Parameters for pruning simulation.\"\"\"\n",
    "    W_mask: jnp.ndarray\n",
    "    in_idxs: jnp.ndarray\n",
    "    level: jnp.ndarray\n",
    "    removed_neurons: jnp.ndarray\n",
    "    neurons_put_back: jnp.ndarray\n",
    "    last_removed: jnp.ndarray\n",
    "    remove_p: jnp.ndarray\n",
    "    min_circuit: jnp.ndarray\n",
    "    keys: jnp.ndarray\n",
    "    \n",
    "\n",
    "state = Pruning_state(\n",
    "    W_mask= neuron_params.W[None, :] * jnp.ones((n_sims, neuron_params.W.shape[0], neuron_params.W.shape[1])),\n",
    "    in_idxs=in_idxs,\n",
    "    level=jnp.zeros(n_sims, dtype=jnp.int32),\n",
    "    removed_neurons=jnp.full([n_sims, neuron_params.removed_neurons.shape[-1]], -1, dtype=jnp.int32),\n",
    "    neurons_put_back=jnp.full([n_sims, neuron_params.removed_neurons.shape[-1]], -1, dtype=jnp.int32),\n",
    "    last_removed=jnp.full([n_sims, neuron_params.removed_neurons.shape[-1]], -1, dtype=jnp.int32),\n",
    "    remove_p=jnp.array(p_arrays),\n",
    "    min_circuit=jnp.full(n_sims, False),\n",
    "    keys=neuron_params.seeds\n",
    ")\n",
    "\n"
   ]
  },
  {
   "cell_type": "code",
   "execution_count": 36,
   "metadata": {},
   "outputs": [],
   "source": [
    "(new_W_mask,new_in_idxs,new_level,new_removed_neurons,new_neurons_put_back,new_last_removed,new_remove_p,new_min_circuit,new_keys,) = state"
   ]
  },
  {
   "cell_type": "code",
   "execution_count": null,
   "metadata": {},
   "outputs": [
    {
     "data": {
      "text/plain": [
       "Array([0.00022512, 0.00022512, 0.00022512, ..., 0.00022512, 0.00022512,\n",
       "       0.00022512], dtype=float32)"
      ]
     },
     "execution_count": 10,
     "metadata": {},
     "output_type": "execute_result"
    }
   ],
   "source": [
    "state = Pruning_state(\n",
    "    W_mask= neuron_params.W[None, :] * jnp.ones((n_sims, neuron_params.W.shape[0], neuron_params.W.shape[1])),\n",
    "    in_idxs=in_idxs,\n",
    "    level=jnp.zeros(n_sims, dtype=jnp.int32),\n",
    "    removed_neurons=jnp.full([n_sims, neuron_params.removed_neurons.shape[-1]], -1, dtype=jnp.int32),\n",
    "    neurons_put_back=jnp.full([n_sims, neuron_params.removed_neurons.shape[-1]], -1, dtype=jnp.int32),\n",
    "    last_removed=jnp.full([n_sims, neuron_params.removed_neurons.shape[-1]], -1, dtype=jnp.int32),\n",
    "    remove_p=jnp.array(p_arrays),\n",
    "    min_circuit=jnp.full(n_sims, False),\n",
    "    keys=neuron_params.seeds\n",
    ")"
   ]
  },
  {
   "cell_type": "code",
   "execution_count": null,
   "metadata": {},
   "outputs": [
    {
     "ename": "AttributeError",
     "evalue": "can't set attribute",
     "output_type": "error",
     "traceback": [
      "\u001b[31m---------------------------------------------------------------------------\u001b[39m",
      "\u001b[31mAttributeError\u001b[39m                            Traceback (most recent call last)",
      "\u001b[36mCell\u001b[39m\u001b[36m \u001b[39m\u001b[32mIn[34]\u001b[39m\u001b[32m, line 1\u001b[39m\n\u001b[32m----> \u001b[39m\u001b[32m1\u001b[39m neuron_params.removed_neurons =temp_removed.at[i].set(new_remove_neurons)\n",
      "\u001b[31mAttributeError\u001b[39m: can't set attribute"
     ]
    }
   ],
   "source": [
    "neuron_params.removed_neurons = temp_removed.at[i].set(new_remove_neurons)"
   ]
  },
  {
   "cell_type": "code",
   "execution_count": 20,
   "metadata": {},
   "outputs": [
    {
     "ename": "AttributeError",
     "evalue": "'list' object has no attribute 'at'",
     "output_type": "error",
     "traceback": [
      "\u001b[31m---------------------------------------------------------------------------\u001b[39m",
      "\u001b[31mAttributeError\u001b[39m                            Traceback (most recent call last)",
      "\u001b[36mCell\u001b[39m\u001b[36m \u001b[39m\u001b[32mIn[30]\u001b[39m\u001b[32m, line 1\u001b[39m\n\u001b[32m----> \u001b[39m\u001b[32m1\u001b[39m neurons_put_back.at[in_idxs[neuron_idx]].set(\u001b[32m1\u001b[39m)\n",
      "\u001b[31mAttributeError\u001b[39m: 'list' object has no attribute 'at'"
     ]
    }
   ],
   "source": [
    "neurons_put_back.at[in_idxs[neuron_idx]].set(1)\n"
   ]
  },
  {
   "cell_type": "code",
   "execution_count": null,
   "metadata": {},
   "outputs": [],
   "source": [
    "# Initialize state arrays\n",
    "level = jnp.zeros(n_sims, dtype=jnp.int32)\n",
    "last_removed = jnp.full(n_sims, -1, dtype=jnp.int32)  # Use -1 for None\n",
    "neurons_put_back = [jnp.array([], dtype=jnp.int32) for _ in range(n_sims)]\n",
    "min_circuit = jnp.full(n_sims, False)\n",
    "oscillation_threshold=0.1\n",
    "\n",
    "# Initialize probabilities\n",
    "p_arrays = []\n",
    "for i in range(n_sims):\n",
    "    exclude_mask = jnp.isin(in_idxs, jnp.concatenate([\n",
    "        jnp.array(remove_neurons[i]), \n",
    "        removed_stim_neurons[i]\n",
    "    ]))\n",
    "    p_i = removal_probability(jnp.ones(len(in_idxs)), exclude_mask)\n",
    "    p_arrays.append(p_i)\n"
   ]
  },
  {
   "cell_type": "code",
   "execution_count": null,
   "metadata": {},
   "outputs": [],
   "source": [
    "max_frs[mn_idxs].shape, (max_frs[mn_idxs] > 0).shape"
   ]
  },
  {
   "cell_type": "code",
   "execution_count": null,
   "metadata": {},
   "outputs": [],
   "source": [
    "\n",
    "max_frs = jnp.max(R, axis=-1)\n",
    "active_mn_mask = max_frs[mn_idxs] > 0\n",
    "active_mn_idxs = jnp.where(active_mn_mask, mn_idxs, -1)\n",
    "active_mn_idxs = jnp.extract(active_mn_idxs >= 0, active_mn_idxs)\n",
    "\n",
    "start = 250\n",
    "end = R.shape[1]  # Use full time range\n",
    "# active_mn_idxs = mn_idxs[max_frs[mn_idxs] > 0]\n"
   ]
  },
  {
   "cell_type": "code",
   "execution_count": null,
   "metadata": {},
   "outputs": [],
   "source": []
  },
  {
   "cell_type": "code",
   "execution_count": null,
   "metadata": {},
   "outputs": [],
   "source": [
    "\n",
    "# Create master random key\n",
    "master_key = random.PRNGKey(cfg.experiment.seed)\n",
    "iter_start=0\n",
    "# Main pruning loop\n",
    "iteration = iter_start\n",
    "max_iterations = 1000  # Safety limit\n",
    "\n",
    "# while not jnp.all(min_circuit) and iteration < max_iterations:\n",
    "print(f\"Iteration {iteration}\")\n",
    "\n",
    "# Resample seeds for non-converged simulations\n",
    "resample_idxs = jnp.where(~min_circuit)[0]\n",
    "master_key, *subkeys = random.split(master_key, len(resample_idxs) + 1)\n",
    "\n",
    "# add in sim here\n",
    "\n",
    "Rs = results[1][0]\n",
    "# Update each simulation state\n",
    "# for i in range(n_sims):\n",
    "i = 0\n",
    "\n",
    "\n",
    "state = (\n",
    "    jnp.array(remove_neurons[i]),\n",
    "    neurons_put_back[i],\n",
    "    last_removed[i],\n",
    "    p_arrays[i],\n",
    "    level[i],\n",
    "    removed_stim_neurons[i],\n",
    "    subkeys[i] if i < len(subkeys) else master_key\n",
    ")\n"
   ]
  },
  {
   "cell_type": "code",
   "execution_count": null,
   "metadata": {},
   "outputs": [],
   "source": [
    "\n",
    "# This function is JIT compiled but doesn't need to handle min_circuit\n",
    "new_state = update_single_sim_state(state, Rs, mn_idxs, in_idxs, oscillation_threshold\n",
    ")\n"
   ]
  },
  {
   "cell_type": "code",
   "execution_count": null,
   "metadata": {},
   "outputs": [],
   "source": [
    "new_state = update_single_sim_state(state, R, mn_idxs, in_idxs, oscillation_threshold)"
   ]
  },
  {
   "cell_type": "markdown",
   "metadata": {},
   "source": [
    "## Load data"
   ]
  },
  {
   "cell_type": "code",
   "execution_count": 4,
   "metadata": {},
   "outputs": [],
   "source": [
    "results = sparse.load_npz(cfg.paths.ckpt_dir  / f\"{cfg.experiment.name}_Rs.npz\").todense().astype(np.float32)\n",
    "W_mask = sparse.load_npz(cfg.paths.ckpt_dir / f\"{cfg.experiment.name}_W_mask.npz\").todense().astype(np.float32)\n",
    "total_removed_neurons = sparse.load_npz(cfg.paths.ckpt_dir / f\"{cfg.experiment.name}_total_removed.npz\").todense().astype(np.bool_)"
   ]
  },
  {
   "cell_type": "code",
   "execution_count": 5,
   "metadata": {},
   "outputs": [
    {
     "data": {
      "text/plain": [
       "Array([  31,   97,  108,  113,  132,  134,  142,  150,  451,  536,  582,\n",
       "        598,  626,  660,  669,  679,  713,  722,  739,  763,  793,  848,\n",
       "        855,  860,  868,  887,  917,  978,  991, 1020, 1024, 1043, 1044,\n",
       "       1064, 1073, 1104, 1108, 1147, 1153, 1169, 1182, 1211, 1270, 1302,\n",
       "       1307, 1354, 1357, 1367, 1396, 1412, 1436, 1473, 1474, 1482, 1498,\n",
       "       1501, 1503, 1549, 1557, 1573, 1574, 1580, 1685, 1696, 1723, 1725,\n",
       "       1729, 1743, 1773, 1787, 1805, 1816, 1828, 1838, 1842, 1927, 1940,\n",
       "       1973, 2058, 2065, 2071, 2083, 2086, 2107, 2150, 2153, 2165, 2176,\n",
       "       2209, 2214, 2256, 2260, 2279, 2303, 2309, 2368, 2379, 2380, 2403,\n",
       "       2408, 2409, 2410, 2419, 2508, 2522, 2528, 2581, 2595, 2602, 2605,\n",
       "       2636, 2656, 2657, 2667, 2682, 2714, 2742, 2790, 2814, 2819, 2821,\n",
       "       2836, 2877, 2879, 2926, 2991, 3029, 3088, 3108, 3120, 3138, 3224,\n",
       "       3233, 3283, 3288, 3455, 3462, 3466, 3501, 3502, 3506, 3509, 3686,\n",
       "       3812, 3911, 4156, 4161, 4173, 4338, 4339, 4352, 4358, 4366, 4371,\n",
       "       4380, 4389, 4400, 4439, 4440, 4459, 4465, 4468, 4513], dtype=int32)"
      ]
     },
     "execution_count": 5,
     "metadata": {},
     "output_type": "execute_result"
    }
   ],
   "source": [
    "jnp.where(~total_removed_neurons[0])[0]"
   ]
  },
  {
   "cell_type": "code",
   "execution_count": 11,
   "metadata": {},
   "outputs": [
    {
     "data": {
      "image/png": "[encoded data removed]",
      "text/plain": [
       "<Figure size 640x480 with 1 Axes>"
      ]
     },
     "metadata": {},
     "output_type": "display_data"
    }
   ],
   "source": [
    "R = results[0,0]\n",
    "\n",
    "\n",
    "wTable = pd.read_csv(\"../data/manc t1 connectome data/wTable_20231020_DNtoMN_unsorted_withModules.csv\",index_col=0)\n",
    "nonMns = wTable.loc[(wTable[\"bodyId\"]==10093) | (wTable[\"bodyId\"]==10707) | (wTable[\"bodyId\"]==13905) | (wTable[\"bodyId\"]==11751)]\n",
    "mnIdxs = wTable.loc[wTable[\"class\"]==\"motor neuron\"].index\n",
    "\n",
    "\n",
    "for i in nonMns.index:\n",
    "# for i in mnIdxs:\n",
    "    plt.plot(R[i])\n",
    "\n"
   ]
  },
  {
   "cell_type": "markdown",
   "metadata": {},
   "source": [
    "# Stim Adjustment Testing"
   ]
  },
  {
   "cell_type": "code",
   "execution_count": null,
   "metadata": {},
   "outputs": [],
   "source": [
    "\n",
    "\n",
    "def run_with_stim_adjustment(self,maxIters=10,clampedNeurons=[],clampedRates=None,nActiveUpper=500,nActiveLower=5,nHighFrUpper=100):\n",
    "    nextHighest = None\n",
    "    nextLowest = None\n",
    "\n",
    "    for i in range(maxIters):\n",
    "        self.run(clampedNeurons=clampedNeurons,clampedRates=clampedRates)\n",
    "        R = self.R\n",
    "\n",
    "        nActive = sum(np.sum(R,1)>0)\n",
    "        nHighFr = sum(np.max(R,1)>100)\n",
    "\n",
    "        currInputs = self.inputs.copy()\n",
    "\n",
    "        print(f\"Run {i}\")\n",
    "        print(f\"max stimI = {np.max(currInputs)}\")\n",
    "        print(f\"nActive: {nActive}\")\n",
    "        print(f\"nHighFr: {nHighFr}\")\n",
    "\n",
    "        if (nActive > nActiveUpper) or (nHighFr > nHighFrUpper): # too strong\n",
    "            if nextLowest is None:\n",
    "                newInputs = currInputs/2\n",
    "            else:\n",
    "                newInputs = (currInputs+nextLowest)/2\n",
    "            nextHighest = currInputs\n",
    "        elif (nActive < nActiveLower): # too weak\n",
    "            if nextHighest is None:\n",
    "                newInputs = currInputs*2\n",
    "            else:\n",
    "                newInputs = (currInputs+nextHighest)/2\n",
    "            nextLowest = currInputs\n",
    "        else:\n",
    "            break\n",
    "\n",
    "        self.set_input(newInputs)"
   ]
  },
  {
   "cell_type": "code",
   "execution_count": null,
   "metadata": {},
   "outputs": [],
   "source": [
    "\n",
    "# Note: The run_with_stim_adjustment function cannot be easily JIT-compiled\n",
    "# because it involves loops with data-dependent control flow and side effects.\n",
    "# Here's a restructured version that separates the JIT-able parts:\n",
    "\n",
    "@jit\n",
    "def compute_activity_metrics(R):\n",
    "    \"\"\"JIT-compatible function to compute activity metrics.\"\"\"\n",
    "    n_active = jnp.sum(jnp.sum(R, axis=1) > 0)\n",
    "    n_high_fr = jnp.sum(jnp.max(R, axis=1) > 100)\n",
    "    return n_active, n_high_fr\n",
    "\n",
    "@jit\n",
    "def update_inputs_binary_search(curr_inputs, next_lowest, next_highest, \n",
    "                               n_active, n_high_fr, n_active_upper, \n",
    "                               n_active_lower, n_high_fr_upper):\n",
    "    \"\"\"JIT-compatible input update logic.\"\"\"\n",
    "    \n",
    "    # Determine if stimulation is too strong\n",
    "    too_strong = (n_active > n_active_upper) | (n_high_fr > n_high_fr_upper)\n",
    "    too_weak = n_active < n_active_lower\n",
    "    \n",
    "    # Update inputs based on binary search logic\n",
    "    def update_for_too_strong():\n",
    "        new_inputs = jnp.where(\n",
    "            next_lowest is None,\n",
    "            curr_inputs / 2,\n",
    "            (curr_inputs + next_lowest) / 2\n",
    "        )\n",
    "        new_next_highest = curr_inputs\n",
    "        return new_inputs, next_lowest, new_next_highest\n",
    "    \n",
    "    def update_for_too_weak():\n",
    "        new_inputs = jnp.where(\n",
    "            next_highest is None,\n",
    "            curr_inputs * 2,\n",
    "            (curr_inputs + next_highest) / 2\n",
    "        )\n",
    "        new_next_lowest = curr_inputs\n",
    "        return new_inputs, new_next_lowest, next_highest\n",
    "    \n",
    "    def no_update():\n",
    "        return curr_inputs, next_lowest, next_highest\n",
    "    \n",
    "    # Apply updates conditionally\n",
    "    new_inputs, new_next_lowest, new_next_highest = jax.lax.cond(\n",
    "        too_strong,\n",
    "        update_for_too_strong,\n",
    "        lambda: jax.lax.cond(\n",
    "            too_weak,\n",
    "            update_for_too_weak,\n",
    "            no_update\n",
    "        )\n",
    "    )\n",
    "    \n",
    "    converged = ~too_strong & ~too_weak\n",
    "    \n",
    "    return new_inputs, new_next_lowest, new_next_highest, converged\n",
    "\n",
    "# Example usage:\n",
    "def run_with_stim_adjustment_jax(simulation_runner, max_iters=10, \n",
    "                                clamped_neurons=None, clamped_rates=None,\n",
    "                                n_active_upper=500, n_active_lower=5, \n",
    "                                n_high_fr_upper=100):\n",
    "    \"\"\"\n",
    "    JAX-compatible version of run_with_stim_adjustment.\n",
    "    Note: This requires the simulation_runner to be compatible with JAX.\n",
    "    \"\"\"\n",
    "    next_highest = None\n",
    "    next_lowest = None\n",
    "    \n",
    "    for i in range(max_iters):\n",
    "        # Run simulation (this part depends on your simulation framework)\n",
    "        R = simulation_runner.run(clamped_neurons=clamped_neurons, \n",
    "                                 clamped_rates=clamped_rates)\n",
    "        \n",
    "        # Compute metrics (JIT-compiled)\n",
    "        n_active, n_high_fr = compute_activity_metrics(R)\n",
    "        curr_inputs = simulation_runner.get_inputs()\n",
    "        \n",
    "        print(f\"Run {i}\")\n",
    "        print(f\"max stimI = {jnp.max(curr_inputs)}\")\n",
    "        print(f\"nActive: {n_active}\")\n",
    "        print(f\"nHighFr: {n_high_fr}\")\n",
    "        \n",
    "        # Update inputs (JIT-compiled)\n",
    "        new_inputs, next_lowest, next_highest, converged = update_inputs_binary_search(\n",
    "            curr_inputs, next_lowest, next_highest, n_active, n_high_fr,\n",
    "            n_active_upper, n_active_lower, n_high_fr_upper\n",
    "        )\n",
    "        \n",
    "        if converged:\n",
    "            break\n",
    "            \n",
    "        simulation_runner.set_input(new_inputs)\n",
    "\n",
    "# Additional utility functions for JAX compatibility:\n",
    "\n",
    "@jit\n",
    "def safe_divide(x, y, default=0.0):\n",
    "    \"\"\"Safe division that handles division by zero.\"\"\"\n",
    "    return jnp.where(y == 0, default, x / y)\n",
    "\n",
    "@jit\n",
    "def safe_max(x, default=0.0):\n",
    "    \"\"\"Safe max that handles empty arrays.\"\"\"\n",
    "    return jnp.where(len(x) == 0, default, jnp.max(x))\n",
    "\n",
    "@jit\n",
    "def safe_min(x, default=0.0):\n",
    "    \"\"\"Safe min that handles empty arrays.\"\"\"\n",
    "    return jnp.where(len(x) == 0, default, jnp.min(x))"
   ]
  },
  {
   "cell_type": "code",
   "execution_count": null,
   "metadata": {},
   "outputs": [],
   "source": []
  },
  {
   "cell_type": "code",
   "execution_count": null,
   "metadata": {},
   "outputs": [],
   "source": []
  }
 ],
 "metadata": {
  "kernelspec": {
   "display_name": "vnc-closedloop",
   "language": "python",
   "name": "python3"
  },
  "language_info": {
   "codemirror_mode": {
    "name": "ipython",
    "version": 3
   },
   "file_extension": ".py",
   "mimetype": "text/x-python",
   "name": "python",
   "nbconvert_exporter": "python",
   "pygments_lexer": "ipython3",
   "version": "3.11.11"
  }
 },
 "nbformat": 4,
 "nbformat_minor": 2
}
