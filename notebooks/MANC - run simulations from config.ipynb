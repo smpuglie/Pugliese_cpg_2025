{
 "cells": [
  {
   "cell_type": "code",
   "execution_count": 1,
   "id": "0d3ced97",
   "metadata": {},
   "outputs": [],
   "source": [
    "import pandas as pd\n",
    "import yaml\n",
    "import numpy as np\n",
    "from datetime import date\n",
    "import os\n",
    "from src.sim_utils import *"
   ]
  },
  {
   "cell_type": "markdown",
   "id": "5e9c106f",
   "metadata": {},
   "source": [
    "Open default parameters"
   ]
  },
  {
   "cell_type": "code",
   "execution_count": 2,
   "id": "77a6b323",
   "metadata": {},
   "outputs": [],
   "source": [
    "defaultParamPath = \"../configs/default-manc-pulse.yaml\"\n",
    "params = load_from_yaml(defaultParamPath)"
   ]
  },
  {
   "cell_type": "markdown",
   "id": "6bed8c61",
   "metadata": {},
   "source": [
    "Change defaults\n",
    "\n",
    "This example: Want to run *n* simulations of varying stim strengths and random seeds while activating both BDN2s"
   ]
  },
  {
   "cell_type": "code",
   "execution_count": 3,
   "id": "d934eec8",
   "metadata": {},
   "outputs": [],
   "source": [
    "simStr = \"mancBDN2activation\"\n",
    "\n",
    "nSims = 20\n",
    "params[\"paramsToIterate\"] = [\"stimI\",\"seed\"]\n",
    "\n",
    "# get BDN2 neurons\n",
    "wTable = pd.read_csv(params[\"dfPath\"],index_col=0)\n",
    "stimNeurons = wTable.loc[wTable[\"type\"] == \"DNxl058\"]\n",
    "params[\"stimNeurons\"] = stimNeurons.index.to_list()\n",
    "\n",
    "# set different stimIs and seeds for each\n",
    "meanStimI = np.mean((stimNeurons[\"size\"]/512)/60000)\n",
    "stdStimI = meanStimI/10\n",
    "params[\"seed\"] = np.random.default_rng().integers(10000,size=nSims).tolist()\n",
    "params[\"stimI\"] = np.random.default_rng().normal(meanStimI,stdStimI,size=nSims).tolist()"
   ]
  },
  {
   "cell_type": "markdown",
   "id": "905e5df9",
   "metadata": {},
   "source": [
    "Save the new config file that corresponds to this set of simulations"
   ]
  },
  {
   "cell_type": "code",
   "execution_count": 4,
   "id": "ed67e797",
   "metadata": {},
   "outputs": [],
   "source": [
    "dateStr = date.today().strftime(format=\"%Y%m%d\")\n",
    "saveStr = f\"{dateStr}_{simStr}\"\n",
    "params[\"name\"] = saveStr\n",
    "\n",
    "configPath = save_config(params,f\"../configs/{saveStr}.yaml\")"
   ]
  },
  {
   "cell_type": "markdown",
   "id": "07b5ac34",
   "metadata": {},
   "source": [
    "**Here is where you would run the simulations, using `run_from_config.py`.**\n",
    "\n",
    "The old way looked like this:\n",
    "```\n",
    "for i in range(nSims):\n",
    "    os.system(f\"python {os.path.abspath('../src/run_from_config.py')} '{configPath}' --idx {i}\")\n",
    "```\n",
    "\n",
    "But you would actually want to run using Jax!"
   ]
  }
 ],
 "metadata": {
  "kernelspec": {
   "display_name": "bdn2cpg",
   "language": "python",
   "name": "python3"
  },
  "language_info": {
   "codemirror_mode": {
    "name": "ipython",
    "version": 3
   },
   "file_extension": ".py",
   "mimetype": "text/x-python",
   "name": "python",
   "nbconvert_exporter": "python",
   "pygments_lexer": "ipython3",
   "version": "3.13.5"
  }
 },
 "nbformat": 4,
 "nbformat_minor": 5
}
