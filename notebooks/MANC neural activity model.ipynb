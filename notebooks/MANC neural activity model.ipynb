{
 "cells": [
  {
   "cell_type": "code",
   "execution_count": 1,
   "metadata": {},
   "outputs": [],
   "source": [
    "%load_ext autoreload\n",
    "%autoreload 2\n",
    "\n",
    "import pandas as pd\n",
    "import src.vncNet as vncNet\n",
    "from src.plot_utils import *\n",
    "import numpy as np\n",
    "import matplotlib.pyplot as plt\n",
    "import seaborn as sns\n",
    "import datetime\n",
    "import os\n",
    "import seaborn as sns\n",
    "\n",
    "from scipy import fft\n",
    "from scipy.signal import find_peaks\n",
    "from scipy import signal\n",
    "\n",
    "from src.plot_utils import *\n",
    "from src.sim_utils import *"
   ]
  },
  {
   "cell_type": "code",
   "execution_count": 2,
   "metadata": {},
   "outputs": [],
   "source": [
    "saveFigs=False"
   ]
  },
  {
   "cell_type": "code",
   "execution_count": 3,
   "metadata": {},
   "outputs": [],
   "source": [
    "def bodyIdToIdx(wTable,bodyIdList):\n",
    "    return wTable[wTable[\"bodyId\"].isin(bodyIdList)].index.to_numpy().astype(int)\n",
    "\n",
    "def average_R(sims):\n",
    "    nSims = len(sims)\n",
    "    rShape = sims[0].R.shape\n",
    "\n",
    "    rCat = np.empty((rShape[0],rShape[1],nSims))\n",
    "    for i in range(nSims):\n",
    "        rCat[:,:,i] = sims[i].R\n",
    "\n",
    "    return np.mean(rCat,axis=2)"
   ]
  },
  {
   "cell_type": "code",
   "execution_count": 4,
   "metadata": {},
   "outputs": [],
   "source": [
    "Wpd = pd.read_csv(\"../data/MANC weights/20231020_DNtoMN/W_20231020_DNtoMN_unsorted.csv\")\n",
    "W = Wpd.drop(columns=\"bodyId_pre\").to_numpy().astype(float) # changing the type to float is what allows it to work, TODO catch this and fix\n",
    "wTable = pd.read_csv(\"../data/MANC weights/20231020_DNtoMN/wTable_20231020_DNtoMN_unsorted_withModules.csv\",index_col=0)\n",
    "\n",
    "# Wpd = pd.read_csv(\"../data/MANC weights/20250204_T1networkV2/W_20250204_T1networkV2.csv\")\n",
    "# W = Wpd.drop(columns=\"bodyId_pre\").to_numpy().astype(float) # changing the type to float is what allows it to work, TODO catch this and fix\n",
    "# wTable = pd.read_csv(\"../data/MANC weights/20250204_T1networkV2/wTable_20250204_T1networkV2_withModules.csv\",index_col=0)\n",
    "# # vncNet.display_W(W)"
   ]
  },
  {
   "cell_type": "code",
   "execution_count": 5,
   "metadata": {},
   "outputs": [],
   "source": [
    "headlessWalkingBodyIds = [12984, 13134, 13149, 13235, 13243, 13351, 13433, 13550, 13652, 13662, 13710, 13853, 14246, 14835, 14854, 14856, 15003, 15033, 15223, 15408]\n",
    "headlessWalking = wTable[wTable[\"bodyId\"].isin(headlessWalkingBodyIds)].index.to_numpy().astype(int)\n",
    "\n",
    "dna02Left = wTable[wTable[\"bodyId\"]==10126].index.to_numpy().astype(int)\n",
    "dna02Right = wTable[wTable[\"bodyId\"]==10118].index.to_numpy().astype(int)\n",
    "dna02s = wTable[wTable[\"type\"]==\"DNa02\"].index.to_numpy().astype(int)\n",
    "\n",
    "bdn2s = bodyIdToIdx(wTable,[10093, 10339])\n",
    "\n",
    "dng39s = bodyIdToIdx(wTable,[18107,17155])\n",
    "dna11s = bodyIdToIdx(wTable,[13466,12939])\n",
    "\n",
    "inxxx466s = bodyIdToIdx(wTable,[13698,11751]) \n",
    "in17a001s = bodyIdToIdx(wTable,[10707,10690])\n",
    "\n",
    "dnb08s = wTable[wTable[\"type\"]==\"DNxl027\"].index.to_numpy().astype(int)\n",
    "inxxx468s = bodyIdToIdx(wTable,[13246, 14230, 14650, 15115])\n",
    "inxxx464s = bodyIdToIdx(wTable,[162543,10274])"
   ]
  },
  {
   "cell_type": "code",
   "execution_count": 6,
   "metadata": {},
   "outputs": [],
   "source": [
    "lhsColorMap = sns.blend_palette([\"#00755E\",\"#BEE64B\",\"#F2C649\"],as_cmap=True)\n",
    "rhsColorMap = sns.blend_palette([\"#803790\",\"#CA3435\",\"#FEBAAD\"],as_cmap=True)\n",
    "\n",
    "swingColorMap = sns.blend_palette([\"#B33B24\",\"#FF8833\",\"#F2C649\"],4)\n",
    "stanceColorMap = sns.blend_palette([\"#492c6d\",\"#7070CC\",\"#93CCEA\"],4)"
   ]
  },
  {
   "cell_type": "markdown",
   "metadata": {},
   "source": [
    "# DN activation"
   ]
  },
  {
   "cell_type": "code",
   "execution_count": 11,
   "metadata": {},
   "outputs": [
    {
     "name": "stderr",
     "output_type": "stream",
     "text": [
      "/home/smpuglie/vnc-closedloop/src/vncNet.py:139: SettingWithCopyWarning: \n",
      "A value is trying to be set on a copy of a slice from a DataFrame\n",
      "\n",
      "See the caveats in the documentation: https://pandas.pydata.org/pandas-docs/stable/user_guide/indexing.html#returning-a-view-versus-a-copy\n",
      "  sizes[sizes.isna()] = normSize\n",
      "/home/smpuglie/vnc-closedloop/src/vncNet.py:140: SettingWithCopyWarning: \n",
      "A value is trying to be set on a copy of a slice from a DataFrame\n",
      "\n",
      "See the caveats in the documentation: https://pandas.pydata.org/pandas-docs/stable/user_guide/indexing.html#returning-a-view-versus-a-copy\n",
      "  sizes[sizes == 0] = normSize #TODO this isn't great\n"
     ]
    }
   ],
   "source": [
    "# stimNeurons = [wTable[wTable[\"type\"]==\"DNxl027\"].index.to_numpy().astype(int)[2]] #DNb08\n",
    "\n",
    "# stimNeurons = [in17a001s[1]] # [inxxx464s[0]] # bodyIdToIdx(wTable,[13892]).tolist()\n",
    "\n",
    "stimNeurons = [bdn2s[0]] #bodyIdToIdx(wTable,[15650, 18076]) #dna02s # list of neurons to activate\n",
    "stimI = 250 #236.9914310058594 # Stimulus\n",
    "\n",
    "# neuronsToRemove = bodyIdToIdx(wTable,[13698])  \n",
    "# neuronsToRemove = wTable[wTable[\"type\"]==\"IN15A001\"].index.to_numpy().astype(int) #bodyIdToIdx(wTable,[10690]) \n",
    "T = 1\n",
    "dt = 0.001\n",
    "\n",
    "nSims = 1 #3\n",
    "sims = []\n",
    "\n",
    "seedOfSeedOfSeeds = np.random.randint(10000) #8580\n",
    "seedsOfSeeds = np.random.default_rng(seedOfSeedOfSeeds).integers(10000,size=nSims)\n",
    "\n",
    "# cellVolumes = wTable[\"size\"].to_numpy().astype(float)/512 # 512 nm3 per voxel ... maybe (methods are a little unclear)\n",
    "# cellSurfareasApprox = pd.Series(cellVolumes**(2/3)) # these are not the surface areas to be c\n",
    "\n",
    "for i in range(nSims):\n",
    "\n",
    "    seeds = np.random.default_rng(seedsOfSeeds[i]).integers(10000,size=4)\n",
    "\n",
    "    sim = vncNet.Simulation(W)\n",
    "    sim.set_time(T,dt)\n",
    "    # sim.silence_neurons(neuronsToRemove)\n",
    "\n",
    "    # Set input\n",
    "    sim.set_input(sim.pulse_input(0.02,T-0.1,stimI,stimNeurons))\n",
    "\n",
    "    # sim.set_input(sim.pulse_input(0.02,T-0.1,30,[inxxx468s[1]])+\n",
    "    #               #sim.pulse_input(0.02,T-0.1,60,[inxxx468s[2]])+\n",
    "    #               sim.pulse_input(0.02,T-0.1,60,[inxxx468s[3]]))\n",
    "    \n",
    "    # inputMatrix = sim.pulse_input(0.02,T-0.1,stimI[0],[stimNeurons[0]])\n",
    "    # for i in range(3):\n",
    "    #     inputMatrix += sim.pulse_input(0.02,T-0.1,stimI[i+1],[stimNeurons[i+1]])\n",
    "    # sim.set_input(inputMatrix)\n",
    "\n",
    "    # # Set parameters\n",
    "    # sim.set_tau_distribution(0.02,0.002,seed=seeds[0])\n",
    "    # sim.set_a_distribution(1,0.1,seed=seeds[1])\n",
    "    # sim.set_threshold_distribution(7.5,0.6,seed=seeds[2])\n",
    "    # sim.set_synapse_multipliers(0.03,0.03)\n",
    "    # sim.set_fr_distribution(200,10,seed=seeds[3])\n",
    "    # sim.set_sizes(wTable[\"size\"])\n",
    "\n",
    "    sim.set_tau_distribution(0.02,0.0000001,seed=seeds[0])\n",
    "    sim.set_a_distribution(1,0.0000001,seed=seeds[1])\n",
    "    sim.set_threshold_distribution(6,0.0000001,seed=seeds[2])\n",
    "    sim.set_synapse_multipliers(0.03,0.03)\n",
    "    sim.set_fr_distribution(200,0.0000001,seed=seeds[3])\n",
    "    sim.set_sizes(wTable[\"size\"])\n",
    "\n",
    "    # sim.run()\n",
    "\n",
    "    # sims.append(sim)\n",
    "\n",
    "\n",
    "# avgR = average_R(sims)"
   ]
  },
  {
   "cell_type": "code",
   "execution_count": 12,
   "metadata": {},
   "outputs": [
    {
     "data": {
      "text/plain": [
       "bodyId\n",
       "10093    0.09\n",
       "10339    0.09\n",
       "dtype: float64"
      ]
     },
     "metadata": {},
     "output_type": "display_data"
    },
    {
     "data": {
      "text/plain": [
       "bodyId\n",
       "10690    0.15\n",
       "10707    0.17\n",
       "dtype: float64"
      ]
     },
     "metadata": {},
     "output_type": "display_data"
    },
    {
     "data": {
      "text/plain": [
       "bodyId\n",
       "11751    0.306\n",
       "13698    0.295\n",
       "dtype: float64"
      ]
     },
     "metadata": {},
     "output_type": "display_data"
    },
    {
     "data": {
      "text/plain": [
       "bodyId\n",
       "13905    0.508\n",
       "14096    0.547\n",
       "dtype: float64"
      ]
     },
     "metadata": {},
     "output_type": "display_data"
    }
   ],
   "source": [
    "display(pd.Series(index=wTable.loc[bdn2s,\"bodyId\"],data=np.round(sim.a[bdn2s],2)))\n",
    "display(pd.Series(index=wTable.loc[in17a001s,\"bodyId\"],data=np.round(sim.a[in17a001s],2)))\n",
    "display(pd.Series(index=wTable.loc[inxxx466s,\"bodyId\"],data=np.round(sim.a[inxxx466s],3)))\n",
    "in16b036s = bodyIdToIdx(wTable,[13905, 14096])\n",
    "display(pd.Series(index=wTable.loc[in16b036s,\"bodyId\"],data=np.round(sim.a[in16b036s],3)))"
   ]
  },
  {
   "cell_type": "code",
   "execution_count": 13,
   "metadata": {},
   "outputs": [
    {
     "data": {
      "text/plain": [
       "(-1.0, 5.0)"
      ]
     },
     "execution_count": 13,
     "metadata": {},
     "output_type": "execute_result"
    },
    {
     "data": {
      "image/png": "[encoded data removed]",
      "text/plain": [
       "<Figure size 640x480 with 1 Axes>"
      ]
     },
     "metadata": {},
     "output_type": "display_data"
    }
   ],
   "source": [
    "sns.histplot(sim.a)\n",
    "plt.xlim([-1,5])"
   ]
  },
  {
   "cell_type": "code",
   "execution_count": 8,
   "metadata": {},
   "outputs": [
    {
     "name": "stderr",
     "output_type": "stream",
     "text": [
      "/home/smpuglie/vnc-closedloop/src/plot_utils.py:30: SettingWithCopyWarning: \n",
      "A value is trying to be set on a copy of a slice from a DataFrame.\n",
      "Try using .loc[row_indexer,col_indexer] = value instead\n",
      "\n",
      "See the caveats in the documentation: https://pandas.pydata.org/pandas-docs/stable/user_guide/indexing.html#returning-a-view-versus-a-copy\n",
      "  neuronData[colName] = pd.Categorical(neuronData[colName],categories=[\"coxa swing\", \"coxa stance\", \"femur/tr extend\", \"femur/tr flex\",\n"
     ]
    },
    {
     "data": {
      "image/png": "[encoded data removed]",
      "text/plain": [
       "<Figure size 640x480 with 2 Axes>"
      ]
     },
     "metadata": {},
     "output_type": "display_data"
    },
    {
     "data": {
      "image/png": "[encoded data removed]",
      "text/plain": [
       "<Figure size 640x480 with 2 Axes>"
      ]
     },
     "metadata": {},
     "output_type": "display_data"
    }
   ],
   "source": [
    "R = sim.R\n",
    "allMNs = sort_motor_modules(wTable.loc[wTable[\"class\"] == \"motor neuron\"])\n",
    "lMNs = allMNs.loc[allMNs[\"somaSide\"]==\"LHS\"].copy()\n",
    "rMNs = allMNs.loc[allMNs[\"somaSide\"]==\"RHS\"].copy()\n",
    "\n",
    "\n",
    "ax = plot_R_heatmap(R,lMNs,activeOnly=False)#,space=spacer,figsize=(width,5))\n",
    "plt.figure()\n",
    "ax = plot_R_heatmap(R,rMNs,activeOnly=False)#,space=spacer,figsize=(width,5))\n"
   ]
  },
  {
   "cell_type": "code",
   "execution_count": 39,
   "metadata": {},
   "outputs": [],
   "source": [
    "# np.save(\"../results/20250316_mancBDN2activation_seed2144_latestParams.npy\",R)\n",
    "# R = np.load(\"../results/20250316_mancBDN2activation_seed8580_latestParams.npy\")"
   ]
  },
  {
   "cell_type": "code",
   "execution_count": 11,
   "metadata": {},
   "outputs": [
    {
     "data": {
      "image/png": "[encoded data removed]",
      "text/plain": [
       "<Figure size 300x150 with 1 Axes>"
      ]
     },
     "metadata": {},
     "output_type": "display_data"
    },
    {
     "name": "stdout",
     "output_type": "stream",
     "text": [
      "Could not generate RHS figure.\n"
     ]
    },
    {
     "name": "stderr",
     "output_type": "stream",
     "text": [
      "/home/smpuglie/vnc-closedloop/src/plot_utils.py:144: UserWarning: No artists with labels found to put in legend.  Note that artists whose label start with an underscore are ignored when legend() is called with no argument.\n",
      "  ax.legend(loc=\"upper left\",bbox_to_anchor=[1,1],edgecolor=\"None\",facecolor=\"None\")\n",
      "/home/smpuglie/miniconda3/envs/vnc-closedloop/lib/python3.12/site-packages/matplotlib/_tight_bbox.py:67: RuntimeWarning: divide by zero encountered in scalar divide\n",
      "  fig.patch.set_bounds(x0 / w1, y0 / h1,\n",
      "/home/smpuglie/miniconda3/envs/vnc-closedloop/lib/python3.12/site-packages/matplotlib/_tight_bbox.py:68: RuntimeWarning: divide by zero encountered in scalar divide\n",
      "  fig.bbox.width / w1, fig.bbox.height / h1)\n",
      "/home/smpuglie/miniconda3/envs/vnc-closedloop/lib/python3.12/site-packages/matplotlib/patches.py:797: RuntimeWarning: invalid value encountered in scalar add\n",
      "  y1 = self.convert_yunits(self._y0 + self._height)\n",
      "/home/smpuglie/miniconda3/envs/vnc-closedloop/lib/python3.12/site-packages/matplotlib/transforms.py:2036: RuntimeWarning: invalid value encountered in scalar add\n",
      "  self._mtx[1, 2] += ty\n"
     ]
    },
    {
     "data": {
      "image/png": "[encoded data removed]",
      "text/plain": [
       "<Figure size 300x0 with 1 Axes>"
      ]
     },
     "metadata": {},
     "output_type": "display_data"
    }
   ],
   "source": [
    "plt.rcParams[\"svg.fonttype\"] = \"none\"\n",
    "\n",
    "spacer=2\n",
    "plt.rcParams[\"font.sans-serif\"] = \"Arial\"\n",
    "plt.rcParams[\"font.size\"] = 12 #\"Arial\"\n",
    "width = 3\n",
    "\n",
    "try:\n",
    "    plt.figure()\n",
    "    ax = plot_R_traces_stacked_by_module(R,lMNs,activeOnly=True,space=spacer,figsize=(width,5))\n",
    "    add_tAxis(ax,T,5)\n",
    "    xlimits = ax.get_xlim()\n",
    "    plt.vlines(xlimits[0],0,10,\"k\")\n",
    "    plt.yticks([0,10])\n",
    "    plt.xlim(xlimits)\n",
    "    ax.spines[[\"left\",\"top\",\"right\"]].set_visible(False)\n",
    "    ax.grid(axis=\"x\",color=\"lightgrey\",linestyle=\"--\")\n",
    "    fig = plt.gcf()\n",
    "    fig.set_figheight(0.5*len(get_active_data(R[lMNs.index],lMNs)))\n",
    "    fig.set_figwidth(width)\n",
    "\n",
    "    # fig.savefig(\"../results/figures/20250131_plots/manc_bdn2trace_lMNs_v3.svg\",transparent=True)\n",
    "    # fig.savefig(\"../results/figures/20250131_plots/manc_bdn2trace_lMNs_v3.png\",bbox_inches=\"tight\",transparent=True)\n",
    "\n",
    "    # fig.savefig(\"../results/figures/20250304_plots/manc_dnb08idx0trace_lMNs.svg\",transparent=True)\n",
    "    # fig.savefig(\"../results/figures/20250304_plots/manc_dnb08idx0trace_lMNs.png\",bbox_inches=\"tight\",transparent=True,dpi=200)\n",
    "    plt.show()\n",
    "except:\n",
    "    print(\"Could not generate LHS figure.\")\n",
    "\n",
    "try:\n",
    "    plt.figure()\n",
    "    ax = plot_R_traces_stacked_by_module(R,rMNs,activeOnly=True,space=spacer,figsize=(width,5))\n",
    "    add_tAxis(ax,T,5)\n",
    "    xlimits = ax.get_xlim()\n",
    "    plt.vlines(xlimits[0],0,spacer,\"k\")\n",
    "    plt.yticks([0,spacer])\n",
    "    plt.xlim(xlimits)\n",
    "    ax.spines[[\"left\",\"top\",\"right\"]].set_visible(False)\n",
    "    ax.grid(axis=\"x\",color=\"lightgrey\",linestyle=\"--\")\n",
    "    fig = plt.gcf()\n",
    "    plt.gcf().set_figheight(0.5*len(get_active_data(R[rMNs.index],rMNs)))\n",
    "    plt.gcf().set_figwidth(width)\n",
    "\n",
    "    # fig.savefig(\"../results/figures/20250131_plots/manc_bdn2trace_rMNs_v3.svg\",transparent=True)\n",
    "    # fig.savefig(\"../results/figures/20250131_plots/manc_bdn2trace_rMNs_v3.png\",bbox_inches=\"tight\",transparent=True)\n",
    "\n",
    "    # fig.savefig(\"../results/figures/20250131_plots/manc_dnb08trace_rMNs_v3_01.svg\",transparent=True)\n",
    "    # fig.savefig(\"../results/figures/20250131_plots/manc_dnb08trace_rMNs_v3_01.png\",bbox_inches=\"tight\",transparent=True)\n",
    "\n",
    "    plt.show()\n",
    "except:\n",
    "    print(\"Could not generate RHS figure.\")"
   ]
  },
  {
   "cell_type": "code",
   "execution_count": 33,
   "metadata": {},
   "outputs": [
    {
     "name": "stderr",
     "output_type": "stream",
     "text": [
      "/tmp/ipykernel_3497620/1578314121.py:3: FutureWarning: The behavior of DataFrame concatenation with empty or all-NA entries is deprecated. In a future version, this will no longer exclude empty or all-NA columns when determining the result dtypes. To retain the old behavior, exclude the relevant entries before the concat operation.\n",
      "  ax = plot_R_traces_stacked_2(R,pd.concat((wTable.loc[stimNeurons],lMNs)),activeOnly=True,space=2)\n"
     ]
    },
    {
     "data": {
      "image/png": "[encoded data removed]",
      "text/plain": [
       "<Figure size 110.5x69.8 with 1 Axes>"
      ]
     },
     "metadata": {},
     "output_type": "display_data"
    }
   ],
   "source": [
    "wTable.loc[bdn2s,\"somaSide\"] = [\"LHS\",\"RHS\"]\n",
    "plt.figure()\n",
    "ax = plot_R_traces_stacked_2(R,pd.concat((wTable.loc[stimNeurons],lMNs)),activeOnly=True,space=2)\n",
    "# add_tAxis(ax,T,5)\n",
    "xlimits = ax.get_xlim()\n",
    "# plt.vlines(xlimits[0],0,10,\"k\")\n",
    "# plt.yticks([0,10])\n",
    "ax.spines[:].set_visible(False)\n",
    "ax.legend().set_visible(False)\n",
    "plt.xlim(xlimits)\n",
    "plt.yticks([])\n",
    "plt.ylabel(\"\")\n",
    "# ax.spines[[\"left\",\"top\",\"right\"]].set_visible(False)\n",
    "# ax.grid(axis=\"x\",color=\"lightgrey\",linestyle=\"--\")\n",
    "fig = plt.gcf()\n",
    "# fig.set_figheight(0.5*len(get_active_data(R[lMNs.index],lMNs)))\n",
    "fig.set_figheight(0.698)\n",
    "fig.set_figwidth(1.105)\n",
    "\n",
    "# fig.savefig(\"../results/figures/20250131_plots/manc_bdn2trace_lMNs_v3.svg\",transparent=True)\n",
    "# fig.savefig(\"../results/figures/20250131_plots/manc_bdn2trace_lMNs_v3.png\",bbox_inches=\"tight\",transparent=True)\n",
    "\n",
    "# fig.savefig(\"../results/figures/20250304_plots/manc_dnb08idx0trace_lMNs.svg\",transparent=True)\n",
    "# fig.savefig(\"../results/figures/20250304_plots/manc_dnb08idx0trace_lMNs.png\",bbox_inches=\"tight\",transparent=True,dpi=200)\n",
    "plt.show()"
   ]
  },
  {
   "cell_type": "code",
   "execution_count": 20,
   "metadata": {},
   "outputs": [
    {
     "name": "stderr",
     "output_type": "stream",
     "text": [
      "/tmp/ipykernel_3497620/4728654.py:1: FutureWarning: The behavior of DataFrame concatenation with empty or all-NA entries is deprecated. In a future version, this will no longer exclude empty or all-NA columns when determining the result dtypes. To retain the old behavior, exclude the relevant entries before the concat operation.\n",
      "  pd.concat((wTable.loc[stimNeurons],lMNs))\n"
     ]
    },
    {
     "data": {
      "text/html": [
       "<div>\n",
       "<style scoped>\n",
       "    .dataframe tbody tr th:only-of-type {\n",
       "        vertical-align: middle;\n",
       "    }\n",
       "\n",
       "    .dataframe tbody tr th {\n",
       "        vertical-align: top;\n",
       "    }\n",
       "\n",
       "    .dataframe thead th {\n",
       "        text-align: right;\n",
       "    }\n",
       "</style>\n",
       "<table border=\"1\" class=\"dataframe\">\n",
       "  <thead>\n",
       "    <tr style=\"text-align: right;\">\n",
       "      <th></th>\n",
       "      <th>Unnamed: 0</th>\n",
       "      <th>bodyId</th>\n",
       "      <th>type</th>\n",
       "      <th>class</th>\n",
       "      <th>subclass</th>\n",
       "      <th>hemilineage</th>\n",
       "      <th>size</th>\n",
       "      <th>predictedNt</th>\n",
       "      <th>predictedNtProb</th>\n",
       "      <th>somaSide</th>\n",
       "      <th>motor module</th>\n",
       "      <th>step contribution</th>\n",
       "    </tr>\n",
       "  </thead>\n",
       "  <tbody>\n",
       "    <tr>\n",
       "      <th>31</th>\n",
       "      <td>31</td>\n",
       "      <td>10093</td>\n",
       "      <td>DNxl058</td>\n",
       "      <td>descending neuron</td>\n",
       "      <td>xl</td>\n",
       "      <td>NaN</td>\n",
       "      <td>7124816452</td>\n",
       "      <td>acetylcholine</td>\n",
       "      <td>0.957519</td>\n",
       "      <td>NaN</td>\n",
       "      <td>NaN</td>\n",
       "      <td>NaN</td>\n",
       "    </tr>\n",
       "    <tr>\n",
       "      <th>4358</th>\n",
       "      <td>4358</td>\n",
       "      <td>155853</td>\n",
       "      <td>Sternal adductor MN</td>\n",
       "      <td>motor neuron</td>\n",
       "      <td>fl</td>\n",
       "      <td>TBD</td>\n",
       "      <td>1242893166</td>\n",
       "      <td>gaba</td>\n",
       "      <td>0.577582</td>\n",
       "      <td>LHS</td>\n",
       "      <td>coxa swing</td>\n",
       "      <td>swing</td>\n",
       "    </tr>\n",
       "    <tr>\n",
       "      <th>1073</th>\n",
       "      <td>1073</td>\n",
       "      <td>13490</td>\n",
       "      <td>Tergopleural/Pleural promotor MN</td>\n",
       "      <td>motor neuron</td>\n",
       "      <td>fl</td>\n",
       "      <td>TBD</td>\n",
       "      <td>1382555654</td>\n",
       "      <td>glutamate</td>\n",
       "      <td>0.596896</td>\n",
       "      <td>LHS</td>\n",
       "      <td>coxa swing</td>\n",
       "      <td>swing</td>\n",
       "    </tr>\n",
       "    <tr>\n",
       "      <th>860</th>\n",
       "      <td>860</td>\n",
       "      <td>12686</td>\n",
       "      <td>Tergopleural/Pleural promotor MN</td>\n",
       "      <td>motor neuron</td>\n",
       "      <td>fl</td>\n",
       "      <td>TBD</td>\n",
       "      <td>2832306624</td>\n",
       "      <td>glutamate</td>\n",
       "      <td>0.373590</td>\n",
       "      <td>LHS</td>\n",
       "      <td>coxa swing</td>\n",
       "      <td>swing</td>\n",
       "    </tr>\n",
       "    <tr>\n",
       "      <th>3224</th>\n",
       "      <td>3224</td>\n",
       "      <td>26566</td>\n",
       "      <td>Sternal anterior rotator MN</td>\n",
       "      <td>motor neuron</td>\n",
       "      <td>fl</td>\n",
       "      <td>TBD</td>\n",
       "      <td>2643221949</td>\n",
       "      <td>glutamate</td>\n",
       "      <td>0.440879</td>\n",
       "      <td>LHS</td>\n",
       "      <td>coxa swing</td>\n",
       "      <td>swing</td>\n",
       "    </tr>\n",
       "    <tr>\n",
       "      <th>...</th>\n",
       "      <td>...</td>\n",
       "      <td>...</td>\n",
       "      <td>...</td>\n",
       "      <td>...</td>\n",
       "      <td>...</td>\n",
       "      <td>...</td>\n",
       "      <td>...</td>\n",
       "      <td>...</td>\n",
       "      <td>...</td>\n",
       "      <td>...</td>\n",
       "      <td>...</td>\n",
       "      <td>...</td>\n",
       "    </tr>\n",
       "    <tr>\n",
       "      <th>1307</th>\n",
       "      <td>1307</td>\n",
       "      <td>14549</td>\n",
       "      <td>ADNM2 MN</td>\n",
       "      <td>motor neuron</td>\n",
       "      <td>nm</td>\n",
       "      <td>TBD</td>\n",
       "      <td>1406476915</td>\n",
       "      <td>glutamate</td>\n",
       "      <td>0.496159</td>\n",
       "      <td>LHS</td>\n",
       "      <td>NaN</td>\n",
       "      <td>NaN</td>\n",
       "    </tr>\n",
       "    <tr>\n",
       "      <th>1927</th>\n",
       "      <td>1927</td>\n",
       "      <td>17664</td>\n",
       "      <td>MNfl10</td>\n",
       "      <td>motor neuron</td>\n",
       "      <td>fl</td>\n",
       "      <td>TBD</td>\n",
       "      <td>1518766112</td>\n",
       "      <td>glutamate</td>\n",
       "      <td>0.578840</td>\n",
       "      <td>LHS</td>\n",
       "      <td>NaN</td>\n",
       "      <td>NaN</td>\n",
       "    </tr>\n",
       "    <tr>\n",
       "      <th>2086</th>\n",
       "      <td>2086</td>\n",
       "      <td>18579</td>\n",
       "      <td>Sternotrochanter MN</td>\n",
       "      <td>motor neuron</td>\n",
       "      <td>fl</td>\n",
       "      <td>17X.18X</td>\n",
       "      <td>2498444229</td>\n",
       "      <td>glutamate</td>\n",
       "      <td>0.463347</td>\n",
       "      <td>LHS</td>\n",
       "      <td>NaN</td>\n",
       "      <td>NaN</td>\n",
       "    </tr>\n",
       "    <tr>\n",
       "      <th>3029</th>\n",
       "      <td>3029</td>\n",
       "      <td>24975</td>\n",
       "      <td>FNM2</td>\n",
       "      <td>motor neuron</td>\n",
       "      <td>nm</td>\n",
       "      <td>16X</td>\n",
       "      <td>2034146125</td>\n",
       "      <td>glutamate</td>\n",
       "      <td>0.408434</td>\n",
       "      <td>LHS</td>\n",
       "      <td>NaN</td>\n",
       "      <td>NaN</td>\n",
       "    </tr>\n",
       "    <tr>\n",
       "      <th>4156</th>\n",
       "      <td>4156</td>\n",
       "      <td>100515</td>\n",
       "      <td>Sternotrochanter MN</td>\n",
       "      <td>motor neuron</td>\n",
       "      <td>fl</td>\n",
       "      <td>TBD</td>\n",
       "      <td>1957691112</td>\n",
       "      <td>glutamate</td>\n",
       "      <td>0.516304</td>\n",
       "      <td>LHS</td>\n",
       "      <td>NaN</td>\n",
       "      <td>NaN</td>\n",
       "    </tr>\n",
       "  </tbody>\n",
       "</table>\n",
       "<p>65 rows × 12 columns</p>\n",
       "</div>"
      ],
      "text/plain": [
       "      Unnamed: 0  bodyId                              type              class  \\\n",
       "31            31   10093                           DNxl058  descending neuron   \n",
       "4358        4358  155853               Sternal adductor MN       motor neuron   \n",
       "1073        1073   13490  Tergopleural/Pleural promotor MN       motor neuron   \n",
       "860          860   12686  Tergopleural/Pleural promotor MN       motor neuron   \n",
       "3224        3224   26566       Sternal anterior rotator MN       motor neuron   \n",
       "...          ...     ...                               ...                ...   \n",
       "1307        1307   14549                          ADNM2 MN       motor neuron   \n",
       "1927        1927   17664                            MNfl10       motor neuron   \n",
       "2086        2086   18579               Sternotrochanter MN       motor neuron   \n",
       "3029        3029   24975                              FNM2       motor neuron   \n",
       "4156        4156  100515               Sternotrochanter MN       motor neuron   \n",
       "\n",
       "     subclass hemilineage        size    predictedNt  predictedNtProb  \\\n",
       "31         xl         NaN  7124816452  acetylcholine         0.957519   \n",
       "4358       fl         TBD  1242893166           gaba         0.577582   \n",
       "1073       fl         TBD  1382555654      glutamate         0.596896   \n",
       "860        fl         TBD  2832306624      glutamate         0.373590   \n",
       "3224       fl         TBD  2643221949      glutamate         0.440879   \n",
       "...       ...         ...         ...            ...              ...   \n",
       "1307       nm         TBD  1406476915      glutamate         0.496159   \n",
       "1927       fl         TBD  1518766112      glutamate         0.578840   \n",
       "2086       fl     17X.18X  2498444229      glutamate         0.463347   \n",
       "3029       nm         16X  2034146125      glutamate         0.408434   \n",
       "4156       fl         TBD  1957691112      glutamate         0.516304   \n",
       "\n",
       "     somaSide motor module step contribution  \n",
       "31        NaN          NaN               NaN  \n",
       "4358      LHS   coxa swing             swing  \n",
       "1073      LHS   coxa swing             swing  \n",
       "860       LHS   coxa swing             swing  \n",
       "3224      LHS   coxa swing             swing  \n",
       "...       ...          ...               ...  \n",
       "1307      LHS          NaN               NaN  \n",
       "1927      LHS          NaN               NaN  \n",
       "2086      LHS          NaN               NaN  \n",
       "3029      LHS          NaN               NaN  \n",
       "4156      LHS          NaN               NaN  \n",
       "\n",
       "[65 rows x 12 columns]"
      ]
     },
     "execution_count": 20,
     "metadata": {},
     "output_type": "execute_result"
    }
   ],
   "source": [
    "pd.concat((wTable.loc[stimNeurons],lMNs))"
   ]
  },
  {
   "cell_type": "code",
   "execution_count": 41,
   "metadata": {},
   "outputs": [
    {
     "data": {
      "text/plain": [
       "14.563796533105995"
      ]
     },
     "execution_count": 41,
     "metadata": {},
     "output_type": "execute_result"
    }
   ],
   "source": [
    "score, freq = sim_oscillation_score(R[:,250:900],get_active_data(R[lMNs.index],lMNs).index,returnFrequency=True)\n",
    "freq = freq/sim.dt\n",
    "\n",
    "freq"
   ]
  },
  {
   "cell_type": "code",
   "execution_count": 30,
   "metadata": {},
   "outputs": [
    {
     "data": {
      "text/plain": [
       "2439"
      ]
     },
     "execution_count": 30,
     "metadata": {},
     "output_type": "execute_result"
    }
   ],
   "source": [
    "seedOfSeedOfSeeds"
   ]
  },
  {
   "cell_type": "code",
   "execution_count": 21,
   "metadata": {},
   "outputs": [
    {
     "data": {
      "text/plain": [
       "[1208]"
      ]
     },
     "execution_count": 21,
     "metadata": {},
     "output_type": "execute_result"
    }
   ],
   "source": [
    "stimNeurons"
   ]
  },
  {
   "cell_type": "code",
   "execution_count": 46,
   "metadata": {},
   "outputs": [
    {
     "data": {
      "text/plain": [
       "array([1162, 1208, 1334, 1400])"
      ]
     },
     "execution_count": 46,
     "metadata": {},
     "output_type": "execute_result"
    }
   ],
   "source": [
    "bodyIdToIdx(wTable,[13892,14061,14680,14966])"
   ]
  },
  {
   "cell_type": "code",
   "execution_count": null,
   "metadata": {},
   "outputs": [
    {
     "data": {
      "image/png": "[encoded data removed]",
      "text/plain": [
       "<Figure size 640x480 with 1 Axes>"
      ]
     },
     "metadata": {},
     "output_type": "display_data"
    }
   ],
   "source": [
    "# COXA DATA FOR ELLIOTT\n",
    "activeCoMNs = get_active_data(R[allMNs.loc[allMNs[\"motor module\"].isin([\"coxa swing\",\"coxa stance\"])].index],allMNs)\n",
    "activeCoMNlabels = neuron_plot_labels(activeCoMNs)\n",
    "activeCoMNtraces = R[activeCoMNs.index]\n",
    "\n",
    "activeCoMNdata = pd.DataFrame()\n",
    "activeCoMNdata[\"t\"] = sim.tAxis\n",
    "for i in range(len(activeCoMNs)):\n",
    "    activeCoMNdata[activeCoMNlabels[i]] = activeCoMNtraces[i]\n",
    "    plt.plot(activeCoMNtraces[i])\n",
    "\n",
    "\n",
    "# activeCoMNdata.to_csv(f\"../results/{datetime.date.today().strftime(format='%Y%m%d')}_bdn2_CoMNexample_seed{seedOfSeedOfSeeds}_stimI{stimI}.csv\")\n",
    "# activeCoMNdata.to_csv(f\"../results/{datetime.date.today().strftime(format='%Y%m%d')}_dna02r_CoMNexample_seed{seedOfSeedOfSeeds}_stimI{stimI}.csv\")"
   ]
  },
  {
   "cell_type": "code",
   "execution_count": null,
   "metadata": {},
   "outputs": [
    {
     "data": {
      "image/png": "[encoded data removed]",
      "text/plain": [
       "<Figure size 300x100 with 1 Axes>"
      ]
     },
     "metadata": {},
     "output_type": "display_data"
    }
   ],
   "source": [
    "plt.rcdefaults()\n",
    "plt.rcParams[\"svg.fonttype\"] = \"none\"\n",
    "plt.rcParams[\"font.sans-serif\"] = \"FreeSans\" #\"Arial\"\n",
    "plt.rcParams[\"font.size\"] = 12 #\"Arial\"\n",
    "\n",
    "sns.displot(sim.a,color=\"#808080\",kind=\"kde\",height=2,fill=True) \n",
    "plt.title(\"gain ($a$)\")\n",
    "plt.yticks([])\n",
    "plt.ylabel(\"\")\n",
    "plt.gca().spines[[\"left\",\"bottom\"]].set_visible(False)\n",
    "plt.xticks([0,25,50])\n",
    "plt.gcf().set_figheight(1)\n",
    "plt.gcf().set_figwidth(3)\n",
    "\n",
    "# plt.savefig(\"../results/figures/20250131_plots/param_dist_a_kde.png\",bbox_inches=\"tight\",transparent=True,dpi=200)\n",
    "# plt.savefig(\"../results/figures/20250316_plots/param_dist_a_kde.svg\",transparent=True)"
   ]
  },
  {
   "cell_type": "code",
   "execution_count": null,
   "metadata": {},
   "outputs": [],
   "source": [
    "sns.displot(sim.a,color=\"#808080\",height=2,fill=True) \n",
    "plt.title(\"gain ($a$)\")\n",
    "plt.xticks([0,5,10])\n",
    "plt.xlim([-1,15])\n",
    "\n",
    "# plt.savefig(\"../results/figures/20250131_plots/param_dist_a_hist_XLIMCUTOFF.png\",bbox_inches=\"tight\",transparent=True,dpi=200)"
   ]
  },
  {
   "cell_type": "code",
   "execution_count": 31,
   "metadata": {},
   "outputs": [
    {
     "data": {
      "image/png": "[encoded data removed]",
      "text/plain": [
       "<Figure size 300x100 with 1 Axes>"
      ]
     },
     "metadata": {},
     "output_type": "display_data"
    }
   ],
   "source": [
    "sns.displot(sim.tau,color=\"#808080\",kind=\"kde\",height=2,fill=True) \n",
    "plt.title(\"time constant ($τ$)\")\n",
    "plt.xticks([0.01,0.02,0.03])\n",
    "plt.xlabel(\"Time (s)\")\n",
    "plt.yticks([])\n",
    "plt.ylabel(\"\")\n",
    "plt.gca().spines[[\"left\",\"bottom\"]].set_visible(False)\n",
    "plt.gcf().set_figheight(1)\n",
    "plt.gcf().set_figwidth(3)\n",
    "\n",
    "# plt.savefig(\"../results/figures/20250131_plots/param_dist_tau_kde.png\",bbox_inches=\"tight\",transparent=True,dpi=200)\n",
    "# plt.savefig(\"../results/figures/20250316_plots/param_dist_tau_kde.svg\",transparent=True)"
   ]
  },
  {
   "cell_type": "code",
   "execution_count": null,
   "metadata": {},
   "outputs": [],
   "source": [
    "sns.displot(sim.tau,color=\"#808080\",height=2,fill=True) \n",
    "plt.title(\"time constant ($τ$)\")\n",
    "plt.xticks([0.01,0.02,0.03])\n",
    "plt.xlabel(\"Time (s)\")\n",
    "\n",
    "# plt.savefig(\"../results/figures/20250131_plots/param_dist_tau_hist.png\",bbox_inches=\"tight\",transparent=True,dpi=200)"
   ]
  },
  {
   "cell_type": "code",
   "execution_count": null,
   "metadata": {},
   "outputs": [
    {
     "data": {
      "image/png": "[encoded data removed]",
      "text/plain": [
       "<Figure size 300x100 with 1 Axes>"
      ]
     },
     "metadata": {},
     "output_type": "display_data"
    }
   ],
   "source": [
    "sns.displot(sim.frCap,color=\"#808080\",kind=\"kde\",height=2,fill=True) \n",
    "plt.title(r\"maximum rate ($r^{max}$)\")\n",
    "plt.xticks([150,200,250])\n",
    "plt.xlabel(\"firing rate (Hz)\")\n",
    "plt.yticks([])\n",
    "plt.ylabel(\"\")\n",
    "plt.gca().spines[[\"left\",\"bottom\"]].set_visible(False)\n",
    "plt.gcf().set_figheight(1)\n",
    "plt.gcf().set_figwidth(3)\n",
    "\n",
    "# plt.savefig(\"../results/figures/20250131_plots/param_dist_rmax_kde.png\",bbox_inches=\"tight\",transparent=True,dpi=200)\n",
    "# plt.savefig(\"../results/figures/20250316_plots/param_dist_rmax_kde.svg\",transparent=True)"
   ]
  },
  {
   "cell_type": "code",
   "execution_count": null,
   "metadata": {},
   "outputs": [],
   "source": [
    "sns.displot(sim.frCap,color=\"#808080\",height=2,fill=True) \n",
    "plt.title(r\"maximum rate ($r^{max}$)\")\n",
    "plt.xticks([150,200,250])\n",
    "plt.xlabel(\"firing rate (Hz)\")\n",
    "\n",
    "# plt.savefig(\"../results/figures/20250131_plots/param_dist_rmax_hist.png\",bbox_inches=\"tight\",transparent=True,dpi=200)"
   ]
  },
  {
   "cell_type": "code",
   "execution_count": null,
   "metadata": {},
   "outputs": [
    {
     "data": {
      "image/png": "[encoded data removed]",
      "text/plain": [
       "<Figure size 300x100 with 1 Axes>"
      ]
     },
     "metadata": {},
     "output_type": "display_data"
    }
   ],
   "source": [
    "sns.displot(sim.threshold,color=\"#808080\",kind=\"kde\",height=2,fill=True) \n",
    "plt.title(\"threshold ($θ$)\")\n",
    "# plt.xlabel(\"input\")\n",
    "\n",
    "plt.yticks([])\n",
    "plt.ylabel(\"\")\n",
    "plt.gca().spines[[\"left\",\"bottom\"]].set_visible(False)\n",
    "plt.gcf().set_figheight(1)\n",
    "plt.gcf().set_figwidth(3)\n",
    "# plt.savefig(\"../results/figures/20250131_plots/param_dist_theta_kde.png\",bbox_inches=\"tight\",transparent=True,dpi=200)\n",
    "# plt.savefig(\"../results/figures/20250316_plots/param_dist_theta_kde.svg\",transparent=True)"
   ]
  },
  {
   "cell_type": "code",
   "execution_count": null,
   "metadata": {},
   "outputs": [],
   "source": [
    "sns.displot(sim.threshold,color=\"#808080\",height=2,fill=True) \n",
    "plt.title(\"threshold ($θ$)\")\n",
    "plt.xlim([-10,100])\n",
    "plt.xticks(np.arange(0,100,25))\n",
    "plt.xlabel(\"input\")\n",
    "\n",
    "# plt.savefig(\"../results/figures/20250131_plots/param_dist_theta_hist_XLIMCUTOFF.png\",bbox_inches=\"tight\",transparent=True,dpi=200)"
   ]
  },
  {
   "cell_type": "code",
   "execution_count": null,
   "metadata": {},
   "outputs": [],
   "source": [
    "np.max(sim.a)"
   ]
  },
  {
   "cell_type": "code",
   "execution_count": 57,
   "metadata": {},
   "outputs": [
    {
     "data": {
      "image/png": "[encoded data removed]",
      "text/plain": [
       "<Figure size 300x250 with 1 Axes>"
      ]
     },
     "metadata": {},
     "output_type": "display_data"
    }
   ],
   "source": [
    "spacer=3\n",
    "width = 3\n",
    "plt.figure()\n",
    "ax = plot_R_traces_stacked_by_module(R,allMNs,activeOnly=True,space=spacer,figsize=(width,5))\n",
    "add_tAxis(ax,T,4)\n",
    "xlimits = ax.get_xlim()\n",
    "plt.vlines(xlimits[0],0,5,\"k\")\n",
    "plt.yticks([0,5])\n",
    "plt.xlim(xlimits)\n",
    "ax.spines[[\"left\",\"top\",\"right\"]].set_visible(False)\n",
    "ax.grid(axis=\"x\",color=\"lightgrey\",linestyle=\"--\")\n",
    "fig = plt.gcf()\n",
    "fig.set_figheight(0.5*len(get_active_data(R[allMNs.index],allMNs)))\n",
    "fig.set_figwidth(width)\n",
    "\n",
    "# fig.savefig(\"../results/figures/20250316_plots/manc_bdn2trace_allMNs_v2.svg\",transparent=True)\n",
    "# fig.savefig(\"../results/figures/20250131_plots/manc_bdn2trace_allMNs_v3.png\",bbox_inches=\"tight\",transparent=True)"
   ]
  },
  {
   "cell_type": "code",
   "execution_count": null,
   "metadata": {},
   "outputs": [],
   "source": [
    "spacer=3\n",
    "width = 3\n",
    "fig, axes = plt.subplots(2,1,sharex=True, sharey=False,\n",
    "                         height_ratios=[len(get_active_data(R[lMNs.index],lMNs)),\n",
    "                                        len(get_active_data(R[rMNs.index],rMNs))])\n",
    "ax = axes[0]\n",
    "plot_R_traces_stacked_by_module(R,lMNs,activeOnly=True,space=spacer,ax=ax)\n",
    "add_tAxis(ax,T,4)\n",
    "axes[0].set_xlabel(\"\")\n",
    "ax.spines[[\"left\",\"top\",\"right\"]].set_visible(False)\n",
    "ax.grid(axis=\"x\",color=\"lightgrey\",linestyle=\"--\")\n",
    "\n",
    "ax = axes[1]\n",
    "plot_R_traces_stacked_by_module(R,rMNs,activeOnly=True,space=spacer,ax=ax)\n",
    "add_tAxis(ax,T,4)\n",
    "xlimits = ax.get_xlim()\n",
    "plt.vlines(xlimits[0],0,5,\"k\")\n",
    "plt.yticks([0,5])\n",
    "plt.xlim(xlimits)\n",
    "ax.spines[[\"left\",\"top\",\"right\"]].set_visible(False)\n",
    "ax.grid(axis=\"x\",color=\"lightgrey\",linestyle=\"--\")\n",
    "fig.set_figheight(0.5*len(get_active_data(R[allMNs.index],allMNs)))\n",
    "fig.set_figwidth(width)\n",
    "\n",
    "# fig.savefig(\"../results/figures/20250316_plots/manc_bdn2trace_allMNs.svg\",transparent=True)\n",
    "# fig.savefig(\"../results/figures/20250131_plots/manc_bdn2trace_allMNs_v3.png\",bbox_inches=\"tight\",transparent=True)"
   ]
  },
  {
   "cell_type": "code",
   "execution_count": null,
   "metadata": {},
   "outputs": [
    {
     "data": {
      "image/png": "[encoded data removed]",
      "text/plain": [
       "<Figure size 300x100 with 1 Axes>"
      ]
     },
     "metadata": {},
     "output_type": "display_data"
    }
   ],
   "source": [
    "plt.rcParams[\"svg.fonttype\"] = \"none\"\n",
    "plt.rcParams[\"font.sans-serif\"] = \"Arial\"\n",
    "\n",
    "spacer = 10\n",
    "\n",
    "bdn2Data = wTable.loc[bdn2s].copy()\n",
    "bdn2Data[\"somaSide\"] = [\"L\",\"R\"]\n",
    "bdn2Data[\"type\"] = [\"BDN2\",\"BDN2\"]\n",
    "\n",
    "# dnb08Data = wTable.loc[wTable[\"type\"]==\"DNxl027\"].copy()\n",
    "# dnb08Data[\"somaSide\"] = [\"L\",\"L\",\"R\",\"R\"]\n",
    "# dnb08Data[\"type\"] = [\"DNb08\"]*4\n",
    "\n",
    "plt.figure()\n",
    "ax = plot_R_traces_stacked_2(R,bdn2Data,activeOnly=False,space=spacer,colors=[\"#4c9598\",\"#2fb4b6\"])\n",
    "add_tAxis(ax,T,4)\n",
    "xlimits = ax.get_xlim()\n",
    "plt.vlines(xlimits[0],0,10,\"k\")\n",
    "plt.yticks([0,10])\n",
    "plt.xlim(xlimits)\n",
    "ax.spines[[\"left\",\"top\",\"right\"]].set_visible(False)\n",
    "ax.grid(axis=\"x\",color=\"lightgrey\",linestyle=\"--\")\n",
    "fig = plt.gcf()\n",
    "fig.set_figheight(1)\n",
    "fig.set_figwidth(width)\n",
    "\n",
    "# fig.savefig(\"../results/figures/20250316_plots/manc_bdn2trace_bdn2_seed8580.svg\",transparent=True)\n",
    "# fig.savefig(\"../results/figures/20250131_plots/manc_bdn2trace_bdn2_v2.png\",bbox_inches=\"tight\",transparent=True)\n",
    "\n",
    "# fig.savefig(\"../results/figures/20250304_plots/manc_dnb08idx0trace_dnb08s.svg\",transparent=True)\n",
    "# fig.savefig(\"../results/figures/20250304_plots/manc_dnb08idx0trace_dnb08s.png\",bbox_inches=\"tight\",transparent=True)"
   ]
  },
  {
   "cell_type": "code",
   "execution_count": null,
   "metadata": {},
   "outputs": [
    {
     "data": {
      "image/png": "[encoded data removed]",
      "text/plain": [
       "<Figure size 300x50 with 1 Axes>"
      ]
     },
     "metadata": {},
     "output_type": "display_data"
    }
   ],
   "source": [
    "plt.figure()\n",
    "\n",
    "plt.plot(sim.inputs[bdn2s[0]],\"k\")\n",
    "ax = plt.gca()\n",
    "add_tAxis(ax,T,4)\n",
    "xlimits = ax.get_xlim()\n",
    "plt.vlines(xlimits[0],0,10,\"k\")\n",
    "plt.yticks([250])\n",
    "plt.xlim(xlimits)\n",
    "ax.spines[[\"left\",\"top\",\"right\"]].set_visible(False)\n",
    "ax.grid(axis=\"x\",color=\"lightgrey\",linestyle=\"--\")\n",
    "fig = plt.gcf()\n",
    "fig.set_figheight(0.5)\n",
    "fig.set_figwidth(width)\n",
    "\n",
    "# fig.savefig(\"../results/figures/20250316_plots/manc_bdn2trace_input.svg\",transparent=True)"
   ]
  },
  {
   "cell_type": "code",
   "execution_count": null,
   "metadata": {},
   "outputs": [],
   "source": [
    "inxxx464s = bodyIdToIdx(wTable,[10274, 162543]) # L, L, R, R\n",
    "\n",
    "# colors = [\"#00755E\",\"#BEE64B\",\"#803790\",\"#CA3435\"]\n",
    "# lhsColorMap = sns.blend_palette([\"#00755E\",\"#BEE64B\",\"#F2C649\"],as_cmap=True)\n",
    "# rhsColorMap = sns.blend_palette([\"#803790\",\"#CA3435\",\"#FEBAAD\"],as_cmap=True)\n",
    "spacer = 5\n",
    "plt.figure()\n",
    "plot_R_traces(R,wTable.loc[np.hstack((inxxx464s,inxxx466s))],activeOnly=False,cmap=\"tab10\",figsize=(5,5))\n",
    "add_tAxis(plt.gca(),T,5)\n",
    "plt.yticks([0,spacer])\n",
    "# plt.gcf().set_figheight(0.5*len(get_active_data(R[rMNs.index],rMNs)))\n",
    "# plt.gcf().set_figheight(0.2*len(rMNs))\n",
    "\n",
    "plt.show()"
   ]
  },
  {
   "cell_type": "code",
   "execution_count": null,
   "metadata": {},
   "outputs": [],
   "source": [
    "wTable.loc[inxxx468s]"
   ]
  },
  {
   "cell_type": "code",
   "execution_count": null,
   "metadata": {},
   "outputs": [],
   "source": [
    "\n",
    "plt.plot(R[3652])\n",
    "plt.plot(R[4091])\n",
    "plt.plot(R[4301])\n",
    "plt.plot(R[4302])\n",
    "\n",
    "plt.plot(sim.inputs[4301])\n"
   ]
  },
  {
   "cell_type": "code",
   "execution_count": null,
   "metadata": {},
   "outputs": [],
   "source": [
    "plt.figure(figsize=(6,2))\n",
    "plt.plot(sim.inputs[proprioceptorIdxs,:].T,\"k\")\n",
    "plt.gca().spines[[\"top\",\"right\"]].set_visible(False)\n",
    "add_tAxis(plt.gca(),T,5)\n",
    "# plt.title(\"Input to R claw neurons\")"
   ]
  },
  {
   "cell_type": "code",
   "execution_count": null,
   "metadata": {},
   "outputs": [],
   "source": [
    "# plt.rcdefaults()\n",
    "\n",
    "\n",
    "R = sim.R\n",
    "allMNs = sort_motor_modules(wTable.loc[wTable[\"class\"] == \"motor neuron\"])\n",
    "lMNs = allMNs.loc[allMNs[\"somaSide\"]==\"LHS\"].copy()\n",
    "rMNs = allMNs.loc[allMNs[\"somaSide\"]==\"RHS\"].copy()\n",
    "\n",
    "spacer=20\n",
    "plt.rcParams[\"font.sans-serif\"] = \"FreeSans\" #\"Arial\"\n",
    "# fig, axes = plt.subplots(2,1)\n",
    "# lhsAx = axes[0]\n",
    "# rhsAx = axes[1]\n",
    "\n",
    "fig,ax = plt.subplots(4,1,sharex=True,height_ratios=[1,1,0.5*len(get_active_data(R[lMNs.index],lMNs)),0.5*len(get_active_data(R[rMNs.index],rMNs))])\n",
    "\n",
    "ax[0].plot(sim.inputs[proprioceptorIdxs[0]].T,\"k\")\n",
    "ax[0].spines[[\"top\",\"right\"]].set_visible(False)\n",
    "add_tAxis(ax[0],T,5)\n",
    "ax[0].set_ylabel(\"I(t)\")\n",
    "# plt.title(\"Input to R claw neurons\")\n",
    "\n",
    "ax[1].plot(R[proprioceptorIdxs,:].T,\"k\")\n",
    "ax[1].spines[[\"top\",\"right\"]].set_visible(False)\n",
    "add_tAxis(ax[0],T,5)\n",
    "ax[1].set_ylabel(\"firing rate\")\n",
    "\n",
    "plot_R_traces_stacked_2(R,lMNs,activeOnly=True,cmap=lhsColorMap,space=spacer,figsize=(5,5),ax=ax[2])\n",
    "ax[2].set_yticks([0,spacer])\n",
    "add_tAxis(ax[1],T,5)\n",
    "ax[2].set_ylabel(\"firing rate\")\n",
    "ax[2].set_facecolor(\"None\")\n",
    "ax[2].spines[[\"top\",\"right\"]].set_visible(False)\n",
    "ax[2].legend(loc=\"upper left\",bbox_to_anchor=[1,1],edgecolor=\"None\",facecolor=\"None\")\n",
    "# plt.gcf().set_figheight(0.5*len(get_active_data(R[lMNs.index],lMNs)))\n",
    "# plt.gcf().set_figheight(0.2*len(lMNs))\n",
    "\n",
    "plot_R_traces_stacked_2(R,rMNs,activeOnly=True,cmap=rhsColorMap,space=spacer,figsize=(5,5),ax=ax[3])\n",
    "add_tAxis(ax[3],T,5)\n",
    "ax[3].set_yticks([0,spacer])\n",
    "# plt.gcf().set_figheight(0.5*len(get_active_data(R[rMNs.index],rMNs)))\n",
    "# plt.gcf().set_figheight(0.2*len(rMNs))\n",
    "\n",
    "fig.set_figheight(10)\n",
    "\n",
    "# ax = plot_R_traces_stacked_2(R,allMNs,activeOnly=True,cmap=\"turbo\",space=spacer,figsize=(2,2))\n",
    "# add_tAxis(ax,T,5)\n",
    "plt.subplots_adjust(hspace=0.2)"
   ]
  },
  {
   "cell_type": "code",
   "execution_count": null,
   "metadata": {},
   "outputs": [],
   "source": [
    "# # plt.plot(R[bodyIdToIdx(wTable,[13628])[0]],label=\"L pleural remotor\",c=\"darkgreen\")\n",
    "# plt.plot(R[bodyIdToIdx(wTable,[12096])[0]],label=\"L pleural remotor\",c=\"darkgreen\")\n",
    "# # plt.plot(R[bodyIdToIdx(wTable,[16419])[0]],label=\"R pleural remotor\",c=\"purple\")\n",
    "# # plt.plot(R[bodyIdToIdx(wTable,[14346])[0]],label=\"R pleural remotor\",c=\"purple\")\n",
    "\n",
    "\n",
    "plt.plot(R[bodyIdToIdx(wTable,[12686])[0]],label=\"L pleural promotor\",c=\"lightgreen\")\n",
    "plt.plot(R[bodyIdToIdx(wTable,[12628])[0]],label=\"R pleural promotor\",c=\"purple\")\n",
    "\n",
    "# plt.plot(R[bodyIdToIdx(wTable,[101043])[0]],label=\"L acc ti flexor remotor\",c=\"darkgreen\")\n",
    "# plt.plot(R[bodyIdToIdx(wTable,[12761])[0]],label=\"R acc ti flexor remotor\",c=\"purple\")\n",
    "plt.legend()"
   ]
  },
  {
   "cell_type": "code",
   "execution_count": null,
   "metadata": {},
   "outputs": [],
   "source": [
    "plt.rcdefaults()\n",
    "\n",
    "allMNs = sort_motor_modules(wTable.loc[wTable[\"class\"] == \"motor neuron\"])\n",
    "lMNs = allMNs.loc[allMNs[\"somaSide\"]==\"LHS\"].copy()\n",
    "rMNs = allMNs.loc[allMNs[\"somaSide\"]==\"RHS\"].copy()\n",
    "\n",
    "avgR = sim.R\n",
    "\n",
    "lMNidxs = lMNs.index\n",
    "\n",
    "# lMNs = wTable[wTable[\"annotation_table\"].str.contains(\"motor_neuron\")].copy()\n",
    "# lMNs[\"motor module\"] = pd.Categorical(lMNs[\"motor module\"],[\"coxa swing\", \"coxa stance\", \"femur/tr extend\", \"femur/tr flex\",\n",
    "#                                                                 \"femur reductor\", \"tibia extend\", \"tibia flex A\", \"tibia flex B\",\n",
    "#                                                                 \"tibia flex C\", \"substrate grip\", \"tarsus control\"])\n",
    "# lMNs.sort_values(\"type\",inplace=True)\n",
    "# lMNs.sort_values(\"motor module\",inplace=True)\n",
    "\n",
    "# lMNs.index = lMNs[\"w_idx\"].to_numpy()\n",
    "# nMNs = len(lMNs.index)\n",
    "\n",
    "plt.rcParams['font.sans-serif'] = \"FreeSans\" #Arial\n",
    "plt.rcParams['font.size'] = 16\n",
    "\n",
    "fig, ax = plt.subplots(3,1,sharex=True,layout=\"constrained\",height_ratios=[1,1,10]) #,figsize=(6,10))\n",
    "# fig = plt.gcf()\n",
    "fig.set_figheight(10)\n",
    "fig.set_figwidth(13)\n",
    "\n",
    "ax[0].plot(sim.inputs[stimNeurons[0],:],\"k\",label=\"BDN2 L\")\n",
    "# ax[0].plot(sim.inputs[stimNeurons[1],:],\"gray\",label=\"IN17A001 R\")\n",
    "ax[0].set_ylabel(\"Input\",rotation=0,fontsize=18,horizontalalignment=\"right\")\n",
    "ax[0].legend(handlelength=0,loc=\"upper left\",bbox_to_anchor=[1,1],\n",
    "           edgecolor=\"none\",labelcolor=\"markeredgecolor\")\n",
    "ax[0].spines[:].set_visible(False)\n",
    "# ax[0].set_xticks(np.linspace())\n",
    "\n",
    "ax[1].plot(avgR[stimNeurons[0],:],\"k\",label=\"BDN2 L\")\n",
    "# ax[1].plot(avgR[stimNeurons[1],:],\"gray\",label=\"IN17A001 R\")\n",
    "ax[1].set_ylabel(\"Firing rate\",rotation=0,fontsize=18,horizontalalignment=\"right\")\n",
    "ax[1].legend(handlelength=0,loc=\"upper left\",bbox_to_anchor=[1,1],\n",
    "           edgecolor=\"none\",labelcolor=\"markeredgecolor\")\n",
    "ax[1].spines[:].set_visible(False)\n",
    "# ax[0].set_xticks(np.linspace())\n",
    "\n",
    "ax[2].xaxis.tick_bottom()\n",
    "ax[2].set_xlim((0,np.size(avgR,1)))\n",
    "ticklocs = ax[2].xaxis.get_ticklocs()\n",
    "ax[2].set_xticks(ticklocs,labels=ticklocs*sim.dt,rotation=30)\n",
    "ax[2].set_yticks(np.arange(0,len(lMNs.index)),labels=[s.replace(\"_\",\" \") for s in lMNs[\"type\"]],fontsize=10)\n",
    "\n",
    "stanceIdxs = np.where(lMNs[\"step contribution\"]==\"stance\")[0]\n",
    "swingIdxs = np.where(lMNs[\"step contribution\"]==\"swing\")[0]\n",
    "[ax[2].get_yticklabels()[i].set_color(\"navy\") for i in stanceIdxs]\n",
    "[ax[2].get_yticklabels()[i].set_color(\"orange\") for i in swingIdxs]\n",
    "ax[2].set_ylabel(\"T1L motor neurons\",fontsize=18)\n",
    "# ax[2].set_title(\"FANC IN17A001 activation\",fontsize=20)\n",
    "\n",
    "plt.imshow(avgR[lMNs.index,:],aspect=\"auto\",interpolation=\"none\")#,vmin=0)#,vmax=10) #,vmin=0,vmax=200)\n",
    "c = plt.colorbar(ax=ax[2],label=\"firing rate (Hz)\",shrink=0.6)\n",
    "plt.xlabel(\"Time (ms)\")\n",
    "# plt.show()\n",
    "\n",
    "# saveFigs = True\n",
    "if saveFigs:\n",
    "    dateStr = datetime.date.today().strftime(format=\"%Y%m%d\")\n",
    "    # figStr = f\"fancBDN2andClawWithMnInput20Hz_avg{nSims}sims_seedOfSeedOfSeeds{seedOfSeedOfSeeds}_stimI{stimI}\"\n",
    "    figStr = f\"fancBDN2andClawWithoutMnInput_avg{nSims}sims_seedOfSeedOfSeeds{seedOfSeedOfSeeds}_stimI{stimI}\"\n",
    "    saveStr = dateStr+\"_\"+figStr\n",
    "    saveDir = \"../results/figures/\"+saveStr+\"/\"\n",
    "    if not os.path.exists(saveDir):\n",
    "        os.makedirs(saveDir)\n",
    "\n",
    "    plt.savefig(saveDir+saveStr+\".svg\")\n",
    "    plt.savefig(saveDir+saveStr+\".png\",bbox_inches = \"tight\")\n",
    "\n",
    "fig.set_figwidth(8)\n",
    "\n",
    "# fig,ax = plot_R_heatmap(sim.R,lMNs)\n",
    "# add_tAxis(ax,sim.T,5)"
   ]
  },
  {
   "cell_type": "code",
   "execution_count": null,
   "metadata": {},
   "outputs": [],
   "source": [
    "plt.rcdefaults()\n",
    "allMNs = sort_motor_modules(wTable.loc[wTable[\"class\"] == \"motor neuron\"])\n",
    "rMNs = allMNs.loc[allMNs[\"somaSide\"]==\"LHS\"].copy()\n",
    "rMNs = allMNs.loc[allMNs[\"somaSide\"]==\"RHS\"].copy()\n",
    "\n",
    "avgR = sim.R\n",
    "\n",
    "lMNidxs = rMNs.index\n",
    "rMNidxs = rMNs.index\n",
    "\n",
    "# rMNs = wTable[wTable[\"annotation_table\"].str.contains(\"motor_neuron\")].copy()\n",
    "# rMNs[\"motor module\"] = pd.Categorical(rMNs[\"motor module\"],[\"coxa swing\", \"coxa stance\", \"femur/tr extend\", \"femur/tr flex\",\n",
    "#                                                                 \"femur reductor\", \"tibia extend\", \"tibia flex A\", \"tibia flex B\",\n",
    "#                                                                 \"tibia flex C\", \"substrate grip\", \"tarsus control\"])\n",
    "# rMNs.sort_values(\"type\",inplace=True)\n",
    "# rMNs.sort_values(\"motor module\",inplace=True)\n",
    "\n",
    "# rMNs.index = rMNs[\"w_idx\"].to_numpy()\n",
    "# nMNs = len(rMNs.index)\n",
    "\n",
    "plt.rcParams['font.sans-serif'] = \"FreeSans\"\n",
    "plt.rcParams['font.size'] = 16\n",
    "\n",
    "fig, ax = plt.subplots(3,1,sharex=True,layout=\"constrained\",height_ratios=[1,1,10]) #,figsize=(6,10))\n",
    "# fig = plt.gcf()\n",
    "fig.set_figheight(10)\n",
    "fig.set_figwidth(13)\n",
    "\n",
    "# ax[0].plot(sim.inputs[stimNeurons[0],:],\"k\",label=\"IN17A001 L\")\n",
    "ax[0].plot(sim.inputs[stimNeurons[1],:],\"gray\",label=\"IN17A001 R\")\n",
    "ax[0].set_ylabel(\"Input\",rotation=0,fontsize=18,horizontalalignment=\"right\")\n",
    "ax[0].legend(handlelength=0,loc=\"upper left\",bbox_to_anchor=[1,1],\n",
    "           edgecolor=\"none\",labelcolor=\"markeredgecolor\")\n",
    "ax[0].spines[:].set_visible(False)\n",
    "# ax[0].set_xticks(np.linspace())\n",
    "\n",
    "# ax[1].plot(avgR[stimNeurons[0],:],\"k\",label=\"IN17A001 L\")\n",
    "ax[1].plot(avgR[stimNeurons[1],:],\"gray\",label=\"IN17A001 R\")\n",
    "ax[1].set_ylabel(\"Firing rate\",rotation=0,fontsize=18,horizontalalignment=\"right\")\n",
    "ax[1].legend(handlelength=0,loc=\"upper left\",bbox_to_anchor=[1,1],\n",
    "           edgecolor=\"none\",labelcolor=\"markeredgecolor\")\n",
    "ax[1].spines[:].set_visible(False)\n",
    "# ax[0].set_xticks(np.linspace())\n",
    "\n",
    "ax[2].xaxis.tick_bottom()\n",
    "ax[2].set_xlim((0,np.size(avgR,1)))\n",
    "ticklocs = ax[2].xaxis.get_ticklocs()\n",
    "ax[2].set_xticks(ticklocs,labels=ticklocs*sim.dt,rotation=30)\n",
    "ax[2].set_yticks(np.arange(0,len(rMNs.index)),labels=[s.replace(\"_\",\" \") for s in rMNs[\"type\"]],fontsize=10)\n",
    "\n",
    "stanceIdxs = np.where(rMNs[\"step contribution\"]==\"stance\")[0]\n",
    "swingIdxs = np.where(rMNs[\"step contribution\"]==\"swing\")[0]\n",
    "[ax[2].get_yticklabels()[i].set_color(\"navy\") for i in stanceIdxs]\n",
    "[ax[2].get_yticklabels()[i].set_color(\"orange\") for i in swingIdxs]\n",
    "ax[2].set_ylabel(\"T1R motor neurons\",fontsize=18)\n",
    "# ax[2].set_title(\"FANC IN17A001 activation\",fontsize=20)\n",
    "\n",
    "plt.imshow(avgR[rMNs.index,:],aspect=\"auto\",interpolation=\"none\",vmin=0,vmax=10) #,vmin=0,vmax=200)\n",
    "c = plt.colorbar(ax=ax[2],label=\"firing rate (Hz)\",shrink=0.6)\n",
    "plt.xlabel(\"Time (ms)\")\n",
    "# plt.show()\n",
    "\n",
    "# saveFigs = True\n",
    "if saveFigs:\n",
    "    dateStr = datetime.date.today().strftime(format=\"%Y%m%d\")\n",
    "    # figStr = f\"fancBDN2andClawWithMnInput20Hz_avg{nSims}sims_seedOfSeedOfSeeds{seedOfSeedOfSeeds}_stimI{stimI}\"\n",
    "    figStr = f\"fancBDN2andClawWithoutMnInput_avg{nSims}sims_seedOfSeedOfSeeds{seedOfSeedOfSeeds}_stimI{stimI}\"\n",
    "    saveStr = dateStr+\"_\"+figStr\n",
    "    saveDir = \"../results/figures/\"+saveStr+\"/\"\n",
    "    if not os.path.exists(saveDir):\n",
    "        os.makedirs(saveDir)\n",
    "\n",
    "    plt.savefig(saveDir+saveStr+\".svg\")\n",
    "    plt.savefig(saveDir+saveStr+\".png\",bbox_inches = \"tight\")\n",
    "\n",
    "fig.set_figwidth(8)\n",
    "\n",
    "# fig,ax = plot_R_heatmap(sim.R,rMNs)\n",
    "# add_tAxis(ax,sim.T,5)"
   ]
  },
  {
   "cell_type": "code",
   "execution_count": null,
   "metadata": {},
   "outputs": [],
   "source": [
    "sns.set(font_scale=1)\n",
    "plt.rcParams[\"svg.fonttype\"] = \"none\"\n",
    "\n",
    "fig = plt.figure(layout=\"constrained\")\n",
    "fig.suptitle(\"All active motor neurons\")\n",
    "\n",
    "subfigs = fig.subfigures(2,1,hspace=-0.2)\n",
    "lhsColorMap = sns.blend_palette([\"#00755E\",\"#BEE64B\",\"#F2C649\"],as_cmap=True)\n",
    "rhsColorMap = sns.blend_palette([\"#803790\",\"#CA3435\",\"#FEBAAD\"],as_cmap=True)\n",
    "\n",
    "lhsFig,lhsAxes= plot_R_traces_stacked(avgR,lMNs,activeOnly=True,cmap=lhsColorMap,hspace=-0.8,figsize=(2,2),fig=subfigs[0],ymax=10)\n",
    "add_tAxis(lhsAxes[-1],T,5)\n",
    "for ax in lhsAxes:\n",
    "    ax.grid(axis=\"x\",color=\"k\")\n",
    "plt.tick_params(\"y\",tick1On=True)\n",
    "plt.tick_params(\"y\",gridOn=False)\n",
    "lhsAxes[-1].set_xticklabels([])\n",
    "lhsAxes[-1].set_xlabel(\"\")\n",
    "\n",
    "# plt.suptitle(f'Interneurons')\n",
    "# plt.gcf().set_figheight(5)\n",
    "rhsFig,rhsAxes= plot_R_traces_stacked(avgR,rMNs,activeOnly=True,cmap=rhsColorMap,hspace=-0.8,figsize=(2,2),fig=subfigs[1],ymax=10)\n",
    "add_tAxis(rhsAxes[-1],T,5)\n",
    "for ax in rhsAxes:\n",
    "    ax.grid(axis=\"x\",color=\"k\")\n",
    "plt.tick_params(\"both\",tick1On=True)\n",
    "plt.tick_params(\"y\",gridOn=False)\n",
    "# rhsFig.set_figheight(10)\n",
    "# plt.show()\n",
    "\n",
    "# fig.savefig(\"../results/figures/20240926_amputationPlots_bdn2trace.svg\")\n",
    "# fig.savefig(\"../results/figures/20240926_amputationPlots_bdn2trace.png\")"
   ]
  },
  {
   "cell_type": "code",
   "execution_count": null,
   "metadata": {},
   "outputs": [],
   "source": [
    "spacer=30\n",
    "plt.rcdefaults()\n",
    "# fig, axes = plt.subplots(2,1)\n",
    "# lhsAx = axes[0]\n",
    "# rhsAx = axes[1]\n",
    "plt.figure()\n",
    "plot_R_traces_stacked_2(avgR,lMNs,activeOnly=True,cmap=lhsColorMap,space=spacer,figsize=(2,2))\n",
    "plt.yticks([0,spacer])\n",
    "add_tAxis(plt.gca(),T,5)\n",
    "plt.gcf().set_figheight(0.5*len(get_active_data(avgR[lMNs.index],lMNs)))\n",
    "\n",
    "plt.figure()\n",
    "plot_R_traces_stacked_2(avgR,rMNs,activeOnly=True,cmap=rhsColorMap,space=spacer,figsize=(2,2))\n",
    "add_tAxis(plt.gca(),T,5)\n",
    "plt.yticks([0,spacer])\n",
    "plt.gcf().set_figheight(0.5*len(get_active_data(avgR[rMNs.index],rMNs)))\n",
    "\n",
    "# ax = plot_R_traces_stacked_2(avgR,allMNs,activeOnly=True,cmap=\"turbo\",space=spacer,figsize=(2,2))\n",
    "# add_tAxis(ax,T,5)\n"
   ]
  },
  {
   "cell_type": "code",
   "execution_count": null,
   "metadata": {},
   "outputs": [],
   "source": [
    "plt.imshow(sim.R,aspect=\"auto\")\n",
    "plt.colorbar()"
   ]
  },
  {
   "cell_type": "code",
   "execution_count": null,
   "metadata": {},
   "outputs": [],
   "source": [
    "np.max(sim.R)\n",
    "\n",
    "np.argmax(sim.R,axis=0)"
   ]
  },
  {
   "cell_type": "code",
   "execution_count": null,
   "metadata": {},
   "outputs": [],
   "source": [
    "np.max(sim.R)"
   ]
  },
  {
   "cell_type": "code",
   "execution_count": null,
   "metadata": {},
   "outputs": [],
   "source": [
    "np.max(sim.R,axis=1)"
   ]
  },
  {
   "cell_type": "code",
   "execution_count": null,
   "metadata": {},
   "outputs": [],
   "source": [
    "wTable.loc[np.unique(np.argmax(sim.R,axis=0))]"
   ]
  },
  {
   "cell_type": "code",
   "execution_count": null,
   "metadata": {},
   "outputs": [],
   "source": [
    "for i in np.unique(np.argmax(sim.R,axis=0))[1:]:\n",
    "    plt.plot(avgR[i],label=wTable.loc[i,\"type\"])\n",
    "\n",
    "plt.legend(loc=\"right\")"
   ]
  },
  {
   "cell_type": "code",
   "execution_count": null,
   "metadata": {},
   "outputs": [],
   "source": [
    "for i in wTable.loc[wTable[\"type\"]==\"IN16B009\"].index:\n",
    "    plt.plot(avgR[i],label=wTable.loc[i,\"somaSide\"])\n",
    "\n",
    "plt.legend(loc=\"right\")"
   ]
  },
  {
   "cell_type": "code",
   "execution_count": null,
   "metadata": {},
   "outputs": [],
   "source": [
    "for i in wTable.loc[wTable[\"hemilineage\"]==\"16B\"].index:\n",
    "    plt.plot(avgR[i],label=wTable.loc[i,\"somaSide\"])\n",
    "\n",
    "# plt.legend(loc=\"right\")"
   ]
  },
  {
   "cell_type": "code",
   "execution_count": null,
   "metadata": {},
   "outputs": [],
   "source": [
    "for i in wTable.loc[wTable[\"hemilineage\"]==\"19A\"].index:\n",
    "    plt.plot(avgR[i],label=wTable.loc[i,\"somaSide\"])"
   ]
  },
  {
   "cell_type": "code",
   "execution_count": null,
   "metadata": {},
   "outputs": [],
   "source": [
    "np.argmax(np.array([[4,2,3],[1,0,3]]),axis=1)"
   ]
  },
  {
   "cell_type": "code",
   "execution_count": null,
   "metadata": {},
   "outputs": [],
   "source": [
    "sns.set(font_scale=1)\n",
    "\n",
    "lhsColorMap = sns.blend_palette([\"#00755E\",\"#BEE64B\",\"#F2C649\"],as_cmap=True)\n",
    "rhsColorMap = sns.blend_palette([\"#803790\",\"#CA3435\",\"#FEBAAD\"],as_cmap=True)\n",
    "\n",
    "fig,axes= plot_R_traces_stacked(avgR,rMNs,activeOnly=True,cmap=rhsColorMap,hspace=-0.6,figsize=(3,3))\n",
    "add_tAxis(axes[-1],T,5)\n",
    "for ax in axes:\n",
    "    ax.grid(axis=\"x\",color=\"k\")\n",
    "plt.tick_params(\"both\",tick1On=True)\n",
    "plt.tick_params(\"y\",gridOn=False)\n",
    "# plt.suptitle(f'Interneurons')\n",
    "# plt.gcf().set_figheight(5)"
   ]
  },
  {
   "cell_type": "code",
   "execution_count": null,
   "metadata": {},
   "outputs": [],
   "source": [
    "plt.rcParams['font.sans-serif'] = \"FreeSans\"\n",
    "plt.rcParams['font.size'] = 16\n",
    "\n",
    "lhsColorMap = sns.blend_palette([\"#00755E\",\"#BEE64B\",\"#F2C649\"],as_cmap=True)\n",
    "rhsColorMap = sns.blend_palette([\"#803790\",\"#CA3435\",\"#FEBAAD\"],as_cmap=True)\n",
    "\n",
    "ax = plot_R_traces(avgR,lMNs,cmap=lhsColorMap,activeOnly=True)\n",
    "ax2 = plot_R_traces(avgR,rMNs,cmap=rhsColorMap,activeOnly=True)\n",
    "add_tAxis(ax,T,5)\n",
    "ax.spines[:].set_color(\"k\")\n",
    "ax.tick_params(color=\"k\",tick1On=True)\n",
    "# ax.legend.set_facecolor(\"None\")\n",
    "# plt.suptitle(f'Interneurons')\n",
    "# plt.gcf().set_figheight(5)"
   ]
  },
  {
   "cell_type": "code",
   "execution_count": null,
   "metadata": {},
   "outputs": [],
   "source": [
    "sns.set(font_scale=1)\n",
    "\n",
    "plt.rcParams['font.sans-serif'] = \"Arial\" #\"FreeSans\" linux, \"Arial\" Mac\n",
    "plt.rcParams['font.size'] = 16\n",
    "plt.rcParams[\"svg.fonttype\"] = \"none\"\n",
    "\n",
    "\n",
    "bdn2Data = wTable.loc[bdn2s].copy()\n",
    "bdn2Data[\"somaSide\"] = [\"L\",\"R\"]\n",
    "bdn2Data[\"type\"] = [\"BDN2\",\"BDN2\"]\n",
    "\n",
    "spacer = 3\n",
    "\n",
    "lhsColorMap = sns.blend_palette([\"#00755E\",\"#BEE64B\",\"#F2C649\"],as_cmap=True)\n",
    "rhsColorMap = sns.blend_palette([\"#803790\",\"#CA3435\",\"#FEBAAD\"],as_cmap=True)\n",
    "\n",
    "# plot_R_traces_stacked_2(avgR,bdn2Data,colors=[\"black\",\"gray\"],activeOnly=True,space=spacer,start=spacer*11)\n",
    "plot_R_traces_stacked_2(avgR,lMNs,cmap=lhsColorMap,activeOnly=True,space=spacer,start=spacer*8)\n",
    "plot_R_traces_stacked_2(avgR,rMNs,cmap=rhsColorMap,activeOnly=True,space=spacer)\n",
    "\n",
    "ax = plt.gca()\n",
    "add_tAxis(ax,T,5)\n",
    "\n",
    "ax.tick_params(color=\"k\",tick1On=True)\n",
    "ax.grid(axis=\"x\",color=\"grey\")\n",
    "ax.spines[:].set_visible(False)\n",
    "plt.tick_params(\"both\",tick1On=True)\n",
    "plt.tick_params(\"y\",gridOn=False)\n",
    "ax.set_yticks([0,5])\n",
    "\n",
    "fig = plt.gcf()\n",
    "fig.set_figheight(2.5)\n",
    "fig.set_figwidth(2)\n",
    "plt.title(\"All active motor neurons\")\n",
    "# add_tAxis(ax,T,5)\n",
    "# ax.spines[:].set_color(\"k\")\n",
    "# ax.tick_params(color=\"k\",tick1On=True)\n",
    "# # ax.legend.set_facecolor(\"None\")\n",
    "# # plt.suptitle(f'Interneurons')\n",
    "# # plt.gcf().set_figheight(5)\n",
    "\n",
    "# ax2.get_legend_handles_labels()\n",
    "\n",
    "# fig.savefig(\"../results/figures/202401001_plots/bdn2trace_13698silenced_stimI225_v2.svg\")\n",
    "# fig.savefig(\"../results/figures/202401001_plots/bdn2trace_13698silenced_stimI225_v2.png\",bbox_inches=\"tight\")"
   ]
  },
  {
   "cell_type": "code",
   "execution_count": null,
   "metadata": {},
   "outputs": [],
   "source": [
    "sns.set(font_scale=1)\n",
    "\n",
    "plt.rcParams['font.sans-serif'] = \"Arial\" #\"FreeSans\" linux, \"Arial\" Mac\n",
    "plt.rcParams['font.size'] = 16\n",
    "plt.rcParams[\"svg.fonttype\"] = \"none\"\n",
    "\n",
    "\n",
    "bdn2Data = wTable.loc[bdn2s].copy()\n",
    "bdn2Data[\"somaSide\"] = [\"L\",\"R\"]\n",
    "bdn2Data[\"type\"] = [\"BDN2\",\"BDN2\"]\n",
    "\n",
    "spacer = \n",
    "\n",
    "lhsColorMap = sns.blend_palette([\"#00755E\",\"#BEE64B\",\"#F2C649\"],as_cmap=True)\n",
    "rhsColorMap = sns.blend_palette([\"#803790\",\"#CA3435\",\"#FEBAAD\"],as_cmap=True)\n",
    "\n",
    "plot_R_traces_stacked_2(avgR,wTable.loc[inxxx466s],colors=[\"k\",\"darkgray\"],activeOnly=True,space=0,start=0)\n",
    "ax = plt.gca()\n",
    "add_tAxis(ax,T,5)\n",
    "\n",
    "ax.tick_params(color=\"k\",tick1On=True)\n",
    "ax.grid(axis=\"x\",color=\"grey\")\n",
    "ax.spines[:].set_visible(False)\n",
    "plt.tick_params(\"both\",tick1On=True)\n",
    "plt.tick_params(\"y\",gridOn=False)\n",
    "ax.set_yticks([0,5])\n",
    "\n",
    "fig = plt.gcf()\n",
    "fig.set_figheight(1.2)\n",
    "fig.set_figwidth(2)\n",
    "# fig.savefig(\"../results/figures/20241008_plots/bdn2trace_bdn2s_v4.svg\")\n",
    "# fig.savefig(\"../results/figures/20241008_plots/bdn2trace_bdn2s_v4.png\",bbox_inches=\"tight\")\n",
    "\n",
    "\n",
    "plt.figure()\n",
    "# plot_R_traces_stacked_2(avgR,bdn2Data,colors=[\"black\",\"gray\"],activeOnly=True,space=spacer,start=spacer*11)\n",
    "plot_R_traces_stacked_2(avgR,lMNs,cmap=lhsColorMap,activeOnly=True,space=spacer,start=spacer*len(get_active_data(avgR[rMNs.index],rMNs)))\n",
    "plot_R_traces_stacked_2(avgR,rMNs,cmap=rhsColorMap,activeOnly=True,space=spacer)\n",
    "\n",
    "ax = plt.gca()\n",
    "add_tAxis(ax,T,5)\n",
    "\n",
    "ax.tick_params(color=\"k\",tick1On=True)\n",
    "ax.grid(axis=\"x\",color=\"grey\")\n",
    "ax.spines[:].set_visible(False)\n",
    "plt.tick_params(\"both\",tick1On=True)\n",
    "plt.tick_params(\"y\",gridOn=False)\n",
    "ax.set_yticks([0,5])\n",
    "\n",
    "fig = plt.gcf()\n",
    "fig.set_figheight(2.5)\n",
    "fig.set_figwidth(2)\n",
    "plt.title(\"All active motor neurons\")\n",
    "# add_tAxis(ax,T,5)\n",
    "# ax.spines[:].set_color(\"k\")\n",
    "# ax.tick_params(color=\"k\",tick1On=True)\n",
    "# # ax.legend.set_facecolor(\"None\")\n",
    "# # plt.suptitle(f'Interneurons')\n",
    "# # plt.gcf().set_figheight(5)\n",
    "\n",
    "# ax2.get_legend_handles_labels()\n",
    "\n",
    "# fig.savefig(\"../results/figures/20241008_plots/bdn2trace_mns_v4.svg\")\n",
    "# fig.savefig(\"../results/figures/20241008_plots/bdn2trace_mns_v4.png\",bbox_inches=\"tight\")"
   ]
  },
  {
   "cell_type": "markdown",
   "metadata": {},
   "source": [
    "## with proprioceptor inputs"
   ]
  },
  {
   "cell_type": "code",
   "execution_count": null,
   "metadata": {},
   "outputs": [],
   "source": [
    "stimNeurons = bodyIdToIdx(wTable,[11070]) #11070 10656\n",
    "\n",
    "# stimNeurons = [4301,4302]\n",
    "\n",
    "# stimNeurons = bdn2s #bodyIdToIdx(wTable,[15650, 18076]) #dna02s # list of neurons to activate\n",
    "# stimNeurons = wTable[wTable[\"bodyId\"].isin([10274, 11751, 13698, 162543, 11110, 11374, 12021, 100139, 12068, 12901])].index.to_numpy().astype(int)\n",
    "stimI = 150 #236.9914310058594 # Stimulus\n",
    "# stimIs = np.arange(160,310,10)\n",
    "\n",
    "# neuronsToRemove = bodyIdToIdx(wTable,[13698])  \n",
    "# neuronsToRemove = wTable[wTable[\"type\"]==\"IN15A001\"].index.to_numpy().astype(int) #bodyIdToIdx(wTable,[10690]) \n",
    "T = 1\n",
    "dt = 0.005\n",
    "\n",
    "nSims = 1 #3\n",
    "sims = []\n",
    "\n",
    "freq = 10\n",
    "\n",
    "seedOfSeedOfSeeds = np.random.randint(10000) #8580\n",
    "seedsOfSeeds = np.random.default_rng(seedOfSeedOfSeeds).integers(10000,size=nSims)\n",
    "\n",
    "proprioceptorIdxs = [3652, 4091,4301,4302]\n",
    "\n",
    "# cellVolumes = wTable[\"size\"].to_numpy().astype(float)/512 # 512 nm3 per voxel ... maybe (methods are a little unclear)\n",
    "# cellSurfareasApprox = pd.Series(cellVolumes**(2/3)) # these are not the surface areas to be c\n",
    "\n",
    "for i in range(nSims):\n",
    "# for stimI in stimIs:\n",
    "    # seedOfSeeds = np.random.randint(10000)\n",
    "\n",
    "    seeds = np.random.default_rng(seedsOfSeeds[i]).integers(10000,size=4)\n",
    "\n",
    "    # seeds = np.random.default_rng(seedOfSeeds).integers(10000,size=4)\n",
    "\n",
    "\n",
    "    sim = vncNet.Simulation(W)\n",
    "    sim.set_time(T,dt)\n",
    "    # sim.silence_neurons(neuronsToRemove)\n",
    "\n",
    "    # Set input\n",
    "    # sim.set_input(np.maximum(signal.square(np.sin(sim.tAxis*2*np.pi*freq)),0)*sim.pulse_input(0,T,stimI,stimNeurons))\n",
    "\n",
    "    sim.set_input(sim.pulse_input(0.02,T-0.1,stimI,stimNeurons)\n",
    "                  + (1-(np.maximum(signal.square(np.sin(sim.tAxis*2*np.pi*freq)),0)))*sim.pulse_input(0,T-0.1,20,proprioceptorIdxs))\n",
    "\n",
    "    # Set parameters\n",
    "    sim.set_tau_distribution(0.02,0.002,seed=seeds[0])\n",
    "    sim.set_a_distribution(1,0.1,seed=seeds[1])\n",
    "    sim.set_threshold_distribution(6,0.6,seed=seeds[2])\n",
    "    sim.set_synapse_multipliers(0.03,0.03)\n",
    "    sim.set_fr_distribution(200,10,seed=seeds[3])\n",
    "    sim.set_sizes(wTable[\"size\"])\n",
    "\n",
    "    # sim.set_tau_distribution(0.02,0.0000001,seed=seeds[0])\n",
    "    # sim.set_a_distribution(1,0.0000001,seed=seeds[1])\n",
    "    # sim.set_threshold_distribution(6,0.0000001,seed=seeds[2])\n",
    "    # sim.set_synapse_multipliers(0.03,0.03)\n",
    "    # sim.set_fr_distribution(200,0.0000001,seed=seeds[3])\n",
    "    # sim.set_sizes(wTable[\"size\"])\n",
    "\n",
    "    # sim.silence_neurons((wTable[wTable[\"bodyId\"].isin([12068, 12901, 11110, 11374, 12021, 100139])].index.to_numpy()))\n",
    "\n",
    "    sim.run()\n",
    "\n",
    "    sims.append(sim)\n",
    "\n",
    "    # print(f\"Sim {i}\")\n",
    "    print(stimI)\n",
    "\n",
    "\n",
    "# avgR = average_R(sims)"
   ]
  },
  {
   "cell_type": "markdown",
   "metadata": {},
   "source": [
    "# Ramping up inputs to assess frequency vs input"
   ]
  },
  {
   "cell_type": "code",
   "execution_count": null,
   "metadata": {},
   "outputs": [],
   "source": [
    "stimNeurons = bdn2s #bodyIdToIdx(wTable,[15650, 18076]) #dna02s # list of neurons to activate\n",
    "# stimNeurons = wTable[wTable[\"bodyId\"].isin([10274, 11751, 13698, 162543, 11110, 11374, 12021, 100139, 12068, 12901])].index.to_numpy().astype(int)\n",
    "# stimI = 180 # Stimulus\n",
    "stimIs = np.arange(160,310,10)\n",
    "\n",
    "# neuronsToRemove = bodyIdToIdx(wTable,[13698,10274]) #wTable[wTable[\"bodyId\"]==10707].index.to_numpy().astype(int)\n",
    "T = 1\n",
    "dt = 0.0001\n",
    "\n",
    "nSims = 1 #3\n",
    "sims = []\n",
    "\n",
    "# seedOfSeedOfSeeds = np.random.randint(10000)\n",
    "# seedsOfSeeds = np.random.default_rng(seedOfSeedOfSeeds).integers(10000,size=nSims)\n",
    "\n",
    "# cellVolumes = wTable[\"size\"].to_numpy().astype(float)/512 # 512 nm3 per voxel ... maybe (methods are a little unclear)\n",
    "# cellSurfareasApprox = pd.Series(cellVolumes**(2/3)) # these are not the surface areas to be c\n",
    "\n",
    "# for i in range(nSims):\n",
    "for stimI in stimIs:\n",
    "    seedOfSeeds = np.random.randint(10000)\n",
    "\n",
    "    # seeds = np.random.default_rng(seedsOfSeeds[i]).integers(10000,size=4)\n",
    "\n",
    "    seeds = np.random.default_rng(seedOfSeeds).integers(10000,size=4)\n",
    "\n",
    "\n",
    "    sim = vncNet.Simulation(W)\n",
    "    sim.set_time(T,dt)\n",
    "    # sim.silence_neurons(neuronsToRemove)\n",
    "\n",
    "    # Set input\n",
    "\n",
    "    sim.set_input(sim.pulse_input(0.02,0.9,stimI,stimNeurons))\n",
    "\n",
    "    # # Set parameters\n",
    "    # sim.set_tau_distribution(0.02,0.004,seed=seeds[0])\n",
    "    # sim.set_a_distribution(1,0.2,seed=seeds[1])\n",
    "    # sim.set_threshold_distribution(6,2,seed=seeds[2])\n",
    "    # sim.set_synapse_multipliers(0.03,0.03)\n",
    "    # sim.set_fr_distribution(200,10,seed=seeds[3])\n",
    "    # sim.set_sizes(wTable[\"size\"])\n",
    "\n",
    "    sim.set_tau_distribution(0.02,0.0000001,seed=seeds[0])\n",
    "    sim.set_a_distribution(1,0.0000001,seed=seeds[1])\n",
    "    sim.set_threshold_distribution(6,0.0000001,seed=seeds[2])\n",
    "    sim.set_synapse_multipliers(0.03,0.03)\n",
    "    sim.set_fr_distribution(200,0.0000001,seed=seeds[3])\n",
    "    sim.set_sizes(wTable[\"size\"])\n",
    "\n",
    "    # sim.silence_neurons((wTable[wTable[\"bodyId\"].isin([12068, 12901, 11110, 11374, 12021, 100139])].index.to_numpy()))\n",
    "\n",
    "    sim.run()\n",
    "\n",
    "    sims.append(sim)\n",
    "\n",
    "    # print(f\"Sim {i}\")\n",
    "    print(stimI)\n",
    "\n",
    "\n",
    "# avgR = average_R(sims)"
   ]
  },
  {
   "cell_type": "code",
   "execution_count": null,
   "metadata": {},
   "outputs": [],
   "source": [
    "lhsColorMap = sns.blend_palette([\"#00755E\",\"#BEE64B\",\"#F2C649\"],as_cmap=True)\n",
    "rhsColorMap = sns.blend_palette([\"#803790\",\"#CA3435\",\"#FEBAAD\"],as_cmap=True)\n",
    "\n",
    "for i in range(len(sims)):\n",
    "    R = sims[i].R\n",
    "    fig,ax = plot_R_traces(R,wTable.loc[(wTable[\"class\"] == \"motor neuron\")&(wTable[\"somaSide\"] == \"LHS\")],activeOnly=True,cmap=lhsColorMap)\n",
    "    add_tAxis(ax,T,10)\n",
    "    plt.grid(axis=\"x\",linestyle=\"--\")\n",
    "    plt.title(r\"L motor neurons, $I_\\text{stim}$ = \" + str(stimIs[i]))\n",
    "    fig,ax = plot_R_traces(R,wTable.loc[(wTable[\"class\"] == \"motor neuron\")&(wTable[\"somaSide\"] == \"RHS\")],activeOnly=True,cmap=rhsColorMap)\n",
    "    add_tAxis(ax,T,10)\n",
    "    plt.grid(axis=\"x\",linestyle=\"--\")\n",
    "    plt.title(r\"R motor neurons, $I_\\text{stim}$ = \" + str(stimIs[i]))"
   ]
  },
  {
   "cell_type": "code",
   "execution_count": null,
   "metadata": {},
   "outputs": [],
   "source": [
    "## IN17A001 is bodyId 10707, idx 277\n",
    "\n",
    "l17aPeakFreqs = []\n",
    "\n",
    "for i in range(len(sims)):\n",
    "\n",
    "    R = sims[i].R\n",
    "\n",
    "    color17a = \"#63B76C\"\n",
    "    neuronIdx = bodyIdToIdx(wTable,[10707])[0]\n",
    "\n",
    "    plt.figure()\n",
    "    plt.plot(R[neuronIdx,:],c=color17a)\n",
    "    signal = R[neuronIdx]\n",
    "    peaks = find_peaks(signal,prominence=1.5)[0]\n",
    "    plt.scatter(peaks,signal[peaks],c=color17a)\n",
    "    \n",
    "    try:\n",
    "        # peakFreqs.append(1/(np.diff(peaks)*dt))\n",
    "        l17aPeakFreqs.append(np.mean(1/(np.diff(peaks)*dt)))\n",
    "    except:\n",
    "        l17aPeakFreqs.append(np.nan)"
   ]
  },
  {
   "cell_type": "code",
   "execution_count": null,
   "metadata": {},
   "outputs": [],
   "source": [
    "# plt.rcdefaults()\n",
    "plt.rcParams[\"svg.fonttype\"] = \"none\"\n",
    "\n",
    "plt.plot(stimIs,l17aPeakFreqs,\"-o\",c=color17a)\n",
    "plt.ylim([6,15])\n",
    "\n",
    "plt.xlabel(r\"BDN2 L $I_\\text{stim}$\")\n",
    "plt.ylabel(\"IN17A001 L frequency (Hz)\")\n",
    "\n",
    "# ## COMMENT IN TO SAVE\n",
    "# dateStr = datetime.date.today().strftime(format=\"%Y%m%d\")\n",
    "# plt.savefig(f'../results/figures/{dateStr}_BDN2stimIvsIN17A0001Lfreq.svg')"
   ]
  },
  {
   "cell_type": "code",
   "execution_count": null,
   "metadata": {},
   "outputs": [],
   "source": [
    "## l tergopleuralwhatever is bodyId 12686\n",
    "\n",
    "lPromotorMnPeakFreqs = []\n",
    "\n",
    "for i in range(len(sims)):\n",
    "\n",
    "    R = sims[i].R\n",
    "\n",
    "    colorLPromotor = \"#33873C\"\n",
    "    neuronIdx = bodyIdToIdx(wTable,[12686])[0]\n",
    "\n",
    "    plt.figure()\n",
    "    plt.plot(R[neuronIdx,:],c=colorLPromotor)\n",
    "    signal = R[neuronIdx]\n",
    "    peaks = find_peaks(signal,prominence=0.4)[0]\n",
    "    plt.scatter(peaks,signal[peaks],c=colorLPromotor)\n",
    "    \n",
    "    try:\n",
    "        # peakFreqs.append(1/(np.diff(peaks)*dt))\n",
    "        lPromotorMnPeakFreqs.append(np.mean(1/(np.diff(peaks)*dt)))\n",
    "    except:\n",
    "        lPromotorMnPeakFreqs.append(np.nan)"
   ]
  },
  {
   "cell_type": "code",
   "execution_count": null,
   "metadata": {},
   "outputs": [],
   "source": [
    "# plt.rcdefaults()\n",
    "plt.rcParams[\"svg.fonttype\"] = \"none\"\n",
    "\n",
    "plt.plot(stimIs,lPromotorMnPeakFreqs,\"-o\",c=colorLPromotor)\n",
    "plt.ylim([6,15])\n",
    "\n",
    "plt.xlabel(r\"BDN2 L $I_\\text{stim}$\")\n",
    "plt.ylabel(\"L Tergopleural/Pleural promotor MN frequency (Hz)\")\n",
    "\n",
    "# ## COMMENT IN TO SAVE\n",
    "# dateStr = datetime.date.today().strftime(format=\"%Y%m%d\")\n",
    "# plt.savefig(f'../results/figures/{dateStr}_BDN2stimIvsLPromotorMnFreq.svg')"
   ]
  },
  {
   "cell_type": "markdown",
   "metadata": {},
   "source": [
    "I'm saving these sims for posterity bc this was ridiculous"
   ]
  },
  {
   "cell_type": "code",
   "execution_count": null,
   "metadata": {},
   "outputs": [],
   "source": [
    "import pickle as pkl"
   ]
  },
  {
   "cell_type": "code",
   "execution_count": null,
   "metadata": {},
   "outputs": [],
   "source": [
    "with open(f'../results/{dateStr}_BDN2stimIvsFreqSims.pkl','wb') as file:\n",
    "    pkl.dump(sims,file)"
   ]
  },
  {
   "cell_type": "code",
   "execution_count": null,
   "metadata": {},
   "outputs": [],
   "source": [
    "lPromotorMnPeakFreqs"
   ]
  },
  {
   "cell_type": "code",
   "execution_count": null,
   "metadata": {},
   "outputs": [],
   "source": [
    "## IN17A001 R is bodyId 10690\n",
    "\n",
    "r17aPeakFreqs = []\n",
    "\n",
    "for i in range(len(sims)):\n",
    "\n",
    "    R = sims[i].R\n",
    "\n",
    "    color17a = \"#63B76C\"\n",
    "    neuronIdx = bodyIdToIdx(wTable,[10690])[0]\n",
    "\n",
    "    plt.figure()\n",
    "    plt.plot(R[neuronIdx,:],c=color17a)\n",
    "    signal = R[neuronIdx]\n",
    "    peaks = find_peaks(signal,prominence=2)[0]\n",
    "    plt.scatter(peaks,signal[peaks],c=color17a)\n",
    "    \n",
    "    try:\n",
    "        # peakFreqs.append(1/(np.diff(peaks)*dt))\n",
    "        r17aPeakFreqs.append(np.mean(1/(np.diff(peaks)*dt)))\n",
    "    except:\n",
    "        r17aPeakFreqs.append(np.nan)"
   ]
  },
  {
   "cell_type": "code",
   "execution_count": null,
   "metadata": {},
   "outputs": [],
   "source": [
    "plt.plot(stimIs,r17aPeakFreqs,\"-o\",c=color17a)\n",
    "plt.ylim([8,15])\n",
    "\n",
    "plt.xlabel(r\"BDN2 L $I_\\text{stim}$\")\n",
    "plt.ylabel(\"IN17A001 R frequency (Hz)\")"
   ]
  },
  {
   "cell_type": "code",
   "execution_count": null,
   "metadata": {},
   "outputs": [],
   "source": [
    "## IN17A001 R is bodyId 10690\n",
    "\n",
    "l15aPeakFreqs = []\n",
    "\n",
    "for i in range(len(sims)):\n",
    "\n",
    "    R = sims[i].R\n",
    "\n",
    "    color15a = \"#02A4D3\"\n",
    "    neuronIdx = bodyIdToIdx(wTable,[11751])[0]\n",
    "\n",
    "    plt.figure()\n",
    "    plt.plot(R[neuronIdx,:],c=color15a)\n",
    "    signal = R[neuronIdx]\n",
    "    peaks = find_peaks(signal,prominence=2)[0]\n",
    "    plt.scatter(peaks,signal[peaks],c=color15a)\n",
    "    \n",
    "    try:\n",
    "        # peakFreqs.append(1/(np.diff(peaks)*dt))\n",
    "        l15aPeakFreqs.append(np.mean(1/(np.diff(peaks)*dt)))\n",
    "    except:\n",
    "        l15aPeakFreqs.append(np.nan)"
   ]
  },
  {
   "cell_type": "code",
   "execution_count": null,
   "metadata": {},
   "outputs": [],
   "source": [
    "plt.plot(stimIs,l15aPeakFreqs,\"-o\",c=color15a)\n",
    "plt.ylim([6,15])\n",
    "\n",
    "plt.xlabel(r\"BDN2 L $I_\\text{stim}$\")\n",
    "plt.ylabel(\"IN15A001 L frequency (Hz)\")"
   ]
  },
  {
   "cell_type": "code",
   "execution_count": null,
   "metadata": {},
   "outputs": [],
   "source": [
    "\n",
    "r15aPeakFreqs = []\n",
    "\n",
    "for i in range(len(sims)):\n",
    "\n",
    "    R = sims[i].R\n",
    "\n",
    "    color15a = \"#02A4D3\"\n",
    "    neuronIdx = bodyIdToIdx(wTable,[13698])[0]\n",
    "\n",
    "    plt.figure()\n",
    "    plt.plot(R[neuronIdx,:],c=color15a)\n",
    "    signal = R[neuronIdx]\n",
    "    peaks = find_peaks(signal,prominence=2)[0]\n",
    "    plt.scatter(peaks,signal[peaks],c=color15a)\n",
    "    \n",
    "    try:\n",
    "        # peakFreqs.append(1/(np.diff(peaks)*dt))\n",
    "        r15aPeakFreqs.append(np.mean(1/(np.diff(peaks)*dt)))\n",
    "    except:\n",
    "        r15aPeakFreqs.append(np.nan)"
   ]
  },
  {
   "cell_type": "code",
   "execution_count": null,
   "metadata": {},
   "outputs": [],
   "source": [
    "plt.plot(stimIs,r15aPeakFreqs,\"-o\",c=color15a)\n",
    "plt.ylim([6,15])\n",
    "\n",
    "plt.xlabel(r\"BDN2 L $I_\\text{stim}$\")\n",
    "plt.ylabel(\"IN15A001 R frequency (Hz)\")"
   ]
  },
  {
   "cell_type": "code",
   "execution_count": null,
   "metadata": {},
   "outputs": [],
   "source": [
    "allMNs = wTable.loc[wTable[\"class\"] == \"motor neuron\"]\n",
    "l_MNs = allMNs.loc[allMNs[\"somaSide\"]==\"LHS\"].copy()\n",
    "\n",
    "plt.rcParams[\"svg.fonttype\"] = \"none\"\n",
    "plt.rcParams['font.sans-serif'] = \"Arial\"\n",
    "plt.rcParams[\"figure.figsize\"] = (20,20)\n",
    "\n",
    "\n",
    "l_MNs[\"motor module\"] = pd.Categorical(l_MNs[\"motor module\"],categories=[\"coxa swing\", \"coxa stance\", \"femur/tr extend\", \"femur/tr flex\",\n",
    "                                                                \"femur reductor\", \"tibia extend\", \"tibia flex\", \"substrate grip\", \"tarsus control\"],\n",
    "                                                                ordered=True)\n",
    "l_MNs.sort_values(\"type\",inplace=True)\n",
    "l_MNs.sort_values(\"motor module\",inplace=True)\n",
    "\n",
    "avgR = average_R(sims)\n",
    "# avgR = sims[0].R\n",
    "endPt = np.size(avgR,1)\n",
    "# endPt = 50\n",
    "\n",
    "plt.figure(figsize=(6,10))\n",
    "fig = plt.gcf()\n",
    "# fig.set_figheight(10)\n",
    "ax = plt.gca()\n",
    "# fig, ax = plt.subplots(1,2)\n",
    "outputData = l_MNs\n",
    "tmp = ax.matshow(avgR[outputData.index,:endPt],aspect=\"auto\",interpolation=\"none\")#,cmap=\"afmhot\")\n",
    "ax.set_title(\"T1L motor neurons\",fontsize=18)\n",
    "# cbar = plt.colorbar()\n",
    "# cbar.ax.tick_params(labelsize=14)\n",
    "# cbar.ax.set_ylabel(\"firing rate (Hz)\",fontsize=18)\n",
    "ax.set_xlim((0,endPt))\n",
    "ticklocs = ax.xaxis.get_ticklocs()\n",
    "ax.set_yticks(np.arange(0,len(outputData)),labels=[s.replace(\"_\",\" \") for s in outputData[\"type\"]],fontsize=10)\n",
    "ax.set_xticks(ticklocs,labels=ticklocs*sim.dt,fontsize=14,)\n",
    "ax.xaxis.set_tick_params(labelbottom=True,top=False,labeltop=False)\n",
    "ax.set_xlabel(\"Time (s)\",fontsize=18)\n",
    "\n",
    "\n",
    "stanceIdxs = np.where(l_MNs[\"step contribution\"]==\"stance\")[0]\n",
    "swingIdxs = np.where(l_MNs[\"step contribution\"]==\"swing\")[0]\n",
    "[ax.get_yticklabels()[i].set_color(\"navy\") for i in stanceIdxs]\n",
    "[ax.get_yticklabels()[i].set_color(\"orange\") for i in swingIdxs]\n",
    "\n",
    "fig.colorbar(tmp, ax=ax,shrink=0.5)"
   ]
  },
  {
   "cell_type": "code",
   "execution_count": null,
   "metadata": {},
   "outputs": [],
   "source": [
    "np.mean(avgR[avgR[:,-1]>0,-1])"
   ]
  },
  {
   "cell_type": "code",
   "execution_count": null,
   "metadata": {},
   "outputs": [],
   "source": [
    "allMNs = wTable.loc[wTable[\"class\"] == \"motor neuron\"]\n",
    "r_MNs = allMNs.loc[allMNs[\"somaSide\"]==\"RHS\"].copy()\n",
    "\n",
    "plt.rcParams[\"svg.fonttype\"] = \"none\"\n",
    "plt.rcParams['font.sans-serif'] = \"Arial\"\n",
    "plt.rcParams[\"figure.figsize\"] = (20,20)\n",
    "\n",
    "\n",
    "r_MNs[\"motor module\"] = pd.Categorical(r_MNs[\"motor module\"],categories=[\"coxa swing\", \"coxa stance\", \"femur/tr extend\", \"femur/tr flex\",\n",
    "                                                                \"femur reductor\", \"tibia extend\", \"tibia flex\", \"substrate grip\", \"tarsus control\"],\n",
    "                                                                ordered=True)\n",
    "r_MNs.sort_values(\"type\",inplace=True)\n",
    "r_MNs.sort_values(\"motor module\",inplace=True)\n",
    "\n",
    "avgR = average_R(sims)\n",
    "# avgR = sims[0].R\n",
    "endPt = np.size(avgR,1)\n",
    "# endPt = 50\n",
    "\n",
    "plt.figure(figsize=(6,10))\n",
    "fig = plt.gcf()\n",
    "# fig.set_figheight(10)\n",
    "ax = plt.gca()\n",
    "# fig, ax = plt.subplots(1,2)\n",
    "outputData = r_MNs\n",
    "tmp = ax.matshow(avgR[outputData.index,:endPt],aspect=\"auto\",interpolation=\"none\")#,cmap=\"afmhot\")\n",
    "ax.set_title(\"T1R motor neurons\",fontsize=18)\n",
    "# cbar = plt.colorbar()\n",
    "# cbar.ax.tick_params(labelsize=14)\n",
    "# cbar.ax.set_ylabel(\"firing rate (Hz)\",fontsize=18)\n",
    "ax.set_xlim((0,endPt))\n",
    "ticklocs = ax.xaxis.get_ticklocs()\n",
    "ax.set_yticks(np.arange(0,len(outputData)),labels=[s.replace(\"_\",\" \") for s in outputData[\"type\"]],fontsize=10)\n",
    "ax.set_xticks(ticklocs,labels=ticklocs*sim.dt,fontsize=14,)\n",
    "ax.xaxis.set_tick_params(labelbottom=True,top=False,labeltop=False)\n",
    "ax.set_xlabel(\"Time (s)\",fontsize=18)\n",
    "\n",
    "\n",
    "stanceIdxs = np.where(r_MNs[\"step contribution\"]==\"stance\")[0]\n",
    "swingIdxs = np.where(r_MNs[\"step contribution\"]==\"swing\")[0]\n",
    "[ax.get_yticklabels()[i].set_color(\"navy\") for i in stanceIdxs]\n",
    "[ax.get_yticklabels()[i].set_color(\"orange\") for i in swingIdxs]\n",
    "\n",
    "fig.colorbar(tmp, ax=ax,shrink=0.5)"
   ]
  },
  {
   "cell_type": "code",
   "execution_count": null,
   "metadata": {},
   "outputs": [],
   "source": [
    "plt.rcParams[\"figure.figsize\"] = (6,4.8)"
   ]
  },
  {
   "cell_type": "code",
   "execution_count": null,
   "metadata": {},
   "outputs": [],
   "source": [
    "activated_l_MNs = np.where(np.sum(avgR[l_MNs.index],1)>0)[0]\n",
    "\n",
    "plt.figure(figsize=(6,4))\n",
    "for i in activated_l_MNs:\n",
    "    plt.plot(avgR[l_MNs.index[i]],label=l_MNs[\"type\"].iloc[i])\n",
    "\n",
    "plt.ylim([-0.1,10])\n",
    "plt.legend()\n",
    "plt.title(\"L MNs\")"
   ]
  },
  {
   "cell_type": "code",
   "execution_count": null,
   "metadata": {},
   "outputs": [],
   "source": [
    "activated_r_MNs = np.where(np.sum(avgR[r_MNs.index],1)>0)[0]\n",
    "\n",
    "plt.figure(figsize=(6,4))\n",
    "for i in activated_r_MNs:\n",
    "    plt.plot(avgR[r_MNs.index[i]],label=r_MNs[\"type\"].iloc[i])\n",
    "plt.ylim([-0.1,10])\n",
    "\n",
    "plt.legend()\n",
    "plt.title(\"R MNs\")"
   ]
  },
  {
   "cell_type": "code",
   "execution_count": null,
   "metadata": {},
   "outputs": [],
   "source": [
    "plotMnType = \"Sternal anterior rotator MN\"\n",
    "tmpData = wTable.loc[wTable[\"type\"] == plotMnType]\n",
    "plt.figure(figsize=(6,4))\n",
    "for i in range(len(tmpData)):\n",
    "    if np.sum(avgR[tmpData.index[i]]) > 0:\n",
    "        plt.plot(avgR[tmpData.index[i]],label=f'{tmpData[\"somaSide\"].iloc[i][0]} {tmpData[\"type\"].iloc[i]}')\n",
    "# wTable.iloc[tmpData.index[3]]\n",
    "# plt.ylim([0,3])\n",
    "plt.legend()\n",
    "# plt.title(\"\")"
   ]
  },
  {
   "cell_type": "markdown",
   "metadata": {},
   "source": [
    "# Sandbox"
   ]
  },
  {
   "cell_type": "code",
   "execution_count": null,
   "metadata": {},
   "outputs": [],
   "source": [
    "l_MNs.iloc[18]"
   ]
  },
  {
   "cell_type": "code",
   "execution_count": null,
   "metadata": {},
   "outputs": [],
   "source": [
    "dt = sim.dt\n",
    "fftIdxs = np.arange(int(0.2/dt),int(0.35/dt))\n",
    "\n",
    "signalToFft = avgR[:,fftIdxs]\n",
    "meanToNormalize = np.mean(signalToFft,axis=1)[:,np.newaxis]\n",
    "signalToFft = (signalToFft - meanToNormalize)/meanToNormalize\n",
    "\n",
    "rf = fft.fft(signalToFft)\n",
    "freqs = fft.fftfreq(signalToFft.shape[1],d=dt)"
   ]
  },
  {
   "cell_type": "code",
   "execution_count": null,
   "metadata": {},
   "outputs": [],
   "source": [
    "posFreqIdxs = np.arange((len(freqs)//2))\n",
    "posFreqs = freqs[posFreqIdxs]\n",
    "signalToPlot = np.abs(rf[:,posFreqIdxs])\n",
    "# plt.plot(testR2)\n",
    "# plt.plot(freqs,rf)\n",
    "# plt.xlim([0,100])\n",
    "plt.matshow(signalToPlot,aspect=0.01)\n",
    "# plt.colorbar()"
   ]
  },
  {
   "cell_type": "code",
   "execution_count": null,
   "metadata": {},
   "outputs": [],
   "source": [
    "nanmeanFft = np.nanmean(signalToPlot[allMNs[\"Unnamed: 0\"],:],axis=0)\n",
    "plt.plot(posFreqs[1:],nanmeanFft[1:])\n",
    "peaks = find_peaks(nanmeanFft,prominence=2)[0]\n",
    "plt.scatter(posFreqs[peaks],nanmeanFft[peaks])\n",
    "print(peaks,posFreqs[peaks],nanmeanFft[peaks])"
   ]
  },
  {
   "cell_type": "code",
   "execution_count": null,
   "metadata": {},
   "outputs": [],
   "source": [
    "counter = 0\n",
    "for i in np.where(~np.isnan(np.mean(signalToPlot,axis=1)))[0]:\n",
    "    signal = signalToPlot[i,:]\n",
    "    peaks = find_peaks(signal,prominence=2)[0]\n",
    "    if len(peaks)>1:\n",
    "        counter+=1\n",
    "        plt.plot(posFreqs,signal)\n",
    "\n",
    "print(counter)"
   ]
  },
  {
   "cell_type": "code",
   "execution_count": null,
   "metadata": {},
   "outputs": [],
   "source": [
    "plt.plot(posFreqs,np.mean(signalToPlot[allMNs[\"Unnamed: 0\"],:],axis=0))\n",
    "# plt.xlim([0,100])\n",
    "# plt.plot(testR2[31,:])"
   ]
  },
  {
   "cell_type": "code",
   "execution_count": null,
   "metadata": {},
   "outputs": [],
   "source": [
    "np.array([[1,2,4],[2,4,5]]) - np.array([3,2])[:,np.newaxis]"
   ]
  },
  {
   "cell_type": "code",
   "execution_count": null,
   "metadata": {},
   "outputs": [],
   "source": [
    "allActivatedIdxs = np.where(np.sum(avgR,1)>0)[0]\n",
    "activatedTable = wTable.iloc[allActivatedIdxs]\n",
    "# plt.matshow(avgR[allActivatedIdxs,:],aspect=\"auto\")"
   ]
  },
  {
   "cell_type": "code",
   "execution_count": null,
   "metadata": {},
   "outputs": [],
   "source": [
    "activatedTable = activatedTable.rename(columns={\"Unnamed: 0\": \"w_idx\"}).reset_index()"
   ]
  },
  {
   "cell_type": "code",
   "execution_count": null,
   "metadata": {},
   "outputs": [],
   "source": [
    "bdn2ActivatedNeurons = allActivatedIdxs[np.sum(W[np.ix_(bdn2s,allActivatedIdxs)],0)>0]\n",
    "bdn2ActivatedNeurons"
   ]
  },
  {
   "cell_type": "code",
   "execution_count": null,
   "metadata": {},
   "outputs": [],
   "source": [
    "activatedW = W[np.ix_(allActivatedIdxs,allActivatedIdxs)]\n",
    "\n",
    "plt.figure(figsize=(7,6))\n",
    "sns.heatmap(activatedW,cmap=\"seismic\",center=0) #,xticklabels=tmp[\"type\"],yticklabels=wTable[\"type\"].iloc[newIdxs])"
   ]
  },
  {
   "cell_type": "code",
   "execution_count": null,
   "metadata": {},
   "outputs": [],
   "source": [
    "activatedTypes = activatedTable[\"type\"].unique()"
   ]
  },
  {
   "cell_type": "code",
   "execution_count": null,
   "metadata": {},
   "outputs": [],
   "source": [
    "typeToTest = \"IN03A001\"\n",
    "\n",
    "wTable.loc[wTable[\"type\"]==typeToTest]\n",
    "activatedTable.loc[activatedTable[\"type\"]==typeToTest]\n",
    "# activatedTable.loc[activatedTable[\"type\"]==typeToTest].bodyId.to_list()"
   ]
  },
  {
   "cell_type": "code",
   "execution_count": null,
   "metadata": {},
   "outputs": [],
   "source": [
    "i = 119\n",
    "typeToTest = activatedTypes[i]\n",
    "# activatedTable.loc[activatedTable[\"type\"]==typeToTest]\n",
    "\n",
    "sim = vncNet.Simulation(activatedW)\n",
    "\n",
    "sim.set_time(0.5,0.001)\n",
    "# stimNeurons = activatedTable.loc[activatedTable[\"bodyId\"].isin([10093,10339])].index.to_numpy()\n",
    "stimNeurons = activatedTable.loc[activatedTable[\"type\"]==typeToTest].index.to_numpy()\n",
    "# sim.silence_neurons(neuronsToRemove)\n",
    "stimI = 60\n",
    "\n",
    "# Set input\n",
    "\n",
    "sim.set_input(sim.pulse_input(0.02,0.4,stimI,stimNeurons))\n",
    "\n",
    "# Set parameters\n",
    "# sim.set_tau_distribution(0.02,0.004,seed=seeds[0])\n",
    "# sim.set_a_distribution(1,0.2,seed=seeds[1])\n",
    "# sim.set_threshold_distribution(6,2,seed=seeds[2])\n",
    "# sim.set_synapse_multipliers(0.03,0.03)\n",
    "# sim.set_fr_distribution(200,10,seed=seeds[3])\n",
    "# sim.set_sizes(wTable[\"size\"])\n",
    "\n",
    "sim.set_tau_distribution(0.02,0.0000001)\n",
    "sim.set_a_distribution(1,0.0000001)\n",
    "sim.set_threshold_distribution(6,0.0000001)\n",
    "sim.set_synapse_multipliers(0.03,0.03)\n",
    "sim.set_fr_distribution(200,0.0000001)\n",
    "sim.set_sizes(activatedTable[\"size\"])\n",
    "\n",
    "sim.run()\n",
    "R = sim.R\n",
    "\n",
    "# plt.figure(figsize=(12,12))\n",
    "plt.matshow(R,aspect=\"4\")\n",
    "plt.colorbar()\n",
    "# plt.yticks(np.arange(len(tmp2)),labels=tmp2[\"type\"],fontsize=8)\n",
    "plt.gcf().set_figheight(6)\n",
    "print(typeToTest)"
   ]
  },
  {
   "cell_type": "code",
   "execution_count": null,
   "metadata": {},
   "outputs": [],
   "source": [
    "wTable[wTable[\"hemilineage\"]==\"19B\"]\n",
    "# wTable[wTable[\"bodyId\"].isin(headlessWalkingBodyIds)]"
   ]
  },
  {
   "cell_type": "code",
   "execution_count": null,
   "metadata": {},
   "outputs": [],
   "source": [
    "activated_MNs = activatedTable[activatedTable[\"class\"]==\"motor neuron\"].index.to_numpy()\n",
    "\n",
    "plt.figure(figsize=(6,4))\n",
    "for i in activated_MNs:\n",
    "    plt.plot(R[i,:],label=f'{activatedTable[\"type\"].iloc[i]} {activatedTable[\"somaSide\"].iloc[i]}')\n",
    "\n",
    "plt.ylim([0,10])\n",
    "plt.legend()\n",
    "plt.title(\"\")"
   ]
  },
  {
   "cell_type": "code",
   "execution_count": null,
   "metadata": {},
   "outputs": [],
   "source": [
    "plt.matshow(avgR[activatedTable.w_idx.to_numpy(),:],aspect=\"5\")\n",
    "plt.gcf().set_figheight(10)"
   ]
  },
  {
   "cell_type": "code",
   "execution_count": null,
   "metadata": {},
   "outputs": [],
   "source": [
    "# bodyIdsToSilence = np.array([10232, 10620, 11688, 12026, 12061, 14416, 16008, 16899, 17580, 17615, 17665, 19114, 154691, 159562, 10205, 10607, 12475, 14420, 16254, 18137, 100524, 153564, 156554, 159312])\n",
    "bodyIdsToSilence = np.array([3,   4,   5,   6,   8,   9,  10,  12,  13,  15,  16,  17,  18,\n",
    "        19,  20,  23,  24,  25,  29,  30,  32,  34,  36,  37,  41,  42,\n",
    "        45,  48,  52,  53,  54,  56,  58,  62,  63,  64,  65,  67,  68,\n",
    "        69,  70,  71,  72,  74,  75,  76,  77,  78,  81,  82,  84,  86,\n",
    "        90,  91,  94,  96,  99, 102, 105, 106, 107, 108, 111, 114, 115,\n",
    "       117, 119, 123, 126, 130, 131, 133, 134, 136, 137, 138, 141, 145,\n",
    "       146, 148, 150, 152, 153, 155, 158, 164, 166, 169, 170, 171, 179,\n",
    "       185, 186, 192, 198, 199, 200, 202, 205, 206, 208, 210, 212, 214,\n",
    "       215, 217, 218, 219, 221, 224, 225, 227, 228, 229, 232, 233, 235,\n",
    "       236, 237, 238, 239, 241, 242, 245, 246, 249, 252, 255, 256, 257,\n",
    "       260, 262, 264, 265, 266, 267, 270, 273, 275, 276, 279, 280, 281,\n",
    "       282, 283, 284, 285, 287, 288, 289, 290, 291])"
   ]
  },
  {
   "cell_type": "code",
   "execution_count": null,
   "metadata": {},
   "outputs": [],
   "source": [
    "activatedW = W[np.ix_(allActivatedIdxs,allActivatedIdxs)]\n",
    "\n",
    "tmpActivated = np.where(np.sum(W[np.ix_(bdn2s,allActivatedIdxs)],0)>0)[0]"
   ]
  },
  {
   "cell_type": "code",
   "execution_count": null,
   "metadata": {},
   "outputs": [],
   "source": [
    "activatedW = W[np.ix_(allActivatedIdxs,allActivatedIdxs)]\n",
    "sim = vncNet.Simulation(activatedW)\n",
    "\n",
    "stimI = 200\n",
    "sim.set_time(0.5,0.001)\n",
    "bdn2Idxs = np.where(activatedTable[\"bodyId\"].isin([10093,10339]))[0]\n",
    "stimNeurons = [28]\n",
    "\n",
    "#np.setdiff1d(np.arange(len(allActivatedIdxs)),np.hstack((tmpActivated,bdn2Idxs))) #\n",
    "# sim.silence_neurons(neuronsToRemove)\n",
    "\n",
    "# Set input\n",
    "\n",
    "sim.set_input(sim.pulse_input(0.02,0.4,stimI,stimNeurons))\n",
    "\n",
    "# Set parameters\n",
    "# sim.set_tau_distribution(0.02,0.004,seed=seeds[0])\n",
    "# sim.set_a_distribution(1,0.2,seed=seeds[1])\n",
    "# sim.set_threshold_distribution(6,2,seed=seeds[2])\n",
    "# sim.set_synapse_multipliers(0.03,0.03)\n",
    "# sim.set_fr_distribution(200,10,seed=seeds[3])\n",
    "# sim.set_sizes(wTable[\"size\"])\n",
    "\n",
    "sim.set_tau_distribution(0.02,0.0000001)\n",
    "sim.set_a_distribution(1,0.0000001)\n",
    "sim.set_threshold_distribution(6,0.0000001)\n",
    "sim.set_synapse_multipliers(0.03,0.03)\n",
    "sim.set_fr_distribution(200,0.0000001)\n",
    "sim.set_sizes(activatedTable[\"size\"])\n",
    "\n",
    "# neuronsToSilence = np.random.choice(bodyIdsToSilence,10)\n",
    "# neuronsToSilence = np.setdiff1d(neuronsToSilence,stimNeurons)\n",
    "\n",
    "# sim.silence_neurons(neuronsToSilence)\n",
    "\n",
    "sim.run()\n",
    "\n",
    "# print(neuronsToSilence)"
   ]
  },
  {
   "cell_type": "code",
   "execution_count": null,
   "metadata": {},
   "outputs": [],
   "source": [
    "tmpActivated"
   ]
  },
  {
   "cell_type": "code",
   "execution_count": null,
   "metadata": {},
   "outputs": [],
   "source": [
    "R = sim.R\n",
    "# plt.figure(figsize=(12,12))\n",
    "plt.matshow(R,aspect=\"4\")\n",
    "plt.colorbar()\n",
    "# plt.yticks(np.arange(len(tmp2)),labels=tmp2[\"type\"],fontsize=8)\n",
    "plt.gcf().set_figheight(6)\n",
    "print(stimNeurons)"
   ]
  },
  {
   "cell_type": "code",
   "execution_count": null,
   "metadata": {},
   "outputs": [],
   "source": [
    "neuronsToSilence"
   ]
  },
  {
   "cell_type": "code",
   "execution_count": null,
   "metadata": {},
   "outputs": [],
   "source": [
    "activatedTable.iloc[34]"
   ]
  },
  {
   "cell_type": "code",
   "execution_count": null,
   "metadata": {},
   "outputs": [],
   "source": [
    "activatedTable"
   ]
  },
  {
   "cell_type": "code",
   "execution_count": null,
   "metadata": {},
   "outputs": [],
   "source": [
    "allMNs = activatedTable.loc[activatedTable[\"class\"] == \"motor neuron\"]\n",
    "l_MNs = allMNs.loc[allMNs[\"somaSide\"]==\"RHS\"].copy()\n",
    "\n",
    "plt.rcParams[\"svg.fonttype\"] = \"none\"\n",
    "plt.rcParams['font.sans-serif'] = \"Arial\"\n",
    "plt.rcParams[\"figure.figsize\"] = (20,20)\n",
    "\n",
    "\n",
    "l_MNs[\"motor module\"] = pd.Categorical(l_MNs[\"motor module\"],categories=[\"coxa swing\", \"coxa stance\", \"femur/tr extend\", \"femur/tr flex\",\n",
    "                                                                \"femur reductor\", \"tibia extend\", \"tibia flex\", \"substrate grip\", \"tarsus control\"],\n",
    "                                                                ordered=True)\n",
    "l_MNs.sort_values(\"type\",inplace=True)\n",
    "l_MNs.sort_values(\"motor module\",inplace=True)\n",
    "\n",
    "# avgR = sims[0].R\n",
    "# endPt = 50\n",
    "\n",
    "plt.figure(figsize=(6,10))\n",
    "fig = plt.gcf()\n",
    "# fig.set_figheight(10)\n",
    "ax = plt.gca()\n",
    "# fig, ax = plt.subplots(1,2)\n",
    "outputData = l_MNs\n",
    "tmp = ax.matshow(R[np.where(activatedTable[\"bodyId\"].isin(l_MNs[\"bodyId\"]))[0],:],aspect=\"auto\",interpolation=\"none\")#,cmap=\"afmhot\")\n",
    "ax.set_title(\"T1L motor neurons\",fontsize=18)\n",
    "# cbar = plt.colorbar()\n",
    "# cbar.ax.tick_params(labelsize=14)\n",
    "# cbar.ax.set_ylabel(\"firing rate (Hz)\",fontsize=18)\n",
    "ax.set_xlim((0,endPt))\n",
    "ticklocs = ax.xaxis.get_ticklocs()\n",
    "ax.set_yticks(np.arange(0,len(outputData)),labels=[s.replace(\"_\",\" \") for s in outputData[\"type\"]],fontsize=10)\n",
    "ax.set_xticks(ticklocs,labels=ticklocs*sim.dt,fontsize=14,)\n",
    "ax.xaxis.set_tick_params(labelbottom=True,top=False,labeltop=False)\n",
    "ax.set_xlabel(\"Time (s)\",fontsize=18)\n",
    "\n",
    "\n",
    "stanceIdxs = np.where(l_MNs[\"step contribution\"]==\"stance\")[0]\n",
    "swingIdxs = np.where(l_MNs[\"step contribution\"]==\"swing\")[0]\n",
    "[ax.get_yticklabels()[i].set_color(\"navy\") for i in stanceIdxs]\n",
    "[ax.get_yticklabels()[i].set_color(\"orange\") for i in swingIdxs]\n",
    "\n",
    "fig.colorbar(tmp, ax=ax,shrink=0.5)"
   ]
  },
  {
   "cell_type": "code",
   "execution_count": null,
   "metadata": {},
   "outputs": [],
   "source": []
  },
  {
   "cell_type": "code",
   "execution_count": null,
   "metadata": {},
   "outputs": [],
   "source": [
    "l_MNs"
   ]
  },
  {
   "cell_type": "code",
   "execution_count": null,
   "metadata": {},
   "outputs": [],
   "source": [
    "np.where(activatedTable[\"bodyId\"].isin(l_MNs[\"bodyId\"]))"
   ]
  },
  {
   "cell_type": "code",
   "execution_count": null,
   "metadata": {},
   "outputs": [],
   "source": [
    "evenSmallerW = activatedW[np.ix_(tmpActivated,tmpActivated)]\n",
    "\n",
    "sim = vncNet.Simulation(evenSmallerW)\n",
    "\n",
    "stimI = 80\n",
    "sim.set_time(0.5,0.001)\n",
    "bdn2Idxs = np.where(activatedTable[\"bodyId\"].isin([10093,10339]))[0]\n",
    "stimNeurons = np.arange(40,50)\n",
    "# sim.silence_neurons(neuronsToRemove)\n",
    "\n",
    "# Set input\n",
    "\n",
    "sim.set_input(sim.pulse_input(0.02,0.4,stimI,stimNeurons))\n",
    "\n",
    "# Set parameters\n",
    "# sim.set_tau_distribution(0.02,0.004,seed=seeds[0])\n",
    "# sim.set_a_distribution(1,0.2,seed=seeds[1])\n",
    "# sim.set_threshold_distribution(6,2,seed=seeds[2])\n",
    "# sim.set_synapse_multipliers(0.03,0.03)\n",
    "# sim.set_fr_distribution(200,10,seed=seeds[3])\n",
    "# sim.set_sizes(wTable[\"size\"])\n",
    "\n",
    "sim.set_tau_distribution(0.02,0.0000001)\n",
    "sim.set_a_distribution(1,0.0000001)\n",
    "sim.set_threshold_distribution(6,0.0000001)\n",
    "sim.set_synapse_multipliers(0.03,0.03)\n",
    "sim.set_fr_distribution(200,0.0000001)\n",
    "sim.set_sizes(activatedTable[\"size\"].iloc[tmpActivated])\n",
    "\n",
    "# neuronsToSilence = np.random.choice(bodyIdsToSilence,10)\n",
    "# neuronsToSilence = np.setdiff1d(neuronsToSilence,stimNeurons)\n",
    "\n",
    "# sim.silence_neurons(neuronsToSilence)\n",
    "\n",
    "sim.run()\n",
    "\n",
    "# print(neuronsToSilence)"
   ]
  },
  {
   "cell_type": "code",
   "execution_count": null,
   "metadata": {},
   "outputs": [],
   "source": [
    "R = sim.R\n",
    "# plt.figure(figsize=(12,12))\n",
    "plt.matshow(R,aspect=\"4\")\n",
    "plt.colorbar()\n",
    "# plt.yticks(np.arange(len(tmp2)),labels=tmp2[\"type\"],fontsize=8)\n",
    "plt.gcf().set_figheight(6)\n",
    "print(stimNeurons)"
   ]
  },
  {
   "cell_type": "code",
   "execution_count": null,
   "metadata": {},
   "outputs": [],
   "source": [
    "len(tmpActivated)"
   ]
  },
  {
   "cell_type": "code",
   "execution_count": null,
   "metadata": {},
   "outputs": [],
   "source": [
    "tmpActivated[np.arange(20,30)]"
   ]
  },
  {
   "cell_type": "code",
   "execution_count": null,
   "metadata": {},
   "outputs": [],
   "source": [
    "activatedTable.iloc[28]"
   ]
  },
  {
   "cell_type": "code",
   "execution_count": null,
   "metadata": {},
   "outputs": [],
   "source": []
  }
 ],
 "metadata": {
  "kernelspec": {
   "display_name": "vnc-closedloop",
   "language": "python",
   "name": "python3"
  },
  "language_info": {
   "codemirror_mode": {
    "name": "ipython",
    "version": 3
   },
   "file_extension": ".py",
   "mimetype": "text/x-python",
   "name": "python",
   "nbconvert_exporter": "python",
   "pygments_lexer": "ipython3",
   "version": "3.12.2"
  }
 },
 "nbformat": 4,
 "nbformat_minor": 2
}
