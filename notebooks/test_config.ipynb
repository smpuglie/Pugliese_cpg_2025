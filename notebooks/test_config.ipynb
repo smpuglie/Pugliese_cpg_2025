{
 "cells": [
  {
   "cell_type": "code",
   "execution_count": 1,
   "metadata": {},
   "outputs": [],
   "source": [
    "from src.vnc import VNCNet\n",
    "import importlib\n",
    "\n",
    "%load_ext autoreload\n",
    "%autoreload 1\n",
    "\n",
    "from src.plot_utils import *\n",
    "\n",
    "# Enable autoreload extension\n",
    "\n",
    "import pandas as pd\n",
    "import yaml\n",
    "\n",
    "import numpy as np\n",
    "from datetime import date\n",
    "import os\n",
    "from omegaconf import DictConfig, OmegaConf\n",
    "\n",
    "os.environ['CUDA_VISIBLE_DEVICES'] = '1' # Use GPU 0\n",
    "os.environ[\"XLA_PYTHON_CLIENT_MEM_FRACTION\"] = \"0.95\"\n",
    "\n",
    "import matplotlib.pyplot as plt\n",
    "from scipy import signal\n",
    "import src.vncNetParallel as vncNetParallel\n",
    "from pathlib import Path\n",
    "from hydra import initialize, compose\n",
    "\n"
   ]
  },
  {
   "cell_type": "code",
   "execution_count": 2,
   "metadata": {},
   "outputs": [],
   "source": [
    "initialize(config_path=\"../configs\", version_base=None)\n",
    "\n",
    "# Compose the config\n",
    "cfg = compose(config_name=\"config\")\n",
    "\n",
    "# Set the current working directory to the cwd_dir specified in the config\n",
    "cfg.paths.cwd_dir = Path.cwd()\n",
    "\n",
    "\n",
    "# Create directories specified in the config if they do not exist\n",
    "for k in cfg.paths.keys():\n",
    "    if k != 'user':\n",
    "        cfg.paths[k] = Path(cfg.paths[k])\n",
    "        cfg.paths[k].mkdir(parents=True, exist_ok=True)\n",
    "        "
   ]
  },
  {
   "cell_type": "code",
   "execution_count": 3,
   "metadata": {},
   "outputs": [
    {
     "data": {
      "text/plain": [
       "[31, 132]"
      ]
     },
     "execution_count": 3,
     "metadata": {},
     "output_type": "execute_result"
    }
   ],
   "source": [
    "cfg.experiment.stimNeurons"
   ]
  },
  {
   "cell_type": "code",
   "execution_count": 4,
   "metadata": {},
   "outputs": [
    {
     "data": {
      "text/plain": [
       "[5597, 6559, 4470, 2578, 2633, 185, 2487, 5789, 7318, 4162, 5180, 7504, 5247, 1776, 8191, 9797, 592, 2567, 4221, 4731]"
      ]
     },
     "execution_count": 4,
     "metadata": {},
     "output_type": "execute_result"
    }
   ],
   "source": [
    "cfg.experiment.seed"
   ]
  },
  {
   "cell_type": "code",
   "execution_count": 5,
   "metadata": {},
   "outputs": [
    {
     "name": "stdout",
     "output_type": "stream",
     "text": [
      "[ 31 132]\n",
      "1\n"
     ]
    }
   ],
   "source": [
    "my_net = VNCNet(cfg)"
   ]
  },
  {
   "cell_type": "code",
   "execution_count": 6,
   "metadata": {},
   "outputs": [
    {
     "name": "stdout",
     "output_type": "stream",
     "text": [
      "{'experiment_name': 'TestingExperimentParams', 'n_neurons': 4561, 'num_sims': 20, 'stim_neurons': [31, 132], 'simulation_time': 2.0, 'time_step': 0.001, 'pulse_duration': 1.979, 'neuron_params': {'tau_mean': 0.02, 'tau_stdv': 0.002, 'a_mean': 1.0, 'a_stdv': 0.1, 'threshold_mean': 7.5, 'threshold_stdv': 0.6, 'fr_cap_mean': 200.0, 'fr_cap_stdv': 10.0, 'exc_multiplier': 0.03, 'inh_multiplier': 0.03}, 'connectivity_shape': (4561, 4561), 'seeds': [5597, 6559, 4470, 2578, 2633, 185, 2487, 5789, 7318, 4162, 5180, 7504, 5247, 1776, 8191, 9797, 592, 2567, 4221, 4731], 'stim_input': [245.71854610140417, 243.13449304592072, 267.8350003331654, 220.84662797141277, 204.7435285876654, 277.05800652657683, 221.09959377759083, 209.67040917051736, 191.76981929251343, 268.9826297511864, 230.8146061575807, 251.01048778036753, 218.98135472429, 222.2817751132307, 255.4400288159755, 265.36972446239184, 235.75931693692533, 251.17693048704322, 252.9361914631959, 222.4529798886379]}\n"
     ]
    }
   ],
   "source": [
    "print(my_net)"
   ]
  },
  {
   "cell_type": "code",
   "execution_count": 7,
   "metadata": {},
   "outputs": [
    {
     "name": "stdout",
     "output_type": "stream",
     "text": [
      "{'experiment_name': 'TestingExperimentParams', 'n_neurons': 4561, 'num_sims': 20, 'stim_neurons': [31, 132], 'simulation_time': 2.0, 'time_step': 0.001, 'pulse_duration': 1.979, 'neuron_params': {'tau_mean': 0.02, 'tau_stdv': 0.002, 'a_mean': 1.0, 'a_stdv': 0.1, 'threshold_mean': 7.5, 'threshold_stdv': 0.6, 'fr_cap_mean': 200.0, 'fr_cap_stdv': 10.0, 'exc_multiplier': 0.03, 'inh_multiplier': 0.03}, 'connectivity_shape': (4561, 4561), 'seeds': [5597, 6559, 4470, 2578, 2633, 185, 2487, 5789, 7318, 4162, 5180, 7504, 5247, 1776, 8191, 9797, 592, 2567, 4221, 4731], 'stim_input': [245.71854610140417, 243.13449304592072, 267.8350003331654, 220.84662797141277, 204.7435285876654, 277.05800652657683, 221.09959377759083, 209.67040917051736, 191.76981929251343, 268.9826297511864, 230.8146061575807, 251.01048778036753, 218.98135472429, 222.2817751132307, 255.4400288159755, 265.36972446239184, 235.75931693692533, 251.17693048704322, 252.9361914631959, 222.4529798886379]}\n"
     ]
    }
   ],
   "source": [
    "print(my_net.info)"
   ]
  },
  {
   "cell_type": "code",
   "execution_count": 8,
   "metadata": {},
   "outputs": [
    {
     "name": "stdout",
     "output_type": "stream",
     "text": [
      "nus: [[1576 1263 9309 9706 6198 2836 6789 7830 1855 2493 4439 6006 9522 1274\n",
      "  9848  110 3562 8645 8499 6708]\n",
      " [2835 4372 4585 3617 1032 2195 6878  721 7291 4175  272 6257 2949  616\n",
      "  6341 7576  780   11 1700 6919]\n",
      " [2330  924 1191 1593 4916 9013 4450 8808 7071 3226 1855 5539 6652 2004\n",
      "  9409 9122 5246 3080 9651 1303]\n",
      " [2949 4034 1502 7143 3761 5366 1437 8765  707 2194 2328 8147 2746 6543\n",
      "  2445 5569  602 3693 1212 4329]]\n"
     ]
    },
    {
     "name": "stderr",
     "output_type": "stream",
     "text": [
      "/home/dsamy/research/bdn2cpg/src/vnc.py:70: SettingWithCopyWarning: \n",
      "A value is trying to be set on a copy of a slice from a DataFrame\n",
      "\n",
      "See the caveats in the documentation: https://pandas.pydata.org/pandas-docs/stable/user_guide/indexing.html#returning-a-view-versus-a-copy\n",
      "  sizes[sizes.isna()] = normSize\n",
      "/home/dsamy/research/bdn2cpg/src/vnc.py:71: SettingWithCopyWarning: \n",
      "A value is trying to be set on a copy of a slice from a DataFrame\n",
      "\n",
      "See the caveats in the documentation: https://pandas.pydata.org/pandas-docs/stable/user_guide/indexing.html#returning-a-view-versus-a-copy\n",
      "  sizes[sizes == 0] = normSize  # TODO this isn't great\n"
     ]
    },
    {
     "name": "stdout",
     "output_type": "stream",
     "text": [
      "W.shape: (4561, 4561)\n",
      "input.shape: (20, 4561, 2000)\n",
      "tau.shape: (20, 4561)\n",
      "threshold.shape: (20, 4561)\n",
      "a.shape: (20, 4561)\n",
      "frCap.shape: (20, 4561)\n",
      "tAxis.shape: (2000,)\n",
      "W.max(): 712.0\n",
      "input.max(): 277.058\n",
      "tau.max(): 0.028269261\n",
      "threshold.max(): 499.2345\n",
      "a.max(): 58.647182\n",
      "frCap.max(): 243.62468\n",
      "tAxis.max(): 1.999\n"
     ]
    }
   ],
   "source": [
    "res = my_net.run()"
   ]
  },
  {
   "cell_type": "code",
   "execution_count": null,
   "metadata": {},
   "outputs": [],
   "source": []
  }
 ],
 "metadata": {
  "kernelspec": {
   "display_name": "bdn2cpg",
   "language": "python",
   "name": "python3"
  },
  "language_info": {
   "codemirror_mode": {
    "name": "ipython",
    "version": 3
   },
   "file_extension": ".py",
   "mimetype": "text/x-python",
   "name": "python",
   "nbconvert_exporter": "python",
   "pygments_lexer": "ipython3",
   "version": "3.13.5"
  }
 },
 "nbformat": 4,
 "nbformat_minor": 2
}
