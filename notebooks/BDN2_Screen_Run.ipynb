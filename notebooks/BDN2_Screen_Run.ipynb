{
 "cells": [
  {
   "cell_type": "code",
   "execution_count": 1,
   "metadata": {},
   "outputs": [],
   "source": [
    "import pandas as pd\n",
    "import yaml\n",
    "import numpy as np\n",
    "from datetime import date\n",
    "import os\n",
    "\n",
    "os.environ['CUDA_VISIBLE_DEVICES'] = '1' # Use GPU 0\n",
    "os.environ[\"XLA_PYTHON_CLIENT_MEM_FRACTION\"] = \"0.95\"\n",
    "\n",
    "import matplotlib.pyplot as plt\n",
    "from scipy import signal\n",
    "from src.sim_utils_Jax import *\n",
    "from src.plot_utils import *\n",
    "import src.vncNetParallel as vncNetParallel"
   ]
  },
  {
   "cell_type": "code",
   "execution_count": 5,
   "metadata": {},
   "outputs": [],
   "source": [
    "simStr = \"mancBDN2activation_3_n=250\"\n",
    "defaultParamPath = \"../configs/20250122_mancBDN2activation.yaml\"\n",
    "useSeed = True\n",
    "\n",
    "with open(defaultParamPath, 'r') as file:\n",
    "    defaultParams = yaml.safe_load(file)\n",
    "params = defaultParams"
   ]
  },
  {
   "cell_type": "code",
   "execution_count": 6,
   "metadata": {},
   "outputs": [],
   "source": [
    "nSims = 250\n",
    "params[\"seed\"] = np.random.randint(100000,size=nSims).tolist()\n",
    "\n",
    "# SAVE MODIFIED PARAM FILE\n",
    "dateStr = date.today().strftime(format=\"%Y%m%d\")\n",
    "saveStr = dateStr+\"_\"+simStr\n",
    "params[\"name\"] = saveStr\n",
    "fullConfigPath = f\"../configs/{saveStr}.yaml\"\n",
    "\n",
    "with open(fullConfigPath,\"w\") as outfile:\n",
    "    yaml.dump(params,outfile)"
   ]
  },
  {
   "cell_type": "code",
   "execution_count": 7,
   "metadata": {},
   "outputs": [
    {
     "name": "stdout",
     "output_type": "stream",
     "text": [
      "250\n",
      "stim neurons: [ 31 132]\n"
     ]
    },
    {
     "name": "stderr",
     "output_type": "stream",
     "text": [
      "/home/jkl/vnc-closedloop/src/vncNetParallel.py:67: SettingWithCopyWarning: \n",
      "A value is trying to be set on a copy of a slice from a DataFrame\n",
      "\n",
      "See the caveats in the documentation: https://pandas.pydata.org/pandas-docs/stable/user_guide/indexing.html#returning-a-view-versus-a-copy\n",
      "  sizes[sizes.isna()] = normSize\n",
      "/home/jkl/vnc-closedloop/src/vncNetParallel.py:68: SettingWithCopyWarning: \n",
      "A value is trying to be set on a copy of a slice from a DataFrame\n",
      "\n",
      "See the caveats in the documentation: https://pandas.pydata.org/pandas-docs/stable/user_guide/indexing.html#returning-a-view-versus-a-copy\n",
      "  sizes[sizes == 0] = normSize #TODO this isn't great\n"
     ]
    },
    {
     "name": "stdout",
     "output_type": "stream",
     "text": [
      "start run\n",
      "Time to solve system vmap: 174.71187925338745\n"
     ]
    }
   ],
   "source": [
    "Rs, params_arr, params = run_sim_from_params(params)\n",
    "save_sim_data(Rs,params)"
   ]
  },
  {
   "cell_type": "code",
   "execution_count": 9,
   "metadata": {},
   "outputs": [
    {
     "name": "stdout",
     "output_type": "stream",
     "text": [
      "33\n",
      "34\n",
      "35\n",
      "36\n",
      "37\n"
     ]
    }
   ],
   "source": [
    "for i in range(nSims): #range(nSims):\n",
    "    os.system(f\"tsp python {os.path.abspath('../src/run_from_config.py')} '{fullConfigPath}' --idx {i}\")"
   ]
  },
  {
   "cell_type": "code",
   "execution_count": 38,
   "metadata": {},
   "outputs": [
    {
     "name": "stdout",
     "output_type": "stream",
     "text": [
      "0.017622319332959\n",
      "4561\n"
     ]
    },
    {
     "data": {
      "image/png": "[encoded data removed]",
      "text/plain": [
       "<Figure size 640x480 with 1 Axes>"
      ]
     },
     "metadata": {},
     "output_type": "display_data"
    }
   ],
   "source": [
    "Rsjax = np.load(\"../results/jax/20250211_mancBDN2pruning/20250211_mancBDN2pruning_iter114/Rs.npy\")\n",
    "Rjax = Rsjax[0]\n",
    "Rtsp = np.load(\"../results/tsp/20250211_mancBDN2pruning_0/20250211_mancBDN2pruning_0_iter114/R.npy\")\n",
    "\n",
    "#print(np.sum((Rjax - Rtsp)**2))\n",
    "\n",
    "wTable = pd.read_csv(\"../data/MANC weights/20231020_DNtoMN/wTable_20231020_DNtoMN_unsorted_withModules.csv\",index_col=0)\n",
    "nonMns = wTable.loc[(wTable[\"bodyId\"]==10093) | (wTable[\"bodyId\"]==10707) | (wTable[\"bodyId\"]==13905) | (wTable[\"bodyId\"]==11751)]\n",
    "#plot_R_traces(Rjax,nonMns,activeOnly=False)\n",
    "\n",
    "\n",
    "for i in nonMns.index:\n",
    "    plt.plot(Rjax[i])\n",
    "    #plt.plot(Rtsp[i])\n",
    "\n",
    "\n",
    "print(np.sum(Rjax - Rtsp)**2)\n",
    "\n",
    "\"\"\"\n",
    "mnIdxs = wTable.loc[wTable[\"class\"]==\"motor neuron\"].index\n",
    "\n",
    "maxFrsJax = np.max(Rjax,axis=1)\n",
    "activeMnIdxsJax = mnIdxs[np.where(maxFrsJax[mnIdxs]>0)]\n",
    "\n",
    "maxFrsTsp = np.max(Rjax,axis=1)\n",
    "activeMnIdxsTsp = mnIdxs[np.where(maxFrsTsp[mnIdxs]>0)]\n",
    "\n",
    "start=0\n",
    "end=len(Rjax[0])\n",
    "\n",
    "oscillationScoreJax = sim_oscillation_score(Rjax,activeMnIdxsJax,start,end)\n",
    "oscillationScoreTsp = sim_oscillation_score(Rjax,activeMnIdxsTsp,start,end)\n",
    "print(oscillationScoreJax, oscillationScoreTsp)\n",
    "\"\"\"\n",
    "print(len(wTable))\n"
   ]
  },
  {
   "cell_type": "code",
   "execution_count": 10,
   "metadata": {},
   "outputs": [
    {
     "name": "stdout",
     "output_type": "stream",
     "text": [
      "False\n"
     ]
    }
   ],
   "source": [
    "maxFrs = np.max(Rtsp,axis=1)\n",
    "wTable = pd.read_csv(\"../data/MANC weights/20231020_DNtoMN/wTable_20231020_DNtoMN_unsorted_withModules.csv\",index_col=0)\n",
    "allNeurons = wTable.index.to_numpy()\n",
    "mnIdxs = wTable.loc[wTable[\"class\"]==\"motor neuron\"].index\n",
    "inIdxs = np.setdiff1d(allNeurons,mnIdxs.to_numpy())\n",
    "silentINs = np.intersect1d(np.where(maxFrs==0)[0],inIdxs)\n",
    "\n",
    "print(np.any(silentINs == 1509))"
   ]
  },
  {
   "cell_type": "code",
   "execution_count": 11,
   "metadata": {},
   "outputs": [
    {
     "name": "stdout",
     "output_type": "stream",
     "text": [
      "1509\n"
     ]
    },
    {
     "name": "stderr",
     "output_type": "stream",
     "text": [
      "/tmp/ipykernel_2710195/400103285.py:3: RuntimeWarning: divide by zero encountered in divide\n",
      "  tmp = 1/maxFrs\n"
     ]
    }
   ],
   "source": [
    "def removal_probability(maxFrs,neuronsToExclude=[]):\n",
    "    \"\"\"assign a probability of removal to each neuron based on their max FR\"\"\"\n",
    "    tmp = 1/maxFrs\n",
    "    tmp[~np.isfinite(tmp)] = 0\n",
    "    tmp[neuronsToExclude] = 0\n",
    "    p = tmp/sum(tmp)\n",
    "\n",
    "    return p\n",
    "\n",
    "neuronsPutBack = []\n",
    "\n",
    "p = removal_probability(maxFrs[inIdxs],neuronsToExclude=np.in1d(inIdxs,np.union1d(neuronsPutBack,[])))\n",
    "print(inIdxs[np.argmax(p)])"
   ]
  },
  {
   "cell_type": "code",
   "execution_count": 3,
   "metadata": {},
   "outputs": [
    {
     "name": "stdout",
     "output_type": "stream",
     "text": [
      "loaded\n",
      "(250, 4561, 1000)\n"
     ]
    }
   ],
   "source": [
    "Rs0 = np.load(\"../results/jax/20250209_mancBDN2activation_0/20250209_mancBDN2activation_0/Rs.npy\")\n",
    "Rs1 = np.load(\"../results/jax/20250209_mancBDN2activation_1/20250209_mancBDN2activation_1/Rs.npy\")\n",
    "Rs2 = np.load(\"../results/jax/20250209_mancBDN2activation_2/20250209_mancBDN2activation_2/Rs.npy\")\n",
    "Rs3 = np.load(\"../results/jax/20250209_mancBDN2activation_3/20250209_mancBDN2activation_3/Rs.npy\")\n",
    "print('loaded')\n",
    "\n",
    "Rs = np.concatenate((Rs0, Rs1, Rs2, Rs3))\n",
    "\n",
    "print(Rs0.shape)"
   ]
  },
  {
   "cell_type": "code",
   "execution_count": 4,
   "metadata": {},
   "outputs": [
    {
     "name": "stdout",
     "output_type": "stream",
     "text": [
      "4561\n",
      "250\n",
      "stim neurons: [ 31 132]\n"
     ]
    },
    {
     "name": "stderr",
     "output_type": "stream",
     "text": [
      "/home/jkl/vnc-closedloop/src/vncNetParallel.py:67: SettingWithCopyWarning: \n",
      "A value is trying to be set on a copy of a slice from a DataFrame\n",
      "\n",
      "See the caveats in the documentation: https://pandas.pydata.org/pandas-docs/stable/user_guide/indexing.html#returning-a-view-versus-a-copy\n",
      "  sizes[sizes.isna()] = normSize\n",
      "/home/jkl/vnc-closedloop/src/vncNetParallel.py:68: SettingWithCopyWarning: \n",
      "A value is trying to be set on a copy of a slice from a DataFrame\n",
      "\n",
      "See the caveats in the documentation: https://pandas.pydata.org/pandas-docs/stable/user_guide/indexing.html#returning-a-view-versus-a-copy\n",
      "  sizes[sizes == 0] = normSize #TODO this isn't great\n"
     ]
    },
    {
     "name": "stdout",
     "output_type": "stream",
     "text": [
      "4561\n",
      "250\n",
      "stim neurons: [ 31 132]\n"
     ]
    },
    {
     "name": "stderr",
     "output_type": "stream",
     "text": [
      "/home/jkl/vnc-closedloop/src/vncNetParallel.py:67: SettingWithCopyWarning: \n",
      "A value is trying to be set on a copy of a slice from a DataFrame\n",
      "\n",
      "See the caveats in the documentation: https://pandas.pydata.org/pandas-docs/stable/user_guide/indexing.html#returning-a-view-versus-a-copy\n",
      "  sizes[sizes.isna()] = normSize\n",
      "/home/jkl/vnc-closedloop/src/vncNetParallel.py:68: SettingWithCopyWarning: \n",
      "A value is trying to be set on a copy of a slice from a DataFrame\n",
      "\n",
      "See the caveats in the documentation: https://pandas.pydata.org/pandas-docs/stable/user_guide/indexing.html#returning-a-view-versus-a-copy\n",
      "  sizes[sizes == 0] = normSize #TODO this isn't great\n"
     ]
    },
    {
     "name": "stdout",
     "output_type": "stream",
     "text": [
      "4561\n",
      "250\n",
      "stim neurons: [ 31 132]\n"
     ]
    },
    {
     "name": "stderr",
     "output_type": "stream",
     "text": [
      "/home/jkl/vnc-closedloop/src/vncNetParallel.py:67: SettingWithCopyWarning: \n",
      "A value is trying to be set on a copy of a slice from a DataFrame\n",
      "\n",
      "See the caveats in the documentation: https://pandas.pydata.org/pandas-docs/stable/user_guide/indexing.html#returning-a-view-versus-a-copy\n",
      "  sizes[sizes.isna()] = normSize\n",
      "/home/jkl/vnc-closedloop/src/vncNetParallel.py:68: SettingWithCopyWarning: \n",
      "A value is trying to be set on a copy of a slice from a DataFrame\n",
      "\n",
      "See the caveats in the documentation: https://pandas.pydata.org/pandas-docs/stable/user_guide/indexing.html#returning-a-view-versus-a-copy\n",
      "  sizes[sizes == 0] = normSize #TODO this isn't great\n"
     ]
    },
    {
     "name": "stdout",
     "output_type": "stream",
     "text": [
      "4561\n",
      "250\n",
      "stim neurons: [ 31 132]\n"
     ]
    },
    {
     "name": "stderr",
     "output_type": "stream",
     "text": [
      "/home/jkl/vnc-closedloop/src/vncNetParallel.py:67: SettingWithCopyWarning: \n",
      "A value is trying to be set on a copy of a slice from a DataFrame\n",
      "\n",
      "See the caveats in the documentation: https://pandas.pydata.org/pandas-docs/stable/user_guide/indexing.html#returning-a-view-versus-a-copy\n",
      "  sizes[sizes.isna()] = normSize\n",
      "/home/jkl/vnc-closedloop/src/vncNetParallel.py:68: SettingWithCopyWarning: \n",
      "A value is trying to be set on a copy of a slice from a DataFrame\n",
      "\n",
      "See the caveats in the documentation: https://pandas.pydata.org/pandas-docs/stable/user_guide/indexing.html#returning-a-view-versus-a-copy\n",
      "  sizes[sizes == 0] = normSize #TODO this isn't great\n"
     ]
    }
   ],
   "source": [
    "def load_params(paramPath):\n",
    "    with open(paramPath, 'r') as file:\n",
    "        defaultParams = yaml.safe_load(file)\n",
    "    return defaultParams\n",
    "\n",
    "def get_sampled_params(i):\n",
    "    paramPath = f'../results/jax/20250209_mancBDN2activation_{i}/20250209_mancBDN2activation_{i}/params.yaml'\n",
    "    params = load_params(paramPath)\n",
    "\n",
    "    wTable = pd.read_csv(params[\"dfPath\"],index_col=0)\n",
    "    nNeurons = len(wTable)  \n",
    "    print(nNeurons)\n",
    "    nSims = len(params[\"seed\"])\n",
    "    print(nSims)\n",
    "    stimNeurons = np.array(params[\"stimNeurons\"])\n",
    "\n",
    "    params_arr = vncNetParallel.generate_params_from_config(wTable, params, nSims, nNeurons, stimNeurons)\n",
    "    tAxis, T, dt, input, tau, threshold, a, frCap, excSynapseMultiplier, inhSynapseMultiplier = params_arr\n",
    "    return tau, threshold, a, frCap\n",
    "\n",
    "\n",
    "\n",
    "\n",
    "tau0, threshold0, a0, frCap0 = get_sampled_params(0)\n",
    "tau1, threshold1, a1, frCap1 = get_sampled_params(1)\n",
    "tau2, threshold2, a2, frCap2 = get_sampled_params(2)\n",
    "tau3, threshold3, a3, frCap3 = get_sampled_params(3)\n",
    "\n",
    "tau = np.concatenate((tau0, tau1, tau2, tau3))\n",
    "threshold = np.concatenate((threshold0, threshold1, threshold2, threshold3))\n",
    "a = np.concatenate((a0, a1, a2, a3))\n",
    "frCap = np.concatenate((frCap0, frCap1, frCap2, frCap3))\n",
    "\n",
    "\n",
    "\n"
   ]
  },
  {
   "cell_type": "code",
   "execution_count": 5,
   "metadata": {},
   "outputs": [
    {
     "name": "stdout",
     "output_type": "stream",
     "text": [
      "1000\n"
     ]
    },
    {
     "name": "stderr",
     "output_type": "stream",
     "text": [
      "/home/jkl/vnc-closedloop/src/sim_utils_Jax.py:34: RuntimeWarning: invalid value encountered in divide\n",
      "  activity = activity/np.max(activity)\n"
     ]
    }
   ],
   "source": [
    "wTable = pd.read_csv(\"../data/MANC weights/20231020_DNtoMN/wTable_20231020_DNtoMN_unsorted_withModules.csv\",index_col=0)\n",
    "mnIdxs = wTable.loc[wTable[\"class\"]==\"motor neuron\"].index\n",
    "\n",
    "print(len(Rs))\n",
    "oscillationScores = np.zeros(len(Rs))\n",
    "for i in range(len(Rs)):\n",
    "    R = Rs[i]\n",
    "    oscillationScores[i] = sim_oscillation_score(R,mnIdxs,0,1000)\n",
    "\n",
    "\n"
   ]
  },
  {
   "cell_type": "code",
   "execution_count": 1,
   "metadata": {},
   "outputs": [
    {
     "ename": "NameError",
     "evalue": "name 'wTable' is not defined",
     "output_type": "error",
     "traceback": [
      "\u001b[0;31m---------------------------------------------------------------------------\u001b[0m",
      "\u001b[0;31mNameError\u001b[0m                                 Traceback (most recent call last)",
      "Cell \u001b[0;32mIn[1], line 1\u001b[0m\n\u001b[0;32m----> 1\u001b[0m nonMns \u001b[38;5;241m=\u001b[39m wTable\u001b[38;5;241m.\u001b[39mloc[(wTable[\u001b[38;5;124m\"\u001b[39m\u001b[38;5;124mbodyId\u001b[39m\u001b[38;5;124m\"\u001b[39m]\u001b[38;5;241m==\u001b[39m\u001b[38;5;241m10093\u001b[39m) \u001b[38;5;241m|\u001b[39m (wTable[\u001b[38;5;124m\"\u001b[39m\u001b[38;5;124mbodyId\u001b[39m\u001b[38;5;124m\"\u001b[39m]\u001b[38;5;241m==\u001b[39m\u001b[38;5;241m10707\u001b[39m) \u001b[38;5;241m|\u001b[39m (wTable[\u001b[38;5;124m\"\u001b[39m\u001b[38;5;124mbodyId\u001b[39m\u001b[38;5;124m\"\u001b[39m]\u001b[38;5;241m==\u001b[39m\u001b[38;5;241m13905\u001b[39m) \u001b[38;5;241m|\u001b[39m (wTable[\u001b[38;5;124m\"\u001b[39m\u001b[38;5;124mbodyId\u001b[39m\u001b[38;5;124m\"\u001b[39m]\u001b[38;5;241m==\u001b[39m\u001b[38;5;241m11751\u001b[39m)]\u001b[38;5;241m.\u001b[39mto_numpy()[:, \u001b[38;5;241m0\u001b[39m]\n\u001b[1;32m      2\u001b[0m \u001b[38;5;28mprint\u001b[39m(nonMns[\u001b[38;5;241m0\u001b[39m])\n\u001b[1;32m      4\u001b[0m n \u001b[38;5;241m=\u001b[39m \u001b[38;5;241m31\u001b[39m\n",
      "\u001b[0;31mNameError\u001b[0m: name 'wTable' is not defined"
     ]
    }
   ],
   "source": [
    "nonMns = wTable.loc[(wTable[\"bodyId\"]==10093) | (wTable[\"bodyId\"]==10707) | (wTable[\"bodyId\"]==13905) | (wTable[\"bodyId\"]==11751)].to_numpy()[:, 0]\n",
    "print(nonMns[0])\n",
    "\n",
    "n = 31\n",
    "plt.plot(a[:,n], oscillationScores, 'o')\n",
    "plt.xlabel(f'gain Neuron {n}')\n",
    "plt.ylabel(f'Motor Neuron Oscillation Score')\n",
    "plt.title('BDN2 Gain Parameter vs Motor Neuron Oscillation Score')"
   ]
  },
  {
   "cell_type": "markdown",
   "metadata": {},
   "source": [
    "### Global Parameter Sweep"
   ]
  },
  {
   "cell_type": "code",
   "execution_count": null,
   "metadata": {},
   "outputs": [
    {
     "name": "stdout",
     "output_type": "stream",
     "text": [
      "/data/users/jkl/vnc-closedloop/configs/20250227_mancBDN2activation_inhibitoryMultiplier_sweep/20250227_mancBDN2activation_inhibitoryMultiplier_sweep_00.yaml\n",
      "/data/users/jkl/vnc-closedloop/configs/20250227_mancBDN2activation_inhibitoryMultiplier_sweep/20250227_mancBDN2activation_inhibitoryMultiplier_sweep_01.yaml\n",
      "/data/users/jkl/vnc-closedloop/configs/20250227_mancBDN2activation_inhibitoryMultiplier_sweep/20250227_mancBDN2activation_inhibitoryMultiplier_sweep_02.yaml\n",
      "/data/users/jkl/vnc-closedloop/configs/20250227_mancBDN2activation_inhibitoryMultiplier_sweep/20250227_mancBDN2activation_inhibitoryMultiplier_sweep_03.yaml\n",
      "/data/users/jkl/vnc-closedloop/configs/20250227_mancBDN2activation_inhibitoryMultiplier_sweep/20250227_mancBDN2activation_inhibitoryMultiplier_sweep_04.yaml\n",
      "/data/users/jkl/vnc-closedloop/configs/20250227_mancBDN2activation_inhibitoryMultiplier_sweep/20250227_mancBDN2activation_inhibitoryMultiplier_sweep_05.yaml\n",
      "/data/users/jkl/vnc-closedloop/configs/20250227_mancBDN2activation_inhibitoryMultiplier_sweep/20250227_mancBDN2activation_inhibitoryMultiplier_sweep_06.yaml\n",
      "/data/users/jkl/vnc-closedloop/configs/20250227_mancBDN2activation_inhibitoryMultiplier_sweep/20250227_mancBDN2activation_inhibitoryMultiplier_sweep_07.yaml\n",
      "/data/users/jkl/vnc-closedloop/configs/20250227_mancBDN2activation_inhibitoryMultiplier_sweep/20250227_mancBDN2activation_inhibitoryMultiplier_sweep_08.yaml\n",
      "/data/users/jkl/vnc-closedloop/configs/20250227_mancBDN2activation_inhibitoryMultiplier_sweep/20250227_mancBDN2activation_inhibitoryMultiplier_sweep_09.yaml\n",
      "/data/users/jkl/vnc-closedloop/configs/20250227_mancBDN2activation_inhibitoryMultiplier_sweep/20250227_mancBDN2activation_inhibitoryMultiplier_sweep_10.yaml\n",
      "/data/users/jkl/vnc-closedloop/configs/20250227_mancBDN2activation_inhibitoryMultiplier_sweep/20250227_mancBDN2activation_inhibitoryMultiplier_sweep_11.yaml\n",
      "/data/users/jkl/vnc-closedloop/configs/20250227_mancBDN2activation_inhibitoryMultiplier_sweep/20250227_mancBDN2activation_inhibitoryMultiplier_sweep_12.yaml\n",
      "/data/users/jkl/vnc-closedloop/configs/20250227_mancBDN2activation_inhibitoryMultiplier_sweep/20250227_mancBDN2activation_inhibitoryMultiplier_sweep_13.yaml\n",
      "/data/users/jkl/vnc-closedloop/configs/20250227_mancBDN2activation_inhibitoryMultiplier_sweep/20250227_mancBDN2activation_inhibitoryMultiplier_sweep_14.yaml\n",
      "/data/users/jkl/vnc-closedloop/configs/20250227_mancBDN2activation_inhibitoryMultiplier_sweep/20250227_mancBDN2activation_inhibitoryMultiplier_sweep_15.yaml\n",
      "/data/users/jkl/vnc-closedloop/configs/20250227_mancBDN2activation_inhibitoryMultiplier_sweep/20250227_mancBDN2activation_inhibitoryMultiplier_sweep_16.yaml\n",
      "/data/users/jkl/vnc-closedloop/configs/20250227_mancBDN2activation_inhibitoryMultiplier_sweep/20250227_mancBDN2activation_inhibitoryMultiplier_sweep_17.yaml\n",
      "/data/users/jkl/vnc-closedloop/configs/20250227_mancBDN2activation_inhibitoryMultiplier_sweep/20250227_mancBDN2activation_inhibitoryMultiplier_sweep_18.yaml\n",
      "/data/users/jkl/vnc-closedloop/configs/20250227_mancBDN2activation_inhibitoryMultiplier_sweep/20250227_mancBDN2activation_inhibitoryMultiplier_sweep_19.yaml\n"
     ]
    }
   ],
   "source": [
    "paramToIter = \"a\"\n",
    "simStr = f'mancBDN2activation_{paramToIter}_sweep'\n",
    "\n",
    "nSims = 100\n",
    "seeds = np.random.randint(100000,size=nSims).tolist()\n",
    "for i in range(20):\n",
    "    params = getParams(simStr, i, nSims) #Get params, add seed, batch num, etc.\n",
    "\n",
    "    params[\"thresholdMean\"] = 7.5\n",
    "    params[\"seed\"] = seeds\n",
    "\n",
    "    #Reset parameter to sweep\n",
    "    step = params[f'{paramToIter}']/10\n",
    "    params[f'{paramToIter}'] = step + i*step\n",
    "    params[f'{paramToIter}Stdv'] = params[f'{paramToIter}Stdv']/10\n",
    "    save_params(params)"
   ]
  },
  {
   "cell_type": "markdown",
   "metadata": {},
   "source": [
    "### Parameter Standard Deviation Sweep"
   ]
  },
  {
   "cell_type": "code",
   "execution_count": 3,
   "metadata": {},
   "outputs": [
    {
     "name": "stdout",
     "output_type": "stream",
     "text": [
      "/data/users/jkl/vnc-closedloop/configs/20250407_mancBDN2activation_frcap_stdv_sweep/20250407_mancBDN2activation_frcap_stdv_sweep_00.yaml\n",
      "/data/users/jkl/vnc-closedloop/configs/20250407_mancBDN2activation_frcap_stdv_sweep/20250407_mancBDN2activation_frcap_stdv_sweep_01.yaml\n",
      "/data/users/jkl/vnc-closedloop/configs/20250407_mancBDN2activation_frcap_stdv_sweep/20250407_mancBDN2activation_frcap_stdv_sweep_02.yaml\n",
      "/data/users/jkl/vnc-closedloop/configs/20250407_mancBDN2activation_frcap_stdv_sweep/20250407_mancBDN2activation_frcap_stdv_sweep_03.yaml\n",
      "/data/users/jkl/vnc-closedloop/configs/20250407_mancBDN2activation_frcap_stdv_sweep/20250407_mancBDN2activation_frcap_stdv_sweep_04.yaml\n",
      "/data/users/jkl/vnc-closedloop/configs/20250407_mancBDN2activation_frcap_stdv_sweep/20250407_mancBDN2activation_frcap_stdv_sweep_05.yaml\n",
      "/data/users/jkl/vnc-closedloop/configs/20250407_mancBDN2activation_frcap_stdv_sweep/20250407_mancBDN2activation_frcap_stdv_sweep_06.yaml\n",
      "/data/users/jkl/vnc-closedloop/configs/20250407_mancBDN2activation_frcap_stdv_sweep/20250407_mancBDN2activation_frcap_stdv_sweep_07.yaml\n",
      "/data/users/jkl/vnc-closedloop/configs/20250407_mancBDN2activation_frcap_stdv_sweep/20250407_mancBDN2activation_frcap_stdv_sweep_08.yaml\n",
      "/data/users/jkl/vnc-closedloop/configs/20250407_mancBDN2activation_frcap_stdv_sweep/20250407_mancBDN2activation_frcap_stdv_sweep_09.yaml\n",
      "/data/users/jkl/vnc-closedloop/configs/20250407_mancBDN2activation_frcap_stdv_sweep/20250407_mancBDN2activation_frcap_stdv_sweep_10.yaml\n",
      "/data/users/jkl/vnc-closedloop/configs/20250407_mancBDN2activation_frcap_stdv_sweep/20250407_mancBDN2activation_frcap_stdv_sweep_11.yaml\n",
      "/data/users/jkl/vnc-closedloop/configs/20250407_mancBDN2activation_frcap_stdv_sweep/20250407_mancBDN2activation_frcap_stdv_sweep_12.yaml\n",
      "/data/users/jkl/vnc-closedloop/configs/20250407_mancBDN2activation_frcap_stdv_sweep/20250407_mancBDN2activation_frcap_stdv_sweep_13.yaml\n",
      "/data/users/jkl/vnc-closedloop/configs/20250407_mancBDN2activation_frcap_stdv_sweep/20250407_mancBDN2activation_frcap_stdv_sweep_14.yaml\n",
      "/data/users/jkl/vnc-closedloop/configs/20250407_mancBDN2activation_frcap_stdv_sweep/20250407_mancBDN2activation_frcap_stdv_sweep_15.yaml\n",
      "/data/users/jkl/vnc-closedloop/configs/20250407_mancBDN2activation_frcap_stdv_sweep/20250407_mancBDN2activation_frcap_stdv_sweep_16.yaml\n",
      "/data/users/jkl/vnc-closedloop/configs/20250407_mancBDN2activation_frcap_stdv_sweep/20250407_mancBDN2activation_frcap_stdv_sweep_17.yaml\n",
      "/data/users/jkl/vnc-closedloop/configs/20250407_mancBDN2activation_frcap_stdv_sweep/20250407_mancBDN2activation_frcap_stdv_sweep_18.yaml\n",
      "/data/users/jkl/vnc-closedloop/configs/20250407_mancBDN2activation_frcap_stdv_sweep/20250407_mancBDN2activation_frcap_stdv_sweep_19.yaml\n"
     ]
    }
   ],
   "source": [
    "paramToIter = \"frcap\"\n",
    "simStr = f'mancBDN2activation_{paramToIter}_stdv_sweep'\n",
    "\n",
    "nSims = 100\n",
    "seeds = np.random.randint(100000,size=nSims).tolist()\n",
    "for i in range(20):\n",
    "    params = getParams(simStr, i, nSims) #Get params, add seed, batch num, etc.\n",
    "\n",
    "    params[\"thresholdMean\"] = 7.5 #Updated threshold based on mean sweeps\n",
    "    params[\"seed\"] = seeds\n",
    "\n",
    "    #Reset parameter to sweep\n",
    "    step = params[f'{paramToIter}Stdv']/10\n",
    "    params[f'{paramToIter}Stdv'] = step + i*step\n",
    "    save_params(params)"
   ]
  },
  {
   "cell_type": "markdown",
   "metadata": {},
   "source": [
    "### DNb08 StimI Sweep"
   ]
  },
  {
   "cell_type": "code",
   "execution_count": 6,
   "metadata": {},
   "outputs": [
    {
     "name": "stdout",
     "output_type": "stream",
     "text": [
      "65\n",
      "/data/users/jkl/vnc-closedloop/configs/20250414_mancDNb08_1400_activation/20250414_mancDNb08_1400_activation_00.yaml\n",
      "65\n",
      "/data/users/jkl/vnc-closedloop/configs/20250414_mancDNb08_1400_activation/20250414_mancDNb08_1400_activation_01.yaml\n",
      "65\n",
      "/data/users/jkl/vnc-closedloop/configs/20250414_mancDNb08_1400_activation/20250414_mancDNb08_1400_activation_02.yaml\n",
      "65\n",
      "/data/users/jkl/vnc-closedloop/configs/20250414_mancDNb08_1400_activation/20250414_mancDNb08_1400_activation_03.yaml\n",
      "65\n",
      "/data/users/jkl/vnc-closedloop/configs/20250414_mancDNb08_1400_activation/20250414_mancDNb08_1400_activation_04.yaml\n",
      "65\n",
      "/data/users/jkl/vnc-closedloop/configs/20250414_mancDNb08_1400_activation/20250414_mancDNb08_1400_activation_05.yaml\n",
      "65\n",
      "/data/users/jkl/vnc-closedloop/configs/20250414_mancDNb08_1400_activation/20250414_mancDNb08_1400_activation_06.yaml\n",
      "65\n",
      "/data/users/jkl/vnc-closedloop/configs/20250414_mancDNb08_1400_activation/20250414_mancDNb08_1400_activation_07.yaml\n",
      "65\n",
      "/data/users/jkl/vnc-closedloop/configs/20250414_mancDNb08_1400_activation/20250414_mancDNb08_1400_activation_08.yaml\n",
      "65\n",
      "/data/users/jkl/vnc-closedloop/configs/20250414_mancDNb08_1400_activation/20250414_mancDNb08_1400_activation_09.yaml\n"
     ]
    }
   ],
   "source": [
    "simStr = 'mancDNb08_1400_activation'\n",
    "\n",
    "nSims = 100\n",
    "seeds = np.random.randint(100000,size=nSims).tolist()\n",
    "\n",
    "for i in range(10):\n",
    "    #stimI = 30 + 5*i\n",
    "    stimI=65\n",
    "    print(stimI)\n",
    "\n",
    "    params = getParams(simStr, i, nSims) #Get params, add seed, batch num, etc.\n",
    "    params[\"seed\"] = np.random.randint(100000,size=nSims).tolist()\n",
    "    params[\"stimI\"] = stimI\n",
    "    params[\"thresholdMean\"] = 7.5\n",
    "    params[\"stimNeurons\"] = [1400]\n",
    "\n",
    "    save_params(params)"
   ]
  },
  {
   "cell_type": "markdown",
   "metadata": {},
   "source": [
    "### Make FANC BDN2 Config"
   ]
  },
  {
   "cell_type": "code",
   "execution_count": 3,
   "metadata": {},
   "outputs": [
    {
     "name": "stdout",
     "output_type": "stream",
     "text": [
      "803\n",
      "[0]\n",
      "[451, 582, 598, 626, 713, 722, 793, 848, 860, 868, 887, 917, 978, 991, 1020, 1024, 1043, 1044, 1064, 1073, 1104, 1147, 1169, 1182, 1211, 1270, 1302, 1307, 1354, 1357, 1367, 1396, 1412, 1436, 1473, 1474, 1482, 1498, 1501, 1557, 1573, 1580, 1685, 1696, 1723, 1729, 1743, 1773, 1787, 1805, 1828, 1838, 1927, 1973, 2058, 2065, 2071, 2083, 2086, 2107, 2150, 2153, 2165, 2176, 2256, 2260, 2279, 2303, 2309, 2379, 2380, 2403, 2408, 2409, 2410, 2419, 2528, 2581, 2595, 2602, 2605, 2636, 2656, 2667, 2682, 2742, 2790, 2819, 2821, 2877, 3029, 3088, 3108, 3120, 3138, 3224, 3233, 3283, 3288, 3462, 3501, 3502, 3506, 3509, 3911, 4156, 4173, 4338, 4339, 4352, 4358, 4371, 4380, 4400, 4439, 4440, 4465, 4468, 4513]\n"
     ]
    }
   ],
   "source": [
    "wTable = pd.read_csv(\"../data/FANC weights/wTable_BDN2toMN_20250107_fullData.csv\",index_col=0)\n",
    "print(len(wTable))\n",
    "BDN2_idxs = wTable.loc[wTable[\"w_type\"]==\"BDN2\"].index.tolist()\n",
    "print(BDN2_idxs)\n",
    "\n",
    "wTable = pd.read_csv(\"../data/MANC weights/20231020_DNtoMN/wTable_20231020_DNtoMN_unsorted_withModules.csv\",index_col=0)\n",
    "BDN2_idxs = mnIdxs = wTable.loc[wTable[\"class\"]==\"motor neuron\"].index.tolist()\n",
    "print(BDN2_idxs)"
   ]
  },
  {
   "cell_type": "code",
   "execution_count": null,
   "metadata": {},
   "outputs": [
    {
     "name": "stdout",
     "output_type": "stream",
     "text": [
      "/data/users/jkl/vnc-closedloop/configs/20250122_mancBDN2activation.yaml\n",
      "/data/users/jkl/vnc-closedloop/configs/20250227_fancBDN2activation.yaml\n"
     ]
    }
   ],
   "source": [
    "paramPath = \"/data/users/jkl/vnc-closedloop/configs/20250122_mancBDN2activation.yaml\"\n",
    "print(paramPath)\n",
    "\n",
    "params = load_from_yaml(paramPath)\n",
    "\n",
    "params[\"wPath\"] = '../data/FANC weights/W_BDN2toMN_20250107.npy'\n",
    "params[\"dfPath\"] = '../data/FANC weights/wTable_BDN2toMN_20250107_fullData.csv'\n",
    "\n",
    "wTable = pd.read_csv(params[\"dfPath\"],index_col=0)\n",
    "params[\"stimNeurons\"] = wTable.loc[wTable[\"w_type\"]==\"BDN2\"].index.tolist()\n",
    "params[\"thresholdMean\"] = 7.5\n",
    "params[\"stimI\"] = 600\n",
    "\n",
    "dir = '/data/users/jkl/vnc-closedloop/configs'\n",
    "\n",
    "if not os.path.exists(dir):\n",
    "    os.makedirs(dir)\n",
    "\n",
    "simName = '20250227_fancBDN2activation'\n",
    "fullConfigPath = dir + f\"/{simName}.yaml\"\n",
    "print(fullConfigPath)\n",
    "    \n",
    "with open(fullConfigPath,\"w\") as outfile:\n",
    "    yaml.dump(params,outfile,sort_keys=False)\n",
    "\n"
   ]
  },
  {
   "cell_type": "markdown",
   "metadata": {},
   "source": [
    "### Break Config into batches"
   ]
  },
  {
   "cell_type": "code",
   "execution_count": 2,
   "metadata": {},
   "outputs": [
    {
     "name": "stdout",
     "output_type": "stream",
     "text": [
      "/data/users/jkl/vnc-closedloop/configs/20250404_mancDnActivationScreen-adjustStim-startBySize_02/20250404_mancDnActivationScreen-adjustStim-startBySize_02_00.yaml\n",
      "/data/users/jkl/vnc-closedloop/configs/20250404_mancDnActivationScreen-adjustStim-startBySize_02/20250404_mancDnActivationScreen-adjustStim-startBySize_02_01.yaml\n",
      "/data/users/jkl/vnc-closedloop/configs/20250404_mancDnActivationScreen-adjustStim-startBySize_02/20250404_mancDnActivationScreen-adjustStim-startBySize_02_02.yaml\n",
      "/data/users/jkl/vnc-closedloop/configs/20250404_mancDnActivationScreen-adjustStim-startBySize_02/20250404_mancDnActivationScreen-adjustStim-startBySize_02_03.yaml\n",
      "/data/users/jkl/vnc-closedloop/configs/20250404_mancDnActivationScreen-adjustStim-startBySize_02/20250404_mancDnActivationScreen-adjustStim-startBySize_02_04.yaml\n",
      "/data/users/jkl/vnc-closedloop/configs/20250404_mancDnActivationScreen-adjustStim-startBySize_02/20250404_mancDnActivationScreen-adjustStim-startBySize_02_05.yaml\n",
      "/data/users/jkl/vnc-closedloop/configs/20250404_mancDnActivationScreen-adjustStim-startBySize_02/20250404_mancDnActivationScreen-adjustStim-startBySize_02_06.yaml\n",
      "/data/users/jkl/vnc-closedloop/configs/20250404_mancDnActivationScreen-adjustStim-startBySize_02/20250404_mancDnActivationScreen-adjustStim-startBySize_02_07.yaml\n",
      "/data/users/jkl/vnc-closedloop/configs/20250404_mancDnActivationScreen-adjustStim-startBySize_02/20250404_mancDnActivationScreen-adjustStim-startBySize_02_08.yaml\n",
      "/data/users/jkl/vnc-closedloop/configs/20250404_mancDnActivationScreen-adjustStim-startBySize_02/20250404_mancDnActivationScreen-adjustStim-startBySize_02_09.yaml\n",
      "\n",
      "/data/users/jkl/vnc-closedloop/configs/20250404_mancDnActivationScreen-adjustStim-startBySize_03/20250404_mancDnActivationScreen-adjustStim-startBySize_03_00.yaml\n",
      "/data/users/jkl/vnc-closedloop/configs/20250404_mancDnActivationScreen-adjustStim-startBySize_03/20250404_mancDnActivationScreen-adjustStim-startBySize_03_01.yaml\n",
      "/data/users/jkl/vnc-closedloop/configs/20250404_mancDnActivationScreen-adjustStim-startBySize_03/20250404_mancDnActivationScreen-adjustStim-startBySize_03_02.yaml\n",
      "/data/users/jkl/vnc-closedloop/configs/20250404_mancDnActivationScreen-adjustStim-startBySize_03/20250404_mancDnActivationScreen-adjustStim-startBySize_03_03.yaml\n",
      "/data/users/jkl/vnc-closedloop/configs/20250404_mancDnActivationScreen-adjustStim-startBySize_03/20250404_mancDnActivationScreen-adjustStim-startBySize_03_04.yaml\n",
      "/data/users/jkl/vnc-closedloop/configs/20250404_mancDnActivationScreen-adjustStim-startBySize_03/20250404_mancDnActivationScreen-adjustStim-startBySize_03_05.yaml\n",
      "/data/users/jkl/vnc-closedloop/configs/20250404_mancDnActivationScreen-adjustStim-startBySize_03/20250404_mancDnActivationScreen-adjustStim-startBySize_03_06.yaml\n",
      "/data/users/jkl/vnc-closedloop/configs/20250404_mancDnActivationScreen-adjustStim-startBySize_03/20250404_mancDnActivationScreen-adjustStim-startBySize_03_07.yaml\n",
      "/data/users/jkl/vnc-closedloop/configs/20250404_mancDnActivationScreen-adjustStim-startBySize_03/20250404_mancDnActivationScreen-adjustStim-startBySize_03_08.yaml\n",
      "/data/users/jkl/vnc-closedloop/configs/20250404_mancDnActivationScreen-adjustStim-startBySize_03/20250404_mancDnActivationScreen-adjustStim-startBySize_03_09.yaml\n",
      "\n",
      "/data/users/jkl/vnc-closedloop/configs/20250404_mancDnActivationScreen-adjustStim-startBySize_04/20250404_mancDnActivationScreen-adjustStim-startBySize_04_00.yaml\n",
      "/data/users/jkl/vnc-closedloop/configs/20250404_mancDnActivationScreen-adjustStim-startBySize_04/20250404_mancDnActivationScreen-adjustStim-startBySize_04_01.yaml\n",
      "/data/users/jkl/vnc-closedloop/configs/20250404_mancDnActivationScreen-adjustStim-startBySize_04/20250404_mancDnActivationScreen-adjustStim-startBySize_04_02.yaml\n",
      "/data/users/jkl/vnc-closedloop/configs/20250404_mancDnActivationScreen-adjustStim-startBySize_04/20250404_mancDnActivationScreen-adjustStim-startBySize_04_03.yaml\n",
      "/data/users/jkl/vnc-closedloop/configs/20250404_mancDnActivationScreen-adjustStim-startBySize_04/20250404_mancDnActivationScreen-adjustStim-startBySize_04_04.yaml\n",
      "/data/users/jkl/vnc-closedloop/configs/20250404_mancDnActivationScreen-adjustStim-startBySize_04/20250404_mancDnActivationScreen-adjustStim-startBySize_04_05.yaml\n",
      "/data/users/jkl/vnc-closedloop/configs/20250404_mancDnActivationScreen-adjustStim-startBySize_04/20250404_mancDnActivationScreen-adjustStim-startBySize_04_06.yaml\n",
      "/data/users/jkl/vnc-closedloop/configs/20250404_mancDnActivationScreen-adjustStim-startBySize_04/20250404_mancDnActivationScreen-adjustStim-startBySize_04_07.yaml\n",
      "/data/users/jkl/vnc-closedloop/configs/20250404_mancDnActivationScreen-adjustStim-startBySize_04/20250404_mancDnActivationScreen-adjustStim-startBySize_04_08.yaml\n",
      "/data/users/jkl/vnc-closedloop/configs/20250404_mancDnActivationScreen-adjustStim-startBySize_04/20250404_mancDnActivationScreen-adjustStim-startBySize_04_09.yaml\n",
      "\n",
      "/data/users/jkl/vnc-closedloop/configs/20250404_mancDnActivationScreen-adjustStim-startBySize_05/20250404_mancDnActivationScreen-adjustStim-startBySize_05_00.yaml\n",
      "/data/users/jkl/vnc-closedloop/configs/20250404_mancDnActivationScreen-adjustStim-startBySize_05/20250404_mancDnActivationScreen-adjustStim-startBySize_05_01.yaml\n",
      "/data/users/jkl/vnc-closedloop/configs/20250404_mancDnActivationScreen-adjustStim-startBySize_05/20250404_mancDnActivationScreen-adjustStim-startBySize_05_02.yaml\n",
      "/data/users/jkl/vnc-closedloop/configs/20250404_mancDnActivationScreen-adjustStim-startBySize_05/20250404_mancDnActivationScreen-adjustStim-startBySize_05_03.yaml\n",
      "/data/users/jkl/vnc-closedloop/configs/20250404_mancDnActivationScreen-adjustStim-startBySize_05/20250404_mancDnActivationScreen-adjustStim-startBySize_05_04.yaml\n",
      "/data/users/jkl/vnc-closedloop/configs/20250404_mancDnActivationScreen-adjustStim-startBySize_05/20250404_mancDnActivationScreen-adjustStim-startBySize_05_05.yaml\n",
      "/data/users/jkl/vnc-closedloop/configs/20250404_mancDnActivationScreen-adjustStim-startBySize_05/20250404_mancDnActivationScreen-adjustStim-startBySize_05_06.yaml\n",
      "/data/users/jkl/vnc-closedloop/configs/20250404_mancDnActivationScreen-adjustStim-startBySize_05/20250404_mancDnActivationScreen-adjustStim-startBySize_05_07.yaml\n",
      "/data/users/jkl/vnc-closedloop/configs/20250404_mancDnActivationScreen-adjustStim-startBySize_05/20250404_mancDnActivationScreen-adjustStim-startBySize_05_08.yaml\n",
      "/data/users/jkl/vnc-closedloop/configs/20250404_mancDnActivationScreen-adjustStim-startBySize_05/20250404_mancDnActivationScreen-adjustStim-startBySize_05_09.yaml\n",
      "\n",
      "/data/users/jkl/vnc-closedloop/configs/20250404_mancDnActivationScreen-adjustStim-startBySize_06/20250404_mancDnActivationScreen-adjustStim-startBySize_06_00.yaml\n",
      "/data/users/jkl/vnc-closedloop/configs/20250404_mancDnActivationScreen-adjustStim-startBySize_06/20250404_mancDnActivationScreen-adjustStim-startBySize_06_01.yaml\n",
      "/data/users/jkl/vnc-closedloop/configs/20250404_mancDnActivationScreen-adjustStim-startBySize_06/20250404_mancDnActivationScreen-adjustStim-startBySize_06_02.yaml\n",
      "/data/users/jkl/vnc-closedloop/configs/20250404_mancDnActivationScreen-adjustStim-startBySize_06/20250404_mancDnActivationScreen-adjustStim-startBySize_06_03.yaml\n",
      "/data/users/jkl/vnc-closedloop/configs/20250404_mancDnActivationScreen-adjustStim-startBySize_06/20250404_mancDnActivationScreen-adjustStim-startBySize_06_04.yaml\n",
      "/data/users/jkl/vnc-closedloop/configs/20250404_mancDnActivationScreen-adjustStim-startBySize_06/20250404_mancDnActivationScreen-adjustStim-startBySize_06_05.yaml\n",
      "/data/users/jkl/vnc-closedloop/configs/20250404_mancDnActivationScreen-adjustStim-startBySize_06/20250404_mancDnActivationScreen-adjustStim-startBySize_06_06.yaml\n",
      "/data/users/jkl/vnc-closedloop/configs/20250404_mancDnActivationScreen-adjustStim-startBySize_06/20250404_mancDnActivationScreen-adjustStim-startBySize_06_07.yaml\n",
      "/data/users/jkl/vnc-closedloop/configs/20250404_mancDnActivationScreen-adjustStim-startBySize_06/20250404_mancDnActivationScreen-adjustStim-startBySize_06_08.yaml\n",
      "/data/users/jkl/vnc-closedloop/configs/20250404_mancDnActivationScreen-adjustStim-startBySize_06/20250404_mancDnActivationScreen-adjustStim-startBySize_06_09.yaml\n",
      "\n",
      "/data/users/jkl/vnc-closedloop/configs/20250404_mancDnActivationScreen-adjustStim-startBySize_07/20250404_mancDnActivationScreen-adjustStim-startBySize_07_00.yaml\n",
      "/data/users/jkl/vnc-closedloop/configs/20250404_mancDnActivationScreen-adjustStim-startBySize_07/20250404_mancDnActivationScreen-adjustStim-startBySize_07_01.yaml\n",
      "/data/users/jkl/vnc-closedloop/configs/20250404_mancDnActivationScreen-adjustStim-startBySize_07/20250404_mancDnActivationScreen-adjustStim-startBySize_07_02.yaml\n",
      "/data/users/jkl/vnc-closedloop/configs/20250404_mancDnActivationScreen-adjustStim-startBySize_07/20250404_mancDnActivationScreen-adjustStim-startBySize_07_03.yaml\n",
      "/data/users/jkl/vnc-closedloop/configs/20250404_mancDnActivationScreen-adjustStim-startBySize_07/20250404_mancDnActivationScreen-adjustStim-startBySize_07_04.yaml\n",
      "/data/users/jkl/vnc-closedloop/configs/20250404_mancDnActivationScreen-adjustStim-startBySize_07/20250404_mancDnActivationScreen-adjustStim-startBySize_07_05.yaml\n",
      "/data/users/jkl/vnc-closedloop/configs/20250404_mancDnActivationScreen-adjustStim-startBySize_07/20250404_mancDnActivationScreen-adjustStim-startBySize_07_06.yaml\n",
      "/data/users/jkl/vnc-closedloop/configs/20250404_mancDnActivationScreen-adjustStim-startBySize_07/20250404_mancDnActivationScreen-adjustStim-startBySize_07_07.yaml\n",
      "/data/users/jkl/vnc-closedloop/configs/20250404_mancDnActivationScreen-adjustStim-startBySize_07/20250404_mancDnActivationScreen-adjustStim-startBySize_07_08.yaml\n",
      "/data/users/jkl/vnc-closedloop/configs/20250404_mancDnActivationScreen-adjustStim-startBySize_07/20250404_mancDnActivationScreen-adjustStim-startBySize_07_09.yaml\n",
      "\n",
      "/data/users/jkl/vnc-closedloop/configs/20250404_mancDnActivationScreen-adjustStim-startBySize_08/20250404_mancDnActivationScreen-adjustStim-startBySize_08_00.yaml\n",
      "/data/users/jkl/vnc-closedloop/configs/20250404_mancDnActivationScreen-adjustStim-startBySize_08/20250404_mancDnActivationScreen-adjustStim-startBySize_08_01.yaml\n",
      "/data/users/jkl/vnc-closedloop/configs/20250404_mancDnActivationScreen-adjustStim-startBySize_08/20250404_mancDnActivationScreen-adjustStim-startBySize_08_02.yaml\n",
      "/data/users/jkl/vnc-closedloop/configs/20250404_mancDnActivationScreen-adjustStim-startBySize_08/20250404_mancDnActivationScreen-adjustStim-startBySize_08_03.yaml\n",
      "/data/users/jkl/vnc-closedloop/configs/20250404_mancDnActivationScreen-adjustStim-startBySize_08/20250404_mancDnActivationScreen-adjustStim-startBySize_08_04.yaml\n",
      "/data/users/jkl/vnc-closedloop/configs/20250404_mancDnActivationScreen-adjustStim-startBySize_08/20250404_mancDnActivationScreen-adjustStim-startBySize_08_05.yaml\n",
      "/data/users/jkl/vnc-closedloop/configs/20250404_mancDnActivationScreen-adjustStim-startBySize_08/20250404_mancDnActivationScreen-adjustStim-startBySize_08_06.yaml\n",
      "/data/users/jkl/vnc-closedloop/configs/20250404_mancDnActivationScreen-adjustStim-startBySize_08/20250404_mancDnActivationScreen-adjustStim-startBySize_08_07.yaml\n",
      "/data/users/jkl/vnc-closedloop/configs/20250404_mancDnActivationScreen-adjustStim-startBySize_08/20250404_mancDnActivationScreen-adjustStim-startBySize_08_08.yaml\n",
      "/data/users/jkl/vnc-closedloop/configs/20250404_mancDnActivationScreen-adjustStim-startBySize_08/20250404_mancDnActivationScreen-adjustStim-startBySize_08_09.yaml\n",
      "\n",
      "/data/users/jkl/vnc-closedloop/configs/20250404_mancDnActivationScreen-adjustStim-startBySize_09/20250404_mancDnActivationScreen-adjustStim-startBySize_09_00.yaml\n",
      "/data/users/jkl/vnc-closedloop/configs/20250404_mancDnActivationScreen-adjustStim-startBySize_09/20250404_mancDnActivationScreen-adjustStim-startBySize_09_01.yaml\n",
      "/data/users/jkl/vnc-closedloop/configs/20250404_mancDnActivationScreen-adjustStim-startBySize_09/20250404_mancDnActivationScreen-adjustStim-startBySize_09_02.yaml\n",
      "/data/users/jkl/vnc-closedloop/configs/20250404_mancDnActivationScreen-adjustStim-startBySize_09/20250404_mancDnActivationScreen-adjustStim-startBySize_09_03.yaml\n",
      "/data/users/jkl/vnc-closedloop/configs/20250404_mancDnActivationScreen-adjustStim-startBySize_09/20250404_mancDnActivationScreen-adjustStim-startBySize_09_04.yaml\n",
      "/data/users/jkl/vnc-closedloop/configs/20250404_mancDnActivationScreen-adjustStim-startBySize_09/20250404_mancDnActivationScreen-adjustStim-startBySize_09_05.yaml\n",
      "/data/users/jkl/vnc-closedloop/configs/20250404_mancDnActivationScreen-adjustStim-startBySize_09/20250404_mancDnActivationScreen-adjustStim-startBySize_09_06.yaml\n",
      "/data/users/jkl/vnc-closedloop/configs/20250404_mancDnActivationScreen-adjustStim-startBySize_09/20250404_mancDnActivationScreen-adjustStim-startBySize_09_07.yaml\n",
      "/data/users/jkl/vnc-closedloop/configs/20250404_mancDnActivationScreen-adjustStim-startBySize_09/20250404_mancDnActivationScreen-adjustStim-startBySize_09_08.yaml\n",
      "/data/users/jkl/vnc-closedloop/configs/20250404_mancDnActivationScreen-adjustStim-startBySize_09/20250404_mancDnActivationScreen-adjustStim-startBySize_09_09.yaml\n",
      "\n"
     ]
    }
   ],
   "source": [
    "configFolderPath = '/data/users/jkl/vnc-closedloop/configs/'\n",
    "paramName = \"20250404_mancDnActivationScreen-adjustStim-startBySize\"\n",
    "\n",
    "paramPath = configFolderPath + paramName + '.yaml'\n",
    "\n",
    "for j in range(2,10):\n",
    "\n",
    "    params = load_from_yaml(paramPath)\n",
    "    params[\"screen\"] = f'{paramName}_0{j}'\n",
    "    params[\"seed\"] = np.random.randint(100000,size=len(params[\"seed\"])).tolist()\n",
    "\n",
    "    iter = True\n",
    "\n",
    "    batchSize = 100\n",
    "    batch = 0\n",
    "    while iter:\n",
    "        batchParams = params.copy()\n",
    "        i = batch*batchSize\n",
    "        for iterParam in batchParams[\"paramsToIterate\"]:\n",
    "            if len(batchParams[iterParam][i:]) <= batchSize:\n",
    "                iter = False\n",
    "                batchParams[iterParam] = params[iterParam][i:]\n",
    "            else:\n",
    "                batchParams[iterParam] = params[iterParam][i:i+100]\n",
    "\n",
    "        if batch < 10:\n",
    "            batchParams[\"name\"] = params[\"screen\"] + f'_0{batch}'\n",
    "        else:\n",
    "            batchParams[\"name\"] = params[\"screen\"] + f'_{batch}'\n",
    "\n",
    "        save_params(batchParams)\n",
    "\n",
    "        batch += 1\n",
    "    \n",
    "    print()\n",
    "    \n"
   ]
  },
  {
   "cell_type": "markdown",
   "metadata": {},
   "source": [
    "### Noise to weight matrix screen"
   ]
  },
  {
   "cell_type": "code",
   "execution_count": 2,
   "metadata": {},
   "outputs": [
    {
     "name": "stdout",
     "output_type": "stream",
     "text": [
      "/data/users/jkl/vnc-closedloop/configs/20250618_mancBDN2activation_W_noise/20250618_mancBDN2activation_W_noise_00.yaml\n",
      "/data/users/jkl/vnc-closedloop/configs/20250618_mancBDN2activation_W_noise/20250618_mancBDN2activation_W_noise_01.yaml\n",
      "/data/users/jkl/vnc-closedloop/configs/20250618_mancBDN2activation_W_noise/20250618_mancBDN2activation_W_noise_02.yaml\n",
      "/data/users/jkl/vnc-closedloop/configs/20250618_mancBDN2activation_W_noise/20250618_mancBDN2activation_W_noise_03.yaml\n",
      "/data/users/jkl/vnc-closedloop/configs/20250618_mancBDN2activation_W_noise/20250618_mancBDN2activation_W_noise_04.yaml\n",
      "/data/users/jkl/vnc-closedloop/configs/20250618_mancBDN2activation_W_noise/20250618_mancBDN2activation_W_noise_05.yaml\n",
      "/data/users/jkl/vnc-closedloop/configs/20250618_mancBDN2activation_W_noise/20250618_mancBDN2activation_W_noise_06.yaml\n",
      "/data/users/jkl/vnc-closedloop/configs/20250618_mancBDN2activation_W_noise/20250618_mancBDN2activation_W_noise_07.yaml\n",
      "/data/users/jkl/vnc-closedloop/configs/20250618_mancBDN2activation_W_noise/20250618_mancBDN2activation_W_noise_08.yaml\n",
      "/data/users/jkl/vnc-closedloop/configs/20250618_mancBDN2activation_W_noise/20250618_mancBDN2activation_W_noise_09.yaml\n",
      "/data/users/jkl/vnc-closedloop/configs/20250618_mancBDN2activation_W_noise/20250618_mancBDN2activation_W_noise_10.yaml\n"
     ]
    }
   ],
   "source": [
    "paramToIter = \"a\"\n",
    "simStr = f'mancBDN2activation_W_noise'\n",
    "\n",
    "nSims = 90\n",
    "seeds = np.random.randint(100000,size=nSims).tolist()\n",
    "for i in range(11):\n",
    "    params = getParams(simStr, i, nSims) #Get params, add seed, batch num, etc.\n",
    "\n",
    "    params[\"thresholdMean\"] = 7.5\n",
    "    params[\"seed\"] = np.random.randint(100000,size=nSims).tolist()\n",
    "    params[\"stimNeurons\"] = [31]\n",
    "\n",
    "    #Reset parameter to sweep\n",
    "    step = 0.05\n",
    "    params[f'stdvProp'] = i*step\n",
    "    save_params(params)"
   ]
  },
  {
   "cell_type": "markdown",
   "metadata": {},
   "source": [
    "### Shuffle Weight Matrix"
   ]
  },
  {
   "cell_type": "code",
   "execution_count": 2,
   "metadata": {},
   "outputs": [
    {
     "name": "stdout",
     "output_type": "stream",
     "text": [
      "/data/users/jkl/vnc-closedloop/configs/20250624_mancBDN2activation_W_shuffle/20250624_mancBDN2activation_W_shuffle_00.yaml\n",
      "/data/users/jkl/vnc-closedloop/configs/20250624_mancBDN2activation_W_shuffle/20250624_mancBDN2activation_W_shuffle_01.yaml\n",
      "/data/users/jkl/vnc-closedloop/configs/20250624_mancBDN2activation_W_shuffle/20250624_mancBDN2activation_W_shuffle_02.yaml\n",
      "/data/users/jkl/vnc-closedloop/configs/20250624_mancBDN2activation_W_shuffle/20250624_mancBDN2activation_W_shuffle_03.yaml\n",
      "/data/users/jkl/vnc-closedloop/configs/20250624_mancBDN2activation_W_shuffle/20250624_mancBDN2activation_W_shuffle_04.yaml\n",
      "/data/users/jkl/vnc-closedloop/configs/20250624_mancBDN2activation_W_shuffle/20250624_mancBDN2activation_W_shuffle_05.yaml\n",
      "/data/users/jkl/vnc-closedloop/configs/20250624_mancBDN2activation_W_shuffle/20250624_mancBDN2activation_W_shuffle_06.yaml\n",
      "/data/users/jkl/vnc-closedloop/configs/20250624_mancBDN2activation_W_shuffle/20250624_mancBDN2activation_W_shuffle_07.yaml\n",
      "/data/users/jkl/vnc-closedloop/configs/20250624_mancBDN2activation_W_shuffle/20250624_mancBDN2activation_W_shuffle_08.yaml\n",
      "/data/users/jkl/vnc-closedloop/configs/20250624_mancBDN2activation_W_shuffle/20250624_mancBDN2activation_W_shuffle_09.yaml\n",
      "/data/users/jkl/vnc-closedloop/configs/20250624_mancBDN2activation_W_shuffle/20250624_mancBDN2activation_W_shuffle_10.yaml\n"
     ]
    }
   ],
   "source": [
    "#paramToIter = \"a\"\n",
    "simStr = f'mancBDN2activation_W_shuffle'\n",
    "\n",
    "nSims = 50\n",
    "seeds = np.random.randint(100000,size=nSims).tolist()\n",
    "for i in range(11):\n",
    "    params = getParams(simStr, i, nSims) #Get params, add seed, batch num, etc.\n",
    "\n",
    "    params[\"thresholdMean\"] = 7.5\n",
    "    params[\"seed\"] = np.random.randint(100000,size=nSims).tolist()\n",
    "    params[\"stimNeurons\"] = [31]\n",
    "\n",
    "    #Reset parameter to sweep\n",
    "    #step = 0.05\n",
    "    #params[f'stdvProp'] = i*step\n",
    "    save_params(params)"
   ]
  }
 ],
 "metadata": {
  "kernelspec": {
   "display_name": "vnc-closedloop",
   "language": "python",
   "name": "python3"
  },
  "language_info": {
   "codemirror_mode": {
    "name": "ipython",
    "version": 3
   },
   "file_extension": ".py",
   "mimetype": "text/x-python",
   "name": "python",
   "nbconvert_exporter": "python",
   "pygments_lexer": "ipython3",
   "version": "3.12.3"
  }
 },
 "nbformat": 4,
 "nbformat_minor": 2
}
