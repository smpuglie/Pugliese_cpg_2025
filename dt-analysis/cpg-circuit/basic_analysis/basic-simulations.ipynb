{
 "cells": [
  {
   "cell_type": "code",
   "execution_count": null,
   "metadata": {},
   "outputs": [],
   "source": [
    "%load_ext autoreload\n",
    "%autoreload 2"
   ]
  },
  {
   "cell_type": "code",
   "execution_count": null,
   "metadata": {},
   "outputs": [],
   "source": [
    "import numpy as np\n",
    "import pandas as pd\n",
    "import matplotlib.pyplot as plt\n",
    "import seaborn as sns\n",
    "from scipy.stats import ortho_group\n",
    "from scipy.fft import fft, fftfreq\n",
    "from scipy.signal import find_peaks\n",
    "from scipy.signal.windows import blackman\n",
    "from scipy.interpolate import interp1d\n",
    "\n",
    "from src.dt_helpers.network_dynamics import run_dynamics_step\n",
    "from src.dt_helpers.plotters import visualize_network_activity\n",
    "from src.dt_helpers.network_dynamics import compute_individual_neuron_frequency"
   ]
  },
  {
   "cell_type": "markdown",
   "metadata": {},
   "source": [
    "#### Define network parameters"
   ]
  },
  {
   "cell_type": "code",
   "execution_count": null,
   "metadata": {},
   "outputs": [],
   "source": [
    "network_size = 3\n",
    "network_input = np.array([1, 0, 0])\n",
    "\n",
    "weights_12 = 1\n",
    "weights_23 = 1 / 4\n",
    "weights_31 = 1\n",
    "weights_32 = 1 / 4\n",
    "# network weights\n",
    "#   Exci.  Exci.   Inhi.\n",
    "#       0      0    -w31\n",
    "#     w12      0    -w32\n",
    "#       0    w23       0\n",
    "network_weights = np.array(\n",
    "    [\n",
    "        [0, 0, -weights_31],\n",
    "        [weights_12, 0, -weights_32],\n",
    "        [0, weights_23, 0],\n",
    "    ]\n",
    ")\n",
    "\n",
    "\n",
    "taus_s = np.array([1, 1, 1])\n",
    "dt_s = 0.0001"
   ]
  },
  {
   "cell_type": "markdown",
   "metadata": {},
   "source": [
    "#### Run linear network"
   ]
  },
  {
   "cell_type": "code",
   "execution_count": null,
   "metadata": {},
   "outputs": [],
   "source": [
    "simulation_time_s = 10\n",
    "num_time_steps = int(simulation_time_s / dt_s)\n",
    "current_rates = np.zeros(network_size)\n",
    "history_rates = []\n",
    "for i in range(num_time_steps):\n",
    "    current_rates = run_dynamics_step(\n",
    "        current_rates=current_rates,\n",
    "        network_input=network_input,\n",
    "        weights=network_weights,\n",
    "        taus=taus_s,\n",
    "        dt=dt_s,\n",
    "        noise=0,\n",
    "        activations=lambda x: x,\n",
    "    )\n",
    "    history_rates.append(current_rates)\n",
    "history_rates = np.array(history_rates)\n",
    "\n",
    "visualize_network_activity(\n",
    "    network_activity=history_rates,\n",
    "    duration=simulation_time_s,\n",
    "    dt=dt_s,\n",
    "    num_steps=num_time_steps,\n",
    "    title=\"\",\n",
    "    legend_labels=[\"Exc-input\", \"Exc-hidden\", \"Inh-hidden\"],\n",
    ")"
   ]
  },
  {
   "cell_type": "markdown",
   "metadata": {},
   "source": [
    "#### Run ReLU network"
   ]
  },
  {
   "cell_type": "code",
   "execution_count": null,
   "metadata": {},
   "outputs": [],
   "source": [
    "simulation_time_s = 10\n",
    "num_time_steps = int(simulation_time_s / dt_s)\n",
    "current_rates = np.zeros(network_size)\n",
    "history_rates = []\n",
    "for i in range(num_time_steps):\n",
    "    current_rates = run_dynamics_step(\n",
    "        current_rates=current_rates,\n",
    "        network_input=network_input,\n",
    "        weights=network_weights,\n",
    "        taus=taus_s,\n",
    "        dt=dt_s,\n",
    "        noise=0,\n",
    "        activations=lambda x: np.maximum(x, 0, x),\n",
    "    )\n",
    "    history_rates.append(current_rates)\n",
    "history_rates = np.array(history_rates)\n",
    "\n",
    "visualize_network_activity(\n",
    "    network_activity=history_rates,\n",
    "    duration=simulation_time_s,\n",
    "    dt=dt_s,\n",
    "    num_steps=num_time_steps,\n",
    "    title=\"\",\n",
    "    legend_labels=[\"Exc-input\", \"Exc-hidden\", \"Inh-hidden\"],\n",
    ")"
   ]
  },
  {
   "cell_type": "markdown",
   "metadata": {},
   "source": [
    "#### Design oscillatory network"
   ]
  },
  {
   "cell_type": "code",
   "execution_count": null,
   "metadata": {},
   "outputs": [],
   "source": [
    "a = 0.01\n",
    "b = 10\n",
    "network_weights_designed = np.array(\n",
    "    [\n",
    "        [-0.01, 0, 0],\n",
    "        [0, -a, b],\n",
    "        [0, -b, -a],\n",
    "    ]\n",
    ")"
   ]
  },
  {
   "cell_type": "markdown",
   "metadata": {},
   "source": [
    "Linear network"
   ]
  },
  {
   "cell_type": "code",
   "execution_count": null,
   "metadata": {},
   "outputs": [],
   "source": [
    "simulation_time_s = 2 * np.pi\n",
    "num_time_steps = int(simulation_time_s / dt_s)\n",
    "current_rates = np.zeros(network_size)\n",
    "history_rates = []\n",
    "for i in range(num_time_steps):\n",
    "    current_rates = run_dynamics_step(\n",
    "        current_rates=current_rates,\n",
    "        network_input=np.array([0, 1, 0]),  # network_input * 10,\n",
    "        weights=network_weights_designed + np.eye(network_size),\n",
    "        taus=taus_s,\n",
    "        dt=dt_s,\n",
    "        noise=0,\n",
    "        activations=lambda x: x,\n",
    "    )\n",
    "    history_rates.append(current_rates)\n",
    "history_rates = np.array(history_rates)\n",
    "\n",
    "fig, ax = visualize_network_activity(\n",
    "    network_activity=history_rates,\n",
    "    duration=simulation_time_s,\n",
    "    dt=dt_s,\n",
    "    num_steps=num_time_steps,\n",
    "    title=\"\",\n",
    "    legend_labels=[\"1\", \"2\", \"3\"],\n",
    "    show_plot=False,\n",
    ")\n",
    "time_points = (np.arange(num_time_steps) + 1) * dt_s\n",
    "ax.plot(\n",
    "    time_points,\n",
    "    (a * np.cos(b * time_points) + b * np.sin(b * time_points)) / (a**2 + b**2) + a / (a**2 + b**2),\n",
    "    \"k--\",\n",
    "    lw=5,\n",
    "    alpha=0.3,\n",
    "    zorder=1,\n",
    "    label=\"oscillatory & asymptotic lines\",\n",
    ")\n",
    "ax.legend()\n",
    "ax.plot(time_points, np.ones(num_time_steps) * a / (a**2 + b**2), \"k--\", lw=5, alpha=0.3, zorder=1)\n",
    "plt.show()"
   ]
  },
  {
   "cell_type": "markdown",
   "metadata": {},
   "source": [
    "Rotate network weights, still linear"
   ]
  },
  {
   "cell_type": "code",
   "execution_count": null,
   "metadata": {},
   "outputs": [],
   "source": [
    "a = 0.01\n",
    "b = 10\n",
    "network_weights_designed = np.array(\n",
    "    [\n",
    "        [-0.01, 0, 0],\n",
    "        [0, -a, b],\n",
    "        [0, -b, -a],\n",
    "    ]\n",
    ")\n",
    "\n",
    "rot_matrix = ortho_group(dim=network_size, seed=31).rvs()\n",
    "network_weights_designed = rot_matrix @ network_weights_designed @ rot_matrix.T"
   ]
  },
  {
   "cell_type": "code",
   "execution_count": null,
   "metadata": {},
   "outputs": [],
   "source": [
    "input_intensity = 1\n",
    "\n",
    "simulation_time_s = 2 * np.pi\n",
    "num_time_steps = int(simulation_time_s / dt_s)\n",
    "current_rates = np.zeros(network_size)\n",
    "history_rates = []\n",
    "for i in range(num_time_steps):\n",
    "    current_rates = run_dynamics_step(\n",
    "        current_rates=current_rates,\n",
    "        network_input=network_input * input_intensity,\n",
    "        weights=network_weights_designed + np.eye(network_size),\n",
    "        taus=taus_s,\n",
    "        dt=dt_s,\n",
    "        noise=0,\n",
    "        activations=lambda x: x,\n",
    "    )\n",
    "    history_rates.append(current_rates)\n",
    "history_rates = np.array(history_rates)\n",
    "\n",
    "visualize_network_activity(\n",
    "    network_activity=history_rates,\n",
    "    duration=simulation_time_s,\n",
    "    dt=dt_s,\n",
    "    num_steps=num_time_steps,\n",
    "    title=f\"Input intensity: {input_intensity}\",\n",
    "    legend_labels=[\"1\", \"2\", \"3\"],\n",
    "    show_plot=True,\n",
    ")"
   ]
  },
  {
   "cell_type": "code",
   "execution_count": null,
   "metadata": {},
   "outputs": [],
   "source": [
    "input_intensities = np.linspace(1, 12, 30)\n",
    "\n",
    "simulation_time_s = 2 * np.pi\n",
    "\n",
    "num_time_steps = int(simulation_time_s / dt_s)\n",
    "individual_neuron_frequencies = pd.DataFrame()\n",
    "for input_intensity in input_intensities:\n",
    "    current_rates = np.zeros(network_size)\n",
    "    history_rates = []\n",
    "    for i in range(num_time_steps):\n",
    "        current_rates = run_dynamics_step(\n",
    "            current_rates=current_rates,\n",
    "            network_input=network_input * input_intensity,\n",
    "            weights=network_weights_designed + np.eye(network_size),\n",
    "            taus=taus_s,\n",
    "            dt=dt_s,\n",
    "            noise=0,\n",
    "            activations=lambda x: x,\n",
    "        )\n",
    "        history_rates.append(current_rates)\n",
    "    history_rates = np.array(history_rates)\n",
    "    temp_indi_freq = compute_individual_neuron_frequency(\n",
    "        history_rates,\n",
    "        dt=dt_s,\n",
    "        num_steps=num_time_steps,\n",
    "    )\n",
    "    temp_indi_freq = pd.Series(temp_indi_freq)\n",
    "    temp_indi_freq.name = \"frequency\"\n",
    "    temp_indi_freq = temp_indi_freq.to_frame()\n",
    "    temp_indi_freq[\"input_intensity\"] = input_intensity\n",
    "    individual_neuron_frequencies = pd.concat(\n",
    "        [individual_neuron_frequencies, temp_indi_freq], axis=0\n",
    "    )\n",
    "individual_neuron_frequencies = individual_neuron_frequencies.reset_index()"
   ]
  },
  {
   "cell_type": "code",
   "execution_count": null,
   "metadata": {},
   "outputs": [],
   "source": [
    "sns.lineplot(\n",
    "    data=individual_neuron_frequencies,\n",
    "    x=\"input_intensity\",\n",
    "    y=\"frequency\",\n",
    "    hue=\"index\",\n",
    "    palette=\"tab10\",\n",
    "    size=\"index\",\n",
    "    sizes=(2, 10),\n",
    ")\n",
    "plt.ylim(0)\n",
    "sns.despine(offset=1, trim=True)\n",
    "plt.show()"
   ]
  },
  {
   "cell_type": "markdown",
   "metadata": {},
   "source": [
    "Non-linear network"
   ]
  },
  {
   "cell_type": "code",
   "execution_count": null,
   "metadata": {},
   "outputs": [],
   "source": [
    "input_intensity = 1\n",
    "\n",
    "simulation_time_s = 2 * np.pi\n",
    "num_time_steps = int(simulation_time_s / dt_s)\n",
    "current_rates = np.zeros(network_size)\n",
    "history_rates = []\n",
    "for i in range(num_time_steps):\n",
    "    current_rates = run_dynamics_step(\n",
    "        current_rates=current_rates,\n",
    "        network_input=network_input * input_intensity,\n",
    "        weights=network_weights_designed + np.eye(network_size),\n",
    "        taus=taus_s,\n",
    "        dt=dt_s,\n",
    "        noise=0,\n",
    "        activations=lambda x: np.maximum(np.tanh(x / 10) * 10, 0),\n",
    "    )\n",
    "    history_rates.append(current_rates)\n",
    "history_rates = np.array(history_rates)\n",
    "\n",
    "visualize_network_activity(\n",
    "    network_activity=history_rates,\n",
    "    duration=simulation_time_s,\n",
    "    dt=dt_s,\n",
    "    num_steps=num_time_steps,\n",
    "    title=f\"Input intensity: {input_intensity}\",\n",
    "    legend_labels=[\"1\", \"2\", \"3\"],\n",
    "    show_plot=True,\n",
    ")"
   ]
  },
  {
   "cell_type": "markdown",
   "metadata": {},
   "source": [
    "Frequency modulation with input strength?"
   ]
  },
  {
   "cell_type": "code",
   "execution_count": null,
   "metadata": {},
   "outputs": [],
   "source": [
    "input_intensities = np.linspace(1, 12, 30)\n",
    "\n",
    "simulation_time_s = 2 * np.pi\n",
    "\n",
    "num_time_steps = int(simulation_time_s / dt_s)\n",
    "individual_neuron_frequencies = pd.DataFrame()\n",
    "for input_intensity in input_intensities:\n",
    "    current_rates = np.zeros(network_size)\n",
    "    history_rates = []\n",
    "    for i in range(num_time_steps):\n",
    "        current_rates = run_dynamics_step(\n",
    "            current_rates=current_rates,\n",
    "            network_input=network_input * input_intensity,\n",
    "            weights=network_weights_designed + np.eye(network_size),\n",
    "            taus=taus_s,\n",
    "            dt=dt_s,\n",
    "            noise=0,\n",
    "            activations=lambda x: np.maximum(np.tanh(x / 10) * 10, 0),\n",
    "        )\n",
    "        history_rates.append(current_rates)\n",
    "    history_rates = np.array(history_rates)\n",
    "    temp_indi_freq = compute_individual_neuron_frequency(\n",
    "        history_rates,\n",
    "        dt=dt_s,\n",
    "        num_steps=num_time_steps,\n",
    "        use_interpolation=True,\n",
    "    )\n",
    "    temp_indi_freq = pd.Series(temp_indi_freq)\n",
    "    temp_indi_freq.name = \"frequency\"\n",
    "    temp_indi_freq = temp_indi_freq.to_frame()\n",
    "    temp_indi_freq[\"input_intensity\"] = input_intensity\n",
    "    individual_neuron_frequencies = pd.concat(\n",
    "        [individual_neuron_frequencies, temp_indi_freq], axis=0\n",
    "    )\n",
    "individual_neuron_frequencies = individual_neuron_frequencies.reset_index()"
   ]
  },
  {
   "cell_type": "code",
   "execution_count": null,
   "metadata": {},
   "outputs": [],
   "source": [
    "sns.lineplot(\n",
    "    data=individual_neuron_frequencies,\n",
    "    x=\"input_intensity\",\n",
    "    y=\"frequency\",\n",
    "    hue=\"index\",\n",
    "    palette=\"tab10\",\n",
    "    size=\"index\",\n",
    "    sizes=(2, 10),\n",
    ")\n",
    "plt.ylim(0)\n",
    "sns.despine(offset=1, trim=True)\n",
    "plt.show()"
   ]
  },
  {
   "cell_type": "markdown",
   "metadata": {},
   "source": [
    "### Multi-period networks"
   ]
  },
  {
   "cell_type": "code",
   "execution_count": null,
   "metadata": {},
   "outputs": [],
   "source": [
    "network_size = 5\n",
    "network_input = np.array([1, 0, 0, 0, 0])\n",
    "\n",
    "d1 = 0.0001\n",
    "d2 = 0.001\n",
    "f1 = 1\n",
    "f2 = 10\n",
    "network_weights_designed = np.array(\n",
    "    [\n",
    "        [-0.1, 0, 0, 0, 0],\n",
    "        [0, -d1, f1, 0, 0],\n",
    "        [0, -f1, -d1, 0, 0],\n",
    "        [0, 0, 0, -d2, f2],\n",
    "        [0, 0, 0, -f2, -d2],\n",
    "    ]\n",
    ")\n",
    "\n",
    "rot_matrix = ortho_group(dim=network_size, seed=4).rvs()\n",
    "network_weights_designed = rot_matrix @ network_weights_designed @ rot_matrix.T\n",
    "\n",
    "taus_s = np.array([1, 1, 1, 1, 1])\n",
    "dt_s = 0.0001"
   ]
  },
  {
   "cell_type": "markdown",
   "metadata": {},
   "source": [
    "#### Linear network"
   ]
  },
  {
   "cell_type": "code",
   "execution_count": null,
   "metadata": {},
   "outputs": [],
   "source": [
    "input_intensity = 1\n",
    "\n",
    "simulation_time_s = 4 * np.pi\n",
    "num_time_steps = int(simulation_time_s / dt_s)\n",
    "current_rates = np.zeros(network_size)\n",
    "history_rates = []\n",
    "for i in range(num_time_steps):\n",
    "    current_rates = run_dynamics_step(\n",
    "        current_rates=current_rates,\n",
    "        # network_input=np.array([0, f2, 0, f1, 0]),\n",
    "        network_input=network_input * input_intensity,\n",
    "        weights=network_weights_designed + np.eye(network_size),\n",
    "        taus=taus_s,\n",
    "        dt=dt_s,\n",
    "        noise=0,\n",
    "        activations=lambda x: x,\n",
    "    )\n",
    "    history_rates.append(current_rates)\n",
    "history_rates = np.array(history_rates)\n",
    "\n",
    "visualize_network_activity(\n",
    "    network_activity=history_rates,\n",
    "    duration=simulation_time_s,\n",
    "    dt=dt_s,\n",
    "    num_steps=num_time_steps,\n",
    "    title=f\"Input intensity: {input_intensity}\",\n",
    "    legend_labels=np.arange(network_size),\n",
    "    show_plot=True,\n",
    ")"
   ]
  },
  {
   "cell_type": "markdown",
   "metadata": {},
   "source": [
    "#### Non-linear\n",
    "np.maximum(np.tanh(x / 10) * 10, 0)"
   ]
  },
  {
   "cell_type": "code",
   "execution_count": null,
   "metadata": {},
   "outputs": [],
   "source": [
    "input_intensity = 1.5\n",
    "\n",
    "simulation_time_s = 6 * np.pi\n",
    "num_time_steps = int(simulation_time_s / dt_s)\n",
    "current_rates = np.zeros(network_size)\n",
    "history_rates = []\n",
    "for i in range(num_time_steps):\n",
    "    current_rates = run_dynamics_step(\n",
    "        current_rates=current_rates,\n",
    "        # network_input=np.array([0, f1, 0, f2, 0]),\n",
    "        network_input=network_input * input_intensity,\n",
    "        weights=network_weights_designed + np.eye(network_size),\n",
    "        taus=taus_s,\n",
    "        dt=dt_s,\n",
    "        noise=0,\n",
    "        activations=lambda x: np.maximum(np.tanh(x / 10) * 10, 0),\n",
    "    )\n",
    "    history_rates.append(current_rates)\n",
    "history_rates = np.array(history_rates)\n",
    "\n",
    "visualize_network_activity(\n",
    "    network_activity=history_rates,\n",
    "    duration=simulation_time_s,\n",
    "    dt=dt_s,\n",
    "    num_steps=num_time_steps,\n",
    "    title=f\"Input intensity: {input_intensity}\",\n",
    "    legend_labels=np.arange(network_size),\n",
    "    show_plot=True,\n",
    ")"
   ]
  },
  {
   "cell_type": "code",
   "execution_count": null,
   "metadata": {},
   "outputs": [],
   "source": [
    "xs_f = fftfreq(num_time_steps, dt_s)[: num_time_steps // 2]\n",
    "xs_f_temp = xs_f\n",
    "weights = blackman(num_time_steps)\n",
    "\n",
    "ys = history_rates[:, 4]\n",
    "ys_fft = fft(ys * weights)\n",
    "ys_fft = np.abs(ys_fft[0 : num_time_steps // 2])\n",
    "\n",
    "interp_fun = interp1d(xs_f, ys_fft, kind=\"cubic\")\n",
    "xs_f_interp = np.linspace(0, xs_f[-1], len(xs_f) * 20)\n",
    "xs_f_temp2 = xs_f_interp\n",
    "ys_fft2 = interp_fun(xs_f_interp)\n",
    "\n",
    "peaks, _ = find_peaks(ys_fft)\n",
    "peaks2, _ = find_peaks(ys_fft2)"
   ]
  },
  {
   "cell_type": "code",
   "execution_count": null,
   "metadata": {},
   "outputs": [],
   "source": [
    "plt.figure(figsize=(20, 5))\n",
    "plt.plot(xs_f_temp, ys_fft, lw=3, zorder=0)\n",
    "plt.scatter(xs_f_temp[peaks[ys_fft[peaks].argmax()]], ys_fft[peaks].max(), color=\"green\", s=100)\n",
    "plt.scatter(xs_f_temp[peaks], ys_fft[peaks], color=\"red\", s=40)\n",
    "plt.plot(xs_f_temp2, ys_fft2, zorder=0)\n",
    "plt.scatter(xs_f_temp2[peaks2], ys_fft2[peaks2], color=\"black\", s=20)\n",
    "plt.scatter(xs_f_temp2[peaks2[ys_fft2[peaks2].argmax()]], ys_fft2[peaks2].max(), color=\"blue\")\n",
    "plt.scatter(xs_f_temp, ys_fft, marker=\"x\", s=100, color=\"y\")\n",
    "\n",
    "temp_freq = xs_f_temp[peaks[ys_fft[peaks].argmax()]]\n",
    "temp_freq = xs_f_temp2[peaks2[np.abs(xs_f_interp[peaks2] - temp_freq).argmin()]]\n",
    "plt.scatter(temp_freq, ys_fft2[peaks2[np.abs(xs_f_interp[peaks2] - temp_freq).argmin()]], marker=3, s=100, c='orange')\n",
    "# plt.xscale(\"log\")\n",
    "plt.yscale(\"log\")\n",
    "plt.xlim(0.3,1.3)\n",
    "plt.show()"
   ]
  },
  {
   "cell_type": "markdown",
   "metadata": {},
   "source": [
    "#### Frequency analysis as function of input strength"
   ]
  },
  {
   "cell_type": "code",
   "execution_count": null,
   "metadata": {},
   "outputs": [],
   "source": [
    "input_intensities = np.linspace(1, 12, 30)\n",
    "\n",
    "simulation_time_s = 6 * np.pi\n",
    "\n",
    "num_time_steps = int(simulation_time_s / dt_s)\n",
    "individual_neuron_frequencies = pd.DataFrame()\n",
    "for input_intensity in input_intensities:\n",
    "    current_rates = np.zeros(network_size)\n",
    "    history_rates = []\n",
    "    for i in range(num_time_steps):\n",
    "        current_rates = run_dynamics_step(\n",
    "            current_rates=current_rates,\n",
    "            network_input=network_input * input_intensity,\n",
    "            weights=network_weights_designed + np.eye(network_size),\n",
    "            taus=taus_s,\n",
    "            dt=dt_s,\n",
    "            noise=0,\n",
    "            activations=lambda x: np.maximum(np.tanh(x / 10) * 10, 0),\n",
    "        )\n",
    "        history_rates.append(current_rates)\n",
    "    history_rates = np.array(history_rates)\n",
    "    temp_indi_freq = compute_individual_neuron_frequency(\n",
    "        history_rates,\n",
    "        dt=dt_s,\n",
    "        num_steps=num_time_steps,\n",
    "        use_interpolation=True,\n",
    "    )\n",
    "    temp_indi_freq = pd.Series(temp_indi_freq)\n",
    "    temp_indi_freq.name = \"frequency\"\n",
    "    temp_indi_freq = temp_indi_freq.to_frame()\n",
    "    temp_indi_freq[\"input_intensity\"] = input_intensity\n",
    "    individual_neuron_frequencies = pd.concat(\n",
    "        [individual_neuron_frequencies, temp_indi_freq], axis=0\n",
    "    )\n",
    "individual_neuron_frequencies = individual_neuron_frequencies[individual_neuron_frequencies[\"frequency\"].apply(lambda x: type(x) != dict)]\n",
    "individual_neuron_frequencies = individual_neuron_frequencies.reset_index()"
   ]
  },
  {
   "cell_type": "code",
   "execution_count": null,
   "metadata": {},
   "outputs": [],
   "source": [
    "sns.lineplot(\n",
    "    data=individual_neuron_frequencies,\n",
    "    x=\"input_intensity\",\n",
    "    y=\"frequency\",\n",
    "    hue=\"index\",\n",
    "    palette=\"tab10\",\n",
    "    size=\"index\",\n",
    "    sizes=(2, 10),\n",
    ")\n",
    "sns.despine(offset=1, trim=True)\n",
    "plt.show()"
   ]
  },
  {
   "cell_type": "markdown",
   "metadata": {},
   "source": [
    "## Simulate solutions equations to gauge periodicity"
   ]
  },
  {
   "cell_type": "code",
   "execution_count": null,
   "metadata": {},
   "outputs": [],
   "source": [
    "lam1 = np.sqrt(3) / 2 + 1j / 2\n",
    "lam2 = 0.5 + 1j / 2\n",
    "ks = np.arange(0, 500, 0.1)\n",
    "powers1 = np.power(lam1, ks)\n",
    "powers2 = np.power(lam2, ks)\n",
    "\n",
    "print(np.abs(lam1))\n",
    "print(np.abs(lam2))\n",
    "\n",
    "fig, axes = plt.subplots(2, 1, figsize=(20, 4), sharex=True)\n",
    "axes[0].plot(ks, powers1.real)\n",
    "axes[0].plot(ks, powers2.real / np.power(np.abs(lam2), ks))\n",
    "sns.despine(offset=5, trim=True, ax=axes[0])\n",
    "axes[1].plot(ks, powers1.imag)\n",
    "axes[1].plot(ks, powers2.imag / np.power(np.abs(lam2), ks))\n",
    "sns.despine(offset=5, trim=True, ax=axes[1])\n",
    "plt.show()"
   ]
  },
  {
   "cell_type": "code",
   "execution_count": null,
   "metadata": {},
   "outputs": [],
   "source": []
  }
 ],
 "metadata": {
  "kernelspec": {
   "display_name": "vnc-closedloop",
   "language": "python",
   "name": "python3"
  },
  "language_info": {
   "codemirror_mode": {
    "name": "ipython",
    "version": 3
   },
   "file_extension": ".py",
   "mimetype": "text/x-python",
   "name": "python",
   "nbconvert_exporter": "python",
   "pygments_lexer": "ipython3",
   "version": "3.12.9"
  }
 },
 "nbformat": 4,
 "nbformat_minor": 2
}
