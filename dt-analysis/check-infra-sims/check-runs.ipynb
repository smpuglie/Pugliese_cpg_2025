{
 "cells": [
  {
   "cell_type": "code",
   "execution_count": 1,
   "id": "d23d4e75",
   "metadata": {},
   "outputs": [],
   "source": [
    "%load_ext autoreload\n",
    "%autoreload 2"
   ]
  },
  {
   "cell_type": "code",
   "execution_count": 2,
   "id": "404f30a5",
   "metadata": {},
   "outputs": [],
   "source": [
    "import numpy as np\n",
    "import h5py\n",
    "import matplotlib.pyplot as plt"
   ]
  },
  {
   "cell_type": "code",
   "execution_count": 15,
   "id": "21ffb572",
   "metadata": {},
   "outputs": [],
   "source": [
    "f = h5py.File(\"../../DiscreteRNN_Test/debug/run_id=Testing/ckpt/neuron_params.h5\", \"r\")\n",
    "firing_rates = np.load(\"../../DiscreteRNN_Test/debug/run_id=Testing/ckpt/DiscreteRNN_Test_Rs.npz\")"
   ]
  },
  {
   "cell_type": "code",
   "execution_count": 23,
   "id": "369c913e",
   "metadata": {},
   "outputs": [
    {
     "name": "stdout",
     "output_type": "stream",
     "text": [
      "['W', 'W_mask', 'a', 'exc_dn_idxs', 'exc_in_idxs', 'fr_cap', 'inh_dn_idxs', 'inh_in_idxs', 'input_currents', 'mn_idxs', 'seeds', 'tau', 'threshold']\n"
     ]
    }
   ],
   "source": [
    "print(list(f.keys()))"
   ]
  },
  {
   "cell_type": "code",
   "execution_count": 25,
   "id": "fde93714",
   "metadata": {},
   "outputs": [
    {
     "data": {
      "text/plain": [
       "array([[[0., 0., 0., ..., 0., 0., 0.]]], shape=(1, 1, 3308), dtype=float32)"
      ]
     },
     "execution_count": 25,
     "metadata": {},
     "output_type": "execute_result"
    }
   ],
   "source": [
    "f[\"input_currents\"][:]"
   ]
  },
  {
   "cell_type": "code",
   "execution_count": 27,
   "id": "09b2e991",
   "metadata": {},
   "outputs": [
    {
     "data": {
      "text/plain": [
       "KeysView(NpzFile '../../DiscreteRNN_Test/debug/run_id=Testing/ckpt/DiscreteRNN_Test_Rs.npz' with keys: data, shape, fill_value, coords)"
      ]
     },
     "execution_count": 27,
     "metadata": {},
     "output_type": "execute_result"
    }
   ],
   "source": [
    "firing_rates.keys()"
   ]
  },
  {
   "cell_type": "code",
   "execution_count": 30,
   "id": "e338e1ef",
   "metadata": {},
   "outputs": [
    {
     "data": {
      "text/plain": [
       "array([ 0.10871282,  0.21690318,  0.32457358, ..., 22.620396  ,\n",
       "       22.620396  , 22.620396  ], shape=(9000,), dtype=float32)"
      ]
     },
     "execution_count": 30,
     "metadata": {},
     "output_type": "execute_result"
    }
   ],
   "source": [
    "firing_rates[\"data\"]"
   ]
  },
  {
   "cell_type": "code",
   "execution_count": null,
   "id": "db38f897",
   "metadata": {},
   "outputs": [],
   "source": []
  }
 ],
 "metadata": {
  "kernelspec": {
   "display_name": "bdn2cpg",
   "language": "python",
   "name": "python3"
  },
  "language_info": {
   "codemirror_mode": {
    "name": "ipython",
    "version": 3
   },
   "file_extension": ".py",
   "mimetype": "text/x-python",
   "name": "python",
   "nbconvert_exporter": "python",
   "pygments_lexer": "ipython3",
   "version": "3.13.5"
  }
 },
 "nbformat": 4,
 "nbformat_minor": 5
}
